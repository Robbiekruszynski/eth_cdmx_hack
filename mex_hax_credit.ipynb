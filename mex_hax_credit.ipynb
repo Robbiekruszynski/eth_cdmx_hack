{
 "cells": [
  {
   "cell_type": "code",
   "execution_count": 272,
   "id": "434d4ff2",
   "metadata": {},
   "outputs": [],
   "source": [
    "from web3 import Web3\n",
    "\n",
    "import time\n",
    "from datetime import datetime, timedelta\n",
    "import math\n",
    "import numpy as np\n",
    "import pandas as pd\n",
    "import inspect\n",
    "import requests\n",
    "import plotly.express as px\n",
    "import random\n",
    "import statsmodels.formula.api as smf\n",
    "import statsmodels.api as sm\n",
    "\n",
    "import json\n",
    "import arrow\n",
    "import pandas as pd\n",
    "import datetime as dt\n",
    "import numpy as np\n",
    "from decimal import Decimal\n",
    "from elasticsearch import Elasticsearch\n",
    "from elasticsearch_dsl import Search\n",
    "from elasticsearch_dsl import A, Q\n",
    "\n",
    "from pycoingecko import CoinGeckoAPI"
   ]
  },
  {
   "cell_type": "code",
   "execution_count": 2,
   "id": "6099c9be",
   "metadata": {},
   "outputs": [],
   "source": [
    "bearer = <REDACTED>\n",
    "RPC_URL = f\"https://api.anyblock.tools/ethereum/ethereum/mainnet/rpc/{bearer}/\"\n",
    "web3 = Web3(Web3.HTTPProvider(RPC_URL))\n",
    "es = Elasticsearch(\n",
    "    hosts=[\"https://api.anyblock.tools/ethereum/ethereum/mainnet/es/\"], \n",
    "    headers={\"authorization\": f\"Bearer {bearer}\"}, timeout=30, max_retries=10, retry_on_timeout=True)\n",
    "client = CoinGeckoAPI()"
   ]
  },
  {
   "cell_type": "code",
   "execution_count": 3,
   "id": "43d188ec",
   "metadata": {},
   "outputs": [],
   "source": [
    "def safeget(dct, *keys):\n",
    "    \"\"\"Safely returns dictionary values without throwing out errors and\n",
    "    without the necessity for try/except\n",
    "\n",
    "        Parameters\n",
    "        ----------\n",
    "        dct : dictionary\n",
    "        *keys: arbitrary number of keys\n",
    "\n",
    "        Returns\n",
    "        -------\n",
    "        Dict\n",
    "            value of the final supplied key.\n",
    "    \"\"\"\n",
    "    for key in keys:\n",
    "        try:\n",
    "            dct = dct[key]\n",
    "        except (KeyError, TypeError):\n",
    "            return dict()\n",
    "    return dct"
   ]
  },
  {
   "cell_type": "code",
   "execution_count": 4,
   "id": "2a051c04",
   "metadata": {},
   "outputs": [],
   "source": [
    "nouns_treasury = '0x0BC3807Ec262cB779b38D65b38158acC3bfedE10'\n",
    "nouns_treasury_abi = json.loads(\"\"\"[{\"inputs\":[{\"internalType\":\"address\",\"name\":\"admin_\",\"type\":\"address\"},{\"internalType\":\"uint256\",\"name\":\"delay_\",\"type\":\"uint256\"}],\"stateMutability\":\"nonpayable\",\"type\":\"constructor\"},{\"anonymous\":false,\"inputs\":[{\"indexed\":true,\"internalType\":\"bytes32\",\"name\":\"txHash\",\"type\":\"bytes32\"},{\"indexed\":true,\"internalType\":\"address\",\"name\":\"target\",\"type\":\"address\"},{\"indexed\":false,\"internalType\":\"uint256\",\"name\":\"value\",\"type\":\"uint256\"},{\"indexed\":false,\"internalType\":\"string\",\"name\":\"signature\",\"type\":\"string\"},{\"indexed\":false,\"internalType\":\"bytes\",\"name\":\"data\",\"type\":\"bytes\"},{\"indexed\":false,\"internalType\":\"uint256\",\"name\":\"eta\",\"type\":\"uint256\"}],\"name\":\"CancelTransaction\",\"type\":\"event\"},{\"anonymous\":false,\"inputs\":[{\"indexed\":true,\"internalType\":\"bytes32\",\"name\":\"txHash\",\"type\":\"bytes32\"},{\"indexed\":true,\"internalType\":\"address\",\"name\":\"target\",\"type\":\"address\"},{\"indexed\":false,\"internalType\":\"uint256\",\"name\":\"value\",\"type\":\"uint256\"},{\"indexed\":false,\"internalType\":\"string\",\"name\":\"signature\",\"type\":\"string\"},{\"indexed\":false,\"internalType\":\"bytes\",\"name\":\"data\",\"type\":\"bytes\"},{\"indexed\":false,\"internalType\":\"uint256\",\"name\":\"eta\",\"type\":\"uint256\"}],\"name\":\"ExecuteTransaction\",\"type\":\"event\"},{\"anonymous\":false,\"inputs\":[{\"indexed\":true,\"internalType\":\"address\",\"name\":\"newAdmin\",\"type\":\"address\"}],\"name\":\"NewAdmin\",\"type\":\"event\"},{\"anonymous\":false,\"inputs\":[{\"indexed\":true,\"internalType\":\"uint256\",\"name\":\"newDelay\",\"type\":\"uint256\"}],\"name\":\"NewDelay\",\"type\":\"event\"},{\"anonymous\":false,\"inputs\":[{\"indexed\":true,\"internalType\":\"address\",\"name\":\"newPendingAdmin\",\"type\":\"address\"}],\"name\":\"NewPendingAdmin\",\"type\":\"event\"},{\"anonymous\":false,\"inputs\":[{\"indexed\":true,\"internalType\":\"bytes32\",\"name\":\"txHash\",\"type\":\"bytes32\"},{\"indexed\":true,\"internalType\":\"address\",\"name\":\"target\",\"type\":\"address\"},{\"indexed\":false,\"internalType\":\"uint256\",\"name\":\"value\",\"type\":\"uint256\"},{\"indexed\":false,\"internalType\":\"string\",\"name\":\"signature\",\"type\":\"string\"},{\"indexed\":false,\"internalType\":\"bytes\",\"name\":\"data\",\"type\":\"bytes\"},{\"indexed\":false,\"internalType\":\"uint256\",\"name\":\"eta\",\"type\":\"uint256\"}],\"name\":\"QueueTransaction\",\"type\":\"event\"},{\"stateMutability\":\"payable\",\"type\":\"fallback\"},{\"inputs\":[],\"name\":\"GRACE_PERIOD\",\"outputs\":[{\"internalType\":\"uint256\",\"name\":\"\",\"type\":\"uint256\"}],\"stateMutability\":\"view\",\"type\":\"function\"},{\"inputs\":[],\"name\":\"MAXIMUM_DELAY\",\"outputs\":[{\"internalType\":\"uint256\",\"name\":\"\",\"type\":\"uint256\"}],\"stateMutability\":\"view\",\"type\":\"function\"},{\"inputs\":[],\"name\":\"MINIMUM_DELAY\",\"outputs\":[{\"internalType\":\"uint256\",\"name\":\"\",\"type\":\"uint256\"}],\"stateMutability\":\"view\",\"type\":\"function\"},{\"inputs\":[],\"name\":\"acceptAdmin\",\"outputs\":[],\"stateMutability\":\"nonpayable\",\"type\":\"function\"},{\"inputs\":[],\"name\":\"admin\",\"outputs\":[{\"internalType\":\"address\",\"name\":\"\",\"type\":\"address\"}],\"stateMutability\":\"view\",\"type\":\"function\"},{\"inputs\":[{\"internalType\":\"address\",\"name\":\"target\",\"type\":\"address\"},{\"internalType\":\"uint256\",\"name\":\"value\",\"type\":\"uint256\"},{\"internalType\":\"string\",\"name\":\"signature\",\"type\":\"string\"},{\"internalType\":\"bytes\",\"name\":\"data\",\"type\":\"bytes\"},{\"internalType\":\"uint256\",\"name\":\"eta\",\"type\":\"uint256\"}],\"name\":\"cancelTransaction\",\"outputs\":[],\"stateMutability\":\"nonpayable\",\"type\":\"function\"},{\"inputs\":[],\"name\":\"delay\",\"outputs\":[{\"internalType\":\"uint256\",\"name\":\"\",\"type\":\"uint256\"}],\"stateMutability\":\"view\",\"type\":\"function\"},{\"inputs\":[{\"internalType\":\"address\",\"name\":\"target\",\"type\":\"address\"},{\"internalType\":\"uint256\",\"name\":\"value\",\"type\":\"uint256\"},{\"internalType\":\"string\",\"name\":\"signature\",\"type\":\"string\"},{\"internalType\":\"bytes\",\"name\":\"data\",\"type\":\"bytes\"},{\"internalType\":\"uint256\",\"name\":\"eta\",\"type\":\"uint256\"}],\"name\":\"executeTransaction\",\"outputs\":[{\"internalType\":\"bytes\",\"name\":\"\",\"type\":\"bytes\"}],\"stateMutability\":\"nonpayable\",\"type\":\"function\"},{\"inputs\":[],\"name\":\"pendingAdmin\",\"outputs\":[{\"internalType\":\"address\",\"name\":\"\",\"type\":\"address\"}],\"stateMutability\":\"view\",\"type\":\"function\"},{\"inputs\":[{\"internalType\":\"address\",\"name\":\"target\",\"type\":\"address\"},{\"internalType\":\"uint256\",\"name\":\"value\",\"type\":\"uint256\"},{\"internalType\":\"string\",\"name\":\"signature\",\"type\":\"string\"},{\"internalType\":\"bytes\",\"name\":\"data\",\"type\":\"bytes\"},{\"internalType\":\"uint256\",\"name\":\"eta\",\"type\":\"uint256\"}],\"name\":\"queueTransaction\",\"outputs\":[{\"internalType\":\"bytes32\",\"name\":\"\",\"type\":\"bytes32\"}],\"stateMutability\":\"nonpayable\",\"type\":\"function\"},{\"inputs\":[{\"internalType\":\"bytes32\",\"name\":\"\",\"type\":\"bytes32\"}],\"name\":\"queuedTransactions\",\"outputs\":[{\"internalType\":\"bool\",\"name\":\"\",\"type\":\"bool\"}],\"stateMutability\":\"view\",\"type\":\"function\"},{\"inputs\":[{\"internalType\":\"uint256\",\"name\":\"delay_\",\"type\":\"uint256\"}],\"name\":\"setDelay\",\"outputs\":[],\"stateMutability\":\"nonpayable\",\"type\":\"function\"},{\"inputs\":[{\"internalType\":\"address\",\"name\":\"pendingAdmin_\",\"type\":\"address\"}],\"name\":\"setPendingAdmin\",\"outputs\":[],\"stateMutability\":\"nonpayable\",\"type\":\"function\"},{\"stateMutability\":\"payable\",\"type\":\"receive\"}]\"\"\")\n",
    "convex_treasury = '0x1389388d01708118b497f59521f6943Be2541bb7'\n",
    "erc20_abi = json.loads(\"\"\"[{\"inputs\":[{\"internalType\":\"address\",\"name\":\"_proxy\",\"type\":\"address\"}],\"stateMutability\":\"nonpayable\",\"type\":\"constructor\"},{\"anonymous\":false,\"inputs\":[{\"indexed\":true,\"internalType\":\"address\",\"name\":\"owner\",\"type\":\"address\"},{\"indexed\":true,\"internalType\":\"address\",\"name\":\"spender\",\"type\":\"address\"},{\"indexed\":false,\"internalType\":\"uint256\",\"name\":\"value\",\"type\":\"uint256\"}],\"name\":\"Approval\",\"type\":\"event\"},{\"anonymous\":false,\"inputs\":[{\"indexed\":true,\"internalType\":\"address\",\"name\":\"from\",\"type\":\"address\"},{\"indexed\":true,\"internalType\":\"address\",\"name\":\"to\",\"type\":\"address\"},{\"indexed\":false,\"internalType\":\"uint256\",\"name\":\"value\",\"type\":\"uint256\"}],\"name\":\"Transfer\",\"type\":\"event\"},{\"inputs\":[{\"internalType\":\"address\",\"name\":\"owner\",\"type\":\"address\"},{\"internalType\":\"address\",\"name\":\"spender\",\"type\":\"address\"}],\"name\":\"allowance\",\"outputs\":[{\"internalType\":\"uint256\",\"name\":\"\",\"type\":\"uint256\"}],\"stateMutability\":\"view\",\"type\":\"function\"},{\"inputs\":[{\"internalType\":\"address\",\"name\":\"spender\",\"type\":\"address\"},{\"internalType\":\"uint256\",\"name\":\"amount\",\"type\":\"uint256\"}],\"name\":\"approve\",\"outputs\":[{\"internalType\":\"bool\",\"name\":\"\",\"type\":\"bool\"}],\"stateMutability\":\"nonpayable\",\"type\":\"function\"},{\"inputs\":[{\"internalType\":\"address\",\"name\":\"account\",\"type\":\"address\"}],\"name\":\"balanceOf\",\"outputs\":[{\"internalType\":\"uint256\",\"name\":\"\",\"type\":\"uint256\"}],\"stateMutability\":\"view\",\"type\":\"function\"},{\"inputs\":[],\"name\":\"decimals\",\"outputs\":[{\"internalType\":\"uint8\",\"name\":\"\",\"type\":\"uint8\"}],\"stateMutability\":\"view\",\"type\":\"function\"},{\"inputs\":[{\"internalType\":\"address\",\"name\":\"spender\",\"type\":\"address\"},{\"internalType\":\"uint256\",\"name\":\"subtractedValue\",\"type\":\"uint256\"}],\"name\":\"decreaseAllowance\",\"outputs\":[{\"internalType\":\"bool\",\"name\":\"\",\"type\":\"bool\"}],\"stateMutability\":\"nonpayable\",\"type\":\"function\"},{\"inputs\":[{\"internalType\":\"address\",\"name\":\"spender\",\"type\":\"address\"},{\"internalType\":\"uint256\",\"name\":\"addedValue\",\"type\":\"uint256\"}],\"name\":\"increaseAllowance\",\"outputs\":[{\"internalType\":\"bool\",\"name\":\"\",\"type\":\"bool\"}],\"stateMutability\":\"nonpayable\",\"type\":\"function\"},{\"inputs\":[],\"name\":\"maxSupply\",\"outputs\":[{\"internalType\":\"uint256\",\"name\":\"\",\"type\":\"uint256\"}],\"stateMutability\":\"view\",\"type\":\"function\"},{\"inputs\":[{\"internalType\":\"address\",\"name\":\"_to\",\"type\":\"address\"},{\"internalType\":\"uint256\",\"name\":\"_amount\",\"type\":\"uint256\"}],\"name\":\"mint\",\"outputs\":[],\"stateMutability\":\"nonpayable\",\"type\":\"function\"},{\"inputs\":[],\"name\":\"name\",\"outputs\":[{\"internalType\":\"string\",\"name\":\"\",\"type\":\"string\"}],\"stateMutability\":\"view\",\"type\":\"function\"},{\"inputs\":[],\"name\":\"operator\",\"outputs\":[{\"internalType\":\"address\",\"name\":\"\",\"type\":\"address\"}],\"stateMutability\":\"view\",\"type\":\"function\"},{\"inputs\":[],\"name\":\"reductionPerCliff\",\"outputs\":[{\"internalType\":\"uint256\",\"name\":\"\",\"type\":\"uint256\"}],\"stateMutability\":\"view\",\"type\":\"function\"},{\"inputs\":[],\"name\":\"symbol\",\"outputs\":[{\"internalType\":\"string\",\"name\":\"\",\"type\":\"string\"}],\"stateMutability\":\"view\",\"type\":\"function\"},{\"inputs\":[],\"name\":\"totalCliffs\",\"outputs\":[{\"internalType\":\"uint256\",\"name\":\"\",\"type\":\"uint256\"}],\"stateMutability\":\"view\",\"type\":\"function\"},{\"inputs\":[],\"name\":\"totalSupply\",\"outputs\":[{\"internalType\":\"uint256\",\"name\":\"\",\"type\":\"uint256\"}],\"stateMutability\":\"view\",\"type\":\"function\"},{\"inputs\":[{\"internalType\":\"address\",\"name\":\"recipient\",\"type\":\"address\"},{\"internalType\":\"uint256\",\"name\":\"amount\",\"type\":\"uint256\"}],\"name\":\"transfer\",\"outputs\":[{\"internalType\":\"bool\",\"name\":\"\",\"type\":\"bool\"}],\"stateMutability\":\"nonpayable\",\"type\":\"function\"},{\"inputs\":[{\"internalType\":\"address\",\"name\":\"sender\",\"type\":\"address\"},{\"internalType\":\"address\",\"name\":\"recipient\",\"type\":\"address\"},{\"internalType\":\"uint256\",\"name\":\"amount\",\"type\":\"uint256\"}],\"name\":\"transferFrom\",\"outputs\":[{\"internalType\":\"bool\",\"name\":\"\",\"type\":\"bool\"}],\"stateMutability\":\"nonpayable\",\"type\":\"function\"},{\"inputs\":[],\"name\":\"updateOperator\",\"outputs\":[],\"stateMutability\":\"nonpayable\",\"type\":\"function\"},{\"inputs\":[],\"name\":\"vecrvProxy\",\"outputs\":[{\"internalType\":\"address\",\"name\":\"\",\"type\":\"address\"}],\"stateMutability\":\"view\",\"type\":\"function\"}]\"\"\")\n",
    "chainlink_convex = '0x9956735F34011f2EedF91a5c1f704ae1254C8010'\n",
    "chainlink_abi = json.loads(\"\"\"[{\"inputs\":[{\"internalType\":\"uint32\",\"name\":\"_maximumGasPrice\",\"type\":\"uint32\"},{\"internalType\":\"uint32\",\"name\":\"_reasonableGasPrice\",\"type\":\"uint32\"},{\"internalType\":\"uint32\",\"name\":\"_microLinkPerEth\",\"type\":\"uint32\"},{\"internalType\":\"uint32\",\"name\":\"_linkGweiPerObservation\",\"type\":\"uint32\"},{\"internalType\":\"uint32\",\"name\":\"_linkGweiPerTransmission\",\"type\":\"uint32\"},{\"internalType\":\"contract LinkTokenInterface\",\"name\":\"_link\",\"type\":\"address\"},{\"internalType\":\"int192\",\"name\":\"_minAnswer\",\"type\":\"int192\"},{\"internalType\":\"int192\",\"name\":\"_maxAnswer\",\"type\":\"int192\"},{\"internalType\":\"contract AccessControllerInterface\",\"name\":\"_billingAccessController\",\"type\":\"address\"},{\"internalType\":\"contract AccessControllerInterface\",\"name\":\"_requesterAccessController\",\"type\":\"address\"},{\"internalType\":\"uint8\",\"name\":\"_decimals\",\"type\":\"uint8\"},{\"internalType\":\"string\",\"name\":\"description\",\"type\":\"string\"}],\"stateMutability\":\"nonpayable\",\"type\":\"constructor\"},{\"anonymous\":false,\"inputs\":[{\"indexed\":false,\"internalType\":\"address\",\"name\":\"user\",\"type\":\"address\"}],\"name\":\"AddedAccess\",\"type\":\"event\"},{\"anonymous\":false,\"inputs\":[{\"indexed\":true,\"internalType\":\"int256\",\"name\":\"current\",\"type\":\"int256\"},{\"indexed\":true,\"internalType\":\"uint256\",\"name\":\"roundId\",\"type\":\"uint256\"},{\"indexed\":false,\"internalType\":\"uint256\",\"name\":\"updatedAt\",\"type\":\"uint256\"}],\"name\":\"AnswerUpdated\",\"type\":\"event\"},{\"anonymous\":false,\"inputs\":[{\"indexed\":false,\"internalType\":\"contract AccessControllerInterface\",\"name\":\"old\",\"type\":\"address\"},{\"indexed\":false,\"internalType\":\"contract AccessControllerInterface\",\"name\":\"current\",\"type\":\"address\"}],\"name\":\"BillingAccessControllerSet\",\"type\":\"event\"},{\"anonymous\":false,\"inputs\":[{\"indexed\":false,\"internalType\":\"uint32\",\"name\":\"maximumGasPrice\",\"type\":\"uint32\"},{\"indexed\":false,\"internalType\":\"uint32\",\"name\":\"reasonableGasPrice\",\"type\":\"uint32\"},{\"indexed\":false,\"internalType\":\"uint32\",\"name\":\"microLinkPerEth\",\"type\":\"uint32\"},{\"indexed\":false,\"internalType\":\"uint32\",\"name\":\"linkGweiPerObservation\",\"type\":\"uint32\"},{\"indexed\":false,\"internalType\":\"uint32\",\"name\":\"linkGweiPerTransmission\",\"type\":\"uint32\"}],\"name\":\"BillingSet\",\"type\":\"event\"},{\"anonymous\":false,\"inputs\":[],\"name\":\"CheckAccessDisabled\",\"type\":\"event\"},{\"anonymous\":false,\"inputs\":[],\"name\":\"CheckAccessEnabled\",\"type\":\"event\"},{\"anonymous\":false,\"inputs\":[{\"indexed\":false,\"internalType\":\"uint32\",\"name\":\"previousConfigBlockNumber\",\"type\":\"uint32\"},{\"indexed\":false,\"internalType\":\"uint64\",\"name\":\"configCount\",\"type\":\"uint64\"},{\"indexed\":false,\"internalType\":\"address[]\",\"name\":\"signers\",\"type\":\"address[]\"},{\"indexed\":false,\"internalType\":\"address[]\",\"name\":\"transmitters\",\"type\":\"address[]\"},{\"indexed\":false,\"internalType\":\"uint8\",\"name\":\"threshold\",\"type\":\"uint8\"},{\"indexed\":false,\"internalType\":\"uint64\",\"name\":\"encodedConfigVersion\",\"type\":\"uint64\"},{\"indexed\":false,\"internalType\":\"bytes\",\"name\":\"encoded\",\"type\":\"bytes\"}],\"name\":\"ConfigSet\",\"type\":\"event\"},{\"anonymous\":false,\"inputs\":[{\"indexed\":true,\"internalType\":\"contract LinkTokenInterface\",\"name\":\"_oldLinkToken\",\"type\":\"address\"},{\"indexed\":true,\"internalType\":\"contract LinkTokenInterface\",\"name\":\"_newLinkToken\",\"type\":\"address\"}],\"name\":\"LinkTokenSet\",\"type\":\"event\"},{\"anonymous\":false,\"inputs\":[{\"indexed\":true,\"internalType\":\"uint256\",\"name\":\"roundId\",\"type\":\"uint256\"},{\"indexed\":true,\"internalType\":\"address\",\"name\":\"startedBy\",\"type\":\"address\"},{\"indexed\":false,\"internalType\":\"uint256\",\"name\":\"startedAt\",\"type\":\"uint256\"}],\"name\":\"NewRound\",\"type\":\"event\"},{\"anonymous\":false,\"inputs\":[{\"indexed\":true,\"internalType\":\"uint32\",\"name\":\"aggregatorRoundId\",\"type\":\"uint32\"},{\"indexed\":false,\"internalType\":\"int192\",\"name\":\"answer\",\"type\":\"int192\"},{\"indexed\":false,\"internalType\":\"address\",\"name\":\"transmitter\",\"type\":\"address\"},{\"indexed\":false,\"internalType\":\"int192[]\",\"name\":\"observations\",\"type\":\"int192[]\"},{\"indexed\":false,\"internalType\":\"bytes\",\"name\":\"observers\",\"type\":\"bytes\"},{\"indexed\":false,\"internalType\":\"bytes32\",\"name\":\"rawReportContext\",\"type\":\"bytes32\"}],\"name\":\"NewTransmission\",\"type\":\"event\"},{\"anonymous\":false,\"inputs\":[{\"indexed\":true,\"internalType\":\"address\",\"name\":\"transmitter\",\"type\":\"address\"},{\"indexed\":true,\"internalType\":\"address\",\"name\":\"payee\",\"type\":\"address\"},{\"indexed\":false,\"internalType\":\"uint256\",\"name\":\"amount\",\"type\":\"uint256\"},{\"indexed\":true,\"internalType\":\"contract LinkTokenInterface\",\"name\":\"linkToken\",\"type\":\"address\"}],\"name\":\"OraclePaid\",\"type\":\"event\"},{\"anonymous\":false,\"inputs\":[{\"indexed\":true,\"internalType\":\"address\",\"name\":\"from\",\"type\":\"address\"},{\"indexed\":true,\"internalType\":\"address\",\"name\":\"to\",\"type\":\"address\"}],\"name\":\"OwnershipTransferRequested\",\"type\":\"event\"},{\"anonymous\":false,\"inputs\":[{\"indexed\":true,\"internalType\":\"address\",\"name\":\"from\",\"type\":\"address\"},{\"indexed\":true,\"internalType\":\"address\",\"name\":\"to\",\"type\":\"address\"}],\"name\":\"OwnershipTransferred\",\"type\":\"event\"},{\"anonymous\":false,\"inputs\":[{\"indexed\":true,\"internalType\":\"address\",\"name\":\"transmitter\",\"type\":\"address\"},{\"indexed\":true,\"internalType\":\"address\",\"name\":\"current\",\"type\":\"address\"},{\"indexed\":true,\"internalType\":\"address\",\"name\":\"proposed\",\"type\":\"address\"}],\"name\":\"PayeeshipTransferRequested\",\"type\":\"event\"},{\"anonymous\":false,\"inputs\":[{\"indexed\":true,\"internalType\":\"address\",\"name\":\"transmitter\",\"type\":\"address\"},{\"indexed\":true,\"internalType\":\"address\",\"name\":\"previous\",\"type\":\"address\"},{\"indexed\":true,\"internalType\":\"address\",\"name\":\"current\",\"type\":\"address\"}],\"name\":\"PayeeshipTransferred\",\"type\":\"event\"},{\"anonymous\":false,\"inputs\":[{\"indexed\":false,\"internalType\":\"address\",\"name\":\"user\",\"type\":\"address\"}],\"name\":\"RemovedAccess\",\"type\":\"event\"},{\"anonymous\":false,\"inputs\":[{\"indexed\":false,\"internalType\":\"contract AccessControllerInterface\",\"name\":\"old\",\"type\":\"address\"},{\"indexed\":false,\"internalType\":\"contract AccessControllerInterface\",\"name\":\"current\",\"type\":\"address\"}],\"name\":\"RequesterAccessControllerSet\",\"type\":\"event\"},{\"anonymous\":false,\"inputs\":[{\"indexed\":true,\"internalType\":\"address\",\"name\":\"requester\",\"type\":\"address\"},{\"indexed\":false,\"internalType\":\"bytes16\",\"name\":\"configDigest\",\"type\":\"bytes16\"},{\"indexed\":false,\"internalType\":\"uint32\",\"name\":\"epoch\",\"type\":\"uint32\"},{\"indexed\":false,\"internalType\":\"uint8\",\"name\":\"round\",\"type\":\"uint8\"}],\"name\":\"RoundRequested\",\"type\":\"event\"},{\"anonymous\":false,\"inputs\":[{\"indexed\":true,\"internalType\":\"contract AggregatorValidatorInterface\",\"name\":\"previousValidator\",\"type\":\"address\"},{\"indexed\":false,\"internalType\":\"uint32\",\"name\":\"previousGasLimit\",\"type\":\"uint32\"},{\"indexed\":true,\"internalType\":\"contract AggregatorValidatorInterface\",\"name\":\"currentValidator\",\"type\":\"address\"},{\"indexed\":false,\"internalType\":\"uint32\",\"name\":\"currentGasLimit\",\"type\":\"uint32\"}],\"name\":\"ValidatorConfigSet\",\"type\":\"event\"},{\"inputs\":[],\"name\":\"acceptOwnership\",\"outputs\":[],\"stateMutability\":\"nonpayable\",\"type\":\"function\"},{\"inputs\":[{\"internalType\":\"address\",\"name\":\"_transmitter\",\"type\":\"address\"}],\"name\":\"acceptPayeeship\",\"outputs\":[],\"stateMutability\":\"nonpayable\",\"type\":\"function\"},{\"inputs\":[{\"internalType\":\"address\",\"name\":\"_user\",\"type\":\"address\"}],\"name\":\"addAccess\",\"outputs\":[],\"stateMutability\":\"nonpayable\",\"type\":\"function\"},{\"inputs\":[],\"name\":\"billingAccessController\",\"outputs\":[{\"internalType\":\"contract AccessControllerInterface\",\"name\":\"\",\"type\":\"address\"}],\"stateMutability\":\"view\",\"type\":\"function\"},{\"inputs\":[],\"name\":\"checkEnabled\",\"outputs\":[{\"internalType\":\"bool\",\"name\":\"\",\"type\":\"bool\"}],\"stateMutability\":\"view\",\"type\":\"function\"},{\"inputs\":[],\"name\":\"decimals\",\"outputs\":[{\"internalType\":\"uint8\",\"name\":\"\",\"type\":\"uint8\"}],\"stateMutability\":\"view\",\"type\":\"function\"},{\"inputs\":[],\"name\":\"description\",\"outputs\":[{\"internalType\":\"string\",\"name\":\"\",\"type\":\"string\"}],\"stateMutability\":\"view\",\"type\":\"function\"},{\"inputs\":[],\"name\":\"disableAccessCheck\",\"outputs\":[],\"stateMutability\":\"nonpayable\",\"type\":\"function\"},{\"inputs\":[],\"name\":\"enableAccessCheck\",\"outputs\":[],\"stateMutability\":\"nonpayable\",\"type\":\"function\"},{\"inputs\":[{\"internalType\":\"uint256\",\"name\":\"_roundId\",\"type\":\"uint256\"}],\"name\":\"getAnswer\",\"outputs\":[{\"internalType\":\"int256\",\"name\":\"\",\"type\":\"int256\"}],\"stateMutability\":\"view\",\"type\":\"function\"},{\"inputs\":[],\"name\":\"getBilling\",\"outputs\":[{\"internalType\":\"uint32\",\"name\":\"maximumGasPrice\",\"type\":\"uint32\"},{\"internalType\":\"uint32\",\"name\":\"reasonableGasPrice\",\"type\":\"uint32\"},{\"internalType\":\"uint32\",\"name\":\"microLinkPerEth\",\"type\":\"uint32\"},{\"internalType\":\"uint32\",\"name\":\"linkGweiPerObservation\",\"type\":\"uint32\"},{\"internalType\":\"uint32\",\"name\":\"linkGweiPerTransmission\",\"type\":\"uint32\"}],\"stateMutability\":\"view\",\"type\":\"function\"},{\"inputs\":[],\"name\":\"getLinkToken\",\"outputs\":[{\"internalType\":\"contract LinkTokenInterface\",\"name\":\"linkToken\",\"type\":\"address\"}],\"stateMutability\":\"view\",\"type\":\"function\"},{\"inputs\":[{\"internalType\":\"uint80\",\"name\":\"_roundId\",\"type\":\"uint80\"}],\"name\":\"getRoundData\",\"outputs\":[{\"internalType\":\"uint80\",\"name\":\"roundId\",\"type\":\"uint80\"},{\"internalType\":\"int256\",\"name\":\"answer\",\"type\":\"int256\"},{\"internalType\":\"uint256\",\"name\":\"startedAt\",\"type\":\"uint256\"},{\"internalType\":\"uint256\",\"name\":\"updatedAt\",\"type\":\"uint256\"},{\"internalType\":\"uint80\",\"name\":\"answeredInRound\",\"type\":\"uint80\"}],\"stateMutability\":\"view\",\"type\":\"function\"},{\"inputs\":[{\"internalType\":\"uint256\",\"name\":\"_roundId\",\"type\":\"uint256\"}],\"name\":\"getTimestamp\",\"outputs\":[{\"internalType\":\"uint256\",\"name\":\"\",\"type\":\"uint256\"}],\"stateMutability\":\"view\",\"type\":\"function\"},{\"inputs\":[{\"internalType\":\"address\",\"name\":\"_user\",\"type\":\"address\"},{\"internalType\":\"bytes\",\"name\":\"_calldata\",\"type\":\"bytes\"}],\"name\":\"hasAccess\",\"outputs\":[{\"internalType\":\"bool\",\"name\":\"\",\"type\":\"bool\"}],\"stateMutability\":\"view\",\"type\":\"function\"},{\"inputs\":[],\"name\":\"latestAnswer\",\"outputs\":[{\"internalType\":\"int256\",\"name\":\"\",\"type\":\"int256\"}],\"stateMutability\":\"view\",\"type\":\"function\"},{\"inputs\":[],\"name\":\"latestConfigDetails\",\"outputs\":[{\"internalType\":\"uint32\",\"name\":\"configCount\",\"type\":\"uint32\"},{\"internalType\":\"uint32\",\"name\":\"blockNumber\",\"type\":\"uint32\"},{\"internalType\":\"bytes16\",\"name\":\"configDigest\",\"type\":\"bytes16\"}],\"stateMutability\":\"view\",\"type\":\"function\"},{\"inputs\":[],\"name\":\"latestRound\",\"outputs\":[{\"internalType\":\"uint256\",\"name\":\"\",\"type\":\"uint256\"}],\"stateMutability\":\"view\",\"type\":\"function\"},{\"inputs\":[],\"name\":\"latestRoundData\",\"outputs\":[{\"internalType\":\"uint80\",\"name\":\"roundId\",\"type\":\"uint80\"},{\"internalType\":\"int256\",\"name\":\"answer\",\"type\":\"int256\"},{\"internalType\":\"uint256\",\"name\":\"startedAt\",\"type\":\"uint256\"},{\"internalType\":\"uint256\",\"name\":\"updatedAt\",\"type\":\"uint256\"},{\"internalType\":\"uint80\",\"name\":\"answeredInRound\",\"type\":\"uint80\"}],\"stateMutability\":\"view\",\"type\":\"function\"},{\"inputs\":[],\"name\":\"latestTimestamp\",\"outputs\":[{\"internalType\":\"uint256\",\"name\":\"\",\"type\":\"uint256\"}],\"stateMutability\":\"view\",\"type\":\"function\"},{\"inputs\":[],\"name\":\"latestTransmissionDetails\",\"outputs\":[{\"internalType\":\"bytes16\",\"name\":\"configDigest\",\"type\":\"bytes16\"},{\"internalType\":\"uint32\",\"name\":\"epoch\",\"type\":\"uint32\"},{\"internalType\":\"uint8\",\"name\":\"round\",\"type\":\"uint8\"},{\"internalType\":\"int192\",\"name\":\"latestAnswer\",\"type\":\"int192\"},{\"internalType\":\"uint64\",\"name\":\"latestTimestamp\",\"type\":\"uint64\"}],\"stateMutability\":\"view\",\"type\":\"function\"},{\"inputs\":[],\"name\":\"linkAvailableForPayment\",\"outputs\":[{\"internalType\":\"int256\",\"name\":\"availableBalance\",\"type\":\"int256\"}],\"stateMutability\":\"view\",\"type\":\"function\"},{\"inputs\":[],\"name\":\"maxAnswer\",\"outputs\":[{\"internalType\":\"int192\",\"name\":\"\",\"type\":\"int192\"}],\"stateMutability\":\"view\",\"type\":\"function\"},{\"inputs\":[],\"name\":\"minAnswer\",\"outputs\":[{\"internalType\":\"int192\",\"name\":\"\",\"type\":\"int192\"}],\"stateMutability\":\"view\",\"type\":\"function\"},{\"inputs\":[{\"internalType\":\"address\",\"name\":\"_signerOrTransmitter\",\"type\":\"address\"}],\"name\":\"oracleObservationCount\",\"outputs\":[{\"internalType\":\"uint16\",\"name\":\"\",\"type\":\"uint16\"}],\"stateMutability\":\"view\",\"type\":\"function\"},{\"inputs\":[{\"internalType\":\"address\",\"name\":\"_transmitter\",\"type\":\"address\"}],\"name\":\"owedPayment\",\"outputs\":[{\"internalType\":\"uint256\",\"name\":\"\",\"type\":\"uint256\"}],\"stateMutability\":\"view\",\"type\":\"function\"},{\"inputs\":[],\"name\":\"owner\",\"outputs\":[{\"internalType\":\"address payable\",\"name\":\"\",\"type\":\"address\"}],\"stateMutability\":\"view\",\"type\":\"function\"},{\"inputs\":[{\"internalType\":\"address\",\"name\":\"_user\",\"type\":\"address\"}],\"name\":\"removeAccess\",\"outputs\":[],\"stateMutability\":\"nonpayable\",\"type\":\"function\"},{\"inputs\":[],\"name\":\"requestNewRound\",\"outputs\":[{\"internalType\":\"uint80\",\"name\":\"\",\"type\":\"uint80\"}],\"stateMutability\":\"nonpayable\",\"type\":\"function\"},{\"inputs\":[],\"name\":\"requesterAccessController\",\"outputs\":[{\"internalType\":\"contract AccessControllerInterface\",\"name\":\"\",\"type\":\"address\"}],\"stateMutability\":\"view\",\"type\":\"function\"},{\"inputs\":[{\"internalType\":\"uint32\",\"name\":\"_maximumGasPrice\",\"type\":\"uint32\"},{\"internalType\":\"uint32\",\"name\":\"_reasonableGasPrice\",\"type\":\"uint32\"},{\"internalType\":\"uint32\",\"name\":\"_microLinkPerEth\",\"type\":\"uint32\"},{\"internalType\":\"uint32\",\"name\":\"_linkGweiPerObservation\",\"type\":\"uint32\"},{\"internalType\":\"uint32\",\"name\":\"_linkGweiPerTransmission\",\"type\":\"uint32\"}],\"name\":\"setBilling\",\"outputs\":[],\"stateMutability\":\"nonpayable\",\"type\":\"function\"},{\"inputs\":[{\"internalType\":\"contract AccessControllerInterface\",\"name\":\"_billingAccessController\",\"type\":\"address\"}],\"name\":\"setBillingAccessController\",\"outputs\":[],\"stateMutability\":\"nonpayable\",\"type\":\"function\"},{\"inputs\":[{\"internalType\":\"address[]\",\"name\":\"_signers\",\"type\":\"address[]\"},{\"internalType\":\"address[]\",\"name\":\"_transmitters\",\"type\":\"address[]\"},{\"internalType\":\"uint8\",\"name\":\"_threshold\",\"type\":\"uint8\"},{\"internalType\":\"uint64\",\"name\":\"_encodedConfigVersion\",\"type\":\"uint64\"},{\"internalType\":\"bytes\",\"name\":\"_encoded\",\"type\":\"bytes\"}],\"name\":\"setConfig\",\"outputs\":[],\"stateMutability\":\"nonpayable\",\"type\":\"function\"},{\"inputs\":[{\"internalType\":\"contract LinkTokenInterface\",\"name\":\"_linkToken\",\"type\":\"address\"},{\"internalType\":\"address\",\"name\":\"_recipient\",\"type\":\"address\"}],\"name\":\"setLinkToken\",\"outputs\":[],\"stateMutability\":\"nonpayable\",\"type\":\"function\"},{\"inputs\":[{\"internalType\":\"address[]\",\"name\":\"_transmitters\",\"type\":\"address[]\"},{\"internalType\":\"address[]\",\"name\":\"_payees\",\"type\":\"address[]\"}],\"name\":\"setPayees\",\"outputs\":[],\"stateMutability\":\"nonpayable\",\"type\":\"function\"},{\"inputs\":[{\"internalType\":\"contract AccessControllerInterface\",\"name\":\"_requesterAccessController\",\"type\":\"address\"}],\"name\":\"setRequesterAccessController\",\"outputs\":[],\"stateMutability\":\"nonpayable\",\"type\":\"function\"},{\"inputs\":[{\"internalType\":\"contract AggregatorValidatorInterface\",\"name\":\"_newValidator\",\"type\":\"address\"},{\"internalType\":\"uint32\",\"name\":\"_newGasLimit\",\"type\":\"uint32\"}],\"name\":\"setValidatorConfig\",\"outputs\":[],\"stateMutability\":\"nonpayable\",\"type\":\"function\"},{\"inputs\":[{\"internalType\":\"address\",\"name\":\"_to\",\"type\":\"address\"}],\"name\":\"transferOwnership\",\"outputs\":[],\"stateMutability\":\"nonpayable\",\"type\":\"function\"},{\"inputs\":[{\"internalType\":\"address\",\"name\":\"_transmitter\",\"type\":\"address\"},{\"internalType\":\"address\",\"name\":\"_proposed\",\"type\":\"address\"}],\"name\":\"transferPayeeship\",\"outputs\":[],\"stateMutability\":\"nonpayable\",\"type\":\"function\"},{\"inputs\":[{\"internalType\":\"bytes\",\"name\":\"_report\",\"type\":\"bytes\"},{\"internalType\":\"bytes32[]\",\"name\":\"_rs\",\"type\":\"bytes32[]\"},{\"internalType\":\"bytes32[]\",\"name\":\"_ss\",\"type\":\"bytes32[]\"},{\"internalType\":\"bytes32\",\"name\":\"_rawVs\",\"type\":\"bytes32\"}],\"name\":\"transmit\",\"outputs\":[],\"stateMutability\":\"nonpayable\",\"type\":\"function\"},{\"inputs\":[],\"name\":\"transmitters\",\"outputs\":[{\"internalType\":\"address[]\",\"name\":\"\",\"type\":\"address[]\"}],\"stateMutability\":\"view\",\"type\":\"function\"},{\"inputs\":[],\"name\":\"typeAndVersion\",\"outputs\":[{\"internalType\":\"string\",\"name\":\"\",\"type\":\"string\"}],\"stateMutability\":\"pure\",\"type\":\"function\"},{\"inputs\":[],\"name\":\"validatorConfig\",\"outputs\":[{\"internalType\":\"contract AggregatorValidatorInterface\",\"name\":\"validator\",\"type\":\"address\"},{\"internalType\":\"uint32\",\"name\":\"gasLimit\",\"type\":\"uint32\"}],\"stateMutability\":\"view\",\"type\":\"function\"},{\"inputs\":[],\"name\":\"version\",\"outputs\":[{\"internalType\":\"uint256\",\"name\":\"\",\"type\":\"uint256\"}],\"stateMutability\":\"view\",\"type\":\"function\"},{\"inputs\":[{\"internalType\":\"address\",\"name\":\"_recipient\",\"type\":\"address\"},{\"internalType\":\"uint256\",\"name\":\"_amount\",\"type\":\"uint256\"}],\"name\":\"withdrawFunds\",\"outputs\":[],\"stateMutability\":\"nonpayable\",\"type\":\"function\"},{\"inputs\":[{\"internalType\":\"address\",\"name\":\"_transmitter\",\"type\":\"address\"}],\"name\":\"withdrawPayment\",\"outputs\":[],\"stateMutability\":\"nonpayable\",\"type\":\"function\"}]\"\"\")\n"
   ]
  },
  {
   "cell_type": "code",
   "execution_count": 6,
   "id": "efd7c8f9",
   "metadata": {},
   "outputs": [],
   "source": [
    "def fetch_internal_transactions(treasury_contract):\n",
    "    data = []\n",
    "    labels = {\n",
    "        'to': 'revenue',\n",
    "        'from': 'expense',\n",
    "    }\n",
    "    for direction in ('to', 'from'):\n",
    "        q = {\n",
    "            \"query\": {\n",
    "                \"bool\": {\n",
    "                    \"filter\": [\n",
    "                        {\n",
    "                            \"nested\": {\n",
    "                                \"path\": \"action\",\n",
    "                                \"query\": {\n",
    "                                    \"bool\": {\n",
    "                                        \"filter\": [\n",
    "                                            {\n",
    "                                                \"term\": {\n",
    "                                                    f\"action.{direction}.raw\": treasury_contract\n",
    "                                                }\n",
    "                                            }\n",
    "                                        ]\n",
    "                                    }\n",
    "                                }\n",
    "                            }\n",
    "                        }\n",
    "                    ]\n",
    "                }\n",
    "            },\n",
    "            \"sort\": [\n",
    "                {\n",
    "                    \"blockNumber.num\": \"desc\"\n",
    "                }\n",
    "            ],\n",
    "            \"size\": 1000\n",
    "        }\n",
    "\n",
    "        s = Search(using=es, index=\"trace\") \\\n",
    "            .update_from_dict(q)\n",
    "        for hit in s.scan():\n",
    "            data.append({\n",
    "                'timestamp': safeget(hit, 'timestamp'),\n",
    "                \"datetime\": pd.to_datetime(safeget(hit, 'timestamp'), unit='s'),\n",
    "                \"block_number\": safeget(hit, 'blockNumber', 'num'),\n",
    "                \"direction\": direction,\n",
    "                \"type\": safeget(hit, 'type'),\n",
    "                'from': safeget(hit, 'action', 'from'),\n",
    "                'to': safeget(hit, 'action', 'to'),\n",
    "                labels[direction]: int(safeget(hit, 'action', 'value', 'raw')) / 1e18,\n",
    "            })\n",
    "    \n",
    "    \n",
    "    df = pd.DataFrame(data)\n",
    "    df = df.sort_values('timestamp', ascending=True).reset_index(drop=True)\n",
    "    return df"
   ]
  },
  {
   "cell_type": "code",
   "execution_count": 7,
   "id": "788b43c1",
   "metadata": {},
   "outputs": [],
   "source": [
    "df_internal = fetch_internal_transactions(nouns_treasury)"
   ]
  },
  {
   "cell_type": "code",
   "execution_count": 8,
   "id": "d93b20e3",
   "metadata": {},
   "outputs": [
    {
     "data": {
      "text/html": [
       "<div>\n",
       "<style scoped>\n",
       "    .dataframe tbody tr th:only-of-type {\n",
       "        vertical-align: middle;\n",
       "    }\n",
       "\n",
       "    .dataframe tbody tr th {\n",
       "        vertical-align: top;\n",
       "    }\n",
       "\n",
       "    .dataframe thead th {\n",
       "        text-align: right;\n",
       "    }\n",
       "</style>\n",
       "<table border=\"1\" class=\"dataframe\">\n",
       "  <thead>\n",
       "    <tr style=\"text-align: right;\">\n",
       "      <th></th>\n",
       "      <th>timestamp</th>\n",
       "      <th>datetime</th>\n",
       "      <th>block_number</th>\n",
       "      <th>direction</th>\n",
       "      <th>type</th>\n",
       "      <th>from</th>\n",
       "      <th>to</th>\n",
       "      <th>revenue</th>\n",
       "      <th>expense</th>\n",
       "    </tr>\n",
       "  </thead>\n",
       "  <tbody>\n",
       "    <tr>\n",
       "      <th>0</th>\n",
       "      <td>1628531228</td>\n",
       "      <td>2021-08-09 17:47:08</td>\n",
       "      <td>12992388</td>\n",
       "      <td>to</td>\n",
       "      <td>call</td>\n",
       "      <td>0x830BD73E4184ceF73443C15111a1DF14e495C706</td>\n",
       "      <td>0x0BC3807Ec262cB779b38D65b38158acC3bfedE10</td>\n",
       "      <td>613.3700</td>\n",
       "      <td>NaN</td>\n",
       "    </tr>\n",
       "    <tr>\n",
       "      <th>1</th>\n",
       "      <td>1628617690</td>\n",
       "      <td>2021-08-10 17:48:10</td>\n",
       "      <td>12998889</td>\n",
       "      <td>to</td>\n",
       "      <td>call</td>\n",
       "      <td>0x830BD73E4184ceF73443C15111a1DF14e495C706</td>\n",
       "      <td>0x0BC3807Ec262cB779b38D65b38158acC3bfedE10</td>\n",
       "      <td>69.6900</td>\n",
       "      <td>NaN</td>\n",
       "    </tr>\n",
       "    <tr>\n",
       "      <th>2</th>\n",
       "      <td>1628705130</td>\n",
       "      <td>2021-08-11 18:05:30</td>\n",
       "      <td>13005388</td>\n",
       "      <td>to</td>\n",
       "      <td>call</td>\n",
       "      <td>0x830BD73E4184ceF73443C15111a1DF14e495C706</td>\n",
       "      <td>0x0BC3807Ec262cB779b38D65b38158acC3bfedE10</td>\n",
       "      <td>36.6900</td>\n",
       "      <td>NaN</td>\n",
       "    </tr>\n",
       "    <tr>\n",
       "      <th>3</th>\n",
       "      <td>1628792090</td>\n",
       "      <td>2021-08-12 18:14:50</td>\n",
       "      <td>13011907</td>\n",
       "      <td>to</td>\n",
       "      <td>call</td>\n",
       "      <td>0x830BD73E4184ceF73443C15111a1DF14e495C706</td>\n",
       "      <td>0x0BC3807Ec262cB779b38D65b38158acC3bfedE10</td>\n",
       "      <td>45.0000</td>\n",
       "      <td>NaN</td>\n",
       "    </tr>\n",
       "    <tr>\n",
       "      <th>4</th>\n",
       "      <td>1628878904</td>\n",
       "      <td>2021-08-13 18:21:44</td>\n",
       "      <td>13018438</td>\n",
       "      <td>to</td>\n",
       "      <td>call</td>\n",
       "      <td>0x830BD73E4184ceF73443C15111a1DF14e495C706</td>\n",
       "      <td>0x0BC3807Ec262cB779b38D65b38158acC3bfedE10</td>\n",
       "      <td>50.0000</td>\n",
       "      <td>NaN</td>\n",
       "    </tr>\n",
       "    <tr>\n",
       "      <th>...</th>\n",
       "      <td>...</td>\n",
       "      <td>...</td>\n",
       "      <td>...</td>\n",
       "      <td>...</td>\n",
       "      <td>...</td>\n",
       "      <td>...</td>\n",
       "      <td>...</td>\n",
       "      <td>...</td>\n",
       "      <td>...</td>\n",
       "    </tr>\n",
       "    <tr>\n",
       "      <th>1320</th>\n",
       "      <td>1660948358</td>\n",
       "      <td>2022-08-19 22:32:38</td>\n",
       "      <td>15373929</td>\n",
       "      <td>to</td>\n",
       "      <td>call</td>\n",
       "      <td>0xfAa4bbe589a39745833e2BecE8d401b6195A07b1</td>\n",
       "      <td>0x0BC3807Ec262cB779b38D65b38158acC3bfedE10</td>\n",
       "      <td>0.0250</td>\n",
       "      <td>NaN</td>\n",
       "    </tr>\n",
       "    <tr>\n",
       "      <th>1321</th>\n",
       "      <td>1660977170</td>\n",
       "      <td>2022-08-20 06:32:50</td>\n",
       "      <td>15376070</td>\n",
       "      <td>to</td>\n",
       "      <td>call</td>\n",
       "      <td>0x830BD73E4184ceF73443C15111a1DF14e495C706</td>\n",
       "      <td>0x0BC3807Ec262cB779b38D65b38158acC3bfedE10</td>\n",
       "      <td>61.2000</td>\n",
       "      <td>NaN</td>\n",
       "    </tr>\n",
       "    <tr>\n",
       "      <th>1322</th>\n",
       "      <td>1660977677</td>\n",
       "      <td>2022-08-20 06:41:17</td>\n",
       "      <td>15376108</td>\n",
       "      <td>to</td>\n",
       "      <td>call</td>\n",
       "      <td>0xfAa4bbe589a39745833e2BecE8d401b6195A07b1</td>\n",
       "      <td>0x0BC3807Ec262cB779b38D65b38158acC3bfedE10</td>\n",
       "      <td>0.0275</td>\n",
       "      <td>NaN</td>\n",
       "    </tr>\n",
       "    <tr>\n",
       "      <th>1323</th>\n",
       "      <td>1661006807</td>\n",
       "      <td>2022-08-20 14:46:47</td>\n",
       "      <td>15378220</td>\n",
       "      <td>to</td>\n",
       "      <td>call</td>\n",
       "      <td>0xfAa4bbe589a39745833e2BecE8d401b6195A07b1</td>\n",
       "      <td>0x0BC3807Ec262cB779b38D65b38158acC3bfedE10</td>\n",
       "      <td>0.0175</td>\n",
       "      <td>NaN</td>\n",
       "    </tr>\n",
       "    <tr>\n",
       "      <th>1324</th>\n",
       "      <td>1661037083</td>\n",
       "      <td>2022-08-20 23:11:23</td>\n",
       "      <td>15380435</td>\n",
       "      <td>to</td>\n",
       "      <td>call</td>\n",
       "      <td>0xfAa4bbe589a39745833e2BecE8d401b6195A07b1</td>\n",
       "      <td>0x0BC3807Ec262cB779b38D65b38158acC3bfedE10</td>\n",
       "      <td>0.0200</td>\n",
       "      <td>NaN</td>\n",
       "    </tr>\n",
       "  </tbody>\n",
       "</table>\n",
       "<p>1325 rows × 9 columns</p>\n",
       "</div>"
      ],
      "text/plain": [
       "       timestamp            datetime  block_number direction  type  \\\n",
       "0     1628531228 2021-08-09 17:47:08      12992388        to  call   \n",
       "1     1628617690 2021-08-10 17:48:10      12998889        to  call   \n",
       "2     1628705130 2021-08-11 18:05:30      13005388        to  call   \n",
       "3     1628792090 2021-08-12 18:14:50      13011907        to  call   \n",
       "4     1628878904 2021-08-13 18:21:44      13018438        to  call   \n",
       "...          ...                 ...           ...       ...   ...   \n",
       "1320  1660948358 2022-08-19 22:32:38      15373929        to  call   \n",
       "1321  1660977170 2022-08-20 06:32:50      15376070        to  call   \n",
       "1322  1660977677 2022-08-20 06:41:17      15376108        to  call   \n",
       "1323  1661006807 2022-08-20 14:46:47      15378220        to  call   \n",
       "1324  1661037083 2022-08-20 23:11:23      15380435        to  call   \n",
       "\n",
       "                                            from  \\\n",
       "0     0x830BD73E4184ceF73443C15111a1DF14e495C706   \n",
       "1     0x830BD73E4184ceF73443C15111a1DF14e495C706   \n",
       "2     0x830BD73E4184ceF73443C15111a1DF14e495C706   \n",
       "3     0x830BD73E4184ceF73443C15111a1DF14e495C706   \n",
       "4     0x830BD73E4184ceF73443C15111a1DF14e495C706   \n",
       "...                                          ...   \n",
       "1320  0xfAa4bbe589a39745833e2BecE8d401b6195A07b1   \n",
       "1321  0x830BD73E4184ceF73443C15111a1DF14e495C706   \n",
       "1322  0xfAa4bbe589a39745833e2BecE8d401b6195A07b1   \n",
       "1323  0xfAa4bbe589a39745833e2BecE8d401b6195A07b1   \n",
       "1324  0xfAa4bbe589a39745833e2BecE8d401b6195A07b1   \n",
       "\n",
       "                                              to   revenue  expense  \n",
       "0     0x0BC3807Ec262cB779b38D65b38158acC3bfedE10  613.3700      NaN  \n",
       "1     0x0BC3807Ec262cB779b38D65b38158acC3bfedE10   69.6900      NaN  \n",
       "2     0x0BC3807Ec262cB779b38D65b38158acC3bfedE10   36.6900      NaN  \n",
       "3     0x0BC3807Ec262cB779b38D65b38158acC3bfedE10   45.0000      NaN  \n",
       "4     0x0BC3807Ec262cB779b38D65b38158acC3bfedE10   50.0000      NaN  \n",
       "...                                          ...       ...      ...  \n",
       "1320  0x0BC3807Ec262cB779b38D65b38158acC3bfedE10    0.0250      NaN  \n",
       "1321  0x0BC3807Ec262cB779b38D65b38158acC3bfedE10   61.2000      NaN  \n",
       "1322  0x0BC3807Ec262cB779b38D65b38158acC3bfedE10    0.0275      NaN  \n",
       "1323  0x0BC3807Ec262cB779b38D65b38158acC3bfedE10    0.0175      NaN  \n",
       "1324  0x0BC3807Ec262cB779b38D65b38158acC3bfedE10    0.0200      NaN  \n",
       "\n",
       "[1325 rows x 9 columns]"
      ]
     },
     "execution_count": 8,
     "metadata": {},
     "output_type": "execute_result"
    }
   ],
   "source": [
    "df_internal"
   ]
  },
  {
   "cell_type": "code",
   "execution_count": 11,
   "id": "217743c8",
   "metadata": {},
   "outputs": [],
   "source": [
    "df_internal.index = df_internal['datetime']"
   ]
  },
  {
   "cell_type": "code",
   "execution_count": 159,
   "id": "8e1a1343",
   "metadata": {},
   "outputs": [],
   "source": [
    "df_internal_sampled = df_internal.resample('M').sum()"
   ]
  },
  {
   "cell_type": "code",
   "execution_count": 160,
   "id": "fe21b28e",
   "metadata": {},
   "outputs": [
    {
     "data": {
      "application/vnd.plotly.v1+json": {
       "config": {
        "plotlyServerURL": "https://plot.ly"
       },
       "data": [
        {
         "alignmentgroup": "True",
         "legendgroup": "revenue",
         "marker": {
          "color": "#636efa",
          "pattern": {
           "shape": ""
          }
         },
         "name": "revenue",
         "offsetgroup": "revenue",
         "orientation": "v",
         "showlegend": true,
         "textposition": "auto",
         "type": "bar",
         "x": [
          "2021-08-31T00:00:00",
          "2021-09-30T00:00:00",
          "2021-10-31T00:00:00",
          "2021-11-30T00:00:00",
          "2021-12-31T00:00:00",
          "2022-01-31T00:00:00",
          "2022-02-28T00:00:00",
          "2022-03-31T00:00:00",
          "2022-04-30T00:00:00",
          "2022-05-31T00:00:00",
          "2022-06-30T00:00:00",
          "2022-07-31T00:00:00",
          "2022-08-31T00:00:00"
         ],
         "xaxis": "x",
         "y": [
          3485.6022,
          4487.807,
          6067.47,
          2428.2,
          1443.216,
          2274.05,
          2287.63,
          1918.8645,
          2035.12,
          2884.0176,
          3494.988978716281,
          3975.841782,
          2053.3935
         ],
         "yaxis": "y"
        },
        {
         "alignmentgroup": "True",
         "legendgroup": "expense",
         "marker": {
          "color": "#EF553B",
          "pattern": {
           "shape": ""
          }
         },
         "name": "expense",
         "offsetgroup": "expense",
         "orientation": "v",
         "showlegend": true,
         "textposition": "auto",
         "type": "bar",
         "x": [
          "2021-08-31T00:00:00",
          "2021-09-30T00:00:00",
          "2021-10-31T00:00:00",
          "2021-11-30T00:00:00",
          "2021-12-31T00:00:00",
          "2022-01-31T00:00:00",
          "2022-02-28T00:00:00",
          "2022-03-31T00:00:00",
          "2022-04-30T00:00:00",
          "2022-05-31T00:00:00",
          "2022-06-30T00:00:00",
          "2022-07-31T00:00:00",
          "2022-08-31T00:00:00"
         ],
         "xaxis": "x",
         "y": [
          30,
          243,
          116.13600000000278,
          139.21,
          1707.15,
          1639.2,
          701.62414,
          479.14414,
          2529.2114,
          1228.3300000000002,
          806.19,
          4177.3442,
          1023
         ],
         "yaxis": "y"
        }
       ],
       "layout": {
        "barmode": "relative",
        "height": 500,
        "hovermode": "x",
        "legend": {
         "title": {
          "text": "variable"
         },
         "tracegroupgap": 0
        },
        "template": {
         "data": {
          "bar": [
           {
            "error_x": {
             "color": "#2a3f5f"
            },
            "error_y": {
             "color": "#2a3f5f"
            },
            "marker": {
             "line": {
              "color": "#E5ECF6",
              "width": 0.5
             },
             "pattern": {
              "fillmode": "overlay",
              "size": 10,
              "solidity": 0.2
             }
            },
            "type": "bar"
           }
          ],
          "barpolar": [
           {
            "marker": {
             "line": {
              "color": "#E5ECF6",
              "width": 0.5
             },
             "pattern": {
              "fillmode": "overlay",
              "size": 10,
              "solidity": 0.2
             }
            },
            "type": "barpolar"
           }
          ],
          "carpet": [
           {
            "aaxis": {
             "endlinecolor": "#2a3f5f",
             "gridcolor": "white",
             "linecolor": "white",
             "minorgridcolor": "white",
             "startlinecolor": "#2a3f5f"
            },
            "baxis": {
             "endlinecolor": "#2a3f5f",
             "gridcolor": "white",
             "linecolor": "white",
             "minorgridcolor": "white",
             "startlinecolor": "#2a3f5f"
            },
            "type": "carpet"
           }
          ],
          "choropleth": [
           {
            "colorbar": {
             "outlinewidth": 0,
             "ticks": ""
            },
            "type": "choropleth"
           }
          ],
          "contour": [
           {
            "colorbar": {
             "outlinewidth": 0,
             "ticks": ""
            },
            "colorscale": [
             [
              0,
              "#0d0887"
             ],
             [
              0.1111111111111111,
              "#46039f"
             ],
             [
              0.2222222222222222,
              "#7201a8"
             ],
             [
              0.3333333333333333,
              "#9c179e"
             ],
             [
              0.4444444444444444,
              "#bd3786"
             ],
             [
              0.5555555555555556,
              "#d8576b"
             ],
             [
              0.6666666666666666,
              "#ed7953"
             ],
             [
              0.7777777777777778,
              "#fb9f3a"
             ],
             [
              0.8888888888888888,
              "#fdca26"
             ],
             [
              1,
              "#f0f921"
             ]
            ],
            "type": "contour"
           }
          ],
          "contourcarpet": [
           {
            "colorbar": {
             "outlinewidth": 0,
             "ticks": ""
            },
            "type": "contourcarpet"
           }
          ],
          "heatmap": [
           {
            "colorbar": {
             "outlinewidth": 0,
             "ticks": ""
            },
            "colorscale": [
             [
              0,
              "#0d0887"
             ],
             [
              0.1111111111111111,
              "#46039f"
             ],
             [
              0.2222222222222222,
              "#7201a8"
             ],
             [
              0.3333333333333333,
              "#9c179e"
             ],
             [
              0.4444444444444444,
              "#bd3786"
             ],
             [
              0.5555555555555556,
              "#d8576b"
             ],
             [
              0.6666666666666666,
              "#ed7953"
             ],
             [
              0.7777777777777778,
              "#fb9f3a"
             ],
             [
              0.8888888888888888,
              "#fdca26"
             ],
             [
              1,
              "#f0f921"
             ]
            ],
            "type": "heatmap"
           }
          ],
          "heatmapgl": [
           {
            "colorbar": {
             "outlinewidth": 0,
             "ticks": ""
            },
            "colorscale": [
             [
              0,
              "#0d0887"
             ],
             [
              0.1111111111111111,
              "#46039f"
             ],
             [
              0.2222222222222222,
              "#7201a8"
             ],
             [
              0.3333333333333333,
              "#9c179e"
             ],
             [
              0.4444444444444444,
              "#bd3786"
             ],
             [
              0.5555555555555556,
              "#d8576b"
             ],
             [
              0.6666666666666666,
              "#ed7953"
             ],
             [
              0.7777777777777778,
              "#fb9f3a"
             ],
             [
              0.8888888888888888,
              "#fdca26"
             ],
             [
              1,
              "#f0f921"
             ]
            ],
            "type": "heatmapgl"
           }
          ],
          "histogram": [
           {
            "marker": {
             "pattern": {
              "fillmode": "overlay",
              "size": 10,
              "solidity": 0.2
             }
            },
            "type": "histogram"
           }
          ],
          "histogram2d": [
           {
            "colorbar": {
             "outlinewidth": 0,
             "ticks": ""
            },
            "colorscale": [
             [
              0,
              "#0d0887"
             ],
             [
              0.1111111111111111,
              "#46039f"
             ],
             [
              0.2222222222222222,
              "#7201a8"
             ],
             [
              0.3333333333333333,
              "#9c179e"
             ],
             [
              0.4444444444444444,
              "#bd3786"
             ],
             [
              0.5555555555555556,
              "#d8576b"
             ],
             [
              0.6666666666666666,
              "#ed7953"
             ],
             [
              0.7777777777777778,
              "#fb9f3a"
             ],
             [
              0.8888888888888888,
              "#fdca26"
             ],
             [
              1,
              "#f0f921"
             ]
            ],
            "type": "histogram2d"
           }
          ],
          "histogram2dcontour": [
           {
            "colorbar": {
             "outlinewidth": 0,
             "ticks": ""
            },
            "colorscale": [
             [
              0,
              "#0d0887"
             ],
             [
              0.1111111111111111,
              "#46039f"
             ],
             [
              0.2222222222222222,
              "#7201a8"
             ],
             [
              0.3333333333333333,
              "#9c179e"
             ],
             [
              0.4444444444444444,
              "#bd3786"
             ],
             [
              0.5555555555555556,
              "#d8576b"
             ],
             [
              0.6666666666666666,
              "#ed7953"
             ],
             [
              0.7777777777777778,
              "#fb9f3a"
             ],
             [
              0.8888888888888888,
              "#fdca26"
             ],
             [
              1,
              "#f0f921"
             ]
            ],
            "type": "histogram2dcontour"
           }
          ],
          "mesh3d": [
           {
            "colorbar": {
             "outlinewidth": 0,
             "ticks": ""
            },
            "type": "mesh3d"
           }
          ],
          "parcoords": [
           {
            "line": {
             "colorbar": {
              "outlinewidth": 0,
              "ticks": ""
             }
            },
            "type": "parcoords"
           }
          ],
          "pie": [
           {
            "automargin": true,
            "type": "pie"
           }
          ],
          "scatter": [
           {
            "fillpattern": {
             "fillmode": "overlay",
             "size": 10,
             "solidity": 0.2
            },
            "type": "scatter"
           }
          ],
          "scatter3d": [
           {
            "line": {
             "colorbar": {
              "outlinewidth": 0,
              "ticks": ""
             }
            },
            "marker": {
             "colorbar": {
              "outlinewidth": 0,
              "ticks": ""
             }
            },
            "type": "scatter3d"
           }
          ],
          "scattercarpet": [
           {
            "marker": {
             "colorbar": {
              "outlinewidth": 0,
              "ticks": ""
             }
            },
            "type": "scattercarpet"
           }
          ],
          "scattergeo": [
           {
            "marker": {
             "colorbar": {
              "outlinewidth": 0,
              "ticks": ""
             }
            },
            "type": "scattergeo"
           }
          ],
          "scattergl": [
           {
            "marker": {
             "colorbar": {
              "outlinewidth": 0,
              "ticks": ""
             }
            },
            "type": "scattergl"
           }
          ],
          "scattermapbox": [
           {
            "marker": {
             "colorbar": {
              "outlinewidth": 0,
              "ticks": ""
             }
            },
            "type": "scattermapbox"
           }
          ],
          "scatterpolar": [
           {
            "marker": {
             "colorbar": {
              "outlinewidth": 0,
              "ticks": ""
             }
            },
            "type": "scatterpolar"
           }
          ],
          "scatterpolargl": [
           {
            "marker": {
             "colorbar": {
              "outlinewidth": 0,
              "ticks": ""
             }
            },
            "type": "scatterpolargl"
           }
          ],
          "scatterternary": [
           {
            "marker": {
             "colorbar": {
              "outlinewidth": 0,
              "ticks": ""
             }
            },
            "type": "scatterternary"
           }
          ],
          "surface": [
           {
            "colorbar": {
             "outlinewidth": 0,
             "ticks": ""
            },
            "colorscale": [
             [
              0,
              "#0d0887"
             ],
             [
              0.1111111111111111,
              "#46039f"
             ],
             [
              0.2222222222222222,
              "#7201a8"
             ],
             [
              0.3333333333333333,
              "#9c179e"
             ],
             [
              0.4444444444444444,
              "#bd3786"
             ],
             [
              0.5555555555555556,
              "#d8576b"
             ],
             [
              0.6666666666666666,
              "#ed7953"
             ],
             [
              0.7777777777777778,
              "#fb9f3a"
             ],
             [
              0.8888888888888888,
              "#fdca26"
             ],
             [
              1,
              "#f0f921"
             ]
            ],
            "type": "surface"
           }
          ],
          "table": [
           {
            "cells": {
             "fill": {
              "color": "#EBF0F8"
             },
             "line": {
              "color": "white"
             }
            },
            "header": {
             "fill": {
              "color": "#C8D4E3"
             },
             "line": {
              "color": "white"
             }
            },
            "type": "table"
           }
          ]
         },
         "layout": {
          "annotationdefaults": {
           "arrowcolor": "#2a3f5f",
           "arrowhead": 0,
           "arrowwidth": 1
          },
          "autotypenumbers": "strict",
          "coloraxis": {
           "colorbar": {
            "outlinewidth": 0,
            "ticks": ""
           }
          },
          "colorscale": {
           "diverging": [
            [
             0,
             "#8e0152"
            ],
            [
             0.1,
             "#c51b7d"
            ],
            [
             0.2,
             "#de77ae"
            ],
            [
             0.3,
             "#f1b6da"
            ],
            [
             0.4,
             "#fde0ef"
            ],
            [
             0.5,
             "#f7f7f7"
            ],
            [
             0.6,
             "#e6f5d0"
            ],
            [
             0.7,
             "#b8e186"
            ],
            [
             0.8,
             "#7fbc41"
            ],
            [
             0.9,
             "#4d9221"
            ],
            [
             1,
             "#276419"
            ]
           ],
           "sequential": [
            [
             0,
             "#0d0887"
            ],
            [
             0.1111111111111111,
             "#46039f"
            ],
            [
             0.2222222222222222,
             "#7201a8"
            ],
            [
             0.3333333333333333,
             "#9c179e"
            ],
            [
             0.4444444444444444,
             "#bd3786"
            ],
            [
             0.5555555555555556,
             "#d8576b"
            ],
            [
             0.6666666666666666,
             "#ed7953"
            ],
            [
             0.7777777777777778,
             "#fb9f3a"
            ],
            [
             0.8888888888888888,
             "#fdca26"
            ],
            [
             1,
             "#f0f921"
            ]
           ],
           "sequentialminus": [
            [
             0,
             "#0d0887"
            ],
            [
             0.1111111111111111,
             "#46039f"
            ],
            [
             0.2222222222222222,
             "#7201a8"
            ],
            [
             0.3333333333333333,
             "#9c179e"
            ],
            [
             0.4444444444444444,
             "#bd3786"
            ],
            [
             0.5555555555555556,
             "#d8576b"
            ],
            [
             0.6666666666666666,
             "#ed7953"
            ],
            [
             0.7777777777777778,
             "#fb9f3a"
            ],
            [
             0.8888888888888888,
             "#fdca26"
            ],
            [
             1,
             "#f0f921"
            ]
           ]
          },
          "colorway": [
           "#636efa",
           "#EF553B",
           "#00cc96",
           "#ab63fa",
           "#FFA15A",
           "#19d3f3",
           "#FF6692",
           "#B6E880",
           "#FF97FF",
           "#FECB52"
          ],
          "font": {
           "color": "#2a3f5f"
          },
          "geo": {
           "bgcolor": "white",
           "lakecolor": "white",
           "landcolor": "#E5ECF6",
           "showlakes": true,
           "showland": true,
           "subunitcolor": "white"
          },
          "hoverlabel": {
           "align": "left"
          },
          "hovermode": "closest",
          "mapbox": {
           "style": "light"
          },
          "paper_bgcolor": "white",
          "plot_bgcolor": "#E5ECF6",
          "polar": {
           "angularaxis": {
            "gridcolor": "white",
            "linecolor": "white",
            "ticks": ""
           },
           "bgcolor": "#E5ECF6",
           "radialaxis": {
            "gridcolor": "white",
            "linecolor": "white",
            "ticks": ""
           }
          },
          "scene": {
           "xaxis": {
            "backgroundcolor": "#E5ECF6",
            "gridcolor": "white",
            "gridwidth": 2,
            "linecolor": "white",
            "showbackground": true,
            "ticks": "",
            "zerolinecolor": "white"
           },
           "yaxis": {
            "backgroundcolor": "#E5ECF6",
            "gridcolor": "white",
            "gridwidth": 2,
            "linecolor": "white",
            "showbackground": true,
            "ticks": "",
            "zerolinecolor": "white"
           },
           "zaxis": {
            "backgroundcolor": "#E5ECF6",
            "gridcolor": "white",
            "gridwidth": 2,
            "linecolor": "white",
            "showbackground": true,
            "ticks": "",
            "zerolinecolor": "white"
           }
          },
          "shapedefaults": {
           "line": {
            "color": "#2a3f5f"
           }
          },
          "ternary": {
           "aaxis": {
            "gridcolor": "white",
            "linecolor": "white",
            "ticks": ""
           },
           "baxis": {
            "gridcolor": "white",
            "linecolor": "white",
            "ticks": ""
           },
           "bgcolor": "#E5ECF6",
           "caxis": {
            "gridcolor": "white",
            "linecolor": "white",
            "ticks": ""
           }
          },
          "title": {
           "x": 0.05
          },
          "xaxis": {
           "automargin": true,
           "gridcolor": "white",
           "linecolor": "white",
           "ticks": "",
           "title": {
            "standoff": 15
           },
           "zerolinecolor": "white",
           "zerolinewidth": 2
          },
          "yaxis": {
           "automargin": true,
           "gridcolor": "white",
           "linecolor": "white",
           "ticks": "",
           "title": {
            "standoff": 15
           },
           "zerolinecolor": "white",
           "zerolinewidth": 2
          }
         }
        },
        "title": {
         "text": "Nouns Cash Flows (ETH)"
        },
        "xaxis": {
         "anchor": "y",
         "domain": [
          0,
          1
         ],
         "title": {
          "text": "datetime"
         }
        },
        "yaxis": {
         "anchor": "x",
         "domain": [
          0,
          1
         ],
         "tickformat": "Ξ",
         "title": {
          "text": "value"
         }
        }
       }
      },
      "text/html": [
       "<div>                            <div id=\"4ca93416-10e2-4dbf-8d84-6e37b81d3f8d\" class=\"plotly-graph-div\" style=\"height:500px; width:100%;\"></div>            <script type=\"text/javascript\">                require([\"plotly\"], function(Plotly) {                    window.PLOTLYENV=window.PLOTLYENV || {};                                    if (document.getElementById(\"4ca93416-10e2-4dbf-8d84-6e37b81d3f8d\")) {                    Plotly.newPlot(                        \"4ca93416-10e2-4dbf-8d84-6e37b81d3f8d\",                        [{\"alignmentgroup\":\"True\",\"legendgroup\":\"revenue\",\"marker\":{\"color\":\"#636efa\",\"pattern\":{\"shape\":\"\"}},\"name\":\"revenue\",\"offsetgroup\":\"revenue\",\"orientation\":\"v\",\"showlegend\":true,\"textposition\":\"auto\",\"x\":[\"2021-08-31T00:00:00\",\"2021-09-30T00:00:00\",\"2021-10-31T00:00:00\",\"2021-11-30T00:00:00\",\"2021-12-31T00:00:00\",\"2022-01-31T00:00:00\",\"2022-02-28T00:00:00\",\"2022-03-31T00:00:00\",\"2022-04-30T00:00:00\",\"2022-05-31T00:00:00\",\"2022-06-30T00:00:00\",\"2022-07-31T00:00:00\",\"2022-08-31T00:00:00\"],\"xaxis\":\"x\",\"y\":[3485.6022,4487.807,6067.47,2428.2,1443.216,2274.05,2287.63,1918.8645,2035.12,2884.0176,3494.988978716281,3975.841782,2053.3935],\"yaxis\":\"y\",\"type\":\"bar\"},{\"alignmentgroup\":\"True\",\"legendgroup\":\"expense\",\"marker\":{\"color\":\"#EF553B\",\"pattern\":{\"shape\":\"\"}},\"name\":\"expense\",\"offsetgroup\":\"expense\",\"orientation\":\"v\",\"showlegend\":true,\"textposition\":\"auto\",\"x\":[\"2021-08-31T00:00:00\",\"2021-09-30T00:00:00\",\"2021-10-31T00:00:00\",\"2021-11-30T00:00:00\",\"2021-12-31T00:00:00\",\"2022-01-31T00:00:00\",\"2022-02-28T00:00:00\",\"2022-03-31T00:00:00\",\"2022-04-30T00:00:00\",\"2022-05-31T00:00:00\",\"2022-06-30T00:00:00\",\"2022-07-31T00:00:00\",\"2022-08-31T00:00:00\"],\"xaxis\":\"x\",\"y\":[30.0,243.0,116.13600000000278,139.21,1707.15,1639.2,701.62414,479.14414,2529.2114,1228.3300000000002,806.19,4177.3442,1023.0],\"yaxis\":\"y\",\"type\":\"bar\"}],                        {\"template\":{\"data\":{\"histogram2dcontour\":[{\"type\":\"histogram2dcontour\",\"colorbar\":{\"outlinewidth\":0,\"ticks\":\"\"},\"colorscale\":[[0.0,\"#0d0887\"],[0.1111111111111111,\"#46039f\"],[0.2222222222222222,\"#7201a8\"],[0.3333333333333333,\"#9c179e\"],[0.4444444444444444,\"#bd3786\"],[0.5555555555555556,\"#d8576b\"],[0.6666666666666666,\"#ed7953\"],[0.7777777777777778,\"#fb9f3a\"],[0.8888888888888888,\"#fdca26\"],[1.0,\"#f0f921\"]]}],\"choropleth\":[{\"type\":\"choropleth\",\"colorbar\":{\"outlinewidth\":0,\"ticks\":\"\"}}],\"histogram2d\":[{\"type\":\"histogram2d\",\"colorbar\":{\"outlinewidth\":0,\"ticks\":\"\"},\"colorscale\":[[0.0,\"#0d0887\"],[0.1111111111111111,\"#46039f\"],[0.2222222222222222,\"#7201a8\"],[0.3333333333333333,\"#9c179e\"],[0.4444444444444444,\"#bd3786\"],[0.5555555555555556,\"#d8576b\"],[0.6666666666666666,\"#ed7953\"],[0.7777777777777778,\"#fb9f3a\"],[0.8888888888888888,\"#fdca26\"],[1.0,\"#f0f921\"]]}],\"heatmap\":[{\"type\":\"heatmap\",\"colorbar\":{\"outlinewidth\":0,\"ticks\":\"\"},\"colorscale\":[[0.0,\"#0d0887\"],[0.1111111111111111,\"#46039f\"],[0.2222222222222222,\"#7201a8\"],[0.3333333333333333,\"#9c179e\"],[0.4444444444444444,\"#bd3786\"],[0.5555555555555556,\"#d8576b\"],[0.6666666666666666,\"#ed7953\"],[0.7777777777777778,\"#fb9f3a\"],[0.8888888888888888,\"#fdca26\"],[1.0,\"#f0f921\"]]}],\"heatmapgl\":[{\"type\":\"heatmapgl\",\"colorbar\":{\"outlinewidth\":0,\"ticks\":\"\"},\"colorscale\":[[0.0,\"#0d0887\"],[0.1111111111111111,\"#46039f\"],[0.2222222222222222,\"#7201a8\"],[0.3333333333333333,\"#9c179e\"],[0.4444444444444444,\"#bd3786\"],[0.5555555555555556,\"#d8576b\"],[0.6666666666666666,\"#ed7953\"],[0.7777777777777778,\"#fb9f3a\"],[0.8888888888888888,\"#fdca26\"],[1.0,\"#f0f921\"]]}],\"contourcarpet\":[{\"type\":\"contourcarpet\",\"colorbar\":{\"outlinewidth\":0,\"ticks\":\"\"}}],\"contour\":[{\"type\":\"contour\",\"colorbar\":{\"outlinewidth\":0,\"ticks\":\"\"},\"colorscale\":[[0.0,\"#0d0887\"],[0.1111111111111111,\"#46039f\"],[0.2222222222222222,\"#7201a8\"],[0.3333333333333333,\"#9c179e\"],[0.4444444444444444,\"#bd3786\"],[0.5555555555555556,\"#d8576b\"],[0.6666666666666666,\"#ed7953\"],[0.7777777777777778,\"#fb9f3a\"],[0.8888888888888888,\"#fdca26\"],[1.0,\"#f0f921\"]]}],\"surface\":[{\"type\":\"surface\",\"colorbar\":{\"outlinewidth\":0,\"ticks\":\"\"},\"colorscale\":[[0.0,\"#0d0887\"],[0.1111111111111111,\"#46039f\"],[0.2222222222222222,\"#7201a8\"],[0.3333333333333333,\"#9c179e\"],[0.4444444444444444,\"#bd3786\"],[0.5555555555555556,\"#d8576b\"],[0.6666666666666666,\"#ed7953\"],[0.7777777777777778,\"#fb9f3a\"],[0.8888888888888888,\"#fdca26\"],[1.0,\"#f0f921\"]]}],\"mesh3d\":[{\"type\":\"mesh3d\",\"colorbar\":{\"outlinewidth\":0,\"ticks\":\"\"}}],\"scatter\":[{\"fillpattern\":{\"fillmode\":\"overlay\",\"size\":10,\"solidity\":0.2},\"type\":\"scatter\"}],\"parcoords\":[{\"type\":\"parcoords\",\"line\":{\"colorbar\":{\"outlinewidth\":0,\"ticks\":\"\"}}}],\"scatterpolargl\":[{\"type\":\"scatterpolargl\",\"marker\":{\"colorbar\":{\"outlinewidth\":0,\"ticks\":\"\"}}}],\"bar\":[{\"error_x\":{\"color\":\"#2a3f5f\"},\"error_y\":{\"color\":\"#2a3f5f\"},\"marker\":{\"line\":{\"color\":\"#E5ECF6\",\"width\":0.5},\"pattern\":{\"fillmode\":\"overlay\",\"size\":10,\"solidity\":0.2}},\"type\":\"bar\"}],\"scattergeo\":[{\"type\":\"scattergeo\",\"marker\":{\"colorbar\":{\"outlinewidth\":0,\"ticks\":\"\"}}}],\"scatterpolar\":[{\"type\":\"scatterpolar\",\"marker\":{\"colorbar\":{\"outlinewidth\":0,\"ticks\":\"\"}}}],\"histogram\":[{\"marker\":{\"pattern\":{\"fillmode\":\"overlay\",\"size\":10,\"solidity\":0.2}},\"type\":\"histogram\"}],\"scattergl\":[{\"type\":\"scattergl\",\"marker\":{\"colorbar\":{\"outlinewidth\":0,\"ticks\":\"\"}}}],\"scatter3d\":[{\"type\":\"scatter3d\",\"line\":{\"colorbar\":{\"outlinewidth\":0,\"ticks\":\"\"}},\"marker\":{\"colorbar\":{\"outlinewidth\":0,\"ticks\":\"\"}}}],\"scattermapbox\":[{\"type\":\"scattermapbox\",\"marker\":{\"colorbar\":{\"outlinewidth\":0,\"ticks\":\"\"}}}],\"scatterternary\":[{\"type\":\"scatterternary\",\"marker\":{\"colorbar\":{\"outlinewidth\":0,\"ticks\":\"\"}}}],\"scattercarpet\":[{\"type\":\"scattercarpet\",\"marker\":{\"colorbar\":{\"outlinewidth\":0,\"ticks\":\"\"}}}],\"carpet\":[{\"aaxis\":{\"endlinecolor\":\"#2a3f5f\",\"gridcolor\":\"white\",\"linecolor\":\"white\",\"minorgridcolor\":\"white\",\"startlinecolor\":\"#2a3f5f\"},\"baxis\":{\"endlinecolor\":\"#2a3f5f\",\"gridcolor\":\"white\",\"linecolor\":\"white\",\"minorgridcolor\":\"white\",\"startlinecolor\":\"#2a3f5f\"},\"type\":\"carpet\"}],\"table\":[{\"cells\":{\"fill\":{\"color\":\"#EBF0F8\"},\"line\":{\"color\":\"white\"}},\"header\":{\"fill\":{\"color\":\"#C8D4E3\"},\"line\":{\"color\":\"white\"}},\"type\":\"table\"}],\"barpolar\":[{\"marker\":{\"line\":{\"color\":\"#E5ECF6\",\"width\":0.5},\"pattern\":{\"fillmode\":\"overlay\",\"size\":10,\"solidity\":0.2}},\"type\":\"barpolar\"}],\"pie\":[{\"automargin\":true,\"type\":\"pie\"}]},\"layout\":{\"autotypenumbers\":\"strict\",\"colorway\":[\"#636efa\",\"#EF553B\",\"#00cc96\",\"#ab63fa\",\"#FFA15A\",\"#19d3f3\",\"#FF6692\",\"#B6E880\",\"#FF97FF\",\"#FECB52\"],\"font\":{\"color\":\"#2a3f5f\"},\"hovermode\":\"closest\",\"hoverlabel\":{\"align\":\"left\"},\"paper_bgcolor\":\"white\",\"plot_bgcolor\":\"#E5ECF6\",\"polar\":{\"bgcolor\":\"#E5ECF6\",\"angularaxis\":{\"gridcolor\":\"white\",\"linecolor\":\"white\",\"ticks\":\"\"},\"radialaxis\":{\"gridcolor\":\"white\",\"linecolor\":\"white\",\"ticks\":\"\"}},\"ternary\":{\"bgcolor\":\"#E5ECF6\",\"aaxis\":{\"gridcolor\":\"white\",\"linecolor\":\"white\",\"ticks\":\"\"},\"baxis\":{\"gridcolor\":\"white\",\"linecolor\":\"white\",\"ticks\":\"\"},\"caxis\":{\"gridcolor\":\"white\",\"linecolor\":\"white\",\"ticks\":\"\"}},\"coloraxis\":{\"colorbar\":{\"outlinewidth\":0,\"ticks\":\"\"}},\"colorscale\":{\"sequential\":[[0.0,\"#0d0887\"],[0.1111111111111111,\"#46039f\"],[0.2222222222222222,\"#7201a8\"],[0.3333333333333333,\"#9c179e\"],[0.4444444444444444,\"#bd3786\"],[0.5555555555555556,\"#d8576b\"],[0.6666666666666666,\"#ed7953\"],[0.7777777777777778,\"#fb9f3a\"],[0.8888888888888888,\"#fdca26\"],[1.0,\"#f0f921\"]],\"sequentialminus\":[[0.0,\"#0d0887\"],[0.1111111111111111,\"#46039f\"],[0.2222222222222222,\"#7201a8\"],[0.3333333333333333,\"#9c179e\"],[0.4444444444444444,\"#bd3786\"],[0.5555555555555556,\"#d8576b\"],[0.6666666666666666,\"#ed7953\"],[0.7777777777777778,\"#fb9f3a\"],[0.8888888888888888,\"#fdca26\"],[1.0,\"#f0f921\"]],\"diverging\":[[0,\"#8e0152\"],[0.1,\"#c51b7d\"],[0.2,\"#de77ae\"],[0.3,\"#f1b6da\"],[0.4,\"#fde0ef\"],[0.5,\"#f7f7f7\"],[0.6,\"#e6f5d0\"],[0.7,\"#b8e186\"],[0.8,\"#7fbc41\"],[0.9,\"#4d9221\"],[1,\"#276419\"]]},\"xaxis\":{\"gridcolor\":\"white\",\"linecolor\":\"white\",\"ticks\":\"\",\"title\":{\"standoff\":15},\"zerolinecolor\":\"white\",\"automargin\":true,\"zerolinewidth\":2},\"yaxis\":{\"gridcolor\":\"white\",\"linecolor\":\"white\",\"ticks\":\"\",\"title\":{\"standoff\":15},\"zerolinecolor\":\"white\",\"automargin\":true,\"zerolinewidth\":2},\"scene\":{\"xaxis\":{\"backgroundcolor\":\"#E5ECF6\",\"gridcolor\":\"white\",\"linecolor\":\"white\",\"showbackground\":true,\"ticks\":\"\",\"zerolinecolor\":\"white\",\"gridwidth\":2},\"yaxis\":{\"backgroundcolor\":\"#E5ECF6\",\"gridcolor\":\"white\",\"linecolor\":\"white\",\"showbackground\":true,\"ticks\":\"\",\"zerolinecolor\":\"white\",\"gridwidth\":2},\"zaxis\":{\"backgroundcolor\":\"#E5ECF6\",\"gridcolor\":\"white\",\"linecolor\":\"white\",\"showbackground\":true,\"ticks\":\"\",\"zerolinecolor\":\"white\",\"gridwidth\":2}},\"shapedefaults\":{\"line\":{\"color\":\"#2a3f5f\"}},\"annotationdefaults\":{\"arrowcolor\":\"#2a3f5f\",\"arrowhead\":0,\"arrowwidth\":1},\"geo\":{\"bgcolor\":\"white\",\"landcolor\":\"#E5ECF6\",\"subunitcolor\":\"white\",\"showland\":true,\"showlakes\":true,\"lakecolor\":\"white\"},\"title\":{\"x\":0.05},\"mapbox\":{\"style\":\"light\"}}},\"xaxis\":{\"anchor\":\"y\",\"domain\":[0.0,1.0],\"title\":{\"text\":\"datetime\"}},\"yaxis\":{\"anchor\":\"x\",\"domain\":[0.0,1.0],\"title\":{\"text\":\"value\"},\"tickformat\":\"Ξ\"},\"legend\":{\"title\":{\"text\":\"variable\"},\"tracegroupgap\":0},\"title\":{\"text\":\"Nouns Cash Flows (ETH)\"},\"barmode\":\"relative\",\"height\":500,\"hovermode\":\"x\"},                        {\"responsive\": true}                    ).then(function(){\n",
       "                            \n",
       "var gd = document.getElementById('4ca93416-10e2-4dbf-8d84-6e37b81d3f8d');\n",
       "var x = new MutationObserver(function (mutations, observer) {{\n",
       "        var display = window.getComputedStyle(gd).display;\n",
       "        if (!display || display === 'none') {{\n",
       "            console.log([gd, 'removed!']);\n",
       "            Plotly.purge(gd);\n",
       "            observer.disconnect();\n",
       "        }}\n",
       "}});\n",
       "\n",
       "// Listen for the removal of the full notebook cells\n",
       "var notebookContainer = gd.closest('#notebook-container');\n",
       "if (notebookContainer) {{\n",
       "    x.observe(notebookContainer, {childList: true});\n",
       "}}\n",
       "\n",
       "// Listen for the clearing of the current output cell\n",
       "var outputEl = gd.closest('.output');\n",
       "if (outputEl) {{\n",
       "    x.observe(outputEl, {childList: true});\n",
       "}}\n",
       "\n",
       "                        })                };                });            </script>        </div>"
      ]
     },
     "metadata": {},
     "output_type": "display_data"
    }
   ],
   "source": [
    "# Graphing the data\n",
    "fig = px.bar(df_internal_sampled, x = df_internal_sampled.index, y=['revenue', 'expense'],\n",
    "    height=500, title = \"Nouns Cash Flows (ETH)\")\n",
    "fig.update_traces(hovertemplate=None)\n",
    "fig.update_layout(hovermode=\"x\", yaxis= {\"tickformat\": 'Ξ' })\n",
    "fig.show() "
   ]
  },
  {
   "cell_type": "code",
   "execution_count": null,
   "id": "c80bf17e",
   "metadata": {},
   "outputs": [],
   "source": []
  },
  {
   "cell_type": "code",
   "execution_count": null,
   "id": "109558bd",
   "metadata": {},
   "outputs": [],
   "source": []
  },
  {
   "cell_type": "code",
   "execution_count": 54,
   "id": "da532ee0",
   "metadata": {},
   "outputs": [],
   "source": [
    "def fetch_balances(treasury):\n",
    "    q = {\n",
    "        \"query\": {\n",
    "            \"bool\": {\n",
    "                \"must\": [\n",
    "                    {\n",
    "                        \"term\": {\n",
    "                            \"address.raw\": treasury\n",
    "                        }\n",
    "                    }\n",
    "                ]\n",
    "            }\n",
    "        },\n",
    "        \"sort\": [\n",
    "            {\n",
    "                \"blockNumber.num\": \"asc\"\n",
    "            }\n",
    "        ],\n",
    "        \"size\": 1000\n",
    "    }\n",
    "    \n",
    "    s = Search(using=es, index=\"balance\") \\\n",
    "        .update_from_dict(q)\n",
    "    data = []\n",
    "    for hit in s.scan():\n",
    "        data.append({\n",
    "            \"timestamp\": pd.to_datetime(safeget(hit, 'timestamp'), unit='s'),\n",
    "            \"block_number\": safeget(hit, 'blockNumber', 'num'),\n",
    "            \"balance\": safeget(hit, 'balance', 'eth')\n",
    "        })\n",
    "    \n",
    "    \n",
    "    df = pd.DataFrame(data)\n",
    "    df = df.sort_values('timestamp', ascending=True).reset_index(drop=True)\n",
    "    return df"
   ]
  },
  {
   "cell_type": "code",
   "execution_count": 66,
   "id": "79f1fef0",
   "metadata": {},
   "outputs": [],
   "source": [
    "df_balances_nouns = fetch_balances(nouns_treasury)"
   ]
  },
  {
   "cell_type": "code",
   "execution_count": 158,
   "id": "f4906f4d",
   "metadata": {},
   "outputs": [],
   "source": [
    "df_balances_nouns.index = df_balances_nouns['timestamp']\n",
    "df_balances_nouns = df_balances_nouns.resample('M').max()"
   ]
  },
  {
   "cell_type": "code",
   "execution_count": 68,
   "id": "7d7f540c",
   "metadata": {},
   "outputs": [
    {
     "data": {
      "text/html": [
       "<div>\n",
       "<style scoped>\n",
       "    .dataframe tbody tr th:only-of-type {\n",
       "        vertical-align: middle;\n",
       "    }\n",
       "\n",
       "    .dataframe tbody tr th {\n",
       "        vertical-align: top;\n",
       "    }\n",
       "\n",
       "    .dataframe thead th {\n",
       "        text-align: right;\n",
       "    }\n",
       "</style>\n",
       "<table border=\"1\" class=\"dataframe\">\n",
       "  <thead>\n",
       "    <tr style=\"text-align: right;\">\n",
       "      <th></th>\n",
       "      <th>timestamp</th>\n",
       "      <th>block_number</th>\n",
       "      <th>balance</th>\n",
       "    </tr>\n",
       "    <tr>\n",
       "      <th>timestamp</th>\n",
       "      <th></th>\n",
       "      <th></th>\n",
       "      <th></th>\n",
       "    </tr>\n",
       "  </thead>\n",
       "  <tbody>\n",
       "    <tr>\n",
       "      <th>2021-08-08</th>\n",
       "      <td>2021-08-08 16:04:46</td>\n",
       "      <td>12985452.0</td>\n",
       "      <td>0.000000</td>\n",
       "    </tr>\n",
       "    <tr>\n",
       "      <th>2021-08-09</th>\n",
       "      <td>2021-08-09 17:47:08</td>\n",
       "      <td>12992388.0</td>\n",
       "      <td>613.370000</td>\n",
       "    </tr>\n",
       "    <tr>\n",
       "      <th>2021-08-10</th>\n",
       "      <td>2021-08-10 17:48:10</td>\n",
       "      <td>12998889.0</td>\n",
       "      <td>683.060000</td>\n",
       "    </tr>\n",
       "    <tr>\n",
       "      <th>2021-08-11</th>\n",
       "      <td>2021-08-11 18:05:30</td>\n",
       "      <td>13005388.0</td>\n",
       "      <td>719.750000</td>\n",
       "    </tr>\n",
       "    <tr>\n",
       "      <th>2021-08-12</th>\n",
       "      <td>2021-08-12 18:14:50</td>\n",
       "      <td>13011907.0</td>\n",
       "      <td>764.750000</td>\n",
       "    </tr>\n",
       "    <tr>\n",
       "      <th>...</th>\n",
       "      <td>...</td>\n",
       "      <td>...</td>\n",
       "      <td>...</td>\n",
       "    </tr>\n",
       "    <tr>\n",
       "      <th>2022-08-16</th>\n",
       "      <td>2022-08-16 21:53:46</td>\n",
       "      <td>15354868.0</td>\n",
       "      <td>22588.734181</td>\n",
       "    </tr>\n",
       "    <tr>\n",
       "      <th>2022-08-17</th>\n",
       "      <td>2022-08-17 19:28:02</td>\n",
       "      <td>15360556.0</td>\n",
       "      <td>22665.049181</td>\n",
       "    </tr>\n",
       "    <tr>\n",
       "      <th>2022-08-18</th>\n",
       "      <td>2022-08-18 22:03:21</td>\n",
       "      <td>15367524.0</td>\n",
       "      <td>22441.789181</td>\n",
       "    </tr>\n",
       "    <tr>\n",
       "      <th>2022-08-19</th>\n",
       "      <td>2022-08-19 22:32:38</td>\n",
       "      <td>15373929.0</td>\n",
       "      <td>22478.546681</td>\n",
       "    </tr>\n",
       "    <tr>\n",
       "      <th>2022-08-20</th>\n",
       "      <td>2022-08-20 23:11:23</td>\n",
       "      <td>15380435.0</td>\n",
       "      <td>22539.811681</td>\n",
       "    </tr>\n",
       "  </tbody>\n",
       "</table>\n",
       "<p>378 rows × 3 columns</p>\n",
       "</div>"
      ],
      "text/plain": [
       "                     timestamp  block_number       balance\n",
       "timestamp                                                 \n",
       "2021-08-08 2021-08-08 16:04:46    12985452.0      0.000000\n",
       "2021-08-09 2021-08-09 17:47:08    12992388.0    613.370000\n",
       "2021-08-10 2021-08-10 17:48:10    12998889.0    683.060000\n",
       "2021-08-11 2021-08-11 18:05:30    13005388.0    719.750000\n",
       "2021-08-12 2021-08-12 18:14:50    13011907.0    764.750000\n",
       "...                        ...           ...           ...\n",
       "2022-08-16 2022-08-16 21:53:46    15354868.0  22588.734181\n",
       "2022-08-17 2022-08-17 19:28:02    15360556.0  22665.049181\n",
       "2022-08-18 2022-08-18 22:03:21    15367524.0  22441.789181\n",
       "2022-08-19 2022-08-19 22:32:38    15373929.0  22478.546681\n",
       "2022-08-20 2022-08-20 23:11:23    15380435.0  22539.811681\n",
       "\n",
       "[378 rows x 3 columns]"
      ]
     },
     "execution_count": 68,
     "metadata": {},
     "output_type": "execute_result"
    }
   ],
   "source": [
    "df_balances_nouns"
   ]
  },
  {
   "cell_type": "code",
   "execution_count": 161,
   "id": "048a6ba9",
   "metadata": {},
   "outputs": [],
   "source": [
    "df_nouns = pd.merge(df_balances_nouns[['balance']], df_internal_sampled[['revenue', 'expense']], left_index = True, right_index=True)"
   ]
  },
  {
   "cell_type": "code",
   "execution_count": 206,
   "id": "c42dff74",
   "metadata": {},
   "outputs": [],
   "source": [
    "# Create some faux debt\n",
    "df_nouns['Equity'] = df_nouns['balance']\n",
    "df_nouns['equity_diff'] = df_nouns['Equity'].diff()\n",
    "df_nouns['debt_diff'] = df_nouns['equity_diff'].apply(lambda x: x * .8 * np.random.rand())\n",
    "df_nouns['Debt'] = df_nouns['debt_diff'].cumsum()\n",
    "df_nouns.iloc[0,4] = 0\n",
    "df_nouns['Total value'] = df_nouns['Equity'] + df_nouns['Debt']\n",
    "df_nouns['Debt/Equity ratio'] = df_nouns['Debt'] / df_nouns['Equity']"
   ]
  },
  {
   "cell_type": "code",
   "execution_count": 207,
   "id": "c49d5378",
   "metadata": {},
   "outputs": [
    {
     "data": {
      "text/html": [
       "<div>\n",
       "<style scoped>\n",
       "    .dataframe tbody tr th:only-of-type {\n",
       "        vertical-align: middle;\n",
       "    }\n",
       "\n",
       "    .dataframe tbody tr th {\n",
       "        vertical-align: top;\n",
       "    }\n",
       "\n",
       "    .dataframe thead th {\n",
       "        text-align: right;\n",
       "    }\n",
       "</style>\n",
       "<table border=\"1\" class=\"dataframe\">\n",
       "  <thead>\n",
       "    <tr style=\"text-align: right;\">\n",
       "      <th></th>\n",
       "      <th>balance</th>\n",
       "      <th>revenue</th>\n",
       "      <th>expense</th>\n",
       "      <th>Equity</th>\n",
       "      <th>equity_diff</th>\n",
       "      <th>debt_diff</th>\n",
       "      <th>Debt</th>\n",
       "      <th>Total value</th>\n",
       "      <th>Debt/Equity ratio</th>\n",
       "    </tr>\n",
       "    <tr>\n",
       "      <th>timestamp</th>\n",
       "      <th></th>\n",
       "      <th></th>\n",
       "      <th></th>\n",
       "      <th></th>\n",
       "      <th></th>\n",
       "      <th></th>\n",
       "      <th></th>\n",
       "      <th></th>\n",
       "      <th></th>\n",
       "    </tr>\n",
       "  </thead>\n",
       "  <tbody>\n",
       "    <tr>\n",
       "      <th>2021-08-31</th>\n",
       "      <td>3455.602200</td>\n",
       "      <td>3485.602200</td>\n",
       "      <td>30.00000</td>\n",
       "      <td>3455.602200</td>\n",
       "      <td>0.000000</td>\n",
       "      <td>NaN</td>\n",
       "      <td>NaN</td>\n",
       "      <td>NaN</td>\n",
       "      <td>NaN</td>\n",
       "    </tr>\n",
       "    <tr>\n",
       "      <th>2021-09-30</th>\n",
       "      <td>7700.409200</td>\n",
       "      <td>4487.807000</td>\n",
       "      <td>243.00000</td>\n",
       "      <td>7700.409200</td>\n",
       "      <td>4244.807000</td>\n",
       "      <td>1958.436770</td>\n",
       "      <td>1958.436770</td>\n",
       "      <td>9658.845970</td>\n",
       "      <td>0.254329</td>\n",
       "    </tr>\n",
       "    <tr>\n",
       "      <th>2021-10-31</th>\n",
       "      <td>13291.743200</td>\n",
       "      <td>6067.470000</td>\n",
       "      <td>116.13600</td>\n",
       "      <td>13291.743200</td>\n",
       "      <td>5591.334000</td>\n",
       "      <td>2078.263364</td>\n",
       "      <td>4036.700135</td>\n",
       "      <td>17328.443335</td>\n",
       "      <td>0.303700</td>\n",
       "    </tr>\n",
       "    <tr>\n",
       "      <th>2021-11-30</th>\n",
       "      <td>15608.733200</td>\n",
       "      <td>2428.200000</td>\n",
       "      <td>139.21000</td>\n",
       "      <td>15608.733200</td>\n",
       "      <td>2316.990000</td>\n",
       "      <td>1849.754918</td>\n",
       "      <td>5886.455052</td>\n",
       "      <td>21495.188252</td>\n",
       "      <td>0.377126</td>\n",
       "    </tr>\n",
       "    <tr>\n",
       "      <th>2021-12-31</th>\n",
       "      <td>15734.753200</td>\n",
       "      <td>1443.216000</td>\n",
       "      <td>1707.15000</td>\n",
       "      <td>15734.753200</td>\n",
       "      <td>126.020000</td>\n",
       "      <td>18.181927</td>\n",
       "      <td>5904.636979</td>\n",
       "      <td>21639.390179</td>\n",
       "      <td>0.375261</td>\n",
       "    </tr>\n",
       "    <tr>\n",
       "      <th>2022-01-31</th>\n",
       "      <td>15909.919200</td>\n",
       "      <td>2274.050000</td>\n",
       "      <td>1639.20000</td>\n",
       "      <td>15909.919200</td>\n",
       "      <td>175.166000</td>\n",
       "      <td>62.263061</td>\n",
       "      <td>5966.900040</td>\n",
       "      <td>21876.819240</td>\n",
       "      <td>0.375043</td>\n",
       "    </tr>\n",
       "    <tr>\n",
       "      <th>2022-02-28</th>\n",
       "      <td>17796.905060</td>\n",
       "      <td>2287.630000</td>\n",
       "      <td>701.62414</td>\n",
       "      <td>17796.905060</td>\n",
       "      <td>1886.985860</td>\n",
       "      <td>1090.003034</td>\n",
       "      <td>7056.903075</td>\n",
       "      <td>24853.808135</td>\n",
       "      <td>0.396524</td>\n",
       "    </tr>\n",
       "    <tr>\n",
       "      <th>2022-03-31</th>\n",
       "      <td>18998.169560</td>\n",
       "      <td>1918.864500</td>\n",
       "      <td>479.14414</td>\n",
       "      <td>18998.169560</td>\n",
       "      <td>1201.264500</td>\n",
       "      <td>803.891485</td>\n",
       "      <td>7860.794560</td>\n",
       "      <td>26858.964120</td>\n",
       "      <td>0.413766</td>\n",
       "    </tr>\n",
       "    <tr>\n",
       "      <th>2022-04-30</th>\n",
       "      <td>19732.635420</td>\n",
       "      <td>2035.120000</td>\n",
       "      <td>2529.21140</td>\n",
       "      <td>19732.635420</td>\n",
       "      <td>734.465860</td>\n",
       "      <td>140.429867</td>\n",
       "      <td>8001.224427</td>\n",
       "      <td>27733.859847</td>\n",
       "      <td>0.405482</td>\n",
       "    </tr>\n",
       "    <tr>\n",
       "      <th>2022-05-31</th>\n",
       "      <td>20097.241620</td>\n",
       "      <td>2884.017600</td>\n",
       "      <td>1228.33000</td>\n",
       "      <td>20097.241620</td>\n",
       "      <td>364.606200</td>\n",
       "      <td>167.587456</td>\n",
       "      <td>8168.811883</td>\n",
       "      <td>28266.053503</td>\n",
       "      <td>0.406464</td>\n",
       "    </tr>\n",
       "    <tr>\n",
       "      <th>2022-06-30</th>\n",
       "      <td>22686.040599</td>\n",
       "      <td>3494.988979</td>\n",
       "      <td>806.19000</td>\n",
       "      <td>22686.040599</td>\n",
       "      <td>2588.798979</td>\n",
       "      <td>1338.500391</td>\n",
       "      <td>9507.312274</td>\n",
       "      <td>32193.352872</td>\n",
       "      <td>0.419082</td>\n",
       "    </tr>\n",
       "    <tr>\n",
       "      <th>2022-07-31</th>\n",
       "      <td>23368.800599</td>\n",
       "      <td>3975.841782</td>\n",
       "      <td>4177.34420</td>\n",
       "      <td>23368.800599</td>\n",
       "      <td>682.760000</td>\n",
       "      <td>264.852249</td>\n",
       "      <td>9772.164522</td>\n",
       "      <td>33140.965121</td>\n",
       "      <td>0.418171</td>\n",
       "    </tr>\n",
       "    <tr>\n",
       "      <th>2022-08-31</th>\n",
       "      <td>22665.049181</td>\n",
       "      <td>2053.393500</td>\n",
       "      <td>1023.00000</td>\n",
       "      <td>22665.049181</td>\n",
       "      <td>-703.751418</td>\n",
       "      <td>-329.497659</td>\n",
       "      <td>9442.666863</td>\n",
       "      <td>32107.716044</td>\n",
       "      <td>0.416618</td>\n",
       "    </tr>\n",
       "  </tbody>\n",
       "</table>\n",
       "</div>"
      ],
      "text/plain": [
       "                 balance      revenue     expense        Equity  equity_diff  \\\n",
       "timestamp                                                                      \n",
       "2021-08-31   3455.602200  3485.602200    30.00000   3455.602200     0.000000   \n",
       "2021-09-30   7700.409200  4487.807000   243.00000   7700.409200  4244.807000   \n",
       "2021-10-31  13291.743200  6067.470000   116.13600  13291.743200  5591.334000   \n",
       "2021-11-30  15608.733200  2428.200000   139.21000  15608.733200  2316.990000   \n",
       "2021-12-31  15734.753200  1443.216000  1707.15000  15734.753200   126.020000   \n",
       "2022-01-31  15909.919200  2274.050000  1639.20000  15909.919200   175.166000   \n",
       "2022-02-28  17796.905060  2287.630000   701.62414  17796.905060  1886.985860   \n",
       "2022-03-31  18998.169560  1918.864500   479.14414  18998.169560  1201.264500   \n",
       "2022-04-30  19732.635420  2035.120000  2529.21140  19732.635420   734.465860   \n",
       "2022-05-31  20097.241620  2884.017600  1228.33000  20097.241620   364.606200   \n",
       "2022-06-30  22686.040599  3494.988979   806.19000  22686.040599  2588.798979   \n",
       "2022-07-31  23368.800599  3975.841782  4177.34420  23368.800599   682.760000   \n",
       "2022-08-31  22665.049181  2053.393500  1023.00000  22665.049181  -703.751418   \n",
       "\n",
       "              debt_diff         Debt   Total value  Debt/Equity ratio  \n",
       "timestamp                                                              \n",
       "2021-08-31          NaN          NaN           NaN                NaN  \n",
       "2021-09-30  1958.436770  1958.436770   9658.845970           0.254329  \n",
       "2021-10-31  2078.263364  4036.700135  17328.443335           0.303700  \n",
       "2021-11-30  1849.754918  5886.455052  21495.188252           0.377126  \n",
       "2021-12-31    18.181927  5904.636979  21639.390179           0.375261  \n",
       "2022-01-31    62.263061  5966.900040  21876.819240           0.375043  \n",
       "2022-02-28  1090.003034  7056.903075  24853.808135           0.396524  \n",
       "2022-03-31   803.891485  7860.794560  26858.964120           0.413766  \n",
       "2022-04-30   140.429867  8001.224427  27733.859847           0.405482  \n",
       "2022-05-31   167.587456  8168.811883  28266.053503           0.406464  \n",
       "2022-06-30  1338.500391  9507.312274  32193.352872           0.419082  \n",
       "2022-07-31   264.852249  9772.164522  33140.965121           0.418171  \n",
       "2022-08-31  -329.497659  9442.666863  32107.716044           0.416618  "
      ]
     },
     "execution_count": 207,
     "metadata": {},
     "output_type": "execute_result"
    }
   ],
   "source": [
    "df_nouns"
   ]
  },
  {
   "cell_type": "code",
   "execution_count": 208,
   "id": "9f9da8f3",
   "metadata": {},
   "outputs": [
    {
     "data": {
      "application/vnd.plotly.v1+json": {
       "config": {
        "plotlyServerURL": "https://plot.ly"
       },
       "data": [
        {
         "hovertemplate": "variable=Debt/Equity ratio<br>timestamp=%{x}<br>ETH=%{y}<extra></extra>",
         "legendgroup": "Debt/Equity ratio",
         "line": {
          "color": "#636efa",
          "dash": "solid"
         },
         "marker": {
          "symbol": "circle"
         },
         "mode": "lines",
         "name": "Debt/Equity ratio",
         "orientation": "v",
         "showlegend": true,
         "type": "scatter",
         "x": [
          "2021-08-31T00:00:00",
          "2021-09-30T00:00:00",
          "2021-10-31T00:00:00",
          "2021-11-30T00:00:00",
          "2021-12-31T00:00:00",
          "2022-01-31T00:00:00",
          "2022-02-28T00:00:00",
          "2022-03-31T00:00:00",
          "2022-04-30T00:00:00",
          "2022-05-31T00:00:00",
          "2022-06-30T00:00:00",
          "2022-07-31T00:00:00",
          "2022-08-31T00:00:00"
         ],
         "xaxis": "x",
         "y": [
          null,
          0.2543289219400255,
          0.30369982881923063,
          0.37712573960556023,
          0.37526085753617716,
          0.3750427620054675,
          0.3965241737661478,
          0.4137658912324655,
          0.4054817948441327,
          0.40646433164789786,
          0.41908204440842073,
          0.4181714196673109,
          0.4166179736850326
         ],
         "yaxis": "y"
        }
       ],
       "layout": {
        "height": 500,
        "hovermode": "x",
        "legend": {
         "title": {
          "text": "variable"
         },
         "tracegroupgap": 0
        },
        "template": {
         "data": {
          "bar": [
           {
            "error_x": {
             "color": "#2a3f5f"
            },
            "error_y": {
             "color": "#2a3f5f"
            },
            "marker": {
             "line": {
              "color": "#E5ECF6",
              "width": 0.5
             },
             "pattern": {
              "fillmode": "overlay",
              "size": 10,
              "solidity": 0.2
             }
            },
            "type": "bar"
           }
          ],
          "barpolar": [
           {
            "marker": {
             "line": {
              "color": "#E5ECF6",
              "width": 0.5
             },
             "pattern": {
              "fillmode": "overlay",
              "size": 10,
              "solidity": 0.2
             }
            },
            "type": "barpolar"
           }
          ],
          "carpet": [
           {
            "aaxis": {
             "endlinecolor": "#2a3f5f",
             "gridcolor": "white",
             "linecolor": "white",
             "minorgridcolor": "white",
             "startlinecolor": "#2a3f5f"
            },
            "baxis": {
             "endlinecolor": "#2a3f5f",
             "gridcolor": "white",
             "linecolor": "white",
             "minorgridcolor": "white",
             "startlinecolor": "#2a3f5f"
            },
            "type": "carpet"
           }
          ],
          "choropleth": [
           {
            "colorbar": {
             "outlinewidth": 0,
             "ticks": ""
            },
            "type": "choropleth"
           }
          ],
          "contour": [
           {
            "colorbar": {
             "outlinewidth": 0,
             "ticks": ""
            },
            "colorscale": [
             [
              0,
              "#0d0887"
             ],
             [
              0.1111111111111111,
              "#46039f"
             ],
             [
              0.2222222222222222,
              "#7201a8"
             ],
             [
              0.3333333333333333,
              "#9c179e"
             ],
             [
              0.4444444444444444,
              "#bd3786"
             ],
             [
              0.5555555555555556,
              "#d8576b"
             ],
             [
              0.6666666666666666,
              "#ed7953"
             ],
             [
              0.7777777777777778,
              "#fb9f3a"
             ],
             [
              0.8888888888888888,
              "#fdca26"
             ],
             [
              1,
              "#f0f921"
             ]
            ],
            "type": "contour"
           }
          ],
          "contourcarpet": [
           {
            "colorbar": {
             "outlinewidth": 0,
             "ticks": ""
            },
            "type": "contourcarpet"
           }
          ],
          "heatmap": [
           {
            "colorbar": {
             "outlinewidth": 0,
             "ticks": ""
            },
            "colorscale": [
             [
              0,
              "#0d0887"
             ],
             [
              0.1111111111111111,
              "#46039f"
             ],
             [
              0.2222222222222222,
              "#7201a8"
             ],
             [
              0.3333333333333333,
              "#9c179e"
             ],
             [
              0.4444444444444444,
              "#bd3786"
             ],
             [
              0.5555555555555556,
              "#d8576b"
             ],
             [
              0.6666666666666666,
              "#ed7953"
             ],
             [
              0.7777777777777778,
              "#fb9f3a"
             ],
             [
              0.8888888888888888,
              "#fdca26"
             ],
             [
              1,
              "#f0f921"
             ]
            ],
            "type": "heatmap"
           }
          ],
          "heatmapgl": [
           {
            "colorbar": {
             "outlinewidth": 0,
             "ticks": ""
            },
            "colorscale": [
             [
              0,
              "#0d0887"
             ],
             [
              0.1111111111111111,
              "#46039f"
             ],
             [
              0.2222222222222222,
              "#7201a8"
             ],
             [
              0.3333333333333333,
              "#9c179e"
             ],
             [
              0.4444444444444444,
              "#bd3786"
             ],
             [
              0.5555555555555556,
              "#d8576b"
             ],
             [
              0.6666666666666666,
              "#ed7953"
             ],
             [
              0.7777777777777778,
              "#fb9f3a"
             ],
             [
              0.8888888888888888,
              "#fdca26"
             ],
             [
              1,
              "#f0f921"
             ]
            ],
            "type": "heatmapgl"
           }
          ],
          "histogram": [
           {
            "marker": {
             "pattern": {
              "fillmode": "overlay",
              "size": 10,
              "solidity": 0.2
             }
            },
            "type": "histogram"
           }
          ],
          "histogram2d": [
           {
            "colorbar": {
             "outlinewidth": 0,
             "ticks": ""
            },
            "colorscale": [
             [
              0,
              "#0d0887"
             ],
             [
              0.1111111111111111,
              "#46039f"
             ],
             [
              0.2222222222222222,
              "#7201a8"
             ],
             [
              0.3333333333333333,
              "#9c179e"
             ],
             [
              0.4444444444444444,
              "#bd3786"
             ],
             [
              0.5555555555555556,
              "#d8576b"
             ],
             [
              0.6666666666666666,
              "#ed7953"
             ],
             [
              0.7777777777777778,
              "#fb9f3a"
             ],
             [
              0.8888888888888888,
              "#fdca26"
             ],
             [
              1,
              "#f0f921"
             ]
            ],
            "type": "histogram2d"
           }
          ],
          "histogram2dcontour": [
           {
            "colorbar": {
             "outlinewidth": 0,
             "ticks": ""
            },
            "colorscale": [
             [
              0,
              "#0d0887"
             ],
             [
              0.1111111111111111,
              "#46039f"
             ],
             [
              0.2222222222222222,
              "#7201a8"
             ],
             [
              0.3333333333333333,
              "#9c179e"
             ],
             [
              0.4444444444444444,
              "#bd3786"
             ],
             [
              0.5555555555555556,
              "#d8576b"
             ],
             [
              0.6666666666666666,
              "#ed7953"
             ],
             [
              0.7777777777777778,
              "#fb9f3a"
             ],
             [
              0.8888888888888888,
              "#fdca26"
             ],
             [
              1,
              "#f0f921"
             ]
            ],
            "type": "histogram2dcontour"
           }
          ],
          "mesh3d": [
           {
            "colorbar": {
             "outlinewidth": 0,
             "ticks": ""
            },
            "type": "mesh3d"
           }
          ],
          "parcoords": [
           {
            "line": {
             "colorbar": {
              "outlinewidth": 0,
              "ticks": ""
             }
            },
            "type": "parcoords"
           }
          ],
          "pie": [
           {
            "automargin": true,
            "type": "pie"
           }
          ],
          "scatter": [
           {
            "fillpattern": {
             "fillmode": "overlay",
             "size": 10,
             "solidity": 0.2
            },
            "type": "scatter"
           }
          ],
          "scatter3d": [
           {
            "line": {
             "colorbar": {
              "outlinewidth": 0,
              "ticks": ""
             }
            },
            "marker": {
             "colorbar": {
              "outlinewidth": 0,
              "ticks": ""
             }
            },
            "type": "scatter3d"
           }
          ],
          "scattercarpet": [
           {
            "marker": {
             "colorbar": {
              "outlinewidth": 0,
              "ticks": ""
             }
            },
            "type": "scattercarpet"
           }
          ],
          "scattergeo": [
           {
            "marker": {
             "colorbar": {
              "outlinewidth": 0,
              "ticks": ""
             }
            },
            "type": "scattergeo"
           }
          ],
          "scattergl": [
           {
            "marker": {
             "colorbar": {
              "outlinewidth": 0,
              "ticks": ""
             }
            },
            "type": "scattergl"
           }
          ],
          "scattermapbox": [
           {
            "marker": {
             "colorbar": {
              "outlinewidth": 0,
              "ticks": ""
             }
            },
            "type": "scattermapbox"
           }
          ],
          "scatterpolar": [
           {
            "marker": {
             "colorbar": {
              "outlinewidth": 0,
              "ticks": ""
             }
            },
            "type": "scatterpolar"
           }
          ],
          "scatterpolargl": [
           {
            "marker": {
             "colorbar": {
              "outlinewidth": 0,
              "ticks": ""
             }
            },
            "type": "scatterpolargl"
           }
          ],
          "scatterternary": [
           {
            "marker": {
             "colorbar": {
              "outlinewidth": 0,
              "ticks": ""
             }
            },
            "type": "scatterternary"
           }
          ],
          "surface": [
           {
            "colorbar": {
             "outlinewidth": 0,
             "ticks": ""
            },
            "colorscale": [
             [
              0,
              "#0d0887"
             ],
             [
              0.1111111111111111,
              "#46039f"
             ],
             [
              0.2222222222222222,
              "#7201a8"
             ],
             [
              0.3333333333333333,
              "#9c179e"
             ],
             [
              0.4444444444444444,
              "#bd3786"
             ],
             [
              0.5555555555555556,
              "#d8576b"
             ],
             [
              0.6666666666666666,
              "#ed7953"
             ],
             [
              0.7777777777777778,
              "#fb9f3a"
             ],
             [
              0.8888888888888888,
              "#fdca26"
             ],
             [
              1,
              "#f0f921"
             ]
            ],
            "type": "surface"
           }
          ],
          "table": [
           {
            "cells": {
             "fill": {
              "color": "#EBF0F8"
             },
             "line": {
              "color": "white"
             }
            },
            "header": {
             "fill": {
              "color": "#C8D4E3"
             },
             "line": {
              "color": "white"
             }
            },
            "type": "table"
           }
          ]
         },
         "layout": {
          "annotationdefaults": {
           "arrowcolor": "#2a3f5f",
           "arrowhead": 0,
           "arrowwidth": 1
          },
          "autotypenumbers": "strict",
          "coloraxis": {
           "colorbar": {
            "outlinewidth": 0,
            "ticks": ""
           }
          },
          "colorscale": {
           "diverging": [
            [
             0,
             "#8e0152"
            ],
            [
             0.1,
             "#c51b7d"
            ],
            [
             0.2,
             "#de77ae"
            ],
            [
             0.3,
             "#f1b6da"
            ],
            [
             0.4,
             "#fde0ef"
            ],
            [
             0.5,
             "#f7f7f7"
            ],
            [
             0.6,
             "#e6f5d0"
            ],
            [
             0.7,
             "#b8e186"
            ],
            [
             0.8,
             "#7fbc41"
            ],
            [
             0.9,
             "#4d9221"
            ],
            [
             1,
             "#276419"
            ]
           ],
           "sequential": [
            [
             0,
             "#0d0887"
            ],
            [
             0.1111111111111111,
             "#46039f"
            ],
            [
             0.2222222222222222,
             "#7201a8"
            ],
            [
             0.3333333333333333,
             "#9c179e"
            ],
            [
             0.4444444444444444,
             "#bd3786"
            ],
            [
             0.5555555555555556,
             "#d8576b"
            ],
            [
             0.6666666666666666,
             "#ed7953"
            ],
            [
             0.7777777777777778,
             "#fb9f3a"
            ],
            [
             0.8888888888888888,
             "#fdca26"
            ],
            [
             1,
             "#f0f921"
            ]
           ],
           "sequentialminus": [
            [
             0,
             "#0d0887"
            ],
            [
             0.1111111111111111,
             "#46039f"
            ],
            [
             0.2222222222222222,
             "#7201a8"
            ],
            [
             0.3333333333333333,
             "#9c179e"
            ],
            [
             0.4444444444444444,
             "#bd3786"
            ],
            [
             0.5555555555555556,
             "#d8576b"
            ],
            [
             0.6666666666666666,
             "#ed7953"
            ],
            [
             0.7777777777777778,
             "#fb9f3a"
            ],
            [
             0.8888888888888888,
             "#fdca26"
            ],
            [
             1,
             "#f0f921"
            ]
           ]
          },
          "colorway": [
           "#636efa",
           "#EF553B",
           "#00cc96",
           "#ab63fa",
           "#FFA15A",
           "#19d3f3",
           "#FF6692",
           "#B6E880",
           "#FF97FF",
           "#FECB52"
          ],
          "font": {
           "color": "#2a3f5f"
          },
          "geo": {
           "bgcolor": "white",
           "lakecolor": "white",
           "landcolor": "#E5ECF6",
           "showlakes": true,
           "showland": true,
           "subunitcolor": "white"
          },
          "hoverlabel": {
           "align": "left"
          },
          "hovermode": "closest",
          "mapbox": {
           "style": "light"
          },
          "paper_bgcolor": "white",
          "plot_bgcolor": "#E5ECF6",
          "polar": {
           "angularaxis": {
            "gridcolor": "white",
            "linecolor": "white",
            "ticks": ""
           },
           "bgcolor": "#E5ECF6",
           "radialaxis": {
            "gridcolor": "white",
            "linecolor": "white",
            "ticks": ""
           }
          },
          "scene": {
           "xaxis": {
            "backgroundcolor": "#E5ECF6",
            "gridcolor": "white",
            "gridwidth": 2,
            "linecolor": "white",
            "showbackground": true,
            "ticks": "",
            "zerolinecolor": "white"
           },
           "yaxis": {
            "backgroundcolor": "#E5ECF6",
            "gridcolor": "white",
            "gridwidth": 2,
            "linecolor": "white",
            "showbackground": true,
            "ticks": "",
            "zerolinecolor": "white"
           },
           "zaxis": {
            "backgroundcolor": "#E5ECF6",
            "gridcolor": "white",
            "gridwidth": 2,
            "linecolor": "white",
            "showbackground": true,
            "ticks": "",
            "zerolinecolor": "white"
           }
          },
          "shapedefaults": {
           "line": {
            "color": "#2a3f5f"
           }
          },
          "ternary": {
           "aaxis": {
            "gridcolor": "white",
            "linecolor": "white",
            "ticks": ""
           },
           "baxis": {
            "gridcolor": "white",
            "linecolor": "white",
            "ticks": ""
           },
           "bgcolor": "#E5ECF6",
           "caxis": {
            "gridcolor": "white",
            "linecolor": "white",
            "ticks": ""
           }
          },
          "title": {
           "x": 0.05
          },
          "xaxis": {
           "automargin": true,
           "gridcolor": "white",
           "linecolor": "white",
           "ticks": "",
           "title": {
            "standoff": 15
           },
           "zerolinecolor": "white",
           "zerolinewidth": 2
          },
          "yaxis": {
           "automargin": true,
           "gridcolor": "white",
           "linecolor": "white",
           "ticks": "",
           "title": {
            "standoff": 15
           },
           "zerolinecolor": "white",
           "zerolinewidth": 2
          }
         }
        },
        "title": {
         "text": "Nouns DAO Financial Statement"
        },
        "xaxis": {
         "anchor": "y",
         "domain": [
          0,
          1
         ],
         "title": {
          "text": "timestamp"
         }
        },
        "yaxis": {
         "anchor": "x",
         "domain": [
          0,
          1
         ],
         "tickformat": ".2%",
         "title": {
          "text": "ETH"
         }
        }
       }
      },
      "text/html": [
       "<div>                            <div id=\"595bd161-0ec3-4735-a622-31e2f0dfcf05\" class=\"plotly-graph-div\" style=\"height:500px; width:100%;\"></div>            <script type=\"text/javascript\">                require([\"plotly\"], function(Plotly) {                    window.PLOTLYENV=window.PLOTLYENV || {};                                    if (document.getElementById(\"595bd161-0ec3-4735-a622-31e2f0dfcf05\")) {                    Plotly.newPlot(                        \"595bd161-0ec3-4735-a622-31e2f0dfcf05\",                        [{\"hovertemplate\":\"variable=Debt/Equity ratio<br>timestamp=%{x}<br>ETH=%{y}<extra></extra>\",\"legendgroup\":\"Debt/Equity ratio\",\"line\":{\"color\":\"#636efa\",\"dash\":\"solid\"},\"marker\":{\"symbol\":\"circle\"},\"mode\":\"lines\",\"name\":\"Debt/Equity ratio\",\"orientation\":\"v\",\"showlegend\":true,\"x\":[\"2021-08-31T00:00:00\",\"2021-09-30T00:00:00\",\"2021-10-31T00:00:00\",\"2021-11-30T00:00:00\",\"2021-12-31T00:00:00\",\"2022-01-31T00:00:00\",\"2022-02-28T00:00:00\",\"2022-03-31T00:00:00\",\"2022-04-30T00:00:00\",\"2022-05-31T00:00:00\",\"2022-06-30T00:00:00\",\"2022-07-31T00:00:00\",\"2022-08-31T00:00:00\"],\"xaxis\":\"x\",\"y\":[null,0.2543289219400255,0.30369982881923063,0.37712573960556023,0.37526085753617716,0.3750427620054675,0.3965241737661478,0.4137658912324655,0.4054817948441327,0.40646433164789786,0.41908204440842073,0.4181714196673109,0.4166179736850326],\"yaxis\":\"y\",\"type\":\"scatter\"}],                        {\"template\":{\"data\":{\"histogram2dcontour\":[{\"type\":\"histogram2dcontour\",\"colorbar\":{\"outlinewidth\":0,\"ticks\":\"\"},\"colorscale\":[[0.0,\"#0d0887\"],[0.1111111111111111,\"#46039f\"],[0.2222222222222222,\"#7201a8\"],[0.3333333333333333,\"#9c179e\"],[0.4444444444444444,\"#bd3786\"],[0.5555555555555556,\"#d8576b\"],[0.6666666666666666,\"#ed7953\"],[0.7777777777777778,\"#fb9f3a\"],[0.8888888888888888,\"#fdca26\"],[1.0,\"#f0f921\"]]}],\"choropleth\":[{\"type\":\"choropleth\",\"colorbar\":{\"outlinewidth\":0,\"ticks\":\"\"}}],\"histogram2d\":[{\"type\":\"histogram2d\",\"colorbar\":{\"outlinewidth\":0,\"ticks\":\"\"},\"colorscale\":[[0.0,\"#0d0887\"],[0.1111111111111111,\"#46039f\"],[0.2222222222222222,\"#7201a8\"],[0.3333333333333333,\"#9c179e\"],[0.4444444444444444,\"#bd3786\"],[0.5555555555555556,\"#d8576b\"],[0.6666666666666666,\"#ed7953\"],[0.7777777777777778,\"#fb9f3a\"],[0.8888888888888888,\"#fdca26\"],[1.0,\"#f0f921\"]]}],\"heatmap\":[{\"type\":\"heatmap\",\"colorbar\":{\"outlinewidth\":0,\"ticks\":\"\"},\"colorscale\":[[0.0,\"#0d0887\"],[0.1111111111111111,\"#46039f\"],[0.2222222222222222,\"#7201a8\"],[0.3333333333333333,\"#9c179e\"],[0.4444444444444444,\"#bd3786\"],[0.5555555555555556,\"#d8576b\"],[0.6666666666666666,\"#ed7953\"],[0.7777777777777778,\"#fb9f3a\"],[0.8888888888888888,\"#fdca26\"],[1.0,\"#f0f921\"]]}],\"heatmapgl\":[{\"type\":\"heatmapgl\",\"colorbar\":{\"outlinewidth\":0,\"ticks\":\"\"},\"colorscale\":[[0.0,\"#0d0887\"],[0.1111111111111111,\"#46039f\"],[0.2222222222222222,\"#7201a8\"],[0.3333333333333333,\"#9c179e\"],[0.4444444444444444,\"#bd3786\"],[0.5555555555555556,\"#d8576b\"],[0.6666666666666666,\"#ed7953\"],[0.7777777777777778,\"#fb9f3a\"],[0.8888888888888888,\"#fdca26\"],[1.0,\"#f0f921\"]]}],\"contourcarpet\":[{\"type\":\"contourcarpet\",\"colorbar\":{\"outlinewidth\":0,\"ticks\":\"\"}}],\"contour\":[{\"type\":\"contour\",\"colorbar\":{\"outlinewidth\":0,\"ticks\":\"\"},\"colorscale\":[[0.0,\"#0d0887\"],[0.1111111111111111,\"#46039f\"],[0.2222222222222222,\"#7201a8\"],[0.3333333333333333,\"#9c179e\"],[0.4444444444444444,\"#bd3786\"],[0.5555555555555556,\"#d8576b\"],[0.6666666666666666,\"#ed7953\"],[0.7777777777777778,\"#fb9f3a\"],[0.8888888888888888,\"#fdca26\"],[1.0,\"#f0f921\"]]}],\"surface\":[{\"type\":\"surface\",\"colorbar\":{\"outlinewidth\":0,\"ticks\":\"\"},\"colorscale\":[[0.0,\"#0d0887\"],[0.1111111111111111,\"#46039f\"],[0.2222222222222222,\"#7201a8\"],[0.3333333333333333,\"#9c179e\"],[0.4444444444444444,\"#bd3786\"],[0.5555555555555556,\"#d8576b\"],[0.6666666666666666,\"#ed7953\"],[0.7777777777777778,\"#fb9f3a\"],[0.8888888888888888,\"#fdca26\"],[1.0,\"#f0f921\"]]}],\"mesh3d\":[{\"type\":\"mesh3d\",\"colorbar\":{\"outlinewidth\":0,\"ticks\":\"\"}}],\"scatter\":[{\"fillpattern\":{\"fillmode\":\"overlay\",\"size\":10,\"solidity\":0.2},\"type\":\"scatter\"}],\"parcoords\":[{\"type\":\"parcoords\",\"line\":{\"colorbar\":{\"outlinewidth\":0,\"ticks\":\"\"}}}],\"scatterpolargl\":[{\"type\":\"scatterpolargl\",\"marker\":{\"colorbar\":{\"outlinewidth\":0,\"ticks\":\"\"}}}],\"bar\":[{\"error_x\":{\"color\":\"#2a3f5f\"},\"error_y\":{\"color\":\"#2a3f5f\"},\"marker\":{\"line\":{\"color\":\"#E5ECF6\",\"width\":0.5},\"pattern\":{\"fillmode\":\"overlay\",\"size\":10,\"solidity\":0.2}},\"type\":\"bar\"}],\"scattergeo\":[{\"type\":\"scattergeo\",\"marker\":{\"colorbar\":{\"outlinewidth\":0,\"ticks\":\"\"}}}],\"scatterpolar\":[{\"type\":\"scatterpolar\",\"marker\":{\"colorbar\":{\"outlinewidth\":0,\"ticks\":\"\"}}}],\"histogram\":[{\"marker\":{\"pattern\":{\"fillmode\":\"overlay\",\"size\":10,\"solidity\":0.2}},\"type\":\"histogram\"}],\"scattergl\":[{\"type\":\"scattergl\",\"marker\":{\"colorbar\":{\"outlinewidth\":0,\"ticks\":\"\"}}}],\"scatter3d\":[{\"type\":\"scatter3d\",\"line\":{\"colorbar\":{\"outlinewidth\":0,\"ticks\":\"\"}},\"marker\":{\"colorbar\":{\"outlinewidth\":0,\"ticks\":\"\"}}}],\"scattermapbox\":[{\"type\":\"scattermapbox\",\"marker\":{\"colorbar\":{\"outlinewidth\":0,\"ticks\":\"\"}}}],\"scatterternary\":[{\"type\":\"scatterternary\",\"marker\":{\"colorbar\":{\"outlinewidth\":0,\"ticks\":\"\"}}}],\"scattercarpet\":[{\"type\":\"scattercarpet\",\"marker\":{\"colorbar\":{\"outlinewidth\":0,\"ticks\":\"\"}}}],\"carpet\":[{\"aaxis\":{\"endlinecolor\":\"#2a3f5f\",\"gridcolor\":\"white\",\"linecolor\":\"white\",\"minorgridcolor\":\"white\",\"startlinecolor\":\"#2a3f5f\"},\"baxis\":{\"endlinecolor\":\"#2a3f5f\",\"gridcolor\":\"white\",\"linecolor\":\"white\",\"minorgridcolor\":\"white\",\"startlinecolor\":\"#2a3f5f\"},\"type\":\"carpet\"}],\"table\":[{\"cells\":{\"fill\":{\"color\":\"#EBF0F8\"},\"line\":{\"color\":\"white\"}},\"header\":{\"fill\":{\"color\":\"#C8D4E3\"},\"line\":{\"color\":\"white\"}},\"type\":\"table\"}],\"barpolar\":[{\"marker\":{\"line\":{\"color\":\"#E5ECF6\",\"width\":0.5},\"pattern\":{\"fillmode\":\"overlay\",\"size\":10,\"solidity\":0.2}},\"type\":\"barpolar\"}],\"pie\":[{\"automargin\":true,\"type\":\"pie\"}]},\"layout\":{\"autotypenumbers\":\"strict\",\"colorway\":[\"#636efa\",\"#EF553B\",\"#00cc96\",\"#ab63fa\",\"#FFA15A\",\"#19d3f3\",\"#FF6692\",\"#B6E880\",\"#FF97FF\",\"#FECB52\"],\"font\":{\"color\":\"#2a3f5f\"},\"hovermode\":\"closest\",\"hoverlabel\":{\"align\":\"left\"},\"paper_bgcolor\":\"white\",\"plot_bgcolor\":\"#E5ECF6\",\"polar\":{\"bgcolor\":\"#E5ECF6\",\"angularaxis\":{\"gridcolor\":\"white\",\"linecolor\":\"white\",\"ticks\":\"\"},\"radialaxis\":{\"gridcolor\":\"white\",\"linecolor\":\"white\",\"ticks\":\"\"}},\"ternary\":{\"bgcolor\":\"#E5ECF6\",\"aaxis\":{\"gridcolor\":\"white\",\"linecolor\":\"white\",\"ticks\":\"\"},\"baxis\":{\"gridcolor\":\"white\",\"linecolor\":\"white\",\"ticks\":\"\"},\"caxis\":{\"gridcolor\":\"white\",\"linecolor\":\"white\",\"ticks\":\"\"}},\"coloraxis\":{\"colorbar\":{\"outlinewidth\":0,\"ticks\":\"\"}},\"colorscale\":{\"sequential\":[[0.0,\"#0d0887\"],[0.1111111111111111,\"#46039f\"],[0.2222222222222222,\"#7201a8\"],[0.3333333333333333,\"#9c179e\"],[0.4444444444444444,\"#bd3786\"],[0.5555555555555556,\"#d8576b\"],[0.6666666666666666,\"#ed7953\"],[0.7777777777777778,\"#fb9f3a\"],[0.8888888888888888,\"#fdca26\"],[1.0,\"#f0f921\"]],\"sequentialminus\":[[0.0,\"#0d0887\"],[0.1111111111111111,\"#46039f\"],[0.2222222222222222,\"#7201a8\"],[0.3333333333333333,\"#9c179e\"],[0.4444444444444444,\"#bd3786\"],[0.5555555555555556,\"#d8576b\"],[0.6666666666666666,\"#ed7953\"],[0.7777777777777778,\"#fb9f3a\"],[0.8888888888888888,\"#fdca26\"],[1.0,\"#f0f921\"]],\"diverging\":[[0,\"#8e0152\"],[0.1,\"#c51b7d\"],[0.2,\"#de77ae\"],[0.3,\"#f1b6da\"],[0.4,\"#fde0ef\"],[0.5,\"#f7f7f7\"],[0.6,\"#e6f5d0\"],[0.7,\"#b8e186\"],[0.8,\"#7fbc41\"],[0.9,\"#4d9221\"],[1,\"#276419\"]]},\"xaxis\":{\"gridcolor\":\"white\",\"linecolor\":\"white\",\"ticks\":\"\",\"title\":{\"standoff\":15},\"zerolinecolor\":\"white\",\"automargin\":true,\"zerolinewidth\":2},\"yaxis\":{\"gridcolor\":\"white\",\"linecolor\":\"white\",\"ticks\":\"\",\"title\":{\"standoff\":15},\"zerolinecolor\":\"white\",\"automargin\":true,\"zerolinewidth\":2},\"scene\":{\"xaxis\":{\"backgroundcolor\":\"#E5ECF6\",\"gridcolor\":\"white\",\"linecolor\":\"white\",\"showbackground\":true,\"ticks\":\"\",\"zerolinecolor\":\"white\",\"gridwidth\":2},\"yaxis\":{\"backgroundcolor\":\"#E5ECF6\",\"gridcolor\":\"white\",\"linecolor\":\"white\",\"showbackground\":true,\"ticks\":\"\",\"zerolinecolor\":\"white\",\"gridwidth\":2},\"zaxis\":{\"backgroundcolor\":\"#E5ECF6\",\"gridcolor\":\"white\",\"linecolor\":\"white\",\"showbackground\":true,\"ticks\":\"\",\"zerolinecolor\":\"white\",\"gridwidth\":2}},\"shapedefaults\":{\"line\":{\"color\":\"#2a3f5f\"}},\"annotationdefaults\":{\"arrowcolor\":\"#2a3f5f\",\"arrowhead\":0,\"arrowwidth\":1},\"geo\":{\"bgcolor\":\"white\",\"landcolor\":\"#E5ECF6\",\"subunitcolor\":\"white\",\"showland\":true,\"showlakes\":true,\"lakecolor\":\"white\"},\"title\":{\"x\":0.05},\"mapbox\":{\"style\":\"light\"}}},\"xaxis\":{\"anchor\":\"y\",\"domain\":[0.0,1.0],\"title\":{\"text\":\"timestamp\"}},\"yaxis\":{\"anchor\":\"x\",\"domain\":[0.0,1.0],\"title\":{\"text\":\"ETH\"},\"tickformat\":\".2%\"},\"legend\":{\"title\":{\"text\":\"variable\"},\"tracegroupgap\":0},\"title\":{\"text\":\"Nouns DAO Financial Statement\"},\"height\":500,\"hovermode\":\"x\"},                        {\"responsive\": true}                    ).then(function(){\n",
       "                            \n",
       "var gd = document.getElementById('595bd161-0ec3-4735-a622-31e2f0dfcf05');\n",
       "var x = new MutationObserver(function (mutations, observer) {{\n",
       "        var display = window.getComputedStyle(gd).display;\n",
       "        if (!display || display === 'none') {{\n",
       "            console.log([gd, 'removed!']);\n",
       "            Plotly.purge(gd);\n",
       "            observer.disconnect();\n",
       "        }}\n",
       "}});\n",
       "\n",
       "// Listen for the removal of the full notebook cells\n",
       "var notebookContainer = gd.closest('#notebook-container');\n",
       "if (notebookContainer) {{\n",
       "    x.observe(notebookContainer, {childList: true});\n",
       "}}\n",
       "\n",
       "// Listen for the clearing of the current output cell\n",
       "var outputEl = gd.closest('.output');\n",
       "if (outputEl) {{\n",
       "    x.observe(outputEl, {childList: true});\n",
       "}}\n",
       "\n",
       "                        })                };                });            </script>        </div>"
      ]
     },
     "metadata": {},
     "output_type": "display_data"
    }
   ],
   "source": [
    "# Graphing the data\n",
    "fig = px.line(df_nouns, x = df_nouns.index, y=['Debt/Equity ratio'],\n",
    "              height=500, title = \"Nouns DAO Financial Statement\",\n",
    "              labels={\n",
    "                     \"value\": \"ETH\",\n",
    "                     \"index\": \"Date\",\n",
    "                 },\n",
    "             )\n",
    "fig.update_layout(hovermode=\"x\", yaxis= {\"tickformat\": '.2%' })\n",
    "fig.show() "
   ]
  },
  {
   "cell_type": "code",
   "execution_count": 219,
   "id": "ba3d953e",
   "metadata": {
    "scrolled": false
   },
   "outputs": [
    {
     "data": {
      "application/vnd.plotly.v1+json": {
       "config": {
        "plotlyServerURL": "https://plot.ly"
       },
       "data": [
        {
         "hovertemplate": "variable=Total value<br>timestamp=%{x}<br>ETH=%{y}<extra></extra>",
         "legendgroup": "Total value",
         "line": {
          "color": "#636efa",
          "dash": "solid"
         },
         "marker": {
          "symbol": "circle"
         },
         "mode": "lines",
         "name": "Total value",
         "orientation": "v",
         "showlegend": true,
         "type": "scatter",
         "x": [
          "2021-08-31T00:00:00",
          "2021-09-30T00:00:00",
          "2021-10-31T00:00:00",
          "2021-11-30T00:00:00",
          "2021-12-31T00:00:00",
          "2022-01-31T00:00:00",
          "2022-02-28T00:00:00",
          "2022-03-31T00:00:00",
          "2022-04-30T00:00:00",
          "2022-05-31T00:00:00",
          "2022-06-30T00:00:00",
          "2022-07-31T00:00:00",
          "2022-08-31T00:00:00"
         ],
         "xaxis": "x",
         "y": [
          null,
          9658.845970333054,
          17328.44333454917,
          21495.18825235586,
          21639.390178952104,
          21876.819240051813,
          24853.80813451107,
          26858.964119778895,
          27733.859847106505,
          28266.053503039613,
          32193.35287235873,
          33140.96512100377,
          32107.716043857905
         ],
         "yaxis": "y"
        },
        {
         "hovertemplate": "variable=Equity<br>timestamp=%{x}<br>ETH=%{y}<extra></extra>",
         "legendgroup": "Equity",
         "line": {
          "color": "#EF553B",
          "dash": "solid"
         },
         "marker": {
          "symbol": "circle"
         },
         "mode": "lines",
         "name": "Equity",
         "orientation": "v",
         "showlegend": true,
         "type": "scatter",
         "x": [
          "2021-08-31T00:00:00",
          "2021-09-30T00:00:00",
          "2021-10-31T00:00:00",
          "2021-11-30T00:00:00",
          "2021-12-31T00:00:00",
          "2022-01-31T00:00:00",
          "2022-02-28T00:00:00",
          "2022-03-31T00:00:00",
          "2022-04-30T00:00:00",
          "2022-05-31T00:00:00",
          "2022-06-30T00:00:00",
          "2022-07-31T00:00:00",
          "2022-08-31T00:00:00"
         ],
         "xaxis": "x",
         "y": [
          3455.6022,
          7700.4092,
          13291.743199999997,
          15608.733199999997,
          15734.753199999997,
          15909.919199999997,
          17796.905059999997,
          18998.16956,
          19732.63542,
          20097.241619999997,
          22686.040598716278,
          23368.80059871628,
          22665.04918071628
         ],
         "yaxis": "y"
        },
        {
         "hovertemplate": "variable=Debt<br>timestamp=%{x}<br>ETH=%{y}<extra></extra>",
         "legendgroup": "Debt",
         "line": {
          "color": "#00cc96",
          "dash": "solid"
         },
         "marker": {
          "symbol": "circle"
         },
         "mode": "lines",
         "name": "Debt",
         "orientation": "v",
         "showlegend": true,
         "type": "scatter",
         "x": [
          "2021-08-31T00:00:00",
          "2021-09-30T00:00:00",
          "2021-10-31T00:00:00",
          "2021-11-30T00:00:00",
          "2021-12-31T00:00:00",
          "2022-01-31T00:00:00",
          "2022-02-28T00:00:00",
          "2022-03-31T00:00:00",
          "2022-04-30T00:00:00",
          "2022-05-31T00:00:00",
          "2022-06-30T00:00:00",
          "2022-07-31T00:00:00",
          "2022-08-31T00:00:00"
         ],
         "xaxis": "x",
         "y": [
          null,
          1958.436770333054,
          4036.7001345491717,
          5886.455052355862,
          5904.636978952107,
          5966.900040051816,
          7056.903074511074,
          7860.794559778896,
          8001.224427106506,
          8168.811883039615,
          9507.31227364245,
          9772.164522287492,
          9442.666863141625
         ],
         "yaxis": "y"
        },
        {
         "hovertemplate": "variable=revenue<br>timestamp=%{x}<br>ETH=%{y}<extra></extra>",
         "legendgroup": "revenue",
         "line": {
          "color": "#ab63fa",
          "dash": "solid"
         },
         "marker": {
          "symbol": "circle"
         },
         "mode": "lines",
         "name": "revenue",
         "orientation": "v",
         "showlegend": true,
         "type": "scatter",
         "x": [
          "2021-08-31T00:00:00",
          "2021-09-30T00:00:00",
          "2021-10-31T00:00:00",
          "2021-11-30T00:00:00",
          "2021-12-31T00:00:00",
          "2022-01-31T00:00:00",
          "2022-02-28T00:00:00",
          "2022-03-31T00:00:00",
          "2022-04-30T00:00:00",
          "2022-05-31T00:00:00",
          "2022-06-30T00:00:00",
          "2022-07-31T00:00:00",
          "2022-08-31T00:00:00"
         ],
         "xaxis": "x",
         "y": [
          3485.6022,
          4487.807,
          6067.47,
          2428.2,
          1443.216,
          2274.05,
          2287.63,
          1918.8645,
          2035.12,
          2884.0176,
          3494.988978716281,
          3975.841782,
          2053.3935
         ],
         "yaxis": "y"
        },
        {
         "hovertemplate": "variable=expense<br>timestamp=%{x}<br>ETH=%{y}<extra></extra>",
         "legendgroup": "expense",
         "line": {
          "color": "#FFA15A",
          "dash": "solid"
         },
         "marker": {
          "symbol": "circle"
         },
         "mode": "lines",
         "name": "expense",
         "orientation": "v",
         "showlegend": true,
         "type": "scatter",
         "x": [
          "2021-08-31T00:00:00",
          "2021-09-30T00:00:00",
          "2021-10-31T00:00:00",
          "2021-11-30T00:00:00",
          "2021-12-31T00:00:00",
          "2022-01-31T00:00:00",
          "2022-02-28T00:00:00",
          "2022-03-31T00:00:00",
          "2022-04-30T00:00:00",
          "2022-05-31T00:00:00",
          "2022-06-30T00:00:00",
          "2022-07-31T00:00:00",
          "2022-08-31T00:00:00"
         ],
         "xaxis": "x",
         "y": [
          30,
          243,
          116.13600000000278,
          139.21,
          1707.15,
          1639.2,
          701.62414,
          479.14414,
          2529.2114,
          1228.3300000000002,
          806.19,
          4177.3442,
          1023
         ],
         "yaxis": "y"
        }
       ],
       "layout": {
        "height": 500,
        "hovermode": "x",
        "legend": {
         "title": {
          "text": "variable"
         },
         "tracegroupgap": 0
        },
        "template": {
         "data": {
          "bar": [
           {
            "error_x": {
             "color": "#2a3f5f"
            },
            "error_y": {
             "color": "#2a3f5f"
            },
            "marker": {
             "line": {
              "color": "#E5ECF6",
              "width": 0.5
             },
             "pattern": {
              "fillmode": "overlay",
              "size": 10,
              "solidity": 0.2
             }
            },
            "type": "bar"
           }
          ],
          "barpolar": [
           {
            "marker": {
             "line": {
              "color": "#E5ECF6",
              "width": 0.5
             },
             "pattern": {
              "fillmode": "overlay",
              "size": 10,
              "solidity": 0.2
             }
            },
            "type": "barpolar"
           }
          ],
          "carpet": [
           {
            "aaxis": {
             "endlinecolor": "#2a3f5f",
             "gridcolor": "white",
             "linecolor": "white",
             "minorgridcolor": "white",
             "startlinecolor": "#2a3f5f"
            },
            "baxis": {
             "endlinecolor": "#2a3f5f",
             "gridcolor": "white",
             "linecolor": "white",
             "minorgridcolor": "white",
             "startlinecolor": "#2a3f5f"
            },
            "type": "carpet"
           }
          ],
          "choropleth": [
           {
            "colorbar": {
             "outlinewidth": 0,
             "ticks": ""
            },
            "type": "choropleth"
           }
          ],
          "contour": [
           {
            "colorbar": {
             "outlinewidth": 0,
             "ticks": ""
            },
            "colorscale": [
             [
              0,
              "#0d0887"
             ],
             [
              0.1111111111111111,
              "#46039f"
             ],
             [
              0.2222222222222222,
              "#7201a8"
             ],
             [
              0.3333333333333333,
              "#9c179e"
             ],
             [
              0.4444444444444444,
              "#bd3786"
             ],
             [
              0.5555555555555556,
              "#d8576b"
             ],
             [
              0.6666666666666666,
              "#ed7953"
             ],
             [
              0.7777777777777778,
              "#fb9f3a"
             ],
             [
              0.8888888888888888,
              "#fdca26"
             ],
             [
              1,
              "#f0f921"
             ]
            ],
            "type": "contour"
           }
          ],
          "contourcarpet": [
           {
            "colorbar": {
             "outlinewidth": 0,
             "ticks": ""
            },
            "type": "contourcarpet"
           }
          ],
          "heatmap": [
           {
            "colorbar": {
             "outlinewidth": 0,
             "ticks": ""
            },
            "colorscale": [
             [
              0,
              "#0d0887"
             ],
             [
              0.1111111111111111,
              "#46039f"
             ],
             [
              0.2222222222222222,
              "#7201a8"
             ],
             [
              0.3333333333333333,
              "#9c179e"
             ],
             [
              0.4444444444444444,
              "#bd3786"
             ],
             [
              0.5555555555555556,
              "#d8576b"
             ],
             [
              0.6666666666666666,
              "#ed7953"
             ],
             [
              0.7777777777777778,
              "#fb9f3a"
             ],
             [
              0.8888888888888888,
              "#fdca26"
             ],
             [
              1,
              "#f0f921"
             ]
            ],
            "type": "heatmap"
           }
          ],
          "heatmapgl": [
           {
            "colorbar": {
             "outlinewidth": 0,
             "ticks": ""
            },
            "colorscale": [
             [
              0,
              "#0d0887"
             ],
             [
              0.1111111111111111,
              "#46039f"
             ],
             [
              0.2222222222222222,
              "#7201a8"
             ],
             [
              0.3333333333333333,
              "#9c179e"
             ],
             [
              0.4444444444444444,
              "#bd3786"
             ],
             [
              0.5555555555555556,
              "#d8576b"
             ],
             [
              0.6666666666666666,
              "#ed7953"
             ],
             [
              0.7777777777777778,
              "#fb9f3a"
             ],
             [
              0.8888888888888888,
              "#fdca26"
             ],
             [
              1,
              "#f0f921"
             ]
            ],
            "type": "heatmapgl"
           }
          ],
          "histogram": [
           {
            "marker": {
             "pattern": {
              "fillmode": "overlay",
              "size": 10,
              "solidity": 0.2
             }
            },
            "type": "histogram"
           }
          ],
          "histogram2d": [
           {
            "colorbar": {
             "outlinewidth": 0,
             "ticks": ""
            },
            "colorscale": [
             [
              0,
              "#0d0887"
             ],
             [
              0.1111111111111111,
              "#46039f"
             ],
             [
              0.2222222222222222,
              "#7201a8"
             ],
             [
              0.3333333333333333,
              "#9c179e"
             ],
             [
              0.4444444444444444,
              "#bd3786"
             ],
             [
              0.5555555555555556,
              "#d8576b"
             ],
             [
              0.6666666666666666,
              "#ed7953"
             ],
             [
              0.7777777777777778,
              "#fb9f3a"
             ],
             [
              0.8888888888888888,
              "#fdca26"
             ],
             [
              1,
              "#f0f921"
             ]
            ],
            "type": "histogram2d"
           }
          ],
          "histogram2dcontour": [
           {
            "colorbar": {
             "outlinewidth": 0,
             "ticks": ""
            },
            "colorscale": [
             [
              0,
              "#0d0887"
             ],
             [
              0.1111111111111111,
              "#46039f"
             ],
             [
              0.2222222222222222,
              "#7201a8"
             ],
             [
              0.3333333333333333,
              "#9c179e"
             ],
             [
              0.4444444444444444,
              "#bd3786"
             ],
             [
              0.5555555555555556,
              "#d8576b"
             ],
             [
              0.6666666666666666,
              "#ed7953"
             ],
             [
              0.7777777777777778,
              "#fb9f3a"
             ],
             [
              0.8888888888888888,
              "#fdca26"
             ],
             [
              1,
              "#f0f921"
             ]
            ],
            "type": "histogram2dcontour"
           }
          ],
          "mesh3d": [
           {
            "colorbar": {
             "outlinewidth": 0,
             "ticks": ""
            },
            "type": "mesh3d"
           }
          ],
          "parcoords": [
           {
            "line": {
             "colorbar": {
              "outlinewidth": 0,
              "ticks": ""
             }
            },
            "type": "parcoords"
           }
          ],
          "pie": [
           {
            "automargin": true,
            "type": "pie"
           }
          ],
          "scatter": [
           {
            "fillpattern": {
             "fillmode": "overlay",
             "size": 10,
             "solidity": 0.2
            },
            "type": "scatter"
           }
          ],
          "scatter3d": [
           {
            "line": {
             "colorbar": {
              "outlinewidth": 0,
              "ticks": ""
             }
            },
            "marker": {
             "colorbar": {
              "outlinewidth": 0,
              "ticks": ""
             }
            },
            "type": "scatter3d"
           }
          ],
          "scattercarpet": [
           {
            "marker": {
             "colorbar": {
              "outlinewidth": 0,
              "ticks": ""
             }
            },
            "type": "scattercarpet"
           }
          ],
          "scattergeo": [
           {
            "marker": {
             "colorbar": {
              "outlinewidth": 0,
              "ticks": ""
             }
            },
            "type": "scattergeo"
           }
          ],
          "scattergl": [
           {
            "marker": {
             "colorbar": {
              "outlinewidth": 0,
              "ticks": ""
             }
            },
            "type": "scattergl"
           }
          ],
          "scattermapbox": [
           {
            "marker": {
             "colorbar": {
              "outlinewidth": 0,
              "ticks": ""
             }
            },
            "type": "scattermapbox"
           }
          ],
          "scatterpolar": [
           {
            "marker": {
             "colorbar": {
              "outlinewidth": 0,
              "ticks": ""
             }
            },
            "type": "scatterpolar"
           }
          ],
          "scatterpolargl": [
           {
            "marker": {
             "colorbar": {
              "outlinewidth": 0,
              "ticks": ""
             }
            },
            "type": "scatterpolargl"
           }
          ],
          "scatterternary": [
           {
            "marker": {
             "colorbar": {
              "outlinewidth": 0,
              "ticks": ""
             }
            },
            "type": "scatterternary"
           }
          ],
          "surface": [
           {
            "colorbar": {
             "outlinewidth": 0,
             "ticks": ""
            },
            "colorscale": [
             [
              0,
              "#0d0887"
             ],
             [
              0.1111111111111111,
              "#46039f"
             ],
             [
              0.2222222222222222,
              "#7201a8"
             ],
             [
              0.3333333333333333,
              "#9c179e"
             ],
             [
              0.4444444444444444,
              "#bd3786"
             ],
             [
              0.5555555555555556,
              "#d8576b"
             ],
             [
              0.6666666666666666,
              "#ed7953"
             ],
             [
              0.7777777777777778,
              "#fb9f3a"
             ],
             [
              0.8888888888888888,
              "#fdca26"
             ],
             [
              1,
              "#f0f921"
             ]
            ],
            "type": "surface"
           }
          ],
          "table": [
           {
            "cells": {
             "fill": {
              "color": "#EBF0F8"
             },
             "line": {
              "color": "white"
             }
            },
            "header": {
             "fill": {
              "color": "#C8D4E3"
             },
             "line": {
              "color": "white"
             }
            },
            "type": "table"
           }
          ]
         },
         "layout": {
          "annotationdefaults": {
           "arrowcolor": "#2a3f5f",
           "arrowhead": 0,
           "arrowwidth": 1
          },
          "autotypenumbers": "strict",
          "coloraxis": {
           "colorbar": {
            "outlinewidth": 0,
            "ticks": ""
           }
          },
          "colorscale": {
           "diverging": [
            [
             0,
             "#8e0152"
            ],
            [
             0.1,
             "#c51b7d"
            ],
            [
             0.2,
             "#de77ae"
            ],
            [
             0.3,
             "#f1b6da"
            ],
            [
             0.4,
             "#fde0ef"
            ],
            [
             0.5,
             "#f7f7f7"
            ],
            [
             0.6,
             "#e6f5d0"
            ],
            [
             0.7,
             "#b8e186"
            ],
            [
             0.8,
             "#7fbc41"
            ],
            [
             0.9,
             "#4d9221"
            ],
            [
             1,
             "#276419"
            ]
           ],
           "sequential": [
            [
             0,
             "#0d0887"
            ],
            [
             0.1111111111111111,
             "#46039f"
            ],
            [
             0.2222222222222222,
             "#7201a8"
            ],
            [
             0.3333333333333333,
             "#9c179e"
            ],
            [
             0.4444444444444444,
             "#bd3786"
            ],
            [
             0.5555555555555556,
             "#d8576b"
            ],
            [
             0.6666666666666666,
             "#ed7953"
            ],
            [
             0.7777777777777778,
             "#fb9f3a"
            ],
            [
             0.8888888888888888,
             "#fdca26"
            ],
            [
             1,
             "#f0f921"
            ]
           ],
           "sequentialminus": [
            [
             0,
             "#0d0887"
            ],
            [
             0.1111111111111111,
             "#46039f"
            ],
            [
             0.2222222222222222,
             "#7201a8"
            ],
            [
             0.3333333333333333,
             "#9c179e"
            ],
            [
             0.4444444444444444,
             "#bd3786"
            ],
            [
             0.5555555555555556,
             "#d8576b"
            ],
            [
             0.6666666666666666,
             "#ed7953"
            ],
            [
             0.7777777777777778,
             "#fb9f3a"
            ],
            [
             0.8888888888888888,
             "#fdca26"
            ],
            [
             1,
             "#f0f921"
            ]
           ]
          },
          "colorway": [
           "#636efa",
           "#EF553B",
           "#00cc96",
           "#ab63fa",
           "#FFA15A",
           "#19d3f3",
           "#FF6692",
           "#B6E880",
           "#FF97FF",
           "#FECB52"
          ],
          "font": {
           "color": "#2a3f5f"
          },
          "geo": {
           "bgcolor": "white",
           "lakecolor": "white",
           "landcolor": "#E5ECF6",
           "showlakes": true,
           "showland": true,
           "subunitcolor": "white"
          },
          "hoverlabel": {
           "align": "left"
          },
          "hovermode": "closest",
          "mapbox": {
           "style": "light"
          },
          "paper_bgcolor": "white",
          "plot_bgcolor": "#E5ECF6",
          "polar": {
           "angularaxis": {
            "gridcolor": "white",
            "linecolor": "white",
            "ticks": ""
           },
           "bgcolor": "#E5ECF6",
           "radialaxis": {
            "gridcolor": "white",
            "linecolor": "white",
            "ticks": ""
           }
          },
          "scene": {
           "xaxis": {
            "backgroundcolor": "#E5ECF6",
            "gridcolor": "white",
            "gridwidth": 2,
            "linecolor": "white",
            "showbackground": true,
            "ticks": "",
            "zerolinecolor": "white"
           },
           "yaxis": {
            "backgroundcolor": "#E5ECF6",
            "gridcolor": "white",
            "gridwidth": 2,
            "linecolor": "white",
            "showbackground": true,
            "ticks": "",
            "zerolinecolor": "white"
           },
           "zaxis": {
            "backgroundcolor": "#E5ECF6",
            "gridcolor": "white",
            "gridwidth": 2,
            "linecolor": "white",
            "showbackground": true,
            "ticks": "",
            "zerolinecolor": "white"
           }
          },
          "shapedefaults": {
           "line": {
            "color": "#2a3f5f"
           }
          },
          "ternary": {
           "aaxis": {
            "gridcolor": "white",
            "linecolor": "white",
            "ticks": ""
           },
           "baxis": {
            "gridcolor": "white",
            "linecolor": "white",
            "ticks": ""
           },
           "bgcolor": "#E5ECF6",
           "caxis": {
            "gridcolor": "white",
            "linecolor": "white",
            "ticks": ""
           }
          },
          "title": {
           "x": 0.05
          },
          "xaxis": {
           "automargin": true,
           "gridcolor": "white",
           "linecolor": "white",
           "ticks": "",
           "title": {
            "standoff": 15
           },
           "zerolinecolor": "white",
           "zerolinewidth": 2
          },
          "yaxis": {
           "automargin": true,
           "gridcolor": "white",
           "linecolor": "white",
           "ticks": "",
           "title": {
            "standoff": 15
           },
           "zerolinecolor": "white",
           "zerolinewidth": 2
          }
         }
        },
        "title": {
         "text": "Nouns DAO Financial Statement"
        },
        "xaxis": {
         "anchor": "y",
         "domain": [
          0,
          1
         ],
         "title": {
          "text": "timestamp"
         }
        },
        "yaxis": {
         "anchor": "x",
         "domain": [
          0,
          1
         ],
         "ticksuffix": " ETH",
         "title": {
          "text": "ETH"
         }
        }
       }
      },
      "text/html": [
       "<div>                            <div id=\"b7f3fe48-30ee-4c03-9fe1-949b105ad6c4\" class=\"plotly-graph-div\" style=\"height:500px; width:100%;\"></div>            <script type=\"text/javascript\">                require([\"plotly\"], function(Plotly) {                    window.PLOTLYENV=window.PLOTLYENV || {};                                    if (document.getElementById(\"b7f3fe48-30ee-4c03-9fe1-949b105ad6c4\")) {                    Plotly.newPlot(                        \"b7f3fe48-30ee-4c03-9fe1-949b105ad6c4\",                        [{\"hovertemplate\":\"variable=Total value<br>timestamp=%{x}<br>ETH=%{y}<extra></extra>\",\"legendgroup\":\"Total value\",\"line\":{\"color\":\"#636efa\",\"dash\":\"solid\"},\"marker\":{\"symbol\":\"circle\"},\"mode\":\"lines\",\"name\":\"Total value\",\"orientation\":\"v\",\"showlegend\":true,\"x\":[\"2021-08-31T00:00:00\",\"2021-09-30T00:00:00\",\"2021-10-31T00:00:00\",\"2021-11-30T00:00:00\",\"2021-12-31T00:00:00\",\"2022-01-31T00:00:00\",\"2022-02-28T00:00:00\",\"2022-03-31T00:00:00\",\"2022-04-30T00:00:00\",\"2022-05-31T00:00:00\",\"2022-06-30T00:00:00\",\"2022-07-31T00:00:00\",\"2022-08-31T00:00:00\"],\"xaxis\":\"x\",\"y\":[null,9658.845970333054,17328.44333454917,21495.18825235586,21639.390178952104,21876.819240051813,24853.80813451107,26858.964119778895,27733.859847106505,28266.053503039613,32193.35287235873,33140.96512100377,32107.716043857905],\"yaxis\":\"y\",\"type\":\"scatter\"},{\"hovertemplate\":\"variable=Equity<br>timestamp=%{x}<br>ETH=%{y}<extra></extra>\",\"legendgroup\":\"Equity\",\"line\":{\"color\":\"#EF553B\",\"dash\":\"solid\"},\"marker\":{\"symbol\":\"circle\"},\"mode\":\"lines\",\"name\":\"Equity\",\"orientation\":\"v\",\"showlegend\":true,\"x\":[\"2021-08-31T00:00:00\",\"2021-09-30T00:00:00\",\"2021-10-31T00:00:00\",\"2021-11-30T00:00:00\",\"2021-12-31T00:00:00\",\"2022-01-31T00:00:00\",\"2022-02-28T00:00:00\",\"2022-03-31T00:00:00\",\"2022-04-30T00:00:00\",\"2022-05-31T00:00:00\",\"2022-06-30T00:00:00\",\"2022-07-31T00:00:00\",\"2022-08-31T00:00:00\"],\"xaxis\":\"x\",\"y\":[3455.6022,7700.4092,13291.743199999997,15608.733199999997,15734.753199999997,15909.919199999997,17796.905059999997,18998.16956,19732.63542,20097.241619999997,22686.040598716278,23368.80059871628,22665.04918071628],\"yaxis\":\"y\",\"type\":\"scatter\"},{\"hovertemplate\":\"variable=Debt<br>timestamp=%{x}<br>ETH=%{y}<extra></extra>\",\"legendgroup\":\"Debt\",\"line\":{\"color\":\"#00cc96\",\"dash\":\"solid\"},\"marker\":{\"symbol\":\"circle\"},\"mode\":\"lines\",\"name\":\"Debt\",\"orientation\":\"v\",\"showlegend\":true,\"x\":[\"2021-08-31T00:00:00\",\"2021-09-30T00:00:00\",\"2021-10-31T00:00:00\",\"2021-11-30T00:00:00\",\"2021-12-31T00:00:00\",\"2022-01-31T00:00:00\",\"2022-02-28T00:00:00\",\"2022-03-31T00:00:00\",\"2022-04-30T00:00:00\",\"2022-05-31T00:00:00\",\"2022-06-30T00:00:00\",\"2022-07-31T00:00:00\",\"2022-08-31T00:00:00\"],\"xaxis\":\"x\",\"y\":[null,1958.436770333054,4036.7001345491717,5886.455052355862,5904.636978952107,5966.900040051816,7056.903074511074,7860.794559778896,8001.224427106506,8168.811883039615,9507.31227364245,9772.164522287492,9442.666863141625],\"yaxis\":\"y\",\"type\":\"scatter\"},{\"hovertemplate\":\"variable=revenue<br>timestamp=%{x}<br>ETH=%{y}<extra></extra>\",\"legendgroup\":\"revenue\",\"line\":{\"color\":\"#ab63fa\",\"dash\":\"solid\"},\"marker\":{\"symbol\":\"circle\"},\"mode\":\"lines\",\"name\":\"revenue\",\"orientation\":\"v\",\"showlegend\":true,\"x\":[\"2021-08-31T00:00:00\",\"2021-09-30T00:00:00\",\"2021-10-31T00:00:00\",\"2021-11-30T00:00:00\",\"2021-12-31T00:00:00\",\"2022-01-31T00:00:00\",\"2022-02-28T00:00:00\",\"2022-03-31T00:00:00\",\"2022-04-30T00:00:00\",\"2022-05-31T00:00:00\",\"2022-06-30T00:00:00\",\"2022-07-31T00:00:00\",\"2022-08-31T00:00:00\"],\"xaxis\":\"x\",\"y\":[3485.6022,4487.807,6067.47,2428.2,1443.216,2274.05,2287.63,1918.8645,2035.12,2884.0176,3494.988978716281,3975.841782,2053.3935],\"yaxis\":\"y\",\"type\":\"scatter\"},{\"hovertemplate\":\"variable=expense<br>timestamp=%{x}<br>ETH=%{y}<extra></extra>\",\"legendgroup\":\"expense\",\"line\":{\"color\":\"#FFA15A\",\"dash\":\"solid\"},\"marker\":{\"symbol\":\"circle\"},\"mode\":\"lines\",\"name\":\"expense\",\"orientation\":\"v\",\"showlegend\":true,\"x\":[\"2021-08-31T00:00:00\",\"2021-09-30T00:00:00\",\"2021-10-31T00:00:00\",\"2021-11-30T00:00:00\",\"2021-12-31T00:00:00\",\"2022-01-31T00:00:00\",\"2022-02-28T00:00:00\",\"2022-03-31T00:00:00\",\"2022-04-30T00:00:00\",\"2022-05-31T00:00:00\",\"2022-06-30T00:00:00\",\"2022-07-31T00:00:00\",\"2022-08-31T00:00:00\"],\"xaxis\":\"x\",\"y\":[30.0,243.0,116.13600000000278,139.21,1707.15,1639.2,701.62414,479.14414,2529.2114,1228.3300000000002,806.19,4177.3442,1023.0],\"yaxis\":\"y\",\"type\":\"scatter\"}],                        {\"template\":{\"data\":{\"histogram2dcontour\":[{\"type\":\"histogram2dcontour\",\"colorbar\":{\"outlinewidth\":0,\"ticks\":\"\"},\"colorscale\":[[0.0,\"#0d0887\"],[0.1111111111111111,\"#46039f\"],[0.2222222222222222,\"#7201a8\"],[0.3333333333333333,\"#9c179e\"],[0.4444444444444444,\"#bd3786\"],[0.5555555555555556,\"#d8576b\"],[0.6666666666666666,\"#ed7953\"],[0.7777777777777778,\"#fb9f3a\"],[0.8888888888888888,\"#fdca26\"],[1.0,\"#f0f921\"]]}],\"choropleth\":[{\"type\":\"choropleth\",\"colorbar\":{\"outlinewidth\":0,\"ticks\":\"\"}}],\"histogram2d\":[{\"type\":\"histogram2d\",\"colorbar\":{\"outlinewidth\":0,\"ticks\":\"\"},\"colorscale\":[[0.0,\"#0d0887\"],[0.1111111111111111,\"#46039f\"],[0.2222222222222222,\"#7201a8\"],[0.3333333333333333,\"#9c179e\"],[0.4444444444444444,\"#bd3786\"],[0.5555555555555556,\"#d8576b\"],[0.6666666666666666,\"#ed7953\"],[0.7777777777777778,\"#fb9f3a\"],[0.8888888888888888,\"#fdca26\"],[1.0,\"#f0f921\"]]}],\"heatmap\":[{\"type\":\"heatmap\",\"colorbar\":{\"outlinewidth\":0,\"ticks\":\"\"},\"colorscale\":[[0.0,\"#0d0887\"],[0.1111111111111111,\"#46039f\"],[0.2222222222222222,\"#7201a8\"],[0.3333333333333333,\"#9c179e\"],[0.4444444444444444,\"#bd3786\"],[0.5555555555555556,\"#d8576b\"],[0.6666666666666666,\"#ed7953\"],[0.7777777777777778,\"#fb9f3a\"],[0.8888888888888888,\"#fdca26\"],[1.0,\"#f0f921\"]]}],\"heatmapgl\":[{\"type\":\"heatmapgl\",\"colorbar\":{\"outlinewidth\":0,\"ticks\":\"\"},\"colorscale\":[[0.0,\"#0d0887\"],[0.1111111111111111,\"#46039f\"],[0.2222222222222222,\"#7201a8\"],[0.3333333333333333,\"#9c179e\"],[0.4444444444444444,\"#bd3786\"],[0.5555555555555556,\"#d8576b\"],[0.6666666666666666,\"#ed7953\"],[0.7777777777777778,\"#fb9f3a\"],[0.8888888888888888,\"#fdca26\"],[1.0,\"#f0f921\"]]}],\"contourcarpet\":[{\"type\":\"contourcarpet\",\"colorbar\":{\"outlinewidth\":0,\"ticks\":\"\"}}],\"contour\":[{\"type\":\"contour\",\"colorbar\":{\"outlinewidth\":0,\"ticks\":\"\"},\"colorscale\":[[0.0,\"#0d0887\"],[0.1111111111111111,\"#46039f\"],[0.2222222222222222,\"#7201a8\"],[0.3333333333333333,\"#9c179e\"],[0.4444444444444444,\"#bd3786\"],[0.5555555555555556,\"#d8576b\"],[0.6666666666666666,\"#ed7953\"],[0.7777777777777778,\"#fb9f3a\"],[0.8888888888888888,\"#fdca26\"],[1.0,\"#f0f921\"]]}],\"surface\":[{\"type\":\"surface\",\"colorbar\":{\"outlinewidth\":0,\"ticks\":\"\"},\"colorscale\":[[0.0,\"#0d0887\"],[0.1111111111111111,\"#46039f\"],[0.2222222222222222,\"#7201a8\"],[0.3333333333333333,\"#9c179e\"],[0.4444444444444444,\"#bd3786\"],[0.5555555555555556,\"#d8576b\"],[0.6666666666666666,\"#ed7953\"],[0.7777777777777778,\"#fb9f3a\"],[0.8888888888888888,\"#fdca26\"],[1.0,\"#f0f921\"]]}],\"mesh3d\":[{\"type\":\"mesh3d\",\"colorbar\":{\"outlinewidth\":0,\"ticks\":\"\"}}],\"scatter\":[{\"fillpattern\":{\"fillmode\":\"overlay\",\"size\":10,\"solidity\":0.2},\"type\":\"scatter\"}],\"parcoords\":[{\"type\":\"parcoords\",\"line\":{\"colorbar\":{\"outlinewidth\":0,\"ticks\":\"\"}}}],\"scatterpolargl\":[{\"type\":\"scatterpolargl\",\"marker\":{\"colorbar\":{\"outlinewidth\":0,\"ticks\":\"\"}}}],\"bar\":[{\"error_x\":{\"color\":\"#2a3f5f\"},\"error_y\":{\"color\":\"#2a3f5f\"},\"marker\":{\"line\":{\"color\":\"#E5ECF6\",\"width\":0.5},\"pattern\":{\"fillmode\":\"overlay\",\"size\":10,\"solidity\":0.2}},\"type\":\"bar\"}],\"scattergeo\":[{\"type\":\"scattergeo\",\"marker\":{\"colorbar\":{\"outlinewidth\":0,\"ticks\":\"\"}}}],\"scatterpolar\":[{\"type\":\"scatterpolar\",\"marker\":{\"colorbar\":{\"outlinewidth\":0,\"ticks\":\"\"}}}],\"histogram\":[{\"marker\":{\"pattern\":{\"fillmode\":\"overlay\",\"size\":10,\"solidity\":0.2}},\"type\":\"histogram\"}],\"scattergl\":[{\"type\":\"scattergl\",\"marker\":{\"colorbar\":{\"outlinewidth\":0,\"ticks\":\"\"}}}],\"scatter3d\":[{\"type\":\"scatter3d\",\"line\":{\"colorbar\":{\"outlinewidth\":0,\"ticks\":\"\"}},\"marker\":{\"colorbar\":{\"outlinewidth\":0,\"ticks\":\"\"}}}],\"scattermapbox\":[{\"type\":\"scattermapbox\",\"marker\":{\"colorbar\":{\"outlinewidth\":0,\"ticks\":\"\"}}}],\"scatterternary\":[{\"type\":\"scatterternary\",\"marker\":{\"colorbar\":{\"outlinewidth\":0,\"ticks\":\"\"}}}],\"scattercarpet\":[{\"type\":\"scattercarpet\",\"marker\":{\"colorbar\":{\"outlinewidth\":0,\"ticks\":\"\"}}}],\"carpet\":[{\"aaxis\":{\"endlinecolor\":\"#2a3f5f\",\"gridcolor\":\"white\",\"linecolor\":\"white\",\"minorgridcolor\":\"white\",\"startlinecolor\":\"#2a3f5f\"},\"baxis\":{\"endlinecolor\":\"#2a3f5f\",\"gridcolor\":\"white\",\"linecolor\":\"white\",\"minorgridcolor\":\"white\",\"startlinecolor\":\"#2a3f5f\"},\"type\":\"carpet\"}],\"table\":[{\"cells\":{\"fill\":{\"color\":\"#EBF0F8\"},\"line\":{\"color\":\"white\"}},\"header\":{\"fill\":{\"color\":\"#C8D4E3\"},\"line\":{\"color\":\"white\"}},\"type\":\"table\"}],\"barpolar\":[{\"marker\":{\"line\":{\"color\":\"#E5ECF6\",\"width\":0.5},\"pattern\":{\"fillmode\":\"overlay\",\"size\":10,\"solidity\":0.2}},\"type\":\"barpolar\"}],\"pie\":[{\"automargin\":true,\"type\":\"pie\"}]},\"layout\":{\"autotypenumbers\":\"strict\",\"colorway\":[\"#636efa\",\"#EF553B\",\"#00cc96\",\"#ab63fa\",\"#FFA15A\",\"#19d3f3\",\"#FF6692\",\"#B6E880\",\"#FF97FF\",\"#FECB52\"],\"font\":{\"color\":\"#2a3f5f\"},\"hovermode\":\"closest\",\"hoverlabel\":{\"align\":\"left\"},\"paper_bgcolor\":\"white\",\"plot_bgcolor\":\"#E5ECF6\",\"polar\":{\"bgcolor\":\"#E5ECF6\",\"angularaxis\":{\"gridcolor\":\"white\",\"linecolor\":\"white\",\"ticks\":\"\"},\"radialaxis\":{\"gridcolor\":\"white\",\"linecolor\":\"white\",\"ticks\":\"\"}},\"ternary\":{\"bgcolor\":\"#E5ECF6\",\"aaxis\":{\"gridcolor\":\"white\",\"linecolor\":\"white\",\"ticks\":\"\"},\"baxis\":{\"gridcolor\":\"white\",\"linecolor\":\"white\",\"ticks\":\"\"},\"caxis\":{\"gridcolor\":\"white\",\"linecolor\":\"white\",\"ticks\":\"\"}},\"coloraxis\":{\"colorbar\":{\"outlinewidth\":0,\"ticks\":\"\"}},\"colorscale\":{\"sequential\":[[0.0,\"#0d0887\"],[0.1111111111111111,\"#46039f\"],[0.2222222222222222,\"#7201a8\"],[0.3333333333333333,\"#9c179e\"],[0.4444444444444444,\"#bd3786\"],[0.5555555555555556,\"#d8576b\"],[0.6666666666666666,\"#ed7953\"],[0.7777777777777778,\"#fb9f3a\"],[0.8888888888888888,\"#fdca26\"],[1.0,\"#f0f921\"]],\"sequentialminus\":[[0.0,\"#0d0887\"],[0.1111111111111111,\"#46039f\"],[0.2222222222222222,\"#7201a8\"],[0.3333333333333333,\"#9c179e\"],[0.4444444444444444,\"#bd3786\"],[0.5555555555555556,\"#d8576b\"],[0.6666666666666666,\"#ed7953\"],[0.7777777777777778,\"#fb9f3a\"],[0.8888888888888888,\"#fdca26\"],[1.0,\"#f0f921\"]],\"diverging\":[[0,\"#8e0152\"],[0.1,\"#c51b7d\"],[0.2,\"#de77ae\"],[0.3,\"#f1b6da\"],[0.4,\"#fde0ef\"],[0.5,\"#f7f7f7\"],[0.6,\"#e6f5d0\"],[0.7,\"#b8e186\"],[0.8,\"#7fbc41\"],[0.9,\"#4d9221\"],[1,\"#276419\"]]},\"xaxis\":{\"gridcolor\":\"white\",\"linecolor\":\"white\",\"ticks\":\"\",\"title\":{\"standoff\":15},\"zerolinecolor\":\"white\",\"automargin\":true,\"zerolinewidth\":2},\"yaxis\":{\"gridcolor\":\"white\",\"linecolor\":\"white\",\"ticks\":\"\",\"title\":{\"standoff\":15},\"zerolinecolor\":\"white\",\"automargin\":true,\"zerolinewidth\":2},\"scene\":{\"xaxis\":{\"backgroundcolor\":\"#E5ECF6\",\"gridcolor\":\"white\",\"linecolor\":\"white\",\"showbackground\":true,\"ticks\":\"\",\"zerolinecolor\":\"white\",\"gridwidth\":2},\"yaxis\":{\"backgroundcolor\":\"#E5ECF6\",\"gridcolor\":\"white\",\"linecolor\":\"white\",\"showbackground\":true,\"ticks\":\"\",\"zerolinecolor\":\"white\",\"gridwidth\":2},\"zaxis\":{\"backgroundcolor\":\"#E5ECF6\",\"gridcolor\":\"white\",\"linecolor\":\"white\",\"showbackground\":true,\"ticks\":\"\",\"zerolinecolor\":\"white\",\"gridwidth\":2}},\"shapedefaults\":{\"line\":{\"color\":\"#2a3f5f\"}},\"annotationdefaults\":{\"arrowcolor\":\"#2a3f5f\",\"arrowhead\":0,\"arrowwidth\":1},\"geo\":{\"bgcolor\":\"white\",\"landcolor\":\"#E5ECF6\",\"subunitcolor\":\"white\",\"showland\":true,\"showlakes\":true,\"lakecolor\":\"white\"},\"title\":{\"x\":0.05},\"mapbox\":{\"style\":\"light\"}}},\"xaxis\":{\"anchor\":\"y\",\"domain\":[0.0,1.0],\"title\":{\"text\":\"timestamp\"}},\"yaxis\":{\"anchor\":\"x\",\"domain\":[0.0,1.0],\"title\":{\"text\":\"ETH\"},\"ticksuffix\":\" ETH\"},\"legend\":{\"title\":{\"text\":\"variable\"},\"tracegroupgap\":0},\"title\":{\"text\":\"Nouns DAO Financial Statement\"},\"height\":500,\"hovermode\":\"x\"},                        {\"responsive\": true}                    ).then(function(){\n",
       "                            \n",
       "var gd = document.getElementById('b7f3fe48-30ee-4c03-9fe1-949b105ad6c4');\n",
       "var x = new MutationObserver(function (mutations, observer) {{\n",
       "        var display = window.getComputedStyle(gd).display;\n",
       "        if (!display || display === 'none') {{\n",
       "            console.log([gd, 'removed!']);\n",
       "            Plotly.purge(gd);\n",
       "            observer.disconnect();\n",
       "        }}\n",
       "}});\n",
       "\n",
       "// Listen for the removal of the full notebook cells\n",
       "var notebookContainer = gd.closest('#notebook-container');\n",
       "if (notebookContainer) {{\n",
       "    x.observe(notebookContainer, {childList: true});\n",
       "}}\n",
       "\n",
       "// Listen for the clearing of the current output cell\n",
       "var outputEl = gd.closest('.output');\n",
       "if (outputEl) {{\n",
       "    x.observe(outputEl, {childList: true});\n",
       "}}\n",
       "\n",
       "                        })                };                });            </script>        </div>"
      ]
     },
     "metadata": {},
     "output_type": "display_data"
    }
   ],
   "source": [
    "# Graphing the data\n",
    "fig = px.line(df_nouns, x = df_nouns.index, y=['Total value', 'Equity', 'Debt', 'revenue', 'expense'],\n",
    "              height=500, title = \"Nouns DAO Financial Statement\",\n",
    "              labels={\n",
    "                     \"value\": \"ETH\",\n",
    "                     \"index\": \"Date\",\n",
    "                 },\n",
    "             )\n",
    "fig.update_layout(hovermode=\"x\", yaxis= {'ticksuffix': ' ETH' })\n",
    "fig.show() "
   ]
  },
  {
   "cell_type": "code",
   "execution_count": 211,
   "id": "e456224b",
   "metadata": {},
   "outputs": [
    {
     "data": {
      "text/html": [
       "<div>\n",
       "<style scoped>\n",
       "    .dataframe tbody tr th:only-of-type {\n",
       "        vertical-align: middle;\n",
       "    }\n",
       "\n",
       "    .dataframe tbody tr th {\n",
       "        vertical-align: top;\n",
       "    }\n",
       "\n",
       "    .dataframe thead th {\n",
       "        text-align: right;\n",
       "    }\n",
       "</style>\n",
       "<table border=\"1\" class=\"dataframe\">\n",
       "  <thead>\n",
       "    <tr style=\"text-align: right;\">\n",
       "      <th></th>\n",
       "      <th>balance</th>\n",
       "      <th>revenue</th>\n",
       "      <th>expense</th>\n",
       "      <th>Equity</th>\n",
       "      <th>equity_diff</th>\n",
       "      <th>debt_diff</th>\n",
       "      <th>Debt</th>\n",
       "      <th>Total value</th>\n",
       "      <th>Debt/Equity ratio</th>\n",
       "    </tr>\n",
       "    <tr>\n",
       "      <th>timestamp</th>\n",
       "      <th></th>\n",
       "      <th></th>\n",
       "      <th></th>\n",
       "      <th></th>\n",
       "      <th></th>\n",
       "      <th></th>\n",
       "      <th></th>\n",
       "      <th></th>\n",
       "      <th></th>\n",
       "    </tr>\n",
       "  </thead>\n",
       "  <tbody>\n",
       "    <tr>\n",
       "      <th>2021-08-31</th>\n",
       "      <td>3455.602200</td>\n",
       "      <td>3485.602200</td>\n",
       "      <td>30.00000</td>\n",
       "      <td>3455.602200</td>\n",
       "      <td>0.000000</td>\n",
       "      <td>NaN</td>\n",
       "      <td>NaN</td>\n",
       "      <td>NaN</td>\n",
       "      <td>NaN</td>\n",
       "    </tr>\n",
       "    <tr>\n",
       "      <th>2021-09-30</th>\n",
       "      <td>7700.409200</td>\n",
       "      <td>4487.807000</td>\n",
       "      <td>243.00000</td>\n",
       "      <td>7700.409200</td>\n",
       "      <td>4244.807000</td>\n",
       "      <td>1958.436770</td>\n",
       "      <td>1958.436770</td>\n",
       "      <td>9658.845970</td>\n",
       "      <td>0.254329</td>\n",
       "    </tr>\n",
       "    <tr>\n",
       "      <th>2021-10-31</th>\n",
       "      <td>13291.743200</td>\n",
       "      <td>6067.470000</td>\n",
       "      <td>116.13600</td>\n",
       "      <td>13291.743200</td>\n",
       "      <td>5591.334000</td>\n",
       "      <td>2078.263364</td>\n",
       "      <td>4036.700135</td>\n",
       "      <td>17328.443335</td>\n",
       "      <td>0.303700</td>\n",
       "    </tr>\n",
       "    <tr>\n",
       "      <th>2021-11-30</th>\n",
       "      <td>15608.733200</td>\n",
       "      <td>2428.200000</td>\n",
       "      <td>139.21000</td>\n",
       "      <td>15608.733200</td>\n",
       "      <td>2316.990000</td>\n",
       "      <td>1849.754918</td>\n",
       "      <td>5886.455052</td>\n",
       "      <td>21495.188252</td>\n",
       "      <td>0.377126</td>\n",
       "    </tr>\n",
       "    <tr>\n",
       "      <th>2021-12-31</th>\n",
       "      <td>15734.753200</td>\n",
       "      <td>1443.216000</td>\n",
       "      <td>1707.15000</td>\n",
       "      <td>15734.753200</td>\n",
       "      <td>126.020000</td>\n",
       "      <td>18.181927</td>\n",
       "      <td>5904.636979</td>\n",
       "      <td>21639.390179</td>\n",
       "      <td>0.375261</td>\n",
       "    </tr>\n",
       "    <tr>\n",
       "      <th>2022-01-31</th>\n",
       "      <td>15909.919200</td>\n",
       "      <td>2274.050000</td>\n",
       "      <td>1639.20000</td>\n",
       "      <td>15909.919200</td>\n",
       "      <td>175.166000</td>\n",
       "      <td>62.263061</td>\n",
       "      <td>5966.900040</td>\n",
       "      <td>21876.819240</td>\n",
       "      <td>0.375043</td>\n",
       "    </tr>\n",
       "    <tr>\n",
       "      <th>2022-02-28</th>\n",
       "      <td>17796.905060</td>\n",
       "      <td>2287.630000</td>\n",
       "      <td>701.62414</td>\n",
       "      <td>17796.905060</td>\n",
       "      <td>1886.985860</td>\n",
       "      <td>1090.003034</td>\n",
       "      <td>7056.903075</td>\n",
       "      <td>24853.808135</td>\n",
       "      <td>0.396524</td>\n",
       "    </tr>\n",
       "    <tr>\n",
       "      <th>2022-03-31</th>\n",
       "      <td>18998.169560</td>\n",
       "      <td>1918.864500</td>\n",
       "      <td>479.14414</td>\n",
       "      <td>18998.169560</td>\n",
       "      <td>1201.264500</td>\n",
       "      <td>803.891485</td>\n",
       "      <td>7860.794560</td>\n",
       "      <td>26858.964120</td>\n",
       "      <td>0.413766</td>\n",
       "    </tr>\n",
       "    <tr>\n",
       "      <th>2022-04-30</th>\n",
       "      <td>19732.635420</td>\n",
       "      <td>2035.120000</td>\n",
       "      <td>2529.21140</td>\n",
       "      <td>19732.635420</td>\n",
       "      <td>734.465860</td>\n",
       "      <td>140.429867</td>\n",
       "      <td>8001.224427</td>\n",
       "      <td>27733.859847</td>\n",
       "      <td>0.405482</td>\n",
       "    </tr>\n",
       "    <tr>\n",
       "      <th>2022-05-31</th>\n",
       "      <td>20097.241620</td>\n",
       "      <td>2884.017600</td>\n",
       "      <td>1228.33000</td>\n",
       "      <td>20097.241620</td>\n",
       "      <td>364.606200</td>\n",
       "      <td>167.587456</td>\n",
       "      <td>8168.811883</td>\n",
       "      <td>28266.053503</td>\n",
       "      <td>0.406464</td>\n",
       "    </tr>\n",
       "    <tr>\n",
       "      <th>2022-06-30</th>\n",
       "      <td>22686.040599</td>\n",
       "      <td>3494.988979</td>\n",
       "      <td>806.19000</td>\n",
       "      <td>22686.040599</td>\n",
       "      <td>2588.798979</td>\n",
       "      <td>1338.500391</td>\n",
       "      <td>9507.312274</td>\n",
       "      <td>32193.352872</td>\n",
       "      <td>0.419082</td>\n",
       "    </tr>\n",
       "    <tr>\n",
       "      <th>2022-07-31</th>\n",
       "      <td>23368.800599</td>\n",
       "      <td>3975.841782</td>\n",
       "      <td>4177.34420</td>\n",
       "      <td>23368.800599</td>\n",
       "      <td>682.760000</td>\n",
       "      <td>264.852249</td>\n",
       "      <td>9772.164522</td>\n",
       "      <td>33140.965121</td>\n",
       "      <td>0.418171</td>\n",
       "    </tr>\n",
       "    <tr>\n",
       "      <th>2022-08-31</th>\n",
       "      <td>22665.049181</td>\n",
       "      <td>2053.393500</td>\n",
       "      <td>1023.00000</td>\n",
       "      <td>22665.049181</td>\n",
       "      <td>-703.751418</td>\n",
       "      <td>-329.497659</td>\n",
       "      <td>9442.666863</td>\n",
       "      <td>32107.716044</td>\n",
       "      <td>0.416618</td>\n",
       "    </tr>\n",
       "  </tbody>\n",
       "</table>\n",
       "</div>"
      ],
      "text/plain": [
       "                 balance      revenue     expense        Equity  equity_diff  \\\n",
       "timestamp                                                                      \n",
       "2021-08-31   3455.602200  3485.602200    30.00000   3455.602200     0.000000   \n",
       "2021-09-30   7700.409200  4487.807000   243.00000   7700.409200  4244.807000   \n",
       "2021-10-31  13291.743200  6067.470000   116.13600  13291.743200  5591.334000   \n",
       "2021-11-30  15608.733200  2428.200000   139.21000  15608.733200  2316.990000   \n",
       "2021-12-31  15734.753200  1443.216000  1707.15000  15734.753200   126.020000   \n",
       "2022-01-31  15909.919200  2274.050000  1639.20000  15909.919200   175.166000   \n",
       "2022-02-28  17796.905060  2287.630000   701.62414  17796.905060  1886.985860   \n",
       "2022-03-31  18998.169560  1918.864500   479.14414  18998.169560  1201.264500   \n",
       "2022-04-30  19732.635420  2035.120000  2529.21140  19732.635420   734.465860   \n",
       "2022-05-31  20097.241620  2884.017600  1228.33000  20097.241620   364.606200   \n",
       "2022-06-30  22686.040599  3494.988979   806.19000  22686.040599  2588.798979   \n",
       "2022-07-31  23368.800599  3975.841782  4177.34420  23368.800599   682.760000   \n",
       "2022-08-31  22665.049181  2053.393500  1023.00000  22665.049181  -703.751418   \n",
       "\n",
       "              debt_diff         Debt   Total value  Debt/Equity ratio  \n",
       "timestamp                                                              \n",
       "2021-08-31          NaN          NaN           NaN                NaN  \n",
       "2021-09-30  1958.436770  1958.436770   9658.845970           0.254329  \n",
       "2021-10-31  2078.263364  4036.700135  17328.443335           0.303700  \n",
       "2021-11-30  1849.754918  5886.455052  21495.188252           0.377126  \n",
       "2021-12-31    18.181927  5904.636979  21639.390179           0.375261  \n",
       "2022-01-31    62.263061  5966.900040  21876.819240           0.375043  \n",
       "2022-02-28  1090.003034  7056.903075  24853.808135           0.396524  \n",
       "2022-03-31   803.891485  7860.794560  26858.964120           0.413766  \n",
       "2022-04-30   140.429867  8001.224427  27733.859847           0.405482  \n",
       "2022-05-31   167.587456  8168.811883  28266.053503           0.406464  \n",
       "2022-06-30  1338.500391  9507.312274  32193.352872           0.419082  \n",
       "2022-07-31   264.852249  9772.164522  33140.965121           0.418171  \n",
       "2022-08-31  -329.497659  9442.666863  32107.716044           0.416618  "
      ]
     },
     "execution_count": 211,
     "metadata": {},
     "output_type": "execute_result"
    }
   ],
   "source": [
    "df_nouns"
   ]
  },
  {
   "cell_type": "code",
   "execution_count": 306,
   "id": "0027563a",
   "metadata": {},
   "outputs": [
    {
     "data": {
      "text/plain": [
       "timestamp\n",
       "2022-04-30         NaN\n",
       "2022-05-31         NaN\n",
       "2022-06-30         NaN\n",
       "2022-07-31         NaN\n",
       "2022-08-31    0.642117\n",
       "Name: expense, dtype: float64"
      ]
     },
     "execution_count": 306,
     "metadata": {},
     "output_type": "execute_result"
    }
   ],
   "source": [
    "df_nouns.tail(5)['expense'].pct_change().mul(1).rolling(4).mean()"
   ]
  },
  {
   "cell_type": "code",
   "execution_count": 270,
   "id": "51537649",
   "metadata": {},
   "outputs": [
    {
     "data": {
      "text/plain": [
       "timestamp\n",
       "2022-04-30         NaN\n",
       "2022-05-31         NaN\n",
       "2022-06-30         NaN\n",
       "2022-07-31         NaN\n",
       "2022-08-31    0.070756\n",
       "Name: revenue, dtype: float64"
      ]
     },
     "execution_count": 270,
     "metadata": {},
     "output_type": "execute_result"
    }
   ],
   "source": [
    "df_nouns.tail(5)['revenue'].pct_change().mul(1).rolling(4).mean()"
   ]
  },
  {
   "cell_type": "code",
   "execution_count": 313,
   "id": "a9672926",
   "metadata": {},
   "outputs": [
    {
     "data": {
      "text/plain": [
       "0.642116899769227"
      ]
     },
     "execution_count": 313,
     "metadata": {},
     "output_type": "execute_result"
    }
   ],
   "source": [
    "df_nouns.tail(5)['expense'].pct_change().mul(1).rolling(4).mean()[-1]"
   ]
  },
  {
   "cell_type": "code",
   "execution_count": 325,
   "id": "5fdf98b0",
   "metadata": {},
   "outputs": [],
   "source": [
    "def randomwalk1D(n, cutoff):\n",
    "    x, y = df_nouns.index[-1], df_nouns.iloc[-1, 3]\n",
    "    monthly_move = (df_nouns.iloc[-1, 3] - df_nouns.iloc[-13, 3])/12\n",
    "    expense = df_nouns.tail(10)['expense'].mean()\n",
    "    revenue = df_nouns.tail(10)['revenue'].mean()\n",
    "    expense_move = df_nouns.tail(5)['expense'].pct_change().mul(1).rolling(4).mean()[-1]\n",
    "    revenue_move = df_nouns.tail(5)['revenue'].pct_change().mul(1).rolling(4).mean()[-1]\n",
    "\n",
    "    # Generate the time points [1, 2, 3, ... , n]\n",
    "    points = np.arange(n + 1)\n",
    "    timepoints = []\n",
    "    for timepoint in points:\n",
    "        timepoint = x + timedelta(days=int(timepoint))\n",
    "        timepoints.append(timepoint)\n",
    "    positions = [y]\n",
    "\n",
    "    directions = [\"UP\", \"DOWN\"]\n",
    "    for i in range(1, n + 1):\n",
    "\n",
    "        # Randomly select either UP or DOWN\n",
    "        step = random.choice(directions)\n",
    "        \n",
    "        # Move the object up or down\n",
    "        if step == \"UP\":\n",
    "            y += (revenue * i * .5 * revenue_move - expense)\n",
    "        elif step == \"DOWN\":\n",
    "            y += (revenue - expense * i * .5 * expense_move)\n",
    "\n",
    "        # Keep track of the positions\n",
    "        positions.append(y)\n",
    "\n",
    "#     return timepoints, positions\n",
    "\n",
    "    if y > cutoff:\n",
    "        return 1\n",
    "    else:\n",
    "        return 0"
   ]
  },
  {
   "cell_type": "code",
   "execution_count": 326,
   "id": "2499b833",
   "metadata": {},
   "outputs": [],
   "source": [
    "results = []\n",
    "for reps in range(0, 10000):\n",
    "    results.append(randomwalk1D(12, df_nouns.iloc[-1, 6]))"
   ]
  },
  {
   "cell_type": "code",
   "execution_count": 328,
   "id": "69780bce",
   "metadata": {},
   "outputs": [
    {
     "data": {
      "text/plain": [
       "0.9179"
      ]
     },
     "execution_count": 328,
     "metadata": {},
     "output_type": "execute_result"
    }
   ],
   "source": [
    "# Chance of default\n",
    "np.mean(results)"
   ]
  },
  {
   "cell_type": "code",
   "execution_count": null,
   "id": "c8177d85",
   "metadata": {},
   "outputs": [],
   "source": []
  },
  {
   "cell_type": "code",
   "execution_count": null,
   "id": "57edc393",
   "metadata": {},
   "outputs": [],
   "source": []
  },
  {
   "cell_type": "code",
   "execution_count": null,
   "id": "fdcab720",
   "metadata": {},
   "outputs": [],
   "source": []
  },
  {
   "cell_type": "code",
   "execution_count": null,
   "id": "85df0bb5",
   "metadata": {},
   "outputs": [],
   "source": []
  },
  {
   "cell_type": "code",
   "execution_count": null,
   "id": "b85a5947",
   "metadata": {},
   "outputs": [],
   "source": []
  },
  {
   "cell_type": "code",
   "execution_count": null,
   "id": "8c5666f9",
   "metadata": {},
   "outputs": [],
   "source": []
  },
  {
   "cell_type": "code",
   "execution_count": null,
   "id": "9b4f9a69",
   "metadata": {},
   "outputs": [],
   "source": []
  },
  {
   "cell_type": "code",
   "execution_count": null,
   "id": "dda39e5d",
   "metadata": {},
   "outputs": [],
   "source": []
  },
  {
   "cell_type": "code",
   "execution_count": null,
   "id": "9e0f3440",
   "metadata": {},
   "outputs": [],
   "source": []
  },
  {
   "cell_type": "code",
   "execution_count": null,
   "id": "bdb41bfc",
   "metadata": {},
   "outputs": [],
   "source": []
  },
  {
   "cell_type": "code",
   "execution_count": null,
   "id": "901f21c8",
   "metadata": {},
   "outputs": [],
   "source": []
  },
  {
   "cell_type": "markdown",
   "id": "0e25cef8",
   "metadata": {},
   "source": [
    "# Unused code"
   ]
  },
  {
   "cell_type": "markdown",
   "id": "77fb637f",
   "metadata": {},
   "source": [
    "### Convex"
   ]
  },
  {
   "cell_type": "code",
   "execution_count": 14,
   "id": "cc66c7cf",
   "metadata": {},
   "outputs": [],
   "source": [
    "def fetch_token_transactions(treasury_contract):\n",
    "    data = []\n",
    "    labels = {\n",
    "        'to': 'revenue',\n",
    "        'from': 'expense',\n",
    "    }\n",
    "    q = {\n",
    "        \"query\": {\n",
    "            \"bool\": {\n",
    "                \"filter\": [\n",
    "                    {\n",
    "                        \"term\": {\n",
    "                            \"event.raw\": \"Transfer\"\n",
    "                        }\n",
    "                    },\n",
    "                    {\n",
    "                        \"nested\": {\n",
    "                            \"path\": \"args\",\n",
    "                            \"query\": {\n",
    "                                \"bool\": {\n",
    "                                    \"filter\": [\n",
    "                                        {\n",
    "                                            \"term\": {\n",
    "                                                \"args.value.hex\": treasury_contract\n",
    "                                            }\n",
    "                                        }\n",
    "                                    ]\n",
    "                                }\n",
    "                            }\n",
    "                        }\n",
    "                    }\n",
    "                ]\n",
    "            }\n",
    "        },\n",
    "        \"size\": 1000\n",
    "    }\n",
    "\n",
    "    s = Search(using=es, index=\"event\") \\\n",
    "        .update_from_dict(q)\n",
    "    for hit in s.scan():\n",
    "        for arg in safeget(hit, 'args'):\n",
    "            if arg['name'] == 'from':\n",
    "                tx_from = arg['value.hex']\n",
    "            if arg['name'] == 'to':\n",
    "                tx_to = arg['value.hex']\n",
    "            if arg['name'] == 'value':\n",
    "                value_hex = arg['value.hex']\n",
    "                value_scaled = arg['value.scaled']\n",
    "        if tx_to == treasury_contract:\n",
    "            direction = 'to'\n",
    "        else:\n",
    "            direction = 'from'\n",
    "        data.append({\n",
    "            \"timestamp\": safeget(hit, 'timestamp'),\n",
    "            'datetime': pd.to_datetime(safeget(hit, 'timestamp'), unit='s'),\n",
    "            \"block_number\": safeget(hit, 'blockNumber', 'num'),\n",
    "            \"direction\": direction,\n",
    "            \"type\": safeget(hit, 'event'),\n",
    "            'token': safeget(hit, 'address'),\n",
    "            'from': tx_from,\n",
    "            'to': tx_to,\n",
    "            labels[direction]: value_scaled,\n",
    "            labels[direction]+'_hex': value_hex,\n",
    "        })\n",
    "    \n",
    "    \n",
    "    df = pd.DataFrame(data)\n",
    "    df = df.sort_values('timestamp', ascending=True).reset_index(drop=True)\n",
    "    return df"
   ]
  },
  {
   "cell_type": "code",
   "execution_count": 15,
   "id": "cdb9b228",
   "metadata": {},
   "outputs": [],
   "source": [
    "df_convex = fetch_token_transactions(convex_treasury)"
   ]
  },
  {
   "cell_type": "code",
   "execution_count": 16,
   "id": "3c541e26",
   "metadata": {},
   "outputs": [
    {
     "data": {
      "text/html": [
       "<div>\n",
       "<style scoped>\n",
       "    .dataframe tbody tr th:only-of-type {\n",
       "        vertical-align: middle;\n",
       "    }\n",
       "\n",
       "    .dataframe tbody tr th {\n",
       "        vertical-align: top;\n",
       "    }\n",
       "\n",
       "    .dataframe thead th {\n",
       "        text-align: right;\n",
       "    }\n",
       "</style>\n",
       "<table border=\"1\" class=\"dataframe\">\n",
       "  <thead>\n",
       "    <tr style=\"text-align: right;\">\n",
       "      <th></th>\n",
       "      <th>timestamp</th>\n",
       "      <th>datetime</th>\n",
       "      <th>block_number</th>\n",
       "      <th>direction</th>\n",
       "      <th>type</th>\n",
       "      <th>token</th>\n",
       "      <th>from</th>\n",
       "      <th>to</th>\n",
       "      <th>revenue</th>\n",
       "      <th>revenue_hex</th>\n",
       "      <th>expense</th>\n",
       "      <th>expense_hex</th>\n",
       "    </tr>\n",
       "  </thead>\n",
       "  <tbody>\n",
       "    <tr>\n",
       "      <th>0</th>\n",
       "      <td>1621820223</td>\n",
       "      <td>2021-05-24 01:37:03</td>\n",
       "      <td>12494128</td>\n",
       "      <td>to</td>\n",
       "      <td>Transfer</td>\n",
       "      <td>0x4e3FBD56CD56c3e72c1403e103b45Db9da5B9D2B</td>\n",
       "      <td>0xe98984aD858075813AdA4261aF47e68A64E28fCC</td>\n",
       "      <td>0x1389388d01708118b497f59521f6943Be2541bb7</td>\n",
       "      <td>176006.502467</td>\n",
       "      <td>0x254554e4dfb870cd8c5f</td>\n",
       "      <td>NaN</td>\n",
       "      <td>NaN</td>\n",
       "    </tr>\n",
       "    <tr>\n",
       "      <th>1</th>\n",
       "      <td>1622620852</td>\n",
       "      <td>2021-06-02 08:00:52</td>\n",
       "      <td>12553800</td>\n",
       "      <td>from</td>\n",
       "      <td>Transfer</td>\n",
       "      <td>0x4e3FBD56CD56c3e72c1403e103b45Db9da5B9D2B</td>\n",
       "      <td>0x1389388d01708118b497f59521f6943Be2541bb7</td>\n",
       "      <td>0x947B7742C403f20e5FaCcDAc5E092C943E7D0277</td>\n",
       "      <td>NaN</td>\n",
       "      <td>NaN</td>\n",
       "      <td>90000.0</td>\n",
       "      <td>0x130ee8e7179044400000</td>\n",
       "    </tr>\n",
       "    <tr>\n",
       "      <th>2</th>\n",
       "      <td>1623439046</td>\n",
       "      <td>2021-06-11 19:17:26</td>\n",
       "      <td>12615075</td>\n",
       "      <td>to</td>\n",
       "      <td>Transfer</td>\n",
       "      <td>0x7DDdcb8D93438500c42c199b6B02ba3F74C7cB8c</td>\n",
       "      <td>0x4172Dc63CB0ECB9FB8a224D565Be8b80d2a1a14f</td>\n",
       "      <td>0x1389388d01708118b497f59521f6943Be2541bb7</td>\n",
       "      <td>290000.000000</td>\n",
       "      <td>0x3d68ee76da2631400000</td>\n",
       "      <td>NaN</td>\n",
       "      <td>NaN</td>\n",
       "    </tr>\n",
       "    <tr>\n",
       "      <th>3</th>\n",
       "      <td>1623722468</td>\n",
       "      <td>2021-06-15 02:01:08</td>\n",
       "      <td>12636238</td>\n",
       "      <td>from</td>\n",
       "      <td>Transfer</td>\n",
       "      <td>0x4e3FBD56CD56c3e72c1403e103b45Db9da5B9D2B</td>\n",
       "      <td>0x1389388d01708118b497f59521f6943Be2541bb7</td>\n",
       "      <td>0x1ca46B24A28Edb718f85cE5DEd01Ccaf578ED666</td>\n",
       "      <td>NaN</td>\n",
       "      <td>NaN</td>\n",
       "      <td>100.0</td>\n",
       "      <td>0x56bc75e2d63100000</td>\n",
       "    </tr>\n",
       "    <tr>\n",
       "      <th>4</th>\n",
       "      <td>1630508488</td>\n",
       "      <td>2021-09-01 15:01:28</td>\n",
       "      <td>13140460</td>\n",
       "      <td>from</td>\n",
       "      <td>Transfer</td>\n",
       "      <td>0x4e3FBD56CD56c3e72c1403e103b45Db9da5B9D2B</td>\n",
       "      <td>0x1389388d01708118b497f59521f6943Be2541bb7</td>\n",
       "      <td>0x947B7742C403f20e5FaCcDAc5E092C943E7D0277</td>\n",
       "      <td>NaN</td>\n",
       "      <td>NaN</td>\n",
       "      <td>7000.0</td>\n",
       "      <td>0x17b7883c06916600000</td>\n",
       "    </tr>\n",
       "    <tr>\n",
       "      <th>...</th>\n",
       "      <td>...</td>\n",
       "      <td>...</td>\n",
       "      <td>...</td>\n",
       "      <td>...</td>\n",
       "      <td>...</td>\n",
       "      <td>...</td>\n",
       "      <td>...</td>\n",
       "      <td>...</td>\n",
       "      <td>...</td>\n",
       "      <td>...</td>\n",
       "      <td>...</td>\n",
       "      <td>...</td>\n",
       "    </tr>\n",
       "    <tr>\n",
       "      <th>64</th>\n",
       "      <td>1655952028</td>\n",
       "      <td>2022-06-23 02:40:28</td>\n",
       "      <td>15010781</td>\n",
       "      <td>from</td>\n",
       "      <td>Transfer</td>\n",
       "      <td>0x4e3FBD56CD56c3e72c1403e103b45Db9da5B9D2B</td>\n",
       "      <td>0x1389388d01708118b497f59521f6943Be2541bb7</td>\n",
       "      <td>0x947B7742C403f20e5FaCcDAc5E092C943E7D0277</td>\n",
       "      <td>NaN</td>\n",
       "      <td>NaN</td>\n",
       "      <td>200000.0</td>\n",
       "      <td>0x2a5a058fc295ed000000</td>\n",
       "    </tr>\n",
       "    <tr>\n",
       "      <th>65</th>\n",
       "      <td>1656212593</td>\n",
       "      <td>2022-06-26 03:03:13</td>\n",
       "      <td>15026885</td>\n",
       "      <td>to</td>\n",
       "      <td>Transfer</td>\n",
       "      <td>0x4e3FBD56CD56c3e72c1403e103b45Db9da5B9D2B</td>\n",
       "      <td>0x5e2706946c2bE55b038f4a0475cb7b19f5a67897</td>\n",
       "      <td>0x1389388d01708118b497f59521f6943Be2541bb7</td>\n",
       "      <td>736835.045662</td>\n",
       "      <td>0x9c07e869be4b448cca00</td>\n",
       "      <td>NaN</td>\n",
       "      <td>NaN</td>\n",
       "    </tr>\n",
       "    <tr>\n",
       "      <th>66</th>\n",
       "      <td>1657154752</td>\n",
       "      <td>2022-07-07 00:45:52</td>\n",
       "      <td>15092290</td>\n",
       "      <td>from</td>\n",
       "      <td>Transfer</td>\n",
       "      <td>0x4e3FBD56CD56c3e72c1403e103b45Db9da5B9D2B</td>\n",
       "      <td>0x1389388d01708118b497f59521f6943Be2541bb7</td>\n",
       "      <td>0x947B7742C403f20e5FaCcDAc5E092C943E7D0277</td>\n",
       "      <td>NaN</td>\n",
       "      <td>NaN</td>\n",
       "      <td>200000.0</td>\n",
       "      <td>0x2a5a058fc295ed000000</td>\n",
       "    </tr>\n",
       "    <tr>\n",
       "      <th>67</th>\n",
       "      <td>1658370924</td>\n",
       "      <td>2022-07-21 02:35:24</td>\n",
       "      <td>15183288</td>\n",
       "      <td>from</td>\n",
       "      <td>Transfer</td>\n",
       "      <td>0x4e3FBD56CD56c3e72c1403e103b45Db9da5B9D2B</td>\n",
       "      <td>0x1389388d01708118b497f59521f6943Be2541bb7</td>\n",
       "      <td>0x947B7742C403f20e5FaCcDAc5E092C943E7D0277</td>\n",
       "      <td>NaN</td>\n",
       "      <td>NaN</td>\n",
       "      <td>200000.0</td>\n",
       "      <td>0x2a5a058fc295ed000000</td>\n",
       "    </tr>\n",
       "    <tr>\n",
       "      <th>68</th>\n",
       "      <td>1660054083</td>\n",
       "      <td>2022-08-09 14:08:03</td>\n",
       "      <td>15308433</td>\n",
       "      <td>from</td>\n",
       "      <td>Transfer</td>\n",
       "      <td>0x4e3FBD56CD56c3e72c1403e103b45Db9da5B9D2B</td>\n",
       "      <td>0x1389388d01708118b497f59521f6943Be2541bb7</td>\n",
       "      <td>0x947B7742C403f20e5FaCcDAc5E092C943E7D0277</td>\n",
       "      <td>NaN</td>\n",
       "      <td>NaN</td>\n",
       "      <td>200000.0</td>\n",
       "      <td>0x2a5a058fc295ed000000</td>\n",
       "    </tr>\n",
       "  </tbody>\n",
       "</table>\n",
       "<p>69 rows × 12 columns</p>\n",
       "</div>"
      ],
      "text/plain": [
       "     timestamp            datetime  block_number direction      type  \\\n",
       "0   1621820223 2021-05-24 01:37:03      12494128        to  Transfer   \n",
       "1   1622620852 2021-06-02 08:00:52      12553800      from  Transfer   \n",
       "2   1623439046 2021-06-11 19:17:26      12615075        to  Transfer   \n",
       "3   1623722468 2021-06-15 02:01:08      12636238      from  Transfer   \n",
       "4   1630508488 2021-09-01 15:01:28      13140460      from  Transfer   \n",
       "..         ...                 ...           ...       ...       ...   \n",
       "64  1655952028 2022-06-23 02:40:28      15010781      from  Transfer   \n",
       "65  1656212593 2022-06-26 03:03:13      15026885        to  Transfer   \n",
       "66  1657154752 2022-07-07 00:45:52      15092290      from  Transfer   \n",
       "67  1658370924 2022-07-21 02:35:24      15183288      from  Transfer   \n",
       "68  1660054083 2022-08-09 14:08:03      15308433      from  Transfer   \n",
       "\n",
       "                                         token  \\\n",
       "0   0x4e3FBD56CD56c3e72c1403e103b45Db9da5B9D2B   \n",
       "1   0x4e3FBD56CD56c3e72c1403e103b45Db9da5B9D2B   \n",
       "2   0x7DDdcb8D93438500c42c199b6B02ba3F74C7cB8c   \n",
       "3   0x4e3FBD56CD56c3e72c1403e103b45Db9da5B9D2B   \n",
       "4   0x4e3FBD56CD56c3e72c1403e103b45Db9da5B9D2B   \n",
       "..                                         ...   \n",
       "64  0x4e3FBD56CD56c3e72c1403e103b45Db9da5B9D2B   \n",
       "65  0x4e3FBD56CD56c3e72c1403e103b45Db9da5B9D2B   \n",
       "66  0x4e3FBD56CD56c3e72c1403e103b45Db9da5B9D2B   \n",
       "67  0x4e3FBD56CD56c3e72c1403e103b45Db9da5B9D2B   \n",
       "68  0x4e3FBD56CD56c3e72c1403e103b45Db9da5B9D2B   \n",
       "\n",
       "                                          from  \\\n",
       "0   0xe98984aD858075813AdA4261aF47e68A64E28fCC   \n",
       "1   0x1389388d01708118b497f59521f6943Be2541bb7   \n",
       "2   0x4172Dc63CB0ECB9FB8a224D565Be8b80d2a1a14f   \n",
       "3   0x1389388d01708118b497f59521f6943Be2541bb7   \n",
       "4   0x1389388d01708118b497f59521f6943Be2541bb7   \n",
       "..                                         ...   \n",
       "64  0x1389388d01708118b497f59521f6943Be2541bb7   \n",
       "65  0x5e2706946c2bE55b038f4a0475cb7b19f5a67897   \n",
       "66  0x1389388d01708118b497f59521f6943Be2541bb7   \n",
       "67  0x1389388d01708118b497f59521f6943Be2541bb7   \n",
       "68  0x1389388d01708118b497f59521f6943Be2541bb7   \n",
       "\n",
       "                                            to        revenue  \\\n",
       "0   0x1389388d01708118b497f59521f6943Be2541bb7  176006.502467   \n",
       "1   0x947B7742C403f20e5FaCcDAc5E092C943E7D0277            NaN   \n",
       "2   0x1389388d01708118b497f59521f6943Be2541bb7  290000.000000   \n",
       "3   0x1ca46B24A28Edb718f85cE5DEd01Ccaf578ED666            NaN   \n",
       "4   0x947B7742C403f20e5FaCcDAc5E092C943E7D0277            NaN   \n",
       "..                                         ...            ...   \n",
       "64  0x947B7742C403f20e5FaCcDAc5E092C943E7D0277            NaN   \n",
       "65  0x1389388d01708118b497f59521f6943Be2541bb7  736835.045662   \n",
       "66  0x947B7742C403f20e5FaCcDAc5E092C943E7D0277            NaN   \n",
       "67  0x947B7742C403f20e5FaCcDAc5E092C943E7D0277            NaN   \n",
       "68  0x947B7742C403f20e5FaCcDAc5E092C943E7D0277            NaN   \n",
       "\n",
       "               revenue_hex   expense             expense_hex  \n",
       "0   0x254554e4dfb870cd8c5f       NaN                     NaN  \n",
       "1                      NaN   90000.0  0x130ee8e7179044400000  \n",
       "2   0x3d68ee76da2631400000       NaN                     NaN  \n",
       "3                      NaN     100.0     0x56bc75e2d63100000  \n",
       "4                      NaN    7000.0   0x17b7883c06916600000  \n",
       "..                     ...       ...                     ...  \n",
       "64                     NaN  200000.0  0x2a5a058fc295ed000000  \n",
       "65  0x9c07e869be4b448cca00       NaN                     NaN  \n",
       "66                     NaN  200000.0  0x2a5a058fc295ed000000  \n",
       "67                     NaN  200000.0  0x2a5a058fc295ed000000  \n",
       "68                     NaN  200000.0  0x2a5a058fc295ed000000  \n",
       "\n",
       "[69 rows x 12 columns]"
      ]
     },
     "execution_count": 16,
     "metadata": {},
     "output_type": "execute_result"
    }
   ],
   "source": [
    "df_convex"
   ]
  },
  {
   "cell_type": "code",
   "execution_count": 22,
   "id": "8008aa88",
   "metadata": {
    "scrolled": true
   },
   "outputs": [
    {
     "name": "stdout",
     "output_type": "stream",
     "text": [
      "Found token 0x4e3FBD56CD56c3e72c1403e103b45Db9da5B9D2B\n",
      "Could not find token 0x7DDdcb8D93438500c42c199b6B02ba3F74C7cB8c\n",
      "Found token 0xdB25f211AB05b1c97D595516F45794528a807ad8\n",
      "Found token 0xa3BeD4E1c75D00fa6f4E5E6922DB7261B5E9AcD2\n",
      "Found token 0xdBdb4d16EdA451D0503b854CF79D55697F90c8DF\n",
      "Found token 0x3472A5A71965499acd81997a54BBA8D852C6E53d\n",
      "Found token 0x4E15361FD6b4BB609Fa63C81A2be19d873717870\n",
      "Found token 0x8207c1FfC5B6804F6024322CcF34F29c3541Ae26\n",
      "Found token 0xD533a949740bb3306d119CC777fa900bA034cd52\n",
      "Found token 0x31429d1856aD1377A8A0079410B297e1a9e214c2\n",
      "Found token 0xCdF7028ceAB81fA0C6971208e83fa7872994beE5\n",
      "Could not find token 0x9C80f6719018262EDF780D0158A770ab99EDe4F8\n",
      "Could not find token 0x4Eb8b4C65D8430647586cf44af4Bf23dEd2Bb794\n",
      "Found token 0x92E187a03B6CD19CB6AF293ba17F2745Fd2357D5\n",
      "Found token 0x5A98FcBEA516Cf06857215779Fd812CA3beF1B32\n",
      "Found token 0x3432B6A60D23Ca0dFCa7761B7ab56459D9C964D0\n",
      "Could not find token 0x4a41775Da459B38e641141e4C696DF10EC1f4983\n",
      "Could not find token 0xd9C082b563cbDdc7698D0843ccb320486E724148\n",
      "Could not find token 0x9Ee582c42F88CAA5e7BCDE2e86e69Af3Cf5FCe40\n",
      "Found token 0x090185f2135308BaD17527004364eBcC2D37e5F6\n"
     ]
    }
   ],
   "source": [
    "price_data = {}\n",
    "for token in df_convex['token'].unique():\n",
    "    price_data[token] = {}\n",
    "    try:\n",
    "        result = client.get_coin_market_chart_range_from_contract_address_by_id(\"ethereum\", \n",
    "                                                               token, \n",
    "                                                               \"ETH\",               \n",
    "                                                               df_convex.iloc[0, 0], \n",
    "                                                               df_convex.iloc[-1, 0])\n",
    "        prices = result['prices']\n",
    "        price_data[token]['prices'] = {}\n",
    "        for price in prices:\n",
    "            price_data[token]['prices'][price[0]] = price[1]\n",
    "        mcaps = result['market_caps']\n",
    "        price_data[token]['mcaps'] = {}\n",
    "        for mcap in mcaps:\n",
    "            price_data[token]['mcaps'][mcap[0]] = mcap[1]\n",
    "        print(f\"Found token {token}\")\n",
    "    except ValueError:\n",
    "        print(f\"Could not find token {token}\")\n",
    "    time.sleep(5)"
   ]
  },
  {
   "cell_type": "code",
   "execution_count": 23,
   "id": "faa89690",
   "metadata": {},
   "outputs": [],
   "source": [
    "def convert_token_to_eth(df):\n",
    "    revenue_eth_col = []\n",
    "    expense_eth_col = []\n",
    "    prices_col = []\n",
    "    mcap_col = []\n",
    "    for i, row in df.iterrows():\n",
    "        print(i, ' of ', len(df))\n",
    "        block_identifier = row['block_number']\n",
    "        token = row['token']\n",
    "        timestamp = row['timestamp']\n",
    "        contract_token = web3.eth.contract(address=token, abi=erc20_abi)\n",
    "        decimals = contract_token.functions.decimals().call(block_identifier=block_identifier)\n",
    "        \n",
    "        try:\n",
    "            prices = price_data[token]['prices']\n",
    "            mcaps = price_data[token]['mcaps']\n",
    "            price = prices[min(prices, key=lambda x:abs(x-timestamp*1000))]\n",
    "            mcap = mcaps[min(mcaps, key=lambda x:abs(x-timestamp*1000))]\n",
    "        except KeyError:\n",
    "            print(f\"No price data for token {token}\")\n",
    "            price = np.nan\n",
    "            mcap = np.nan\n",
    "        \n",
    "        prices_col.append(price)\n",
    "        mcap_col.append(mcap)\n",
    "        revenue_eth_col.append(row['revenue'] / decimals * price)\n",
    "        expense_eth_col.append(row['expense'] / decimals * price)\n",
    "        time.sleep(1)\n",
    "    df['prices'] = prices_col\n",
    "    df['mcap'] = mcap_col\n",
    "    df['revenue_eth'] = revenue_eth_col\n",
    "    df['expense_eth'] = expense_eth_col\n",
    "    return df"
   ]
  },
  {
   "cell_type": "code",
   "execution_count": 24,
   "id": "bf257c30",
   "metadata": {},
   "outputs": [],
   "source": [
    "# def convert_token_to_eth(df, chainlink_feed):\n",
    "#     revenue_eth = []\n",
    "#     expense_eth = []\n",
    "#     cvx_eth_price = []\n",
    "#     for i, row in df.iterrows():\n",
    "#         print(i, ' of ', len(df))\n",
    "#         block_identifier = row['block_number']\n",
    "#         contract_token = web3.eth.contract(address=row['token'], abi=erc20_abi)\n",
    "#         decimals = contract_token.functions.decimals().call(block_identifier=block_identifier)\n",
    "        \n",
    "#         contract_chainlink_feed = web3.eth.contract(address=chainlink_feed, abi=chainlink_abi)\n",
    "#         try:\n",
    "#             price = contract_chainlink_feed.functions.latestAnswer().call(block_identifier=block_identifier)\n",
    "#         except Exception as e:\n",
    "#             price = 0\n",
    "#         cvx_eth_price.append(price)\n",
    "#         revenue_eth.append(row['revenue'] / decimals * (price/1e18))\n",
    "#         expense_eth.append(row['expense'] / decimals * (price/1e18))\n",
    "#         time.sleep(3)\n",
    "#     df['revenue_eth'] = revenue_eth\n",
    "#     df['expense_eth'] = expense_eth\n",
    "#     return df"
   ]
  },
  {
   "cell_type": "code",
   "execution_count": 25,
   "id": "2bd4627d",
   "metadata": {},
   "outputs": [
    {
     "name": "stdout",
     "output_type": "stream",
     "text": [
      "0  of  69\n",
      "1  of  69\n",
      "2  of  69\n",
      "No price data for token 0x7DDdcb8D93438500c42c199b6B02ba3F74C7cB8c\n",
      "3  of  69\n",
      "4  of  69\n",
      "5  of  69\n",
      "6  of  69\n",
      "7  of  69\n",
      "8  of  69\n",
      "9  of  69\n",
      "10  of  69\n",
      "11  of  69\n",
      "12  of  69\n",
      "13  of  69\n",
      "14  of  69\n",
      "15  of  69\n",
      "16  of  69\n",
      "17  of  69\n",
      "18  of  69\n",
      "19  of  69\n",
      "20  of  69\n",
      "21  of  69\n",
      "22  of  69\n",
      "23  of  69\n",
      "24  of  69\n",
      "25  of  69\n",
      "26  of  69\n",
      "27  of  69\n",
      "28  of  69\n",
      "29  of  69\n",
      "30  of  69\n",
      "31  of  69\n",
      "32  of  69\n",
      "33  of  69\n",
      "No price data for token 0x9C80f6719018262EDF780D0158A770ab99EDe4F8\n",
      "34  of  69\n",
      "No price data for token 0x9C80f6719018262EDF780D0158A770ab99EDe4F8\n",
      "35  of  69\n",
      "36  of  69\n",
      "37  of  69\n",
      "38  of  69\n",
      "No price data for token 0x4Eb8b4C65D8430647586cf44af4Bf23dEd2Bb794\n",
      "39  of  69\n",
      "40  of  69\n",
      "41  of  69\n",
      "42  of  69\n",
      "43  of  69\n",
      "44  of  69\n",
      "45  of  69\n",
      "46  of  69\n",
      "47  of  69\n",
      "48  of  69\n",
      "49  of  69\n",
      "50  of  69\n",
      "51  of  69\n",
      "52  of  69\n",
      "No price data for token 0x4a41775Da459B38e641141e4C696DF10EC1f4983\n",
      "53  of  69\n",
      "No price data for token 0x4a41775Da459B38e641141e4C696DF10EC1f4983\n",
      "54  of  69\n",
      "No price data for token 0xd9C082b563cbDdc7698D0843ccb320486E724148\n",
      "55  of  69\n",
      "No price data for token 0xd9C082b563cbDdc7698D0843ccb320486E724148\n",
      "56  of  69\n",
      "No price data for token 0x9Ee582c42F88CAA5e7BCDE2e86e69Af3Cf5FCe40\n",
      "57  of  69\n",
      "No price data for token 0x9Ee582c42F88CAA5e7BCDE2e86e69Af3Cf5FCe40\n",
      "58  of  69\n",
      "59  of  69\n",
      "60  of  69\n",
      "61  of  69\n",
      "62  of  69\n",
      "63  of  69\n",
      "64  of  69\n",
      "65  of  69\n",
      "66  of  69\n",
      "67  of  69\n",
      "68  of  69\n"
     ]
    }
   ],
   "source": [
    "df_convex = convert_token_to_eth(df_convex)"
   ]
  },
  {
   "cell_type": "code",
   "execution_count": 26,
   "id": "8ea68842",
   "metadata": {},
   "outputs": [
    {
     "data": {
      "text/html": [
       "<div>\n",
       "<style scoped>\n",
       "    .dataframe tbody tr th:only-of-type {\n",
       "        vertical-align: middle;\n",
       "    }\n",
       "\n",
       "    .dataframe tbody tr th {\n",
       "        vertical-align: top;\n",
       "    }\n",
       "\n",
       "    .dataframe thead th {\n",
       "        text-align: right;\n",
       "    }\n",
       "</style>\n",
       "<table border=\"1\" class=\"dataframe\">\n",
       "  <thead>\n",
       "    <tr style=\"text-align: right;\">\n",
       "      <th></th>\n",
       "      <th>timestamp</th>\n",
       "      <th>datetime</th>\n",
       "      <th>block_number</th>\n",
       "      <th>direction</th>\n",
       "      <th>type</th>\n",
       "      <th>token</th>\n",
       "      <th>from</th>\n",
       "      <th>to</th>\n",
       "      <th>revenue</th>\n",
       "      <th>revenue_hex</th>\n",
       "      <th>expense</th>\n",
       "      <th>expense_hex</th>\n",
       "      <th>prices</th>\n",
       "      <th>mcap</th>\n",
       "      <th>revenue_eth</th>\n",
       "      <th>expense_eth</th>\n",
       "    </tr>\n",
       "  </thead>\n",
       "  <tbody>\n",
       "    <tr>\n",
       "      <th>0</th>\n",
       "      <td>1621820223</td>\n",
       "      <td>2021-05-24 01:37:03</td>\n",
       "      <td>12494128</td>\n",
       "      <td>to</td>\n",
       "      <td>Transfer</td>\n",
       "      <td>0x4e3FBD56CD56c3e72c1403e103b45Db9da5B9D2B</td>\n",
       "      <td>0xe98984aD858075813AdA4261aF47e68A64E28fCC</td>\n",
       "      <td>0x1389388d01708118b497f59521f6943Be2541bb7</td>\n",
       "      <td>176006.502467</td>\n",
       "      <td>0x254554e4dfb870cd8c5f</td>\n",
       "      <td>NaN</td>\n",
       "      <td>NaN</td>\n",
       "      <td>0.002424</td>\n",
       "      <td>4312.216550</td>\n",
       "      <td>23.705533</td>\n",
       "      <td>NaN</td>\n",
       "    </tr>\n",
       "    <tr>\n",
       "      <th>1</th>\n",
       "      <td>1622620852</td>\n",
       "      <td>2021-06-02 08:00:52</td>\n",
       "      <td>12553800</td>\n",
       "      <td>from</td>\n",
       "      <td>Transfer</td>\n",
       "      <td>0x4e3FBD56CD56c3e72c1403e103b45Db9da5B9D2B</td>\n",
       "      <td>0x1389388d01708118b497f59521f6943Be2541bb7</td>\n",
       "      <td>0x947B7742C403f20e5FaCcDAc5E092C943E7D0277</td>\n",
       "      <td>NaN</td>\n",
       "      <td>NaN</td>\n",
       "      <td>90000.0</td>\n",
       "      <td>0x130ee8e7179044400000</td>\n",
       "      <td>0.003654</td>\n",
       "      <td>8867.467500</td>\n",
       "      <td>NaN</td>\n",
       "      <td>18.270023</td>\n",
       "    </tr>\n",
       "    <tr>\n",
       "      <th>2</th>\n",
       "      <td>1623439046</td>\n",
       "      <td>2021-06-11 19:17:26</td>\n",
       "      <td>12615075</td>\n",
       "      <td>to</td>\n",
       "      <td>Transfer</td>\n",
       "      <td>0x7DDdcb8D93438500c42c199b6B02ba3F74C7cB8c</td>\n",
       "      <td>0x4172Dc63CB0ECB9FB8a224D565Be8b80d2a1a14f</td>\n",
       "      <td>0x1389388d01708118b497f59521f6943Be2541bb7</td>\n",
       "      <td>290000.000000</td>\n",
       "      <td>0x3d68ee76da2631400000</td>\n",
       "      <td>NaN</td>\n",
       "      <td>NaN</td>\n",
       "      <td>NaN</td>\n",
       "      <td>NaN</td>\n",
       "      <td>NaN</td>\n",
       "      <td>NaN</td>\n",
       "    </tr>\n",
       "    <tr>\n",
       "      <th>3</th>\n",
       "      <td>1623722468</td>\n",
       "      <td>2021-06-15 02:01:08</td>\n",
       "      <td>12636238</td>\n",
       "      <td>from</td>\n",
       "      <td>Transfer</td>\n",
       "      <td>0x4e3FBD56CD56c3e72c1403e103b45Db9da5B9D2B</td>\n",
       "      <td>0x1389388d01708118b497f59521f6943Be2541bb7</td>\n",
       "      <td>0x1ca46B24A28Edb718f85cE5DEd01Ccaf578ED666</td>\n",
       "      <td>NaN</td>\n",
       "      <td>NaN</td>\n",
       "      <td>100.0</td>\n",
       "      <td>0x56bc75e2d63100000</td>\n",
       "      <td>0.002267</td>\n",
       "      <td>10787.964525</td>\n",
       "      <td>NaN</td>\n",
       "      <td>0.012595</td>\n",
       "    </tr>\n",
       "    <tr>\n",
       "      <th>4</th>\n",
       "      <td>1630508488</td>\n",
       "      <td>2021-09-01 15:01:28</td>\n",
       "      <td>13140460</td>\n",
       "      <td>from</td>\n",
       "      <td>Transfer</td>\n",
       "      <td>0x4e3FBD56CD56c3e72c1403e103b45Db9da5B9D2B</td>\n",
       "      <td>0x1389388d01708118b497f59521f6943Be2541bb7</td>\n",
       "      <td>0x947B7742C403f20e5FaCcDAc5E092C943E7D0277</td>\n",
       "      <td>NaN</td>\n",
       "      <td>NaN</td>\n",
       "      <td>7000.0</td>\n",
       "      <td>0x17b7883c06916600000</td>\n",
       "      <td>0.001889</td>\n",
       "      <td>40793.804863</td>\n",
       "      <td>NaN</td>\n",
       "      <td>0.734783</td>\n",
       "    </tr>\n",
       "    <tr>\n",
       "      <th>...</th>\n",
       "      <td>...</td>\n",
       "      <td>...</td>\n",
       "      <td>...</td>\n",
       "      <td>...</td>\n",
       "      <td>...</td>\n",
       "      <td>...</td>\n",
       "      <td>...</td>\n",
       "      <td>...</td>\n",
       "      <td>...</td>\n",
       "      <td>...</td>\n",
       "      <td>...</td>\n",
       "      <td>...</td>\n",
       "      <td>...</td>\n",
       "      <td>...</td>\n",
       "      <td>...</td>\n",
       "      <td>...</td>\n",
       "    </tr>\n",
       "    <tr>\n",
       "      <th>64</th>\n",
       "      <td>1655952028</td>\n",
       "      <td>2022-06-23 02:40:28</td>\n",
       "      <td>15010781</td>\n",
       "      <td>from</td>\n",
       "      <td>Transfer</td>\n",
       "      <td>0x4e3FBD56CD56c3e72c1403e103b45Db9da5B9D2B</td>\n",
       "      <td>0x1389388d01708118b497f59521f6943Be2541bb7</td>\n",
       "      <td>0x947B7742C403f20e5FaCcDAc5E092C943E7D0277</td>\n",
       "      <td>NaN</td>\n",
       "      <td>NaN</td>\n",
       "      <td>200000.0</td>\n",
       "      <td>0x2a5a058fc295ed000000</td>\n",
       "      <td>0.004012</td>\n",
       "      <td>255575.798586</td>\n",
       "      <td>NaN</td>\n",
       "      <td>44.575222</td>\n",
       "    </tr>\n",
       "    <tr>\n",
       "      <th>65</th>\n",
       "      <td>1656212593</td>\n",
       "      <td>2022-06-26 03:03:13</td>\n",
       "      <td>15026885</td>\n",
       "      <td>to</td>\n",
       "      <td>Transfer</td>\n",
       "      <td>0x4e3FBD56CD56c3e72c1403e103b45Db9da5B9D2B</td>\n",
       "      <td>0x5e2706946c2bE55b038f4a0475cb7b19f5a67897</td>\n",
       "      <td>0x1389388d01708118b497f59521f6943Be2541bb7</td>\n",
       "      <td>736835.045662</td>\n",
       "      <td>0x9c07e869be4b448cca00</td>\n",
       "      <td>NaN</td>\n",
       "      <td>NaN</td>\n",
       "      <td>0.003938</td>\n",
       "      <td>251314.551197</td>\n",
       "      <td>161.202638</td>\n",
       "      <td>NaN</td>\n",
       "    </tr>\n",
       "    <tr>\n",
       "      <th>66</th>\n",
       "      <td>1657154752</td>\n",
       "      <td>2022-07-07 00:45:52</td>\n",
       "      <td>15092290</td>\n",
       "      <td>from</td>\n",
       "      <td>Transfer</td>\n",
       "      <td>0x4e3FBD56CD56c3e72c1403e103b45Db9da5B9D2B</td>\n",
       "      <td>0x1389388d01708118b497f59521f6943Be2541bb7</td>\n",
       "      <td>0x947B7742C403f20e5FaCcDAc5E092C943E7D0277</td>\n",
       "      <td>NaN</td>\n",
       "      <td>NaN</td>\n",
       "      <td>200000.0</td>\n",
       "      <td>0x2a5a058fc295ed000000</td>\n",
       "      <td>0.005006</td>\n",
       "      <td>328922.206765</td>\n",
       "      <td>NaN</td>\n",
       "      <td>55.620665</td>\n",
       "    </tr>\n",
       "    <tr>\n",
       "      <th>67</th>\n",
       "      <td>1658370924</td>\n",
       "      <td>2022-07-21 02:35:24</td>\n",
       "      <td>15183288</td>\n",
       "      <td>from</td>\n",
       "      <td>Transfer</td>\n",
       "      <td>0x4e3FBD56CD56c3e72c1403e103b45Db9da5B9D2B</td>\n",
       "      <td>0x1389388d01708118b497f59521f6943Be2541bb7</td>\n",
       "      <td>0x947B7742C403f20e5FaCcDAc5E092C943E7D0277</td>\n",
       "      <td>NaN</td>\n",
       "      <td>NaN</td>\n",
       "      <td>200000.0</td>\n",
       "      <td>0x2a5a058fc295ed000000</td>\n",
       "      <td>0.004774</td>\n",
       "      <td>313818.946419</td>\n",
       "      <td>NaN</td>\n",
       "      <td>53.045798</td>\n",
       "    </tr>\n",
       "    <tr>\n",
       "      <th>68</th>\n",
       "      <td>1660054083</td>\n",
       "      <td>2022-08-09 14:08:03</td>\n",
       "      <td>15308433</td>\n",
       "      <td>from</td>\n",
       "      <td>Transfer</td>\n",
       "      <td>0x4e3FBD56CD56c3e72c1403e103b45Db9da5B9D2B</td>\n",
       "      <td>0x1389388d01708118b497f59521f6943Be2541bb7</td>\n",
       "      <td>0x947B7742C403f20e5FaCcDAc5E092C943E7D0277</td>\n",
       "      <td>NaN</td>\n",
       "      <td>NaN</td>\n",
       "      <td>200000.0</td>\n",
       "      <td>0x2a5a058fc295ed000000</td>\n",
       "      <td>0.004183</td>\n",
       "      <td>277488.736219</td>\n",
       "      <td>NaN</td>\n",
       "      <td>46.481845</td>\n",
       "    </tr>\n",
       "  </tbody>\n",
       "</table>\n",
       "<p>69 rows × 16 columns</p>\n",
       "</div>"
      ],
      "text/plain": [
       "     timestamp            datetime  block_number direction      type  \\\n",
       "0   1621820223 2021-05-24 01:37:03      12494128        to  Transfer   \n",
       "1   1622620852 2021-06-02 08:00:52      12553800      from  Transfer   \n",
       "2   1623439046 2021-06-11 19:17:26      12615075        to  Transfer   \n",
       "3   1623722468 2021-06-15 02:01:08      12636238      from  Transfer   \n",
       "4   1630508488 2021-09-01 15:01:28      13140460      from  Transfer   \n",
       "..         ...                 ...           ...       ...       ...   \n",
       "64  1655952028 2022-06-23 02:40:28      15010781      from  Transfer   \n",
       "65  1656212593 2022-06-26 03:03:13      15026885        to  Transfer   \n",
       "66  1657154752 2022-07-07 00:45:52      15092290      from  Transfer   \n",
       "67  1658370924 2022-07-21 02:35:24      15183288      from  Transfer   \n",
       "68  1660054083 2022-08-09 14:08:03      15308433      from  Transfer   \n",
       "\n",
       "                                         token  \\\n",
       "0   0x4e3FBD56CD56c3e72c1403e103b45Db9da5B9D2B   \n",
       "1   0x4e3FBD56CD56c3e72c1403e103b45Db9da5B9D2B   \n",
       "2   0x7DDdcb8D93438500c42c199b6B02ba3F74C7cB8c   \n",
       "3   0x4e3FBD56CD56c3e72c1403e103b45Db9da5B9D2B   \n",
       "4   0x4e3FBD56CD56c3e72c1403e103b45Db9da5B9D2B   \n",
       "..                                         ...   \n",
       "64  0x4e3FBD56CD56c3e72c1403e103b45Db9da5B9D2B   \n",
       "65  0x4e3FBD56CD56c3e72c1403e103b45Db9da5B9D2B   \n",
       "66  0x4e3FBD56CD56c3e72c1403e103b45Db9da5B9D2B   \n",
       "67  0x4e3FBD56CD56c3e72c1403e103b45Db9da5B9D2B   \n",
       "68  0x4e3FBD56CD56c3e72c1403e103b45Db9da5B9D2B   \n",
       "\n",
       "                                          from  \\\n",
       "0   0xe98984aD858075813AdA4261aF47e68A64E28fCC   \n",
       "1   0x1389388d01708118b497f59521f6943Be2541bb7   \n",
       "2   0x4172Dc63CB0ECB9FB8a224D565Be8b80d2a1a14f   \n",
       "3   0x1389388d01708118b497f59521f6943Be2541bb7   \n",
       "4   0x1389388d01708118b497f59521f6943Be2541bb7   \n",
       "..                                         ...   \n",
       "64  0x1389388d01708118b497f59521f6943Be2541bb7   \n",
       "65  0x5e2706946c2bE55b038f4a0475cb7b19f5a67897   \n",
       "66  0x1389388d01708118b497f59521f6943Be2541bb7   \n",
       "67  0x1389388d01708118b497f59521f6943Be2541bb7   \n",
       "68  0x1389388d01708118b497f59521f6943Be2541bb7   \n",
       "\n",
       "                                            to        revenue  \\\n",
       "0   0x1389388d01708118b497f59521f6943Be2541bb7  176006.502467   \n",
       "1   0x947B7742C403f20e5FaCcDAc5E092C943E7D0277            NaN   \n",
       "2   0x1389388d01708118b497f59521f6943Be2541bb7  290000.000000   \n",
       "3   0x1ca46B24A28Edb718f85cE5DEd01Ccaf578ED666            NaN   \n",
       "4   0x947B7742C403f20e5FaCcDAc5E092C943E7D0277            NaN   \n",
       "..                                         ...            ...   \n",
       "64  0x947B7742C403f20e5FaCcDAc5E092C943E7D0277            NaN   \n",
       "65  0x1389388d01708118b497f59521f6943Be2541bb7  736835.045662   \n",
       "66  0x947B7742C403f20e5FaCcDAc5E092C943E7D0277            NaN   \n",
       "67  0x947B7742C403f20e5FaCcDAc5E092C943E7D0277            NaN   \n",
       "68  0x947B7742C403f20e5FaCcDAc5E092C943E7D0277            NaN   \n",
       "\n",
       "               revenue_hex   expense             expense_hex    prices  \\\n",
       "0   0x254554e4dfb870cd8c5f       NaN                     NaN  0.002424   \n",
       "1                      NaN   90000.0  0x130ee8e7179044400000  0.003654   \n",
       "2   0x3d68ee76da2631400000       NaN                     NaN       NaN   \n",
       "3                      NaN     100.0     0x56bc75e2d63100000  0.002267   \n",
       "4                      NaN    7000.0   0x17b7883c06916600000  0.001889   \n",
       "..                     ...       ...                     ...       ...   \n",
       "64                     NaN  200000.0  0x2a5a058fc295ed000000  0.004012   \n",
       "65  0x9c07e869be4b448cca00       NaN                     NaN  0.003938   \n",
       "66                     NaN  200000.0  0x2a5a058fc295ed000000  0.005006   \n",
       "67                     NaN  200000.0  0x2a5a058fc295ed000000  0.004774   \n",
       "68                     NaN  200000.0  0x2a5a058fc295ed000000  0.004183   \n",
       "\n",
       "             mcap  revenue_eth  expense_eth  \n",
       "0     4312.216550    23.705533          NaN  \n",
       "1     8867.467500          NaN    18.270023  \n",
       "2             NaN          NaN          NaN  \n",
       "3    10787.964525          NaN     0.012595  \n",
       "4    40793.804863          NaN     0.734783  \n",
       "..            ...          ...          ...  \n",
       "64  255575.798586          NaN    44.575222  \n",
       "65  251314.551197   161.202638          NaN  \n",
       "66  328922.206765          NaN    55.620665  \n",
       "67  313818.946419          NaN    53.045798  \n",
       "68  277488.736219          NaN    46.481845  \n",
       "\n",
       "[69 rows x 16 columns]"
      ]
     },
     "execution_count": 26,
     "metadata": {},
     "output_type": "execute_result"
    }
   ],
   "source": [
    "df_convex"
   ]
  },
  {
   "cell_type": "code",
   "execution_count": 27,
   "id": "e3d0120b",
   "metadata": {},
   "outputs": [],
   "source": [
    "df_convex.index = df_convex['datetime']\n",
    "df_convex_sampled = df_convex.resample('m').sum()"
   ]
  },
  {
   "cell_type": "code",
   "execution_count": 28,
   "id": "dfabbae9",
   "metadata": {},
   "outputs": [
    {
     "data": {
      "application/vnd.plotly.v1+json": {
       "config": {
        "plotlyServerURL": "https://plot.ly"
       },
       "data": [
        {
         "alignmentgroup": "True",
         "legendgroup": "revenue_eth",
         "marker": {
          "color": "#636efa",
          "pattern": {
           "shape": ""
          }
         },
         "name": "revenue_eth",
         "offsetgroup": "revenue_eth",
         "orientation": "v",
         "showlegend": true,
         "textposition": "auto",
         "type": "bar",
         "x": [
          "2021-05-31T00:00:00",
          "2021-06-30T00:00:00",
          "2021-07-31T00:00:00",
          "2021-08-31T00:00:00",
          "2021-09-30T00:00:00",
          "2021-10-31T00:00:00",
          "2021-11-30T00:00:00",
          "2021-12-31T00:00:00",
          "2022-01-31T00:00:00",
          "2022-02-28T00:00:00",
          "2022-03-31T00:00:00",
          "2022-04-30T00:00:00",
          "2022-05-31T00:00:00",
          "2022-06-30T00:00:00",
          "2022-07-31T00:00:00",
          "2022-08-31T00:00:00"
         ],
         "xaxis": "x",
         "y": [
          23.705532540360245,
          0,
          0,
          0,
          0,
          24.342556148038117,
          34.02070954919842,
          107.54744948643419,
          116.03339070445224,
          349.40917213537097,
          3.4787963529688195,
          434.4402155905837,
          18.854562281478138,
          161.2026383289638,
          0,
          0
         ],
         "yaxis": "y"
        },
        {
         "alignmentgroup": "True",
         "legendgroup": "expense_eth",
         "marker": {
          "color": "#EF553B",
          "pattern": {
           "shape": ""
          }
         },
         "name": "expense_eth",
         "offsetgroup": "expense_eth",
         "orientation": "v",
         "showlegend": true,
         "textposition": "auto",
         "type": "bar",
         "x": [
          "2021-05-31T00:00:00",
          "2021-06-30T00:00:00",
          "2021-07-31T00:00:00",
          "2021-08-31T00:00:00",
          "2021-09-30T00:00:00",
          "2021-10-31T00:00:00",
          "2021-11-30T00:00:00",
          "2021-12-31T00:00:00",
          "2022-01-31T00:00:00",
          "2022-02-28T00:00:00",
          "2022-03-31T00:00:00",
          "2022-04-30T00:00:00",
          "2022-05-31T00:00:00",
          "2022-06-30T00:00:00",
          "2022-07-31T00:00:00",
          "2022-08-31T00:00:00"
         ],
         "xaxis": "x",
         "y": [
          0,
          18.28261817820182,
          0,
          0,
          13.85867510314077,
          13.622766186620083,
          22.724247238365628,
          106.02287866749572,
          56.23509916938138,
          126.86391491661192,
          145.67893056796103,
          254.7345092685967,
          89.51138009009433,
          44.575221502007466,
          108.6664629639491,
          46.481844853245256
         ],
         "yaxis": "y"
        }
       ],
       "layout": {
        "barmode": "relative",
        "height": 500,
        "hovermode": "x",
        "legend": {
         "title": {
          "text": "variable"
         },
         "tracegroupgap": 0
        },
        "template": {
         "data": {
          "bar": [
           {
            "error_x": {
             "color": "#2a3f5f"
            },
            "error_y": {
             "color": "#2a3f5f"
            },
            "marker": {
             "line": {
              "color": "#E5ECF6",
              "width": 0.5
             },
             "pattern": {
              "fillmode": "overlay",
              "size": 10,
              "solidity": 0.2
             }
            },
            "type": "bar"
           }
          ],
          "barpolar": [
           {
            "marker": {
             "line": {
              "color": "#E5ECF6",
              "width": 0.5
             },
             "pattern": {
              "fillmode": "overlay",
              "size": 10,
              "solidity": 0.2
             }
            },
            "type": "barpolar"
           }
          ],
          "carpet": [
           {
            "aaxis": {
             "endlinecolor": "#2a3f5f",
             "gridcolor": "white",
             "linecolor": "white",
             "minorgridcolor": "white",
             "startlinecolor": "#2a3f5f"
            },
            "baxis": {
             "endlinecolor": "#2a3f5f",
             "gridcolor": "white",
             "linecolor": "white",
             "minorgridcolor": "white",
             "startlinecolor": "#2a3f5f"
            },
            "type": "carpet"
           }
          ],
          "choropleth": [
           {
            "colorbar": {
             "outlinewidth": 0,
             "ticks": ""
            },
            "type": "choropleth"
           }
          ],
          "contour": [
           {
            "colorbar": {
             "outlinewidth": 0,
             "ticks": ""
            },
            "colorscale": [
             [
              0,
              "#0d0887"
             ],
             [
              0.1111111111111111,
              "#46039f"
             ],
             [
              0.2222222222222222,
              "#7201a8"
             ],
             [
              0.3333333333333333,
              "#9c179e"
             ],
             [
              0.4444444444444444,
              "#bd3786"
             ],
             [
              0.5555555555555556,
              "#d8576b"
             ],
             [
              0.6666666666666666,
              "#ed7953"
             ],
             [
              0.7777777777777778,
              "#fb9f3a"
             ],
             [
              0.8888888888888888,
              "#fdca26"
             ],
             [
              1,
              "#f0f921"
             ]
            ],
            "type": "contour"
           }
          ],
          "contourcarpet": [
           {
            "colorbar": {
             "outlinewidth": 0,
             "ticks": ""
            },
            "type": "contourcarpet"
           }
          ],
          "heatmap": [
           {
            "colorbar": {
             "outlinewidth": 0,
             "ticks": ""
            },
            "colorscale": [
             [
              0,
              "#0d0887"
             ],
             [
              0.1111111111111111,
              "#46039f"
             ],
             [
              0.2222222222222222,
              "#7201a8"
             ],
             [
              0.3333333333333333,
              "#9c179e"
             ],
             [
              0.4444444444444444,
              "#bd3786"
             ],
             [
              0.5555555555555556,
              "#d8576b"
             ],
             [
              0.6666666666666666,
              "#ed7953"
             ],
             [
              0.7777777777777778,
              "#fb9f3a"
             ],
             [
              0.8888888888888888,
              "#fdca26"
             ],
             [
              1,
              "#f0f921"
             ]
            ],
            "type": "heatmap"
           }
          ],
          "heatmapgl": [
           {
            "colorbar": {
             "outlinewidth": 0,
             "ticks": ""
            },
            "colorscale": [
             [
              0,
              "#0d0887"
             ],
             [
              0.1111111111111111,
              "#46039f"
             ],
             [
              0.2222222222222222,
              "#7201a8"
             ],
             [
              0.3333333333333333,
              "#9c179e"
             ],
             [
              0.4444444444444444,
              "#bd3786"
             ],
             [
              0.5555555555555556,
              "#d8576b"
             ],
             [
              0.6666666666666666,
              "#ed7953"
             ],
             [
              0.7777777777777778,
              "#fb9f3a"
             ],
             [
              0.8888888888888888,
              "#fdca26"
             ],
             [
              1,
              "#f0f921"
             ]
            ],
            "type": "heatmapgl"
           }
          ],
          "histogram": [
           {
            "marker": {
             "pattern": {
              "fillmode": "overlay",
              "size": 10,
              "solidity": 0.2
             }
            },
            "type": "histogram"
           }
          ],
          "histogram2d": [
           {
            "colorbar": {
             "outlinewidth": 0,
             "ticks": ""
            },
            "colorscale": [
             [
              0,
              "#0d0887"
             ],
             [
              0.1111111111111111,
              "#46039f"
             ],
             [
              0.2222222222222222,
              "#7201a8"
             ],
             [
              0.3333333333333333,
              "#9c179e"
             ],
             [
              0.4444444444444444,
              "#bd3786"
             ],
             [
              0.5555555555555556,
              "#d8576b"
             ],
             [
              0.6666666666666666,
              "#ed7953"
             ],
             [
              0.7777777777777778,
              "#fb9f3a"
             ],
             [
              0.8888888888888888,
              "#fdca26"
             ],
             [
              1,
              "#f0f921"
             ]
            ],
            "type": "histogram2d"
           }
          ],
          "histogram2dcontour": [
           {
            "colorbar": {
             "outlinewidth": 0,
             "ticks": ""
            },
            "colorscale": [
             [
              0,
              "#0d0887"
             ],
             [
              0.1111111111111111,
              "#46039f"
             ],
             [
              0.2222222222222222,
              "#7201a8"
             ],
             [
              0.3333333333333333,
              "#9c179e"
             ],
             [
              0.4444444444444444,
              "#bd3786"
             ],
             [
              0.5555555555555556,
              "#d8576b"
             ],
             [
              0.6666666666666666,
              "#ed7953"
             ],
             [
              0.7777777777777778,
              "#fb9f3a"
             ],
             [
              0.8888888888888888,
              "#fdca26"
             ],
             [
              1,
              "#f0f921"
             ]
            ],
            "type": "histogram2dcontour"
           }
          ],
          "mesh3d": [
           {
            "colorbar": {
             "outlinewidth": 0,
             "ticks": ""
            },
            "type": "mesh3d"
           }
          ],
          "parcoords": [
           {
            "line": {
             "colorbar": {
              "outlinewidth": 0,
              "ticks": ""
             }
            },
            "type": "parcoords"
           }
          ],
          "pie": [
           {
            "automargin": true,
            "type": "pie"
           }
          ],
          "scatter": [
           {
            "fillpattern": {
             "fillmode": "overlay",
             "size": 10,
             "solidity": 0.2
            },
            "type": "scatter"
           }
          ],
          "scatter3d": [
           {
            "line": {
             "colorbar": {
              "outlinewidth": 0,
              "ticks": ""
             }
            },
            "marker": {
             "colorbar": {
              "outlinewidth": 0,
              "ticks": ""
             }
            },
            "type": "scatter3d"
           }
          ],
          "scattercarpet": [
           {
            "marker": {
             "colorbar": {
              "outlinewidth": 0,
              "ticks": ""
             }
            },
            "type": "scattercarpet"
           }
          ],
          "scattergeo": [
           {
            "marker": {
             "colorbar": {
              "outlinewidth": 0,
              "ticks": ""
             }
            },
            "type": "scattergeo"
           }
          ],
          "scattergl": [
           {
            "marker": {
             "colorbar": {
              "outlinewidth": 0,
              "ticks": ""
             }
            },
            "type": "scattergl"
           }
          ],
          "scattermapbox": [
           {
            "marker": {
             "colorbar": {
              "outlinewidth": 0,
              "ticks": ""
             }
            },
            "type": "scattermapbox"
           }
          ],
          "scatterpolar": [
           {
            "marker": {
             "colorbar": {
              "outlinewidth": 0,
              "ticks": ""
             }
            },
            "type": "scatterpolar"
           }
          ],
          "scatterpolargl": [
           {
            "marker": {
             "colorbar": {
              "outlinewidth": 0,
              "ticks": ""
             }
            },
            "type": "scatterpolargl"
           }
          ],
          "scatterternary": [
           {
            "marker": {
             "colorbar": {
              "outlinewidth": 0,
              "ticks": ""
             }
            },
            "type": "scatterternary"
           }
          ],
          "surface": [
           {
            "colorbar": {
             "outlinewidth": 0,
             "ticks": ""
            },
            "colorscale": [
             [
              0,
              "#0d0887"
             ],
             [
              0.1111111111111111,
              "#46039f"
             ],
             [
              0.2222222222222222,
              "#7201a8"
             ],
             [
              0.3333333333333333,
              "#9c179e"
             ],
             [
              0.4444444444444444,
              "#bd3786"
             ],
             [
              0.5555555555555556,
              "#d8576b"
             ],
             [
              0.6666666666666666,
              "#ed7953"
             ],
             [
              0.7777777777777778,
              "#fb9f3a"
             ],
             [
              0.8888888888888888,
              "#fdca26"
             ],
             [
              1,
              "#f0f921"
             ]
            ],
            "type": "surface"
           }
          ],
          "table": [
           {
            "cells": {
             "fill": {
              "color": "#EBF0F8"
             },
             "line": {
              "color": "white"
             }
            },
            "header": {
             "fill": {
              "color": "#C8D4E3"
             },
             "line": {
              "color": "white"
             }
            },
            "type": "table"
           }
          ]
         },
         "layout": {
          "annotationdefaults": {
           "arrowcolor": "#2a3f5f",
           "arrowhead": 0,
           "arrowwidth": 1
          },
          "autotypenumbers": "strict",
          "coloraxis": {
           "colorbar": {
            "outlinewidth": 0,
            "ticks": ""
           }
          },
          "colorscale": {
           "diverging": [
            [
             0,
             "#8e0152"
            ],
            [
             0.1,
             "#c51b7d"
            ],
            [
             0.2,
             "#de77ae"
            ],
            [
             0.3,
             "#f1b6da"
            ],
            [
             0.4,
             "#fde0ef"
            ],
            [
             0.5,
             "#f7f7f7"
            ],
            [
             0.6,
             "#e6f5d0"
            ],
            [
             0.7,
             "#b8e186"
            ],
            [
             0.8,
             "#7fbc41"
            ],
            [
             0.9,
             "#4d9221"
            ],
            [
             1,
             "#276419"
            ]
           ],
           "sequential": [
            [
             0,
             "#0d0887"
            ],
            [
             0.1111111111111111,
             "#46039f"
            ],
            [
             0.2222222222222222,
             "#7201a8"
            ],
            [
             0.3333333333333333,
             "#9c179e"
            ],
            [
             0.4444444444444444,
             "#bd3786"
            ],
            [
             0.5555555555555556,
             "#d8576b"
            ],
            [
             0.6666666666666666,
             "#ed7953"
            ],
            [
             0.7777777777777778,
             "#fb9f3a"
            ],
            [
             0.8888888888888888,
             "#fdca26"
            ],
            [
             1,
             "#f0f921"
            ]
           ],
           "sequentialminus": [
            [
             0,
             "#0d0887"
            ],
            [
             0.1111111111111111,
             "#46039f"
            ],
            [
             0.2222222222222222,
             "#7201a8"
            ],
            [
             0.3333333333333333,
             "#9c179e"
            ],
            [
             0.4444444444444444,
             "#bd3786"
            ],
            [
             0.5555555555555556,
             "#d8576b"
            ],
            [
             0.6666666666666666,
             "#ed7953"
            ],
            [
             0.7777777777777778,
             "#fb9f3a"
            ],
            [
             0.8888888888888888,
             "#fdca26"
            ],
            [
             1,
             "#f0f921"
            ]
           ]
          },
          "colorway": [
           "#636efa",
           "#EF553B",
           "#00cc96",
           "#ab63fa",
           "#FFA15A",
           "#19d3f3",
           "#FF6692",
           "#B6E880",
           "#FF97FF",
           "#FECB52"
          ],
          "font": {
           "color": "#2a3f5f"
          },
          "geo": {
           "bgcolor": "white",
           "lakecolor": "white",
           "landcolor": "#E5ECF6",
           "showlakes": true,
           "showland": true,
           "subunitcolor": "white"
          },
          "hoverlabel": {
           "align": "left"
          },
          "hovermode": "closest",
          "mapbox": {
           "style": "light"
          },
          "paper_bgcolor": "white",
          "plot_bgcolor": "#E5ECF6",
          "polar": {
           "angularaxis": {
            "gridcolor": "white",
            "linecolor": "white",
            "ticks": ""
           },
           "bgcolor": "#E5ECF6",
           "radialaxis": {
            "gridcolor": "white",
            "linecolor": "white",
            "ticks": ""
           }
          },
          "scene": {
           "xaxis": {
            "backgroundcolor": "#E5ECF6",
            "gridcolor": "white",
            "gridwidth": 2,
            "linecolor": "white",
            "showbackground": true,
            "ticks": "",
            "zerolinecolor": "white"
           },
           "yaxis": {
            "backgroundcolor": "#E5ECF6",
            "gridcolor": "white",
            "gridwidth": 2,
            "linecolor": "white",
            "showbackground": true,
            "ticks": "",
            "zerolinecolor": "white"
           },
           "zaxis": {
            "backgroundcolor": "#E5ECF6",
            "gridcolor": "white",
            "gridwidth": 2,
            "linecolor": "white",
            "showbackground": true,
            "ticks": "",
            "zerolinecolor": "white"
           }
          },
          "shapedefaults": {
           "line": {
            "color": "#2a3f5f"
           }
          },
          "ternary": {
           "aaxis": {
            "gridcolor": "white",
            "linecolor": "white",
            "ticks": ""
           },
           "baxis": {
            "gridcolor": "white",
            "linecolor": "white",
            "ticks": ""
           },
           "bgcolor": "#E5ECF6",
           "caxis": {
            "gridcolor": "white",
            "linecolor": "white",
            "ticks": ""
           }
          },
          "title": {
           "x": 0.05
          },
          "xaxis": {
           "automargin": true,
           "gridcolor": "white",
           "linecolor": "white",
           "ticks": "",
           "title": {
            "standoff": 15
           },
           "zerolinecolor": "white",
           "zerolinewidth": 2
          },
          "yaxis": {
           "automargin": true,
           "gridcolor": "white",
           "linecolor": "white",
           "ticks": "",
           "title": {
            "standoff": 15
           },
           "zerolinecolor": "white",
           "zerolinewidth": 2
          }
         }
        },
        "title": {
         "text": "Convex DAO Cash Flows (ETH)"
        },
        "xaxis": {
         "anchor": "y",
         "domain": [
          0,
          1
         ],
         "title": {
          "text": "datetime"
         }
        },
        "yaxis": {
         "anchor": "x",
         "domain": [
          0,
          1
         ],
         "tickformat": "Ξ",
         "title": {
          "text": "value"
         }
        }
       }
      },
      "text/html": [
       "<div>                            <div id=\"dec90e33-b02b-4a8b-958b-004bb475b58f\" class=\"plotly-graph-div\" style=\"height:500px; width:100%;\"></div>            <script type=\"text/javascript\">                require([\"plotly\"], function(Plotly) {                    window.PLOTLYENV=window.PLOTLYENV || {};                                    if (document.getElementById(\"dec90e33-b02b-4a8b-958b-004bb475b58f\")) {                    Plotly.newPlot(                        \"dec90e33-b02b-4a8b-958b-004bb475b58f\",                        [{\"alignmentgroup\":\"True\",\"legendgroup\":\"revenue_eth\",\"marker\":{\"color\":\"#636efa\",\"pattern\":{\"shape\":\"\"}},\"name\":\"revenue_eth\",\"offsetgroup\":\"revenue_eth\",\"orientation\":\"v\",\"showlegend\":true,\"textposition\":\"auto\",\"x\":[\"2021-05-31T00:00:00\",\"2021-06-30T00:00:00\",\"2021-07-31T00:00:00\",\"2021-08-31T00:00:00\",\"2021-09-30T00:00:00\",\"2021-10-31T00:00:00\",\"2021-11-30T00:00:00\",\"2021-12-31T00:00:00\",\"2022-01-31T00:00:00\",\"2022-02-28T00:00:00\",\"2022-03-31T00:00:00\",\"2022-04-30T00:00:00\",\"2022-05-31T00:00:00\",\"2022-06-30T00:00:00\",\"2022-07-31T00:00:00\",\"2022-08-31T00:00:00\"],\"xaxis\":\"x\",\"y\":[23.705532540360245,0.0,0.0,0.0,0.0,24.342556148038117,34.02070954919842,107.54744948643419,116.03339070445224,349.40917213537097,3.4787963529688195,434.4402155905837,18.854562281478138,161.2026383289638,0.0,0.0],\"yaxis\":\"y\",\"type\":\"bar\"},{\"alignmentgroup\":\"True\",\"legendgroup\":\"expense_eth\",\"marker\":{\"color\":\"#EF553B\",\"pattern\":{\"shape\":\"\"}},\"name\":\"expense_eth\",\"offsetgroup\":\"expense_eth\",\"orientation\":\"v\",\"showlegend\":true,\"textposition\":\"auto\",\"x\":[\"2021-05-31T00:00:00\",\"2021-06-30T00:00:00\",\"2021-07-31T00:00:00\",\"2021-08-31T00:00:00\",\"2021-09-30T00:00:00\",\"2021-10-31T00:00:00\",\"2021-11-30T00:00:00\",\"2021-12-31T00:00:00\",\"2022-01-31T00:00:00\",\"2022-02-28T00:00:00\",\"2022-03-31T00:00:00\",\"2022-04-30T00:00:00\",\"2022-05-31T00:00:00\",\"2022-06-30T00:00:00\",\"2022-07-31T00:00:00\",\"2022-08-31T00:00:00\"],\"xaxis\":\"x\",\"y\":[0.0,18.28261817820182,0.0,0.0,13.85867510314077,13.622766186620083,22.724247238365628,106.02287866749572,56.23509916938138,126.86391491661192,145.67893056796103,254.7345092685967,89.51138009009433,44.575221502007466,108.6664629639491,46.481844853245256],\"yaxis\":\"y\",\"type\":\"bar\"}],                        {\"template\":{\"data\":{\"histogram2dcontour\":[{\"type\":\"histogram2dcontour\",\"colorbar\":{\"outlinewidth\":0,\"ticks\":\"\"},\"colorscale\":[[0.0,\"#0d0887\"],[0.1111111111111111,\"#46039f\"],[0.2222222222222222,\"#7201a8\"],[0.3333333333333333,\"#9c179e\"],[0.4444444444444444,\"#bd3786\"],[0.5555555555555556,\"#d8576b\"],[0.6666666666666666,\"#ed7953\"],[0.7777777777777778,\"#fb9f3a\"],[0.8888888888888888,\"#fdca26\"],[1.0,\"#f0f921\"]]}],\"choropleth\":[{\"type\":\"choropleth\",\"colorbar\":{\"outlinewidth\":0,\"ticks\":\"\"}}],\"histogram2d\":[{\"type\":\"histogram2d\",\"colorbar\":{\"outlinewidth\":0,\"ticks\":\"\"},\"colorscale\":[[0.0,\"#0d0887\"],[0.1111111111111111,\"#46039f\"],[0.2222222222222222,\"#7201a8\"],[0.3333333333333333,\"#9c179e\"],[0.4444444444444444,\"#bd3786\"],[0.5555555555555556,\"#d8576b\"],[0.6666666666666666,\"#ed7953\"],[0.7777777777777778,\"#fb9f3a\"],[0.8888888888888888,\"#fdca26\"],[1.0,\"#f0f921\"]]}],\"heatmap\":[{\"type\":\"heatmap\",\"colorbar\":{\"outlinewidth\":0,\"ticks\":\"\"},\"colorscale\":[[0.0,\"#0d0887\"],[0.1111111111111111,\"#46039f\"],[0.2222222222222222,\"#7201a8\"],[0.3333333333333333,\"#9c179e\"],[0.4444444444444444,\"#bd3786\"],[0.5555555555555556,\"#d8576b\"],[0.6666666666666666,\"#ed7953\"],[0.7777777777777778,\"#fb9f3a\"],[0.8888888888888888,\"#fdca26\"],[1.0,\"#f0f921\"]]}],\"heatmapgl\":[{\"type\":\"heatmapgl\",\"colorbar\":{\"outlinewidth\":0,\"ticks\":\"\"},\"colorscale\":[[0.0,\"#0d0887\"],[0.1111111111111111,\"#46039f\"],[0.2222222222222222,\"#7201a8\"],[0.3333333333333333,\"#9c179e\"],[0.4444444444444444,\"#bd3786\"],[0.5555555555555556,\"#d8576b\"],[0.6666666666666666,\"#ed7953\"],[0.7777777777777778,\"#fb9f3a\"],[0.8888888888888888,\"#fdca26\"],[1.0,\"#f0f921\"]]}],\"contourcarpet\":[{\"type\":\"contourcarpet\",\"colorbar\":{\"outlinewidth\":0,\"ticks\":\"\"}}],\"contour\":[{\"type\":\"contour\",\"colorbar\":{\"outlinewidth\":0,\"ticks\":\"\"},\"colorscale\":[[0.0,\"#0d0887\"],[0.1111111111111111,\"#46039f\"],[0.2222222222222222,\"#7201a8\"],[0.3333333333333333,\"#9c179e\"],[0.4444444444444444,\"#bd3786\"],[0.5555555555555556,\"#d8576b\"],[0.6666666666666666,\"#ed7953\"],[0.7777777777777778,\"#fb9f3a\"],[0.8888888888888888,\"#fdca26\"],[1.0,\"#f0f921\"]]}],\"surface\":[{\"type\":\"surface\",\"colorbar\":{\"outlinewidth\":0,\"ticks\":\"\"},\"colorscale\":[[0.0,\"#0d0887\"],[0.1111111111111111,\"#46039f\"],[0.2222222222222222,\"#7201a8\"],[0.3333333333333333,\"#9c179e\"],[0.4444444444444444,\"#bd3786\"],[0.5555555555555556,\"#d8576b\"],[0.6666666666666666,\"#ed7953\"],[0.7777777777777778,\"#fb9f3a\"],[0.8888888888888888,\"#fdca26\"],[1.0,\"#f0f921\"]]}],\"mesh3d\":[{\"type\":\"mesh3d\",\"colorbar\":{\"outlinewidth\":0,\"ticks\":\"\"}}],\"scatter\":[{\"fillpattern\":{\"fillmode\":\"overlay\",\"size\":10,\"solidity\":0.2},\"type\":\"scatter\"}],\"parcoords\":[{\"type\":\"parcoords\",\"line\":{\"colorbar\":{\"outlinewidth\":0,\"ticks\":\"\"}}}],\"scatterpolargl\":[{\"type\":\"scatterpolargl\",\"marker\":{\"colorbar\":{\"outlinewidth\":0,\"ticks\":\"\"}}}],\"bar\":[{\"error_x\":{\"color\":\"#2a3f5f\"},\"error_y\":{\"color\":\"#2a3f5f\"},\"marker\":{\"line\":{\"color\":\"#E5ECF6\",\"width\":0.5},\"pattern\":{\"fillmode\":\"overlay\",\"size\":10,\"solidity\":0.2}},\"type\":\"bar\"}],\"scattergeo\":[{\"type\":\"scattergeo\",\"marker\":{\"colorbar\":{\"outlinewidth\":0,\"ticks\":\"\"}}}],\"scatterpolar\":[{\"type\":\"scatterpolar\",\"marker\":{\"colorbar\":{\"outlinewidth\":0,\"ticks\":\"\"}}}],\"histogram\":[{\"marker\":{\"pattern\":{\"fillmode\":\"overlay\",\"size\":10,\"solidity\":0.2}},\"type\":\"histogram\"}],\"scattergl\":[{\"type\":\"scattergl\",\"marker\":{\"colorbar\":{\"outlinewidth\":0,\"ticks\":\"\"}}}],\"scatter3d\":[{\"type\":\"scatter3d\",\"line\":{\"colorbar\":{\"outlinewidth\":0,\"ticks\":\"\"}},\"marker\":{\"colorbar\":{\"outlinewidth\":0,\"ticks\":\"\"}}}],\"scattermapbox\":[{\"type\":\"scattermapbox\",\"marker\":{\"colorbar\":{\"outlinewidth\":0,\"ticks\":\"\"}}}],\"scatterternary\":[{\"type\":\"scatterternary\",\"marker\":{\"colorbar\":{\"outlinewidth\":0,\"ticks\":\"\"}}}],\"scattercarpet\":[{\"type\":\"scattercarpet\",\"marker\":{\"colorbar\":{\"outlinewidth\":0,\"ticks\":\"\"}}}],\"carpet\":[{\"aaxis\":{\"endlinecolor\":\"#2a3f5f\",\"gridcolor\":\"white\",\"linecolor\":\"white\",\"minorgridcolor\":\"white\",\"startlinecolor\":\"#2a3f5f\"},\"baxis\":{\"endlinecolor\":\"#2a3f5f\",\"gridcolor\":\"white\",\"linecolor\":\"white\",\"minorgridcolor\":\"white\",\"startlinecolor\":\"#2a3f5f\"},\"type\":\"carpet\"}],\"table\":[{\"cells\":{\"fill\":{\"color\":\"#EBF0F8\"},\"line\":{\"color\":\"white\"}},\"header\":{\"fill\":{\"color\":\"#C8D4E3\"},\"line\":{\"color\":\"white\"}},\"type\":\"table\"}],\"barpolar\":[{\"marker\":{\"line\":{\"color\":\"#E5ECF6\",\"width\":0.5},\"pattern\":{\"fillmode\":\"overlay\",\"size\":10,\"solidity\":0.2}},\"type\":\"barpolar\"}],\"pie\":[{\"automargin\":true,\"type\":\"pie\"}]},\"layout\":{\"autotypenumbers\":\"strict\",\"colorway\":[\"#636efa\",\"#EF553B\",\"#00cc96\",\"#ab63fa\",\"#FFA15A\",\"#19d3f3\",\"#FF6692\",\"#B6E880\",\"#FF97FF\",\"#FECB52\"],\"font\":{\"color\":\"#2a3f5f\"},\"hovermode\":\"closest\",\"hoverlabel\":{\"align\":\"left\"},\"paper_bgcolor\":\"white\",\"plot_bgcolor\":\"#E5ECF6\",\"polar\":{\"bgcolor\":\"#E5ECF6\",\"angularaxis\":{\"gridcolor\":\"white\",\"linecolor\":\"white\",\"ticks\":\"\"},\"radialaxis\":{\"gridcolor\":\"white\",\"linecolor\":\"white\",\"ticks\":\"\"}},\"ternary\":{\"bgcolor\":\"#E5ECF6\",\"aaxis\":{\"gridcolor\":\"white\",\"linecolor\":\"white\",\"ticks\":\"\"},\"baxis\":{\"gridcolor\":\"white\",\"linecolor\":\"white\",\"ticks\":\"\"},\"caxis\":{\"gridcolor\":\"white\",\"linecolor\":\"white\",\"ticks\":\"\"}},\"coloraxis\":{\"colorbar\":{\"outlinewidth\":0,\"ticks\":\"\"}},\"colorscale\":{\"sequential\":[[0.0,\"#0d0887\"],[0.1111111111111111,\"#46039f\"],[0.2222222222222222,\"#7201a8\"],[0.3333333333333333,\"#9c179e\"],[0.4444444444444444,\"#bd3786\"],[0.5555555555555556,\"#d8576b\"],[0.6666666666666666,\"#ed7953\"],[0.7777777777777778,\"#fb9f3a\"],[0.8888888888888888,\"#fdca26\"],[1.0,\"#f0f921\"]],\"sequentialminus\":[[0.0,\"#0d0887\"],[0.1111111111111111,\"#46039f\"],[0.2222222222222222,\"#7201a8\"],[0.3333333333333333,\"#9c179e\"],[0.4444444444444444,\"#bd3786\"],[0.5555555555555556,\"#d8576b\"],[0.6666666666666666,\"#ed7953\"],[0.7777777777777778,\"#fb9f3a\"],[0.8888888888888888,\"#fdca26\"],[1.0,\"#f0f921\"]],\"diverging\":[[0,\"#8e0152\"],[0.1,\"#c51b7d\"],[0.2,\"#de77ae\"],[0.3,\"#f1b6da\"],[0.4,\"#fde0ef\"],[0.5,\"#f7f7f7\"],[0.6,\"#e6f5d0\"],[0.7,\"#b8e186\"],[0.8,\"#7fbc41\"],[0.9,\"#4d9221\"],[1,\"#276419\"]]},\"xaxis\":{\"gridcolor\":\"white\",\"linecolor\":\"white\",\"ticks\":\"\",\"title\":{\"standoff\":15},\"zerolinecolor\":\"white\",\"automargin\":true,\"zerolinewidth\":2},\"yaxis\":{\"gridcolor\":\"white\",\"linecolor\":\"white\",\"ticks\":\"\",\"title\":{\"standoff\":15},\"zerolinecolor\":\"white\",\"automargin\":true,\"zerolinewidth\":2},\"scene\":{\"xaxis\":{\"backgroundcolor\":\"#E5ECF6\",\"gridcolor\":\"white\",\"linecolor\":\"white\",\"showbackground\":true,\"ticks\":\"\",\"zerolinecolor\":\"white\",\"gridwidth\":2},\"yaxis\":{\"backgroundcolor\":\"#E5ECF6\",\"gridcolor\":\"white\",\"linecolor\":\"white\",\"showbackground\":true,\"ticks\":\"\",\"zerolinecolor\":\"white\",\"gridwidth\":2},\"zaxis\":{\"backgroundcolor\":\"#E5ECF6\",\"gridcolor\":\"white\",\"linecolor\":\"white\",\"showbackground\":true,\"ticks\":\"\",\"zerolinecolor\":\"white\",\"gridwidth\":2}},\"shapedefaults\":{\"line\":{\"color\":\"#2a3f5f\"}},\"annotationdefaults\":{\"arrowcolor\":\"#2a3f5f\",\"arrowhead\":0,\"arrowwidth\":1},\"geo\":{\"bgcolor\":\"white\",\"landcolor\":\"#E5ECF6\",\"subunitcolor\":\"white\",\"showland\":true,\"showlakes\":true,\"lakecolor\":\"white\"},\"title\":{\"x\":0.05},\"mapbox\":{\"style\":\"light\"}}},\"xaxis\":{\"anchor\":\"y\",\"domain\":[0.0,1.0],\"title\":{\"text\":\"datetime\"}},\"yaxis\":{\"anchor\":\"x\",\"domain\":[0.0,1.0],\"title\":{\"text\":\"value\"},\"tickformat\":\"Ξ\"},\"legend\":{\"title\":{\"text\":\"variable\"},\"tracegroupgap\":0},\"title\":{\"text\":\"Convex DAO Cash Flows (ETH)\"},\"barmode\":\"relative\",\"height\":500,\"hovermode\":\"x\"},                        {\"responsive\": true}                    ).then(function(){\n",
       "                            \n",
       "var gd = document.getElementById('dec90e33-b02b-4a8b-958b-004bb475b58f');\n",
       "var x = new MutationObserver(function (mutations, observer) {{\n",
       "        var display = window.getComputedStyle(gd).display;\n",
       "        if (!display || display === 'none') {{\n",
       "            console.log([gd, 'removed!']);\n",
       "            Plotly.purge(gd);\n",
       "            observer.disconnect();\n",
       "        }}\n",
       "}});\n",
       "\n",
       "// Listen for the removal of the full notebook cells\n",
       "var notebookContainer = gd.closest('#notebook-container');\n",
       "if (notebookContainer) {{\n",
       "    x.observe(notebookContainer, {childList: true});\n",
       "}}\n",
       "\n",
       "// Listen for the clearing of the current output cell\n",
       "var outputEl = gd.closest('.output');\n",
       "if (outputEl) {{\n",
       "    x.observe(outputEl, {childList: true});\n",
       "}}\n",
       "\n",
       "                        })                };                });            </script>        </div>"
      ]
     },
     "metadata": {},
     "output_type": "display_data"
    }
   ],
   "source": [
    "# Graphing the data\n",
    "fig = px.bar(df_convex_sampled, x = df_convex_sampled.index, y=['revenue_eth', 'expense_eth'],\n",
    "    height=500, title = \"Convex DAO Cash Flows (ETH)\")\n",
    "fig.update_traces(hovertemplate=None)\n",
    "fig.update_layout(hovermode=\"x\", yaxis= {\"tickformat\": 'Ξ' })\n",
    "fig.show()"
   ]
  },
  {
   "cell_type": "code",
   "execution_count": null,
   "id": "0fd30134",
   "metadata": {},
   "outputs": [],
   "source": []
  },
  {
   "cell_type": "code",
   "execution_count": 34,
   "id": "e6da306b",
   "metadata": {},
   "outputs": [],
   "source": [
    "def get_graph_query(subgraph_url, query, variables=None):\n",
    "    request_json = {'query': query}\n",
    "    if variables:\n",
    "        request_json['variables'] = variables\n",
    "    resp = requests.post(subgraph_url, json=request_json)\n",
    "    response = json.loads(resp.text)\n",
    "    response = response['data']\n",
    "\n",
    "    return response"
   ]
  },
  {
   "cell_type": "code",
   "execution_count": 35,
   "id": "6b52ca8f",
   "metadata": {},
   "outputs": [],
   "source": [
    "query = \"\"\"query MyQuery {\n",
    "  financialsDailySnapshots {\n",
    "    cumulativeProtocolSideRevenueUSD\n",
    "    cumulativeSupplySideRevenueUSD\n",
    "    timestamp\n",
    "    id\n",
    "    blockNumber\n",
    "    cumulativeTotalRevenueUSD\n",
    "    dailyProtocolSideRevenueUSD\n",
    "    dailySupplySideRevenueUSD\n",
    "    dailyTotalRevenueUSD\n",
    "    protocolControlledValueUSD\n",
    "    totalValueLockedUSD\n",
    "  }\n",
    "}\"\"\"\n",
    "subgraph_convex = 'https://api.thegraph.com/subgraphs/name/messari/convex-finance-ethereum'\n",
    "df = pd.DataFrame(get_graph_query(subgraph_convex, query)['financialsDailySnapshots'])"
   ]
  },
  {
   "cell_type": "code",
   "execution_count": 38,
   "id": "802ceb4f",
   "metadata": {},
   "outputs": [],
   "source": [
    "df.index = pd.to_datetime(df['timestamp'], unit='s')"
   ]
  },
  {
   "cell_type": "code",
   "execution_count": 39,
   "id": "76e0be90",
   "metadata": {},
   "outputs": [
    {
     "data": {
      "text/html": [
       "<div>\n",
       "<style scoped>\n",
       "    .dataframe tbody tr th:only-of-type {\n",
       "        vertical-align: middle;\n",
       "    }\n",
       "\n",
       "    .dataframe tbody tr th {\n",
       "        vertical-align: top;\n",
       "    }\n",
       "\n",
       "    .dataframe thead th {\n",
       "        text-align: right;\n",
       "    }\n",
       "</style>\n",
       "<table border=\"1\" class=\"dataframe\">\n",
       "  <thead>\n",
       "    <tr style=\"text-align: right;\">\n",
       "      <th></th>\n",
       "      <th>cumulativeProtocolSideRevenueUSD</th>\n",
       "      <th>cumulativeSupplySideRevenueUSD</th>\n",
       "      <th>timestamp</th>\n",
       "      <th>id</th>\n",
       "      <th>blockNumber</th>\n",
       "      <th>cumulativeTotalRevenueUSD</th>\n",
       "      <th>dailyProtocolSideRevenueUSD</th>\n",
       "      <th>dailySupplySideRevenueUSD</th>\n",
       "      <th>dailyTotalRevenueUSD</th>\n",
       "      <th>protocolControlledValueUSD</th>\n",
       "      <th>totalValueLockedUSD</th>\n",
       "    </tr>\n",
       "    <tr>\n",
       "      <th>timestamp</th>\n",
       "      <th></th>\n",
       "      <th></th>\n",
       "      <th></th>\n",
       "      <th></th>\n",
       "      <th></th>\n",
       "      <th></th>\n",
       "      <th></th>\n",
       "      <th></th>\n",
       "      <th></th>\n",
       "      <th></th>\n",
       "      <th></th>\n",
       "    </tr>\n",
       "  </thead>\n",
       "  <tbody>\n",
       "    <tr>\n",
       "      <th>2021-05-17 23:55:37</th>\n",
       "      <td>0</td>\n",
       "      <td>0</td>\n",
       "      <td>1621295737</td>\n",
       "      <td>18764</td>\n",
       "      <td>12455009</td>\n",
       "      <td>0</td>\n",
       "      <td>0</td>\n",
       "      <td>0</td>\n",
       "      <td>0</td>\n",
       "      <td>0</td>\n",
       "      <td>60676928.74190330106055586944512512</td>\n",
       "    </tr>\n",
       "    <tr>\n",
       "      <th>2021-05-18 23:58:29</th>\n",
       "      <td>2911.5</td>\n",
       "      <td>104793.3</td>\n",
       "      <td>1621382309</td>\n",
       "      <td>18765</td>\n",
       "      <td>12461481</td>\n",
       "      <td>107704.8</td>\n",
       "      <td>2911.5</td>\n",
       "      <td>104793.3</td>\n",
       "      <td>107704.8</td>\n",
       "      <td>0</td>\n",
       "      <td>167517064.3852805606505050426576255</td>\n",
       "    </tr>\n",
       "    <tr>\n",
       "      <th>2021-05-19 23:57:47</th>\n",
       "      <td>2911.5</td>\n",
       "      <td>104793.3</td>\n",
       "      <td>1621468667</td>\n",
       "      <td>18766</td>\n",
       "      <td>12467900</td>\n",
       "      <td>107704.8</td>\n",
       "      <td>0</td>\n",
       "      <td>0</td>\n",
       "      <td>0</td>\n",
       "      <td>0</td>\n",
       "      <td>139099538.6602314430271684345698088</td>\n",
       "    </tr>\n",
       "    <tr>\n",
       "      <th>2021-05-20 23:57:13</th>\n",
       "      <td>13123.9</td>\n",
       "      <td>501963.6</td>\n",
       "      <td>1621555033</td>\n",
       "      <td>18767</td>\n",
       "      <td>12474361</td>\n",
       "      <td>515087.5</td>\n",
       "      <td>10212.4</td>\n",
       "      <td>397170.3</td>\n",
       "      <td>407382.7</td>\n",
       "      <td>0</td>\n",
       "      <td>160690917.0157650690238170354105772</td>\n",
       "    </tr>\n",
       "    <tr>\n",
       "      <th>2021-05-21 23:47:32</th>\n",
       "      <td>19545.1</td>\n",
       "      <td>746543.1</td>\n",
       "      <td>1621640852</td>\n",
       "      <td>18768</td>\n",
       "      <td>12480724</td>\n",
       "      <td>766088.2</td>\n",
       "      <td>6421.2</td>\n",
       "      <td>244579.5</td>\n",
       "      <td>251000.7</td>\n",
       "      <td>0</td>\n",
       "      <td>196388866.954201839408676529546327</td>\n",
       "    </tr>\n",
       "    <tr>\n",
       "      <th>...</th>\n",
       "      <td>...</td>\n",
       "      <td>...</td>\n",
       "      <td>...</td>\n",
       "      <td>...</td>\n",
       "      <td>...</td>\n",
       "      <td>...</td>\n",
       "      <td>...</td>\n",
       "      <td>...</td>\n",
       "      <td>...</td>\n",
       "      <td>...</td>\n",
       "      <td>...</td>\n",
       "    </tr>\n",
       "    <tr>\n",
       "      <th>2021-08-20 23:57:59</th>\n",
       "      <td>3898320.5</td>\n",
       "      <td>126508701.6</td>\n",
       "      <td>1629503879</td>\n",
       "      <td>18859</td>\n",
       "      <td>13065312</td>\n",
       "      <td>130407022.1</td>\n",
       "      <td>14404.7</td>\n",
       "      <td>497599</td>\n",
       "      <td>512003.7</td>\n",
       "      <td>0</td>\n",
       "      <td>6160465564.22638174839381445340781</td>\n",
       "    </tr>\n",
       "    <tr>\n",
       "      <th>2021-08-21 23:52:04</th>\n",
       "      <td>3915837</td>\n",
       "      <td>127094918</td>\n",
       "      <td>1629589924</td>\n",
       "      <td>18860</td>\n",
       "      <td>13071725</td>\n",
       "      <td>131010755</td>\n",
       "      <td>17516.5</td>\n",
       "      <td>586216.4</td>\n",
       "      <td>603732.9</td>\n",
       "      <td>0</td>\n",
       "      <td>6199863875.83601522968887535217342</td>\n",
       "    </tr>\n",
       "    <tr>\n",
       "      <th>2021-08-22 23:59:52</th>\n",
       "      <td>3944736.3</td>\n",
       "      <td>128042820.3</td>\n",
       "      <td>1629676792</td>\n",
       "      <td>18861</td>\n",
       "      <td>13078270</td>\n",
       "      <td>131987556.6</td>\n",
       "      <td>28899.3</td>\n",
       "      <td>947902.3</td>\n",
       "      <td>976801.6</td>\n",
       "      <td>0</td>\n",
       "      <td>6209714982.109681277349913884682856</td>\n",
       "    </tr>\n",
       "    <tr>\n",
       "      <th>2021-08-23 23:58:33</th>\n",
       "      <td>3989317</td>\n",
       "      <td>129548923.5</td>\n",
       "      <td>1629763113</td>\n",
       "      <td>18862</td>\n",
       "      <td>13084672</td>\n",
       "      <td>133538240.5</td>\n",
       "      <td>44580.7</td>\n",
       "      <td>1506103.2</td>\n",
       "      <td>1550683.9</td>\n",
       "      <td>0</td>\n",
       "      <td>6400493018.74433391584016441249981</td>\n",
       "    </tr>\n",
       "    <tr>\n",
       "      <th>2021-08-24 23:40:49</th>\n",
       "      <td>4031931.5</td>\n",
       "      <td>130896536.3</td>\n",
       "      <td>1629848449</td>\n",
       "      <td>18863</td>\n",
       "      <td>13091100</td>\n",
       "      <td>134928467.8</td>\n",
       "      <td>42614.5</td>\n",
       "      <td>1347612.8</td>\n",
       "      <td>1390227.3</td>\n",
       "      <td>0</td>\n",
       "      <td>6381195058.812683134135893747573771</td>\n",
       "    </tr>\n",
       "  </tbody>\n",
       "</table>\n",
       "<p>100 rows × 11 columns</p>\n",
       "</div>"
      ],
      "text/plain": [
       "                    cumulativeProtocolSideRevenueUSD  \\\n",
       "timestamp                                              \n",
       "2021-05-17 23:55:37                                0   \n",
       "2021-05-18 23:58:29                           2911.5   \n",
       "2021-05-19 23:57:47                           2911.5   \n",
       "2021-05-20 23:57:13                          13123.9   \n",
       "2021-05-21 23:47:32                          19545.1   \n",
       "...                                              ...   \n",
       "2021-08-20 23:57:59                        3898320.5   \n",
       "2021-08-21 23:52:04                          3915837   \n",
       "2021-08-22 23:59:52                        3944736.3   \n",
       "2021-08-23 23:58:33                          3989317   \n",
       "2021-08-24 23:40:49                        4031931.5   \n",
       "\n",
       "                    cumulativeSupplySideRevenueUSD   timestamp     id  \\\n",
       "timestamp                                                               \n",
       "2021-05-17 23:55:37                              0  1621295737  18764   \n",
       "2021-05-18 23:58:29                       104793.3  1621382309  18765   \n",
       "2021-05-19 23:57:47                       104793.3  1621468667  18766   \n",
       "2021-05-20 23:57:13                       501963.6  1621555033  18767   \n",
       "2021-05-21 23:47:32                       746543.1  1621640852  18768   \n",
       "...                                            ...         ...    ...   \n",
       "2021-08-20 23:57:59                    126508701.6  1629503879  18859   \n",
       "2021-08-21 23:52:04                      127094918  1629589924  18860   \n",
       "2021-08-22 23:59:52                    128042820.3  1629676792  18861   \n",
       "2021-08-23 23:58:33                    129548923.5  1629763113  18862   \n",
       "2021-08-24 23:40:49                    130896536.3  1629848449  18863   \n",
       "\n",
       "                    blockNumber cumulativeTotalRevenueUSD  \\\n",
       "timestamp                                                   \n",
       "2021-05-17 23:55:37    12455009                         0   \n",
       "2021-05-18 23:58:29    12461481                  107704.8   \n",
       "2021-05-19 23:57:47    12467900                  107704.8   \n",
       "2021-05-20 23:57:13    12474361                  515087.5   \n",
       "2021-05-21 23:47:32    12480724                  766088.2   \n",
       "...                         ...                       ...   \n",
       "2021-08-20 23:57:59    13065312               130407022.1   \n",
       "2021-08-21 23:52:04    13071725                 131010755   \n",
       "2021-08-22 23:59:52    13078270               131987556.6   \n",
       "2021-08-23 23:58:33    13084672               133538240.5   \n",
       "2021-08-24 23:40:49    13091100               134928467.8   \n",
       "\n",
       "                    dailyProtocolSideRevenueUSD dailySupplySideRevenueUSD  \\\n",
       "timestamp                                                                   \n",
       "2021-05-17 23:55:37                           0                         0   \n",
       "2021-05-18 23:58:29                      2911.5                  104793.3   \n",
       "2021-05-19 23:57:47                           0                         0   \n",
       "2021-05-20 23:57:13                     10212.4                  397170.3   \n",
       "2021-05-21 23:47:32                      6421.2                  244579.5   \n",
       "...                                         ...                       ...   \n",
       "2021-08-20 23:57:59                     14404.7                    497599   \n",
       "2021-08-21 23:52:04                     17516.5                  586216.4   \n",
       "2021-08-22 23:59:52                     28899.3                  947902.3   \n",
       "2021-08-23 23:58:33                     44580.7                 1506103.2   \n",
       "2021-08-24 23:40:49                     42614.5                 1347612.8   \n",
       "\n",
       "                    dailyTotalRevenueUSD protocolControlledValueUSD  \\\n",
       "timestamp                                                             \n",
       "2021-05-17 23:55:37                    0                          0   \n",
       "2021-05-18 23:58:29             107704.8                          0   \n",
       "2021-05-19 23:57:47                    0                          0   \n",
       "2021-05-20 23:57:13             407382.7                          0   \n",
       "2021-05-21 23:47:32             251000.7                          0   \n",
       "...                                  ...                        ...   \n",
       "2021-08-20 23:57:59             512003.7                          0   \n",
       "2021-08-21 23:52:04             603732.9                          0   \n",
       "2021-08-22 23:59:52             976801.6                          0   \n",
       "2021-08-23 23:58:33            1550683.9                          0   \n",
       "2021-08-24 23:40:49            1390227.3                          0   \n",
       "\n",
       "                                     totalValueLockedUSD  \n",
       "timestamp                                                 \n",
       "2021-05-17 23:55:37  60676928.74190330106055586944512512  \n",
       "2021-05-18 23:58:29  167517064.3852805606505050426576255  \n",
       "2021-05-19 23:57:47  139099538.6602314430271684345698088  \n",
       "2021-05-20 23:57:13  160690917.0157650690238170354105772  \n",
       "2021-05-21 23:47:32   196388866.954201839408676529546327  \n",
       "...                                                  ...  \n",
       "2021-08-20 23:57:59   6160465564.22638174839381445340781  \n",
       "2021-08-21 23:52:04   6199863875.83601522968887535217342  \n",
       "2021-08-22 23:59:52  6209714982.109681277349913884682856  \n",
       "2021-08-23 23:58:33   6400493018.74433391584016441249981  \n",
       "2021-08-24 23:40:49  6381195058.812683134135893747573771  \n",
       "\n",
       "[100 rows x 11 columns]"
      ]
     },
     "execution_count": 39,
     "metadata": {},
     "output_type": "execute_result"
    }
   ],
   "source": [
    "df"
   ]
  },
  {
   "cell_type": "code",
   "execution_count": 44,
   "id": "b54c4f21",
   "metadata": {},
   "outputs": [],
   "source": [
    "def df_to_numeric(df):\n",
    "    for column in df:\n",
    "        try:\n",
    "            df[column] = pd.to_numeric(df[column])\n",
    "        except Exception as e:\n",
    "            pass"
   ]
  },
  {
   "cell_type": "code",
   "execution_count": 45,
   "id": "022f31bf",
   "metadata": {},
   "outputs": [],
   "source": [
    "df_to_numeric(df)"
   ]
  },
  {
   "cell_type": "code",
   "execution_count": 48,
   "id": "9aa85131",
   "metadata": {},
   "outputs": [
    {
     "data": {
      "application/vnd.plotly.v1+json": {
       "config": {
        "plotlyServerURL": "https://plot.ly"
       },
       "data": [
        {
         "legendgroup": "cumulativeProtocolSideRevenueUSD",
         "line": {
          "color": "#636efa",
          "dash": "solid"
         },
         "marker": {
          "symbol": "circle"
         },
         "mode": "lines",
         "name": "cumulativeProtocolSideRevenueUSD",
         "orientation": "v",
         "showlegend": true,
         "type": "scatter",
         "x": [
          "2021-05-17T23:55:37",
          "2021-05-18T23:58:29",
          "2021-05-19T23:57:47",
          "2021-05-20T23:57:13",
          "2021-05-21T23:47:32",
          "2021-05-22T23:58:05",
          "2021-05-23T23:59:12",
          "2021-05-24T23:57:21",
          "2021-05-25T23:56:28",
          "2021-05-26T23:50:52",
          "2021-05-27T23:49:43",
          "2021-05-28T23:53:41",
          "2021-05-29T23:59:51",
          "2021-05-30T23:46:44",
          "2021-05-31T23:56:55",
          "2021-06-01T23:59:11",
          "2021-06-02T23:55:54",
          "2021-06-03T23:59:59",
          "2021-06-04T23:59:37",
          "2021-06-05T23:59:43",
          "2021-06-06T23:59:49",
          "2021-06-07T23:58:00",
          "2021-06-08T23:57:35",
          "2021-06-09T23:54:48",
          "2021-06-10T23:58:45",
          "2021-06-11T23:59:01",
          "2021-06-12T23:56:54",
          "2021-06-13T23:59:06",
          "2021-06-14T23:55:40",
          "2021-06-15T23:58:36",
          "2021-06-16T23:59:33",
          "2021-06-17T23:59:30",
          "2021-06-18T23:56:27",
          "2021-06-19T23:58:46",
          "2021-06-20T23:59:42",
          "2021-06-21T23:59:50",
          "2021-06-22T23:59:46",
          "2021-06-23T23:59:38",
          "2021-06-24T23:56:07",
          "2021-06-25T23:58:30",
          "2021-06-26T23:52:49",
          "2021-06-27T23:59:12",
          "2021-06-28T23:58:56",
          "2021-06-29T23:57:41",
          "2021-06-30T23:56:10",
          "2021-07-01T23:59:02",
          "2021-07-02T23:58:32",
          "2021-07-03T23:59:38",
          "2021-07-04T23:56:34",
          "2021-07-05T23:56:05",
          "2021-07-06T23:52:04",
          "2021-07-07T23:57:20",
          "2021-07-08T23:58:37",
          "2021-07-09T23:52:36",
          "2021-07-10T23:59:35",
          "2021-07-11T23:59:30",
          "2021-07-12T23:54:24",
          "2021-07-13T23:58:04",
          "2021-07-14T23:58:49",
          "2021-07-15T23:58:36",
          "2021-07-16T23:59:02",
          "2021-07-17T23:52:56",
          "2021-07-18T23:56:19",
          "2021-07-19T23:57:14",
          "2021-07-20T23:53:44",
          "2021-07-21T23:57:31",
          "2021-07-22T23:53:01",
          "2021-07-23T23:58:16",
          "2021-07-24T23:47:28",
          "2021-07-25T23:56:36",
          "2021-07-26T23:59:33",
          "2021-07-27T23:57:49",
          "2021-07-28T23:59:13",
          "2021-07-29T23:56:05",
          "2021-07-30T23:57:46",
          "2021-07-31T23:59:13",
          "2021-08-01T23:45:15",
          "2021-08-02T23:59:01",
          "2021-08-03T23:58:35",
          "2021-08-04T23:52:30",
          "2021-08-05T23:58:38",
          "2021-08-06T23:50:40",
          "2021-08-07T23:44:09",
          "2021-08-08T23:58:57",
          "2021-08-09T23:55:49",
          "2021-08-10T23:59:46",
          "2021-08-11T23:59:43",
          "2021-08-12T23:59:51",
          "2021-08-13T23:59:10",
          "2021-08-14T23:59:37",
          "2021-08-15T23:59:40",
          "2021-08-16T23:55:38",
          "2021-08-17T23:54:41",
          "2021-08-18T23:59:18",
          "2021-08-19T23:59:48",
          "2021-08-20T23:57:59",
          "2021-08-21T23:52:04",
          "2021-08-22T23:59:52",
          "2021-08-23T23:58:33",
          "2021-08-24T23:40:49"
         ],
         "xaxis": "x",
         "y": [
          0,
          2911.5,
          2911.5,
          13123.9,
          19545.1,
          26234.8,
          31740.1,
          38647.5,
          46234.3,
          58686.3,
          72220.9,
          87673.3,
          103804.9,
          121539.9,
          139730.5,
          164423,
          200354.7,
          248797.6,
          301939.3,
          361451.1,
          419283.5,
          477146.9,
          529903,
          585709.5,
          609761,
          632448.1,
          654225.4,
          675019.6,
          698411.5,
          721253.4,
          761700.2,
          954363.6,
          964940.5,
          991192,
          1007813.5,
          1017342.1,
          1030628.1,
          1081781.6,
          1225591.9,
          1240424,
          1254027,
          1288459.8,
          1317643.4,
          1349846,
          1420759.4,
          1536212.7,
          1549047.3,
          1562358.2,
          1598041.8,
          1619387.2,
          1648017.4,
          1721811.4,
          1854615.5,
          1879387.6,
          1888110.4,
          1916980.9,
          1934752.9,
          1975473,
          2057861.7,
          2144697.8,
          2155711.7,
          2172202.4,
          2190447.1,
          2202762.4,
          2233056.8,
          2315972.9,
          2412525.8,
          2430472.1,
          2458250.7,
          2487343.6,
          2518493.4,
          2562000.4,
          2626890.2,
          2740392.1,
          2744722.1,
          2759983.1,
          2785865,
          2800581.8,
          2836424.5,
          2894531.1,
          3059912.2,
          3068735.2,
          3078122.2,
          3112507.9,
          3161600.7,
          3208452.7,
          3275497.3,
          3473150.3,
          3489892.1,
          3501343.9,
          3538760,
          3594322.8,
          3648940.7,
          3706062.9,
          3883915.8,
          3898320.5,
          3915837,
          3944736.3,
          3989317,
          4031931.5
         ],
         "yaxis": "y"
        },
        {
         "legendgroup": "cumulativeSupplySideRevenueUSD",
         "line": {
          "color": "#EF553B",
          "dash": "solid"
         },
         "marker": {
          "symbol": "circle"
         },
         "mode": "lines",
         "name": "cumulativeSupplySideRevenueUSD",
         "orientation": "v",
         "showlegend": true,
         "type": "scatter",
         "x": [
          "2021-05-17T23:55:37",
          "2021-05-18T23:58:29",
          "2021-05-19T23:57:47",
          "2021-05-20T23:57:13",
          "2021-05-21T23:47:32",
          "2021-05-22T23:58:05",
          "2021-05-23T23:59:12",
          "2021-05-24T23:57:21",
          "2021-05-25T23:56:28",
          "2021-05-26T23:50:52",
          "2021-05-27T23:49:43",
          "2021-05-28T23:53:41",
          "2021-05-29T23:59:51",
          "2021-05-30T23:46:44",
          "2021-05-31T23:56:55",
          "2021-06-01T23:59:11",
          "2021-06-02T23:55:54",
          "2021-06-03T23:59:59",
          "2021-06-04T23:59:37",
          "2021-06-05T23:59:43",
          "2021-06-06T23:59:49",
          "2021-06-07T23:58:00",
          "2021-06-08T23:57:35",
          "2021-06-09T23:54:48",
          "2021-06-10T23:58:45",
          "2021-06-11T23:59:01",
          "2021-06-12T23:56:54",
          "2021-06-13T23:59:06",
          "2021-06-14T23:55:40",
          "2021-06-15T23:58:36",
          "2021-06-16T23:59:33",
          "2021-06-17T23:59:30",
          "2021-06-18T23:56:27",
          "2021-06-19T23:58:46",
          "2021-06-20T23:59:42",
          "2021-06-21T23:59:50",
          "2021-06-22T23:59:46",
          "2021-06-23T23:59:38",
          "2021-06-24T23:56:07",
          "2021-06-25T23:58:30",
          "2021-06-26T23:52:49",
          "2021-06-27T23:59:12",
          "2021-06-28T23:58:56",
          "2021-06-29T23:57:41",
          "2021-06-30T23:56:10",
          "2021-07-01T23:59:02",
          "2021-07-02T23:58:32",
          "2021-07-03T23:59:38",
          "2021-07-04T23:56:34",
          "2021-07-05T23:56:05",
          "2021-07-06T23:52:04",
          "2021-07-07T23:57:20",
          "2021-07-08T23:58:37",
          "2021-07-09T23:52:36",
          "2021-07-10T23:59:35",
          "2021-07-11T23:59:30",
          "2021-07-12T23:54:24",
          "2021-07-13T23:58:04",
          "2021-07-14T23:58:49",
          "2021-07-15T23:58:36",
          "2021-07-16T23:59:02",
          "2021-07-17T23:52:56",
          "2021-07-18T23:56:19",
          "2021-07-19T23:57:14",
          "2021-07-20T23:53:44",
          "2021-07-21T23:57:31",
          "2021-07-22T23:53:01",
          "2021-07-23T23:58:16",
          "2021-07-24T23:47:28",
          "2021-07-25T23:56:36",
          "2021-07-26T23:59:33",
          "2021-07-27T23:57:49",
          "2021-07-28T23:59:13",
          "2021-07-29T23:56:05",
          "2021-07-30T23:57:46",
          "2021-07-31T23:59:13",
          "2021-08-01T23:45:15",
          "2021-08-02T23:59:01",
          "2021-08-03T23:58:35",
          "2021-08-04T23:52:30",
          "2021-08-05T23:58:38",
          "2021-08-06T23:50:40",
          "2021-08-07T23:44:09",
          "2021-08-08T23:58:57",
          "2021-08-09T23:55:49",
          "2021-08-10T23:59:46",
          "2021-08-11T23:59:43",
          "2021-08-12T23:59:51",
          "2021-08-13T23:59:10",
          "2021-08-14T23:59:37",
          "2021-08-15T23:59:40",
          "2021-08-16T23:55:38",
          "2021-08-17T23:54:41",
          "2021-08-18T23:59:18",
          "2021-08-19T23:59:48",
          "2021-08-20T23:57:59",
          "2021-08-21T23:52:04",
          "2021-08-22T23:59:52",
          "2021-08-23T23:58:33",
          "2021-08-24T23:40:49"
         ],
         "xaxis": "x",
         "y": [
          0,
          104793.3,
          104793.3,
          501963.6,
          746543.1,
          993566.4,
          1235487.8,
          1543597,
          1859174.7,
          2406526.2,
          3025444.4,
          3756870.2,
          4488833.4,
          5203284.2,
          5961086.2,
          7113241.4,
          9384640.3,
          12429508.2,
          15887940.8,
          19182256.1,
          22007984.6,
          24684562.8,
          26819564.5,
          28954056.2,
          29921213.8,
          30734625.1,
          31485618,
          32183282.3,
          32961230.8,
          33686628.6,
          35024529,
          41362287.5,
          41692547.4,
          42487518.8,
          42968818.3,
          43253241.2,
          43652077.5,
          45192600.9,
          49493788,
          49918108.5,
          50309601.3,
          51282253,
          52097734.4,
          53071425.4,
          55393678.1,
          59169682.4,
          59568861,
          59961334.5,
          60969881.1,
          61571519.4,
          62347317.6,
          64320767.3,
          67910005.7,
          68565373.7,
          68802983.2,
          69572605.3,
          70044295.9,
          71093452.3,
          73195051.3,
          75399186.2,
          75675278.2,
          76117071.2,
          76589413.5,
          76902267.7,
          77660067.7,
          79813148.1,
          83005263.3,
          83527389.3,
          84362365.8,
          85233891.3,
          86149556.6,
          87371207.2,
          89210470.1,
          92369657.3,
          92493163.1,
          92920258,
          93614867.1,
          94008890.1,
          94971330.8,
          96531409.4,
          100951818,
          101199705.4,
          101470239.9,
          102496291.5,
          104010486.8,
          105419236.2,
          107423593.7,
          113218724.5,
          113705628.9,
          114059544.1,
          115242435.9,
          116943173.7,
          118597188.1,
          120334402.4,
          126011102.6,
          126508701.6,
          127094918,
          128042820.3,
          129548923.5,
          130896536.3
         ],
         "yaxis": "y"
        },
        {
         "legendgroup": "cumulativeTotalRevenueUSD",
         "line": {
          "color": "#00cc96",
          "dash": "solid"
         },
         "marker": {
          "symbol": "circle"
         },
         "mode": "lines",
         "name": "cumulativeTotalRevenueUSD",
         "orientation": "v",
         "showlegend": true,
         "type": "scatter",
         "x": [
          "2021-05-17T23:55:37",
          "2021-05-18T23:58:29",
          "2021-05-19T23:57:47",
          "2021-05-20T23:57:13",
          "2021-05-21T23:47:32",
          "2021-05-22T23:58:05",
          "2021-05-23T23:59:12",
          "2021-05-24T23:57:21",
          "2021-05-25T23:56:28",
          "2021-05-26T23:50:52",
          "2021-05-27T23:49:43",
          "2021-05-28T23:53:41",
          "2021-05-29T23:59:51",
          "2021-05-30T23:46:44",
          "2021-05-31T23:56:55",
          "2021-06-01T23:59:11",
          "2021-06-02T23:55:54",
          "2021-06-03T23:59:59",
          "2021-06-04T23:59:37",
          "2021-06-05T23:59:43",
          "2021-06-06T23:59:49",
          "2021-06-07T23:58:00",
          "2021-06-08T23:57:35",
          "2021-06-09T23:54:48",
          "2021-06-10T23:58:45",
          "2021-06-11T23:59:01",
          "2021-06-12T23:56:54",
          "2021-06-13T23:59:06",
          "2021-06-14T23:55:40",
          "2021-06-15T23:58:36",
          "2021-06-16T23:59:33",
          "2021-06-17T23:59:30",
          "2021-06-18T23:56:27",
          "2021-06-19T23:58:46",
          "2021-06-20T23:59:42",
          "2021-06-21T23:59:50",
          "2021-06-22T23:59:46",
          "2021-06-23T23:59:38",
          "2021-06-24T23:56:07",
          "2021-06-25T23:58:30",
          "2021-06-26T23:52:49",
          "2021-06-27T23:59:12",
          "2021-06-28T23:58:56",
          "2021-06-29T23:57:41",
          "2021-06-30T23:56:10",
          "2021-07-01T23:59:02",
          "2021-07-02T23:58:32",
          "2021-07-03T23:59:38",
          "2021-07-04T23:56:34",
          "2021-07-05T23:56:05",
          "2021-07-06T23:52:04",
          "2021-07-07T23:57:20",
          "2021-07-08T23:58:37",
          "2021-07-09T23:52:36",
          "2021-07-10T23:59:35",
          "2021-07-11T23:59:30",
          "2021-07-12T23:54:24",
          "2021-07-13T23:58:04",
          "2021-07-14T23:58:49",
          "2021-07-15T23:58:36",
          "2021-07-16T23:59:02",
          "2021-07-17T23:52:56",
          "2021-07-18T23:56:19",
          "2021-07-19T23:57:14",
          "2021-07-20T23:53:44",
          "2021-07-21T23:57:31",
          "2021-07-22T23:53:01",
          "2021-07-23T23:58:16",
          "2021-07-24T23:47:28",
          "2021-07-25T23:56:36",
          "2021-07-26T23:59:33",
          "2021-07-27T23:57:49",
          "2021-07-28T23:59:13",
          "2021-07-29T23:56:05",
          "2021-07-30T23:57:46",
          "2021-07-31T23:59:13",
          "2021-08-01T23:45:15",
          "2021-08-02T23:59:01",
          "2021-08-03T23:58:35",
          "2021-08-04T23:52:30",
          "2021-08-05T23:58:38",
          "2021-08-06T23:50:40",
          "2021-08-07T23:44:09",
          "2021-08-08T23:58:57",
          "2021-08-09T23:55:49",
          "2021-08-10T23:59:46",
          "2021-08-11T23:59:43",
          "2021-08-12T23:59:51",
          "2021-08-13T23:59:10",
          "2021-08-14T23:59:37",
          "2021-08-15T23:59:40",
          "2021-08-16T23:55:38",
          "2021-08-17T23:54:41",
          "2021-08-18T23:59:18",
          "2021-08-19T23:59:48",
          "2021-08-20T23:57:59",
          "2021-08-21T23:52:04",
          "2021-08-22T23:59:52",
          "2021-08-23T23:58:33",
          "2021-08-24T23:40:49"
         ],
         "xaxis": "x",
         "y": [
          0,
          107704.8,
          107704.8,
          515087.5,
          766088.2,
          1019801.2,
          1267227.9,
          1582244.5,
          1905409,
          2465212.5,
          3097665.3,
          3844543.5,
          4592638.3,
          5324824.1,
          6100816.7,
          7277664.4,
          9584995,
          12678305.8,
          16189880.1,
          19543707.2,
          22427268.1,
          25161709.7,
          27349467.5,
          29539765.7,
          30530974.8,
          31367073.2,
          32139843.4,
          32858301.9,
          33659642.3,
          34407882,
          35786229.2,
          42316651.1,
          42657487.9,
          43478710.8,
          43976631.8,
          44270583.3,
          44682705.6,
          46274382.5,
          50719379.9,
          51158532.5,
          51563628.3,
          52570712.8,
          53415377.8,
          54421271.4,
          56814437.5,
          60705895.1,
          61117908.3,
          61523692.7,
          62567922.9,
          63190906.6,
          63995335,
          66042578.7,
          69764621.2,
          70444761.3,
          70691093.6,
          71489586.2,
          71979048.8,
          73068925.3,
          75252913,
          77543884,
          77830989.9,
          78289273.6,
          78779860.6,
          79105030.1,
          79893124.5,
          82129121,
          85417789.1,
          85957861.4,
          86820616.5,
          87721234.9,
          88668050,
          89933207.6,
          91837360.3,
          95110049.4,
          95237885.2,
          95680241.1,
          96400732.1,
          96809471.9,
          97807755.3,
          99425940.5,
          104011730.2,
          104268440.6,
          104548362.1,
          105608799.4,
          107172087.5,
          108627688.9,
          110699091,
          116691874.8,
          117195521,
          117560888,
          118781195.9,
          120537496.5,
          122246128.8,
          124040465.3,
          129895018.4,
          130407022.1,
          131010755,
          131987556.6,
          133538240.5,
          134928467.8
         ],
         "yaxis": "y"
        },
        {
         "legendgroup": "dailyProtocolSideRevenueUSD",
         "line": {
          "color": "#ab63fa",
          "dash": "solid"
         },
         "marker": {
          "symbol": "circle"
         },
         "mode": "lines",
         "name": "dailyProtocolSideRevenueUSD",
         "orientation": "v",
         "showlegend": true,
         "type": "scatter",
         "x": [
          "2021-05-17T23:55:37",
          "2021-05-18T23:58:29",
          "2021-05-19T23:57:47",
          "2021-05-20T23:57:13",
          "2021-05-21T23:47:32",
          "2021-05-22T23:58:05",
          "2021-05-23T23:59:12",
          "2021-05-24T23:57:21",
          "2021-05-25T23:56:28",
          "2021-05-26T23:50:52",
          "2021-05-27T23:49:43",
          "2021-05-28T23:53:41",
          "2021-05-29T23:59:51",
          "2021-05-30T23:46:44",
          "2021-05-31T23:56:55",
          "2021-06-01T23:59:11",
          "2021-06-02T23:55:54",
          "2021-06-03T23:59:59",
          "2021-06-04T23:59:37",
          "2021-06-05T23:59:43",
          "2021-06-06T23:59:49",
          "2021-06-07T23:58:00",
          "2021-06-08T23:57:35",
          "2021-06-09T23:54:48",
          "2021-06-10T23:58:45",
          "2021-06-11T23:59:01",
          "2021-06-12T23:56:54",
          "2021-06-13T23:59:06",
          "2021-06-14T23:55:40",
          "2021-06-15T23:58:36",
          "2021-06-16T23:59:33",
          "2021-06-17T23:59:30",
          "2021-06-18T23:56:27",
          "2021-06-19T23:58:46",
          "2021-06-20T23:59:42",
          "2021-06-21T23:59:50",
          "2021-06-22T23:59:46",
          "2021-06-23T23:59:38",
          "2021-06-24T23:56:07",
          "2021-06-25T23:58:30",
          "2021-06-26T23:52:49",
          "2021-06-27T23:59:12",
          "2021-06-28T23:58:56",
          "2021-06-29T23:57:41",
          "2021-06-30T23:56:10",
          "2021-07-01T23:59:02",
          "2021-07-02T23:58:32",
          "2021-07-03T23:59:38",
          "2021-07-04T23:56:34",
          "2021-07-05T23:56:05",
          "2021-07-06T23:52:04",
          "2021-07-07T23:57:20",
          "2021-07-08T23:58:37",
          "2021-07-09T23:52:36",
          "2021-07-10T23:59:35",
          "2021-07-11T23:59:30",
          "2021-07-12T23:54:24",
          "2021-07-13T23:58:04",
          "2021-07-14T23:58:49",
          "2021-07-15T23:58:36",
          "2021-07-16T23:59:02",
          "2021-07-17T23:52:56",
          "2021-07-18T23:56:19",
          "2021-07-19T23:57:14",
          "2021-07-20T23:53:44",
          "2021-07-21T23:57:31",
          "2021-07-22T23:53:01",
          "2021-07-23T23:58:16",
          "2021-07-24T23:47:28",
          "2021-07-25T23:56:36",
          "2021-07-26T23:59:33",
          "2021-07-27T23:57:49",
          "2021-07-28T23:59:13",
          "2021-07-29T23:56:05",
          "2021-07-30T23:57:46",
          "2021-07-31T23:59:13",
          "2021-08-01T23:45:15",
          "2021-08-02T23:59:01",
          "2021-08-03T23:58:35",
          "2021-08-04T23:52:30",
          "2021-08-05T23:58:38",
          "2021-08-06T23:50:40",
          "2021-08-07T23:44:09",
          "2021-08-08T23:58:57",
          "2021-08-09T23:55:49",
          "2021-08-10T23:59:46",
          "2021-08-11T23:59:43",
          "2021-08-12T23:59:51",
          "2021-08-13T23:59:10",
          "2021-08-14T23:59:37",
          "2021-08-15T23:59:40",
          "2021-08-16T23:55:38",
          "2021-08-17T23:54:41",
          "2021-08-18T23:59:18",
          "2021-08-19T23:59:48",
          "2021-08-20T23:57:59",
          "2021-08-21T23:52:04",
          "2021-08-22T23:59:52",
          "2021-08-23T23:58:33",
          "2021-08-24T23:40:49"
         ],
         "xaxis": "x",
         "y": [
          0,
          2911.5,
          0,
          10212.4,
          6421.2,
          6689.7,
          5505.3,
          6907.4,
          7586.8,
          12452,
          13534.6,
          15452.4,
          16131.6,
          17735,
          18190.6,
          24692.5,
          35931.7,
          48442.9,
          53141.7,
          59511.8,
          57832.4,
          57863.4,
          52756.1,
          55806.5,
          24051.5,
          22687.1,
          21777.3,
          20794.2,
          23391.9,
          22841.9,
          40446.8,
          192663.4,
          10576.9,
          26251.5,
          16621.5,
          9528.6,
          13286,
          51153.5,
          143810.3,
          14832.1,
          13603,
          34432.8,
          29183.6,
          32202.6,
          70913.4,
          115453.3,
          12834.6,
          13310.9,
          35683.6,
          21345.4,
          28630.2,
          73794,
          132804.1,
          24772.1,
          8722.8,
          28870.5,
          17772,
          40720.1,
          82388.7,
          86836.1,
          11013.9,
          16490.7,
          18244.7,
          12315.3,
          30294.4,
          82916.1,
          96552.9,
          17946.3,
          27778.6,
          29092.9,
          31149.8,
          43507,
          64889.8,
          113501.9,
          4330,
          15261,
          25881.9,
          14716.8,
          35842.7,
          58106.6,
          165381.1,
          8823,
          9387,
          34385.7,
          49092.8,
          46852,
          67044.6,
          197653,
          16741.8,
          11451.8,
          37416.1,
          55562.8,
          54617.9,
          57122.2,
          177852.9,
          14404.7,
          17516.5,
          28899.3,
          44580.7,
          42614.5
         ],
         "yaxis": "y"
        },
        {
         "legendgroup": "dailySupplySideRevenueUSD",
         "line": {
          "color": "#FFA15A",
          "dash": "solid"
         },
         "marker": {
          "symbol": "circle"
         },
         "mode": "lines",
         "name": "dailySupplySideRevenueUSD",
         "orientation": "v",
         "showlegend": true,
         "type": "scatter",
         "x": [
          "2021-05-17T23:55:37",
          "2021-05-18T23:58:29",
          "2021-05-19T23:57:47",
          "2021-05-20T23:57:13",
          "2021-05-21T23:47:32",
          "2021-05-22T23:58:05",
          "2021-05-23T23:59:12",
          "2021-05-24T23:57:21",
          "2021-05-25T23:56:28",
          "2021-05-26T23:50:52",
          "2021-05-27T23:49:43",
          "2021-05-28T23:53:41",
          "2021-05-29T23:59:51",
          "2021-05-30T23:46:44",
          "2021-05-31T23:56:55",
          "2021-06-01T23:59:11",
          "2021-06-02T23:55:54",
          "2021-06-03T23:59:59",
          "2021-06-04T23:59:37",
          "2021-06-05T23:59:43",
          "2021-06-06T23:59:49",
          "2021-06-07T23:58:00",
          "2021-06-08T23:57:35",
          "2021-06-09T23:54:48",
          "2021-06-10T23:58:45",
          "2021-06-11T23:59:01",
          "2021-06-12T23:56:54",
          "2021-06-13T23:59:06",
          "2021-06-14T23:55:40",
          "2021-06-15T23:58:36",
          "2021-06-16T23:59:33",
          "2021-06-17T23:59:30",
          "2021-06-18T23:56:27",
          "2021-06-19T23:58:46",
          "2021-06-20T23:59:42",
          "2021-06-21T23:59:50",
          "2021-06-22T23:59:46",
          "2021-06-23T23:59:38",
          "2021-06-24T23:56:07",
          "2021-06-25T23:58:30",
          "2021-06-26T23:52:49",
          "2021-06-27T23:59:12",
          "2021-06-28T23:58:56",
          "2021-06-29T23:57:41",
          "2021-06-30T23:56:10",
          "2021-07-01T23:59:02",
          "2021-07-02T23:58:32",
          "2021-07-03T23:59:38",
          "2021-07-04T23:56:34",
          "2021-07-05T23:56:05",
          "2021-07-06T23:52:04",
          "2021-07-07T23:57:20",
          "2021-07-08T23:58:37",
          "2021-07-09T23:52:36",
          "2021-07-10T23:59:35",
          "2021-07-11T23:59:30",
          "2021-07-12T23:54:24",
          "2021-07-13T23:58:04",
          "2021-07-14T23:58:49",
          "2021-07-15T23:58:36",
          "2021-07-16T23:59:02",
          "2021-07-17T23:52:56",
          "2021-07-18T23:56:19",
          "2021-07-19T23:57:14",
          "2021-07-20T23:53:44",
          "2021-07-21T23:57:31",
          "2021-07-22T23:53:01",
          "2021-07-23T23:58:16",
          "2021-07-24T23:47:28",
          "2021-07-25T23:56:36",
          "2021-07-26T23:59:33",
          "2021-07-27T23:57:49",
          "2021-07-28T23:59:13",
          "2021-07-29T23:56:05",
          "2021-07-30T23:57:46",
          "2021-07-31T23:59:13",
          "2021-08-01T23:45:15",
          "2021-08-02T23:59:01",
          "2021-08-03T23:58:35",
          "2021-08-04T23:52:30",
          "2021-08-05T23:58:38",
          "2021-08-06T23:50:40",
          "2021-08-07T23:44:09",
          "2021-08-08T23:58:57",
          "2021-08-09T23:55:49",
          "2021-08-10T23:59:46",
          "2021-08-11T23:59:43",
          "2021-08-12T23:59:51",
          "2021-08-13T23:59:10",
          "2021-08-14T23:59:37",
          "2021-08-15T23:59:40",
          "2021-08-16T23:55:38",
          "2021-08-17T23:54:41",
          "2021-08-18T23:59:18",
          "2021-08-19T23:59:48",
          "2021-08-20T23:57:59",
          "2021-08-21T23:52:04",
          "2021-08-22T23:59:52",
          "2021-08-23T23:58:33",
          "2021-08-24T23:40:49"
         ],
         "xaxis": "x",
         "y": [
          0,
          104793.3,
          0,
          397170.3,
          244579.5,
          247023.3,
          241921.4,
          308109.2,
          315577.7,
          547351.5,
          618918.2,
          731425.8,
          731963.2,
          714450.8,
          757802,
          1152155.2,
          2271398.9,
          3044867.9,
          3458432.6,
          3294315.3,
          2825728.5,
          2676578.2,
          2135001.7,
          2134491.7,
          967157.6,
          813411.3,
          750992.9,
          697664.3,
          777948.5,
          725397.8,
          1337900.4,
          6337758.5,
          330259.9,
          794971.4,
          481299.5,
          284422.9,
          398836.3,
          1540523.4,
          4301187.1,
          424320.5,
          391492.8,
          972651.7,
          815481.4,
          973691,
          2322252.7,
          3776004.3,
          399178.6,
          392473.5,
          1008546.6,
          601638.3,
          775798.2,
          1973449.7,
          3589238.4,
          655368,
          237609.5,
          769622.1,
          471690.6,
          1049156.4,
          2101599,
          2204134.9,
          276092,
          441793,
          472342.3,
          312854.2,
          757800,
          2153080.4,
          3192115.2,
          522126,
          834976.5,
          871525.5,
          915665.3,
          1221650.6,
          1839262.9,
          3159187.2,
          123505.8,
          427094.9,
          694609.1,
          394023,
          962440.7,
          1560078.6,
          4420408.6,
          247887.4,
          270534.5,
          1026051.6,
          1514195.3,
          1408749.4,
          2004357.5,
          5795130.8,
          486904.4,
          353915.2,
          1182891.8,
          1700737.8,
          1654014.4,
          1737214.3,
          5676700.2,
          497599,
          586216.4,
          947902.3,
          1506103.2,
          1347612.8
         ],
         "yaxis": "y"
        },
        {
         "legendgroup": "dailyTotalRevenueUSD",
         "line": {
          "color": "#19d3f3",
          "dash": "solid"
         },
         "marker": {
          "symbol": "circle"
         },
         "mode": "lines",
         "name": "dailyTotalRevenueUSD",
         "orientation": "v",
         "showlegend": true,
         "type": "scatter",
         "x": [
          "2021-05-17T23:55:37",
          "2021-05-18T23:58:29",
          "2021-05-19T23:57:47",
          "2021-05-20T23:57:13",
          "2021-05-21T23:47:32",
          "2021-05-22T23:58:05",
          "2021-05-23T23:59:12",
          "2021-05-24T23:57:21",
          "2021-05-25T23:56:28",
          "2021-05-26T23:50:52",
          "2021-05-27T23:49:43",
          "2021-05-28T23:53:41",
          "2021-05-29T23:59:51",
          "2021-05-30T23:46:44",
          "2021-05-31T23:56:55",
          "2021-06-01T23:59:11",
          "2021-06-02T23:55:54",
          "2021-06-03T23:59:59",
          "2021-06-04T23:59:37",
          "2021-06-05T23:59:43",
          "2021-06-06T23:59:49",
          "2021-06-07T23:58:00",
          "2021-06-08T23:57:35",
          "2021-06-09T23:54:48",
          "2021-06-10T23:58:45",
          "2021-06-11T23:59:01",
          "2021-06-12T23:56:54",
          "2021-06-13T23:59:06",
          "2021-06-14T23:55:40",
          "2021-06-15T23:58:36",
          "2021-06-16T23:59:33",
          "2021-06-17T23:59:30",
          "2021-06-18T23:56:27",
          "2021-06-19T23:58:46",
          "2021-06-20T23:59:42",
          "2021-06-21T23:59:50",
          "2021-06-22T23:59:46",
          "2021-06-23T23:59:38",
          "2021-06-24T23:56:07",
          "2021-06-25T23:58:30",
          "2021-06-26T23:52:49",
          "2021-06-27T23:59:12",
          "2021-06-28T23:58:56",
          "2021-06-29T23:57:41",
          "2021-06-30T23:56:10",
          "2021-07-01T23:59:02",
          "2021-07-02T23:58:32",
          "2021-07-03T23:59:38",
          "2021-07-04T23:56:34",
          "2021-07-05T23:56:05",
          "2021-07-06T23:52:04",
          "2021-07-07T23:57:20",
          "2021-07-08T23:58:37",
          "2021-07-09T23:52:36",
          "2021-07-10T23:59:35",
          "2021-07-11T23:59:30",
          "2021-07-12T23:54:24",
          "2021-07-13T23:58:04",
          "2021-07-14T23:58:49",
          "2021-07-15T23:58:36",
          "2021-07-16T23:59:02",
          "2021-07-17T23:52:56",
          "2021-07-18T23:56:19",
          "2021-07-19T23:57:14",
          "2021-07-20T23:53:44",
          "2021-07-21T23:57:31",
          "2021-07-22T23:53:01",
          "2021-07-23T23:58:16",
          "2021-07-24T23:47:28",
          "2021-07-25T23:56:36",
          "2021-07-26T23:59:33",
          "2021-07-27T23:57:49",
          "2021-07-28T23:59:13",
          "2021-07-29T23:56:05",
          "2021-07-30T23:57:46",
          "2021-07-31T23:59:13",
          "2021-08-01T23:45:15",
          "2021-08-02T23:59:01",
          "2021-08-03T23:58:35",
          "2021-08-04T23:52:30",
          "2021-08-05T23:58:38",
          "2021-08-06T23:50:40",
          "2021-08-07T23:44:09",
          "2021-08-08T23:58:57",
          "2021-08-09T23:55:49",
          "2021-08-10T23:59:46",
          "2021-08-11T23:59:43",
          "2021-08-12T23:59:51",
          "2021-08-13T23:59:10",
          "2021-08-14T23:59:37",
          "2021-08-15T23:59:40",
          "2021-08-16T23:55:38",
          "2021-08-17T23:54:41",
          "2021-08-18T23:59:18",
          "2021-08-19T23:59:48",
          "2021-08-20T23:57:59",
          "2021-08-21T23:52:04",
          "2021-08-22T23:59:52",
          "2021-08-23T23:58:33",
          "2021-08-24T23:40:49"
         ],
         "xaxis": "x",
         "y": [
          0,
          107704.8,
          0,
          407382.7,
          251000.7,
          253713,
          247426.7,
          315016.6,
          323164.5,
          559803.5,
          632452.8,
          746878.2,
          748094.8,
          732185.8,
          775992.6,
          1176847.7,
          2307330.6,
          3093310.8,
          3511574.3,
          3353827.1,
          2883560.9,
          2734441.6,
          2187757.8,
          2190298.2,
          991209.1,
          836098.4,
          772770.2,
          718458.5,
          801340.4,
          748239.7,
          1378347.2,
          6530421.9,
          340836.8,
          821222.9,
          497921,
          293951.5,
          412122.3,
          1591676.9,
          4444997.4,
          439152.6,
          405095.8,
          1007084.5,
          844665,
          1005893.6,
          2393166.1,
          3891457.6,
          412013.2,
          405784.4,
          1044230.2,
          622983.7,
          804428.4,
          2047243.7,
          3722042.5,
          680140.1,
          246332.3,
          798492.6,
          489462.6,
          1089876.5,
          2183987.7,
          2290971,
          287105.9,
          458283.7,
          490587,
          325169.5,
          788094.4,
          2235996.5,
          3288668.1,
          540072.3,
          862755.1,
          900618.4,
          946815.1,
          1265157.6,
          1904152.7,
          3272689.1,
          127835.8,
          442355.9,
          720491,
          408739.8,
          998283.4,
          1618185.2,
          4585789.7,
          256710.4,
          279921.5,
          1060437.3,
          1563288.1,
          1455601.4,
          2071402.1,
          5992783.8,
          503646.2,
          365367,
          1220307.9,
          1756300.6,
          1708632.3,
          1794336.5,
          5854553.1,
          512003.7,
          603732.9,
          976801.6,
          1550683.9,
          1390227.3
         ],
         "yaxis": "y"
        },
        {
         "legendgroup": "protocolControlledValueUSD",
         "line": {
          "color": "#FF6692",
          "dash": "solid"
         },
         "marker": {
          "symbol": "circle"
         },
         "mode": "lines",
         "name": "protocolControlledValueUSD",
         "orientation": "v",
         "showlegend": true,
         "type": "scatter",
         "x": [
          "2021-05-17T23:55:37",
          "2021-05-18T23:58:29",
          "2021-05-19T23:57:47",
          "2021-05-20T23:57:13",
          "2021-05-21T23:47:32",
          "2021-05-22T23:58:05",
          "2021-05-23T23:59:12",
          "2021-05-24T23:57:21",
          "2021-05-25T23:56:28",
          "2021-05-26T23:50:52",
          "2021-05-27T23:49:43",
          "2021-05-28T23:53:41",
          "2021-05-29T23:59:51",
          "2021-05-30T23:46:44",
          "2021-05-31T23:56:55",
          "2021-06-01T23:59:11",
          "2021-06-02T23:55:54",
          "2021-06-03T23:59:59",
          "2021-06-04T23:59:37",
          "2021-06-05T23:59:43",
          "2021-06-06T23:59:49",
          "2021-06-07T23:58:00",
          "2021-06-08T23:57:35",
          "2021-06-09T23:54:48",
          "2021-06-10T23:58:45",
          "2021-06-11T23:59:01",
          "2021-06-12T23:56:54",
          "2021-06-13T23:59:06",
          "2021-06-14T23:55:40",
          "2021-06-15T23:58:36",
          "2021-06-16T23:59:33",
          "2021-06-17T23:59:30",
          "2021-06-18T23:56:27",
          "2021-06-19T23:58:46",
          "2021-06-20T23:59:42",
          "2021-06-21T23:59:50",
          "2021-06-22T23:59:46",
          "2021-06-23T23:59:38",
          "2021-06-24T23:56:07",
          "2021-06-25T23:58:30",
          "2021-06-26T23:52:49",
          "2021-06-27T23:59:12",
          "2021-06-28T23:58:56",
          "2021-06-29T23:57:41",
          "2021-06-30T23:56:10",
          "2021-07-01T23:59:02",
          "2021-07-02T23:58:32",
          "2021-07-03T23:59:38",
          "2021-07-04T23:56:34",
          "2021-07-05T23:56:05",
          "2021-07-06T23:52:04",
          "2021-07-07T23:57:20",
          "2021-07-08T23:58:37",
          "2021-07-09T23:52:36",
          "2021-07-10T23:59:35",
          "2021-07-11T23:59:30",
          "2021-07-12T23:54:24",
          "2021-07-13T23:58:04",
          "2021-07-14T23:58:49",
          "2021-07-15T23:58:36",
          "2021-07-16T23:59:02",
          "2021-07-17T23:52:56",
          "2021-07-18T23:56:19",
          "2021-07-19T23:57:14",
          "2021-07-20T23:53:44",
          "2021-07-21T23:57:31",
          "2021-07-22T23:53:01",
          "2021-07-23T23:58:16",
          "2021-07-24T23:47:28",
          "2021-07-25T23:56:36",
          "2021-07-26T23:59:33",
          "2021-07-27T23:57:49",
          "2021-07-28T23:59:13",
          "2021-07-29T23:56:05",
          "2021-07-30T23:57:46",
          "2021-07-31T23:59:13",
          "2021-08-01T23:45:15",
          "2021-08-02T23:59:01",
          "2021-08-03T23:58:35",
          "2021-08-04T23:52:30",
          "2021-08-05T23:58:38",
          "2021-08-06T23:50:40",
          "2021-08-07T23:44:09",
          "2021-08-08T23:58:57",
          "2021-08-09T23:55:49",
          "2021-08-10T23:59:46",
          "2021-08-11T23:59:43",
          "2021-08-12T23:59:51",
          "2021-08-13T23:59:10",
          "2021-08-14T23:59:37",
          "2021-08-15T23:59:40",
          "2021-08-16T23:55:38",
          "2021-08-17T23:54:41",
          "2021-08-18T23:59:18",
          "2021-08-19T23:59:48",
          "2021-08-20T23:57:59",
          "2021-08-21T23:52:04",
          "2021-08-22T23:59:52",
          "2021-08-23T23:58:33",
          "2021-08-24T23:40:49"
         ],
         "xaxis": "x",
         "y": [
          0,
          0,
          0,
          0,
          0,
          0,
          0,
          0,
          0,
          0,
          0,
          0,
          0,
          0,
          0,
          0,
          0,
          0,
          0,
          0,
          0,
          0,
          0,
          0,
          0,
          0,
          0,
          0,
          0,
          0,
          0,
          0,
          0,
          0,
          0,
          0,
          0,
          0,
          0,
          0,
          0,
          0,
          0,
          0,
          0,
          0,
          0,
          0,
          0,
          0,
          0,
          0,
          0,
          0,
          0,
          0,
          0,
          0,
          0,
          0,
          0,
          0,
          0,
          0,
          0,
          0,
          0,
          0,
          0,
          0,
          0,
          0,
          0,
          0,
          0,
          0,
          0,
          0,
          0,
          0,
          0,
          0,
          0,
          0,
          0,
          0,
          0,
          0,
          0,
          0,
          0,
          0,
          0,
          0,
          0,
          0,
          0,
          0,
          0,
          0
         ],
         "yaxis": "y"
        },
        {
         "legendgroup": "totalValueLockedUSD",
         "line": {
          "color": "#B6E880",
          "dash": "solid"
         },
         "marker": {
          "symbol": "circle"
         },
         "mode": "lines",
         "name": "totalValueLockedUSD",
         "orientation": "v",
         "showlegend": true,
         "type": "scatter",
         "x": [
          "2021-05-17T23:55:37",
          "2021-05-18T23:58:29",
          "2021-05-19T23:57:47",
          "2021-05-20T23:57:13",
          "2021-05-21T23:47:32",
          "2021-05-22T23:58:05",
          "2021-05-23T23:59:12",
          "2021-05-24T23:57:21",
          "2021-05-25T23:56:28",
          "2021-05-26T23:50:52",
          "2021-05-27T23:49:43",
          "2021-05-28T23:53:41",
          "2021-05-29T23:59:51",
          "2021-05-30T23:46:44",
          "2021-05-31T23:56:55",
          "2021-06-01T23:59:11",
          "2021-06-02T23:55:54",
          "2021-06-03T23:59:59",
          "2021-06-04T23:59:37",
          "2021-06-05T23:59:43",
          "2021-06-06T23:59:49",
          "2021-06-07T23:58:00",
          "2021-06-08T23:57:35",
          "2021-06-09T23:54:48",
          "2021-06-10T23:58:45",
          "2021-06-11T23:59:01",
          "2021-06-12T23:56:54",
          "2021-06-13T23:59:06",
          "2021-06-14T23:55:40",
          "2021-06-15T23:58:36",
          "2021-06-16T23:59:33",
          "2021-06-17T23:59:30",
          "2021-06-18T23:56:27",
          "2021-06-19T23:58:46",
          "2021-06-20T23:59:42",
          "2021-06-21T23:59:50",
          "2021-06-22T23:59:46",
          "2021-06-23T23:59:38",
          "2021-06-24T23:56:07",
          "2021-06-25T23:58:30",
          "2021-06-26T23:52:49",
          "2021-06-27T23:59:12",
          "2021-06-28T23:58:56",
          "2021-06-29T23:57:41",
          "2021-06-30T23:56:10",
          "2021-07-01T23:59:02",
          "2021-07-02T23:58:32",
          "2021-07-03T23:59:38",
          "2021-07-04T23:56:34",
          "2021-07-05T23:56:05",
          "2021-07-06T23:52:04",
          "2021-07-07T23:57:20",
          "2021-07-08T23:58:37",
          "2021-07-09T23:52:36",
          "2021-07-10T23:59:35",
          "2021-07-11T23:59:30",
          "2021-07-12T23:54:24",
          "2021-07-13T23:58:04",
          "2021-07-14T23:58:49",
          "2021-07-15T23:58:36",
          "2021-07-16T23:59:02",
          "2021-07-17T23:52:56",
          "2021-07-18T23:56:19",
          "2021-07-19T23:57:14",
          "2021-07-20T23:53:44",
          "2021-07-21T23:57:31",
          "2021-07-22T23:53:01",
          "2021-07-23T23:58:16",
          "2021-07-24T23:47:28",
          "2021-07-25T23:56:36",
          "2021-07-26T23:59:33",
          "2021-07-27T23:57:49",
          "2021-07-28T23:59:13",
          "2021-07-29T23:56:05",
          "2021-07-30T23:57:46",
          "2021-07-31T23:59:13",
          "2021-08-01T23:45:15",
          "2021-08-02T23:59:01",
          "2021-08-03T23:58:35",
          "2021-08-04T23:52:30",
          "2021-08-05T23:58:38",
          "2021-08-06T23:50:40",
          "2021-08-07T23:44:09",
          "2021-08-08T23:58:57",
          "2021-08-09T23:55:49",
          "2021-08-10T23:59:46",
          "2021-08-11T23:59:43",
          "2021-08-12T23:59:51",
          "2021-08-13T23:59:10",
          "2021-08-14T23:59:37",
          "2021-08-15T23:59:40",
          "2021-08-16T23:55:38",
          "2021-08-17T23:54:41",
          "2021-08-18T23:59:18",
          "2021-08-19T23:59:48",
          "2021-08-20T23:57:59",
          "2021-08-21T23:52:04",
          "2021-08-22T23:59:52",
          "2021-08-23T23:58:33",
          "2021-08-24T23:40:49"
         ],
         "xaxis": "x",
         "y": [
          60676928.7419033,
          167517064.38528055,
          139099538.66023144,
          160690917.01576507,
          196388866.95420185,
          208117924.7746064,
          185894817.03904796,
          275110076.2316459,
          372305617.4345429,
          467981705.3215559,
          566875568.2568281,
          659532914.3898306,
          742818131.1732005,
          774033140.4682106,
          830422349.6301571,
          1187826210.3688617,
          1874274713.1156807,
          2382690602.877892,
          2699746008.674075,
          3060579198.8378363,
          3164745436.944318,
          3260878517.617489,
          3194815998.796544,
          3288071335.7605815,
          3366992015.114391,
          3384645287.444173,
          3449515765.9078918,
          3473773049.2791367,
          3606919568.565888,
          3678796279.15568,
          3637150597.5147767,
          3777513117.3084345,
          3678202071.204581,
          3783479798.9849744,
          3787626561.193007,
          3314605574.678736,
          3295292280.920547,
          3494674018.151201,
          3652916636.362819,
          3586419381.7090416,
          3506816923.042308,
          3554820778.0894847,
          3685862487.624031,
          3838524191.0264816,
          3864055652.557279,
          3824230977.0874176,
          3849576936.845888,
          3904826293.8928666,
          4000531313.0849586,
          3969253596.064383,
          3709825833.4346814,
          3682804256.57504,
          3773135826.405948,
          4025912567.6083145,
          3965869078.305316,
          3996482895.266784,
          3780015300.354162,
          3726124067.592575,
          3704785692.5877647,
          3496944453.6443634,
          3484187294.4962664,
          3395042763.0876465,
          3419332235.6549716,
          3487669641.8044643,
          3427453951.548707,
          3562818446.580493,
          3657094638.458555,
          3730786680.3652368,
          3866175520.2851,
          3884804894.04356,
          4159787717.6046095,
          4245422994.049671,
          4242315372.5881233,
          4237678548.275392,
          4301875253.5495,
          4375070998.939926,
          4668403072.491608,
          4674016921.576265,
          4607696290.133962,
          4675781241.619341,
          4769906286.66932,
          4877693718.306302,
          5118539180.815765,
          5157980339.8852005,
          5270319158.664669,
          5351679601.069048,
          5402376191.977953,
          5353227025.505612,
          5753709345.953682,
          5827743499.221449,
          5917855534.139624,
          5894111742.348632,
          5823264345.750732,
          5838192179.087996,
          6000347054.547763,
          6160465564.226381,
          6199863875.836015,
          6209714982.109681,
          6400493018.744333,
          6381195058.812683
         ],
         "yaxis": "y"
        }
       ],
       "layout": {
        "height": 500,
        "hovermode": "x",
        "legend": {
         "title": {
          "text": "variable"
         },
         "tracegroupgap": 0
        },
        "template": {
         "data": {
          "bar": [
           {
            "error_x": {
             "color": "#2a3f5f"
            },
            "error_y": {
             "color": "#2a3f5f"
            },
            "marker": {
             "line": {
              "color": "#E5ECF6",
              "width": 0.5
             },
             "pattern": {
              "fillmode": "overlay",
              "size": 10,
              "solidity": 0.2
             }
            },
            "type": "bar"
           }
          ],
          "barpolar": [
           {
            "marker": {
             "line": {
              "color": "#E5ECF6",
              "width": 0.5
             },
             "pattern": {
              "fillmode": "overlay",
              "size": 10,
              "solidity": 0.2
             }
            },
            "type": "barpolar"
           }
          ],
          "carpet": [
           {
            "aaxis": {
             "endlinecolor": "#2a3f5f",
             "gridcolor": "white",
             "linecolor": "white",
             "minorgridcolor": "white",
             "startlinecolor": "#2a3f5f"
            },
            "baxis": {
             "endlinecolor": "#2a3f5f",
             "gridcolor": "white",
             "linecolor": "white",
             "minorgridcolor": "white",
             "startlinecolor": "#2a3f5f"
            },
            "type": "carpet"
           }
          ],
          "choropleth": [
           {
            "colorbar": {
             "outlinewidth": 0,
             "ticks": ""
            },
            "type": "choropleth"
           }
          ],
          "contour": [
           {
            "colorbar": {
             "outlinewidth": 0,
             "ticks": ""
            },
            "colorscale": [
             [
              0,
              "#0d0887"
             ],
             [
              0.1111111111111111,
              "#46039f"
             ],
             [
              0.2222222222222222,
              "#7201a8"
             ],
             [
              0.3333333333333333,
              "#9c179e"
             ],
             [
              0.4444444444444444,
              "#bd3786"
             ],
             [
              0.5555555555555556,
              "#d8576b"
             ],
             [
              0.6666666666666666,
              "#ed7953"
             ],
             [
              0.7777777777777778,
              "#fb9f3a"
             ],
             [
              0.8888888888888888,
              "#fdca26"
             ],
             [
              1,
              "#f0f921"
             ]
            ],
            "type": "contour"
           }
          ],
          "contourcarpet": [
           {
            "colorbar": {
             "outlinewidth": 0,
             "ticks": ""
            },
            "type": "contourcarpet"
           }
          ],
          "heatmap": [
           {
            "colorbar": {
             "outlinewidth": 0,
             "ticks": ""
            },
            "colorscale": [
             [
              0,
              "#0d0887"
             ],
             [
              0.1111111111111111,
              "#46039f"
             ],
             [
              0.2222222222222222,
              "#7201a8"
             ],
             [
              0.3333333333333333,
              "#9c179e"
             ],
             [
              0.4444444444444444,
              "#bd3786"
             ],
             [
              0.5555555555555556,
              "#d8576b"
             ],
             [
              0.6666666666666666,
              "#ed7953"
             ],
             [
              0.7777777777777778,
              "#fb9f3a"
             ],
             [
              0.8888888888888888,
              "#fdca26"
             ],
             [
              1,
              "#f0f921"
             ]
            ],
            "type": "heatmap"
           }
          ],
          "heatmapgl": [
           {
            "colorbar": {
             "outlinewidth": 0,
             "ticks": ""
            },
            "colorscale": [
             [
              0,
              "#0d0887"
             ],
             [
              0.1111111111111111,
              "#46039f"
             ],
             [
              0.2222222222222222,
              "#7201a8"
             ],
             [
              0.3333333333333333,
              "#9c179e"
             ],
             [
              0.4444444444444444,
              "#bd3786"
             ],
             [
              0.5555555555555556,
              "#d8576b"
             ],
             [
              0.6666666666666666,
              "#ed7953"
             ],
             [
              0.7777777777777778,
              "#fb9f3a"
             ],
             [
              0.8888888888888888,
              "#fdca26"
             ],
             [
              1,
              "#f0f921"
             ]
            ],
            "type": "heatmapgl"
           }
          ],
          "histogram": [
           {
            "marker": {
             "pattern": {
              "fillmode": "overlay",
              "size": 10,
              "solidity": 0.2
             }
            },
            "type": "histogram"
           }
          ],
          "histogram2d": [
           {
            "colorbar": {
             "outlinewidth": 0,
             "ticks": ""
            },
            "colorscale": [
             [
              0,
              "#0d0887"
             ],
             [
              0.1111111111111111,
              "#46039f"
             ],
             [
              0.2222222222222222,
              "#7201a8"
             ],
             [
              0.3333333333333333,
              "#9c179e"
             ],
             [
              0.4444444444444444,
              "#bd3786"
             ],
             [
              0.5555555555555556,
              "#d8576b"
             ],
             [
              0.6666666666666666,
              "#ed7953"
             ],
             [
              0.7777777777777778,
              "#fb9f3a"
             ],
             [
              0.8888888888888888,
              "#fdca26"
             ],
             [
              1,
              "#f0f921"
             ]
            ],
            "type": "histogram2d"
           }
          ],
          "histogram2dcontour": [
           {
            "colorbar": {
             "outlinewidth": 0,
             "ticks": ""
            },
            "colorscale": [
             [
              0,
              "#0d0887"
             ],
             [
              0.1111111111111111,
              "#46039f"
             ],
             [
              0.2222222222222222,
              "#7201a8"
             ],
             [
              0.3333333333333333,
              "#9c179e"
             ],
             [
              0.4444444444444444,
              "#bd3786"
             ],
             [
              0.5555555555555556,
              "#d8576b"
             ],
             [
              0.6666666666666666,
              "#ed7953"
             ],
             [
              0.7777777777777778,
              "#fb9f3a"
             ],
             [
              0.8888888888888888,
              "#fdca26"
             ],
             [
              1,
              "#f0f921"
             ]
            ],
            "type": "histogram2dcontour"
           }
          ],
          "mesh3d": [
           {
            "colorbar": {
             "outlinewidth": 0,
             "ticks": ""
            },
            "type": "mesh3d"
           }
          ],
          "parcoords": [
           {
            "line": {
             "colorbar": {
              "outlinewidth": 0,
              "ticks": ""
             }
            },
            "type": "parcoords"
           }
          ],
          "pie": [
           {
            "automargin": true,
            "type": "pie"
           }
          ],
          "scatter": [
           {
            "fillpattern": {
             "fillmode": "overlay",
             "size": 10,
             "solidity": 0.2
            },
            "type": "scatter"
           }
          ],
          "scatter3d": [
           {
            "line": {
             "colorbar": {
              "outlinewidth": 0,
              "ticks": ""
             }
            },
            "marker": {
             "colorbar": {
              "outlinewidth": 0,
              "ticks": ""
             }
            },
            "type": "scatter3d"
           }
          ],
          "scattercarpet": [
           {
            "marker": {
             "colorbar": {
              "outlinewidth": 0,
              "ticks": ""
             }
            },
            "type": "scattercarpet"
           }
          ],
          "scattergeo": [
           {
            "marker": {
             "colorbar": {
              "outlinewidth": 0,
              "ticks": ""
             }
            },
            "type": "scattergeo"
           }
          ],
          "scattergl": [
           {
            "marker": {
             "colorbar": {
              "outlinewidth": 0,
              "ticks": ""
             }
            },
            "type": "scattergl"
           }
          ],
          "scattermapbox": [
           {
            "marker": {
             "colorbar": {
              "outlinewidth": 0,
              "ticks": ""
             }
            },
            "type": "scattermapbox"
           }
          ],
          "scatterpolar": [
           {
            "marker": {
             "colorbar": {
              "outlinewidth": 0,
              "ticks": ""
             }
            },
            "type": "scatterpolar"
           }
          ],
          "scatterpolargl": [
           {
            "marker": {
             "colorbar": {
              "outlinewidth": 0,
              "ticks": ""
             }
            },
            "type": "scatterpolargl"
           }
          ],
          "scatterternary": [
           {
            "marker": {
             "colorbar": {
              "outlinewidth": 0,
              "ticks": ""
             }
            },
            "type": "scatterternary"
           }
          ],
          "surface": [
           {
            "colorbar": {
             "outlinewidth": 0,
             "ticks": ""
            },
            "colorscale": [
             [
              0,
              "#0d0887"
             ],
             [
              0.1111111111111111,
              "#46039f"
             ],
             [
              0.2222222222222222,
              "#7201a8"
             ],
             [
              0.3333333333333333,
              "#9c179e"
             ],
             [
              0.4444444444444444,
              "#bd3786"
             ],
             [
              0.5555555555555556,
              "#d8576b"
             ],
             [
              0.6666666666666666,
              "#ed7953"
             ],
             [
              0.7777777777777778,
              "#fb9f3a"
             ],
             [
              0.8888888888888888,
              "#fdca26"
             ],
             [
              1,
              "#f0f921"
             ]
            ],
            "type": "surface"
           }
          ],
          "table": [
           {
            "cells": {
             "fill": {
              "color": "#EBF0F8"
             },
             "line": {
              "color": "white"
             }
            },
            "header": {
             "fill": {
              "color": "#C8D4E3"
             },
             "line": {
              "color": "white"
             }
            },
            "type": "table"
           }
          ]
         },
         "layout": {
          "annotationdefaults": {
           "arrowcolor": "#2a3f5f",
           "arrowhead": 0,
           "arrowwidth": 1
          },
          "autotypenumbers": "strict",
          "coloraxis": {
           "colorbar": {
            "outlinewidth": 0,
            "ticks": ""
           }
          },
          "colorscale": {
           "diverging": [
            [
             0,
             "#8e0152"
            ],
            [
             0.1,
             "#c51b7d"
            ],
            [
             0.2,
             "#de77ae"
            ],
            [
             0.3,
             "#f1b6da"
            ],
            [
             0.4,
             "#fde0ef"
            ],
            [
             0.5,
             "#f7f7f7"
            ],
            [
             0.6,
             "#e6f5d0"
            ],
            [
             0.7,
             "#b8e186"
            ],
            [
             0.8,
             "#7fbc41"
            ],
            [
             0.9,
             "#4d9221"
            ],
            [
             1,
             "#276419"
            ]
           ],
           "sequential": [
            [
             0,
             "#0d0887"
            ],
            [
             0.1111111111111111,
             "#46039f"
            ],
            [
             0.2222222222222222,
             "#7201a8"
            ],
            [
             0.3333333333333333,
             "#9c179e"
            ],
            [
             0.4444444444444444,
             "#bd3786"
            ],
            [
             0.5555555555555556,
             "#d8576b"
            ],
            [
             0.6666666666666666,
             "#ed7953"
            ],
            [
             0.7777777777777778,
             "#fb9f3a"
            ],
            [
             0.8888888888888888,
             "#fdca26"
            ],
            [
             1,
             "#f0f921"
            ]
           ],
           "sequentialminus": [
            [
             0,
             "#0d0887"
            ],
            [
             0.1111111111111111,
             "#46039f"
            ],
            [
             0.2222222222222222,
             "#7201a8"
            ],
            [
             0.3333333333333333,
             "#9c179e"
            ],
            [
             0.4444444444444444,
             "#bd3786"
            ],
            [
             0.5555555555555556,
             "#d8576b"
            ],
            [
             0.6666666666666666,
             "#ed7953"
            ],
            [
             0.7777777777777778,
             "#fb9f3a"
            ],
            [
             0.8888888888888888,
             "#fdca26"
            ],
            [
             1,
             "#f0f921"
            ]
           ]
          },
          "colorway": [
           "#636efa",
           "#EF553B",
           "#00cc96",
           "#ab63fa",
           "#FFA15A",
           "#19d3f3",
           "#FF6692",
           "#B6E880",
           "#FF97FF",
           "#FECB52"
          ],
          "font": {
           "color": "#2a3f5f"
          },
          "geo": {
           "bgcolor": "white",
           "lakecolor": "white",
           "landcolor": "#E5ECF6",
           "showlakes": true,
           "showland": true,
           "subunitcolor": "white"
          },
          "hoverlabel": {
           "align": "left"
          },
          "hovermode": "closest",
          "mapbox": {
           "style": "light"
          },
          "paper_bgcolor": "white",
          "plot_bgcolor": "#E5ECF6",
          "polar": {
           "angularaxis": {
            "gridcolor": "white",
            "linecolor": "white",
            "ticks": ""
           },
           "bgcolor": "#E5ECF6",
           "radialaxis": {
            "gridcolor": "white",
            "linecolor": "white",
            "ticks": ""
           }
          },
          "scene": {
           "xaxis": {
            "backgroundcolor": "#E5ECF6",
            "gridcolor": "white",
            "gridwidth": 2,
            "linecolor": "white",
            "showbackground": true,
            "ticks": "",
            "zerolinecolor": "white"
           },
           "yaxis": {
            "backgroundcolor": "#E5ECF6",
            "gridcolor": "white",
            "gridwidth": 2,
            "linecolor": "white",
            "showbackground": true,
            "ticks": "",
            "zerolinecolor": "white"
           },
           "zaxis": {
            "backgroundcolor": "#E5ECF6",
            "gridcolor": "white",
            "gridwidth": 2,
            "linecolor": "white",
            "showbackground": true,
            "ticks": "",
            "zerolinecolor": "white"
           }
          },
          "shapedefaults": {
           "line": {
            "color": "#2a3f5f"
           }
          },
          "ternary": {
           "aaxis": {
            "gridcolor": "white",
            "linecolor": "white",
            "ticks": ""
           },
           "baxis": {
            "gridcolor": "white",
            "linecolor": "white",
            "ticks": ""
           },
           "bgcolor": "#E5ECF6",
           "caxis": {
            "gridcolor": "white",
            "linecolor": "white",
            "ticks": ""
           }
          },
          "title": {
           "x": 0.05
          },
          "xaxis": {
           "automargin": true,
           "gridcolor": "white",
           "linecolor": "white",
           "ticks": "",
           "title": {
            "standoff": 15
           },
           "zerolinecolor": "white",
           "zerolinewidth": 2
          },
          "yaxis": {
           "automargin": true,
           "gridcolor": "white",
           "linecolor": "white",
           "ticks": "",
           "title": {
            "standoff": 15
           },
           "zerolinecolor": "white",
           "zerolinewidth": 2
          }
         }
        },
        "title": {
         "text": "Convex Finance Revenues"
        },
        "xaxis": {
         "anchor": "y",
         "domain": [
          0,
          1
         ],
         "title": {
          "text": "index"
         }
        },
        "yaxis": {
         "anchor": "x",
         "domain": [
          0,
          1
         ],
         "title": {
          "text": "value"
         }
        }
       }
      },
      "text/html": [
       "<div>                            <div id=\"3f485c46-d62d-4eac-8657-cc508668ce6c\" class=\"plotly-graph-div\" style=\"height:500px; width:100%;\"></div>            <script type=\"text/javascript\">                require([\"plotly\"], function(Plotly) {                    window.PLOTLYENV=window.PLOTLYENV || {};                                    if (document.getElementById(\"3f485c46-d62d-4eac-8657-cc508668ce6c\")) {                    Plotly.newPlot(                        \"3f485c46-d62d-4eac-8657-cc508668ce6c\",                        [{\"legendgroup\":\"cumulativeProtocolSideRevenueUSD\",\"line\":{\"color\":\"#636efa\",\"dash\":\"solid\"},\"marker\":{\"symbol\":\"circle\"},\"mode\":\"lines\",\"name\":\"cumulativeProtocolSideRevenueUSD\",\"orientation\":\"v\",\"showlegend\":true,\"x\":[\"2021-05-17T23:55:37\",\"2021-05-18T23:58:29\",\"2021-05-19T23:57:47\",\"2021-05-20T23:57:13\",\"2021-05-21T23:47:32\",\"2021-05-22T23:58:05\",\"2021-05-23T23:59:12\",\"2021-05-24T23:57:21\",\"2021-05-25T23:56:28\",\"2021-05-26T23:50:52\",\"2021-05-27T23:49:43\",\"2021-05-28T23:53:41\",\"2021-05-29T23:59:51\",\"2021-05-30T23:46:44\",\"2021-05-31T23:56:55\",\"2021-06-01T23:59:11\",\"2021-06-02T23:55:54\",\"2021-06-03T23:59:59\",\"2021-06-04T23:59:37\",\"2021-06-05T23:59:43\",\"2021-06-06T23:59:49\",\"2021-06-07T23:58:00\",\"2021-06-08T23:57:35\",\"2021-06-09T23:54:48\",\"2021-06-10T23:58:45\",\"2021-06-11T23:59:01\",\"2021-06-12T23:56:54\",\"2021-06-13T23:59:06\",\"2021-06-14T23:55:40\",\"2021-06-15T23:58:36\",\"2021-06-16T23:59:33\",\"2021-06-17T23:59:30\",\"2021-06-18T23:56:27\",\"2021-06-19T23:58:46\",\"2021-06-20T23:59:42\",\"2021-06-21T23:59:50\",\"2021-06-22T23:59:46\",\"2021-06-23T23:59:38\",\"2021-06-24T23:56:07\",\"2021-06-25T23:58:30\",\"2021-06-26T23:52:49\",\"2021-06-27T23:59:12\",\"2021-06-28T23:58:56\",\"2021-06-29T23:57:41\",\"2021-06-30T23:56:10\",\"2021-07-01T23:59:02\",\"2021-07-02T23:58:32\",\"2021-07-03T23:59:38\",\"2021-07-04T23:56:34\",\"2021-07-05T23:56:05\",\"2021-07-06T23:52:04\",\"2021-07-07T23:57:20\",\"2021-07-08T23:58:37\",\"2021-07-09T23:52:36\",\"2021-07-10T23:59:35\",\"2021-07-11T23:59:30\",\"2021-07-12T23:54:24\",\"2021-07-13T23:58:04\",\"2021-07-14T23:58:49\",\"2021-07-15T23:58:36\",\"2021-07-16T23:59:02\",\"2021-07-17T23:52:56\",\"2021-07-18T23:56:19\",\"2021-07-19T23:57:14\",\"2021-07-20T23:53:44\",\"2021-07-21T23:57:31\",\"2021-07-22T23:53:01\",\"2021-07-23T23:58:16\",\"2021-07-24T23:47:28\",\"2021-07-25T23:56:36\",\"2021-07-26T23:59:33\",\"2021-07-27T23:57:49\",\"2021-07-28T23:59:13\",\"2021-07-29T23:56:05\",\"2021-07-30T23:57:46\",\"2021-07-31T23:59:13\",\"2021-08-01T23:45:15\",\"2021-08-02T23:59:01\",\"2021-08-03T23:58:35\",\"2021-08-04T23:52:30\",\"2021-08-05T23:58:38\",\"2021-08-06T23:50:40\",\"2021-08-07T23:44:09\",\"2021-08-08T23:58:57\",\"2021-08-09T23:55:49\",\"2021-08-10T23:59:46\",\"2021-08-11T23:59:43\",\"2021-08-12T23:59:51\",\"2021-08-13T23:59:10\",\"2021-08-14T23:59:37\",\"2021-08-15T23:59:40\",\"2021-08-16T23:55:38\",\"2021-08-17T23:54:41\",\"2021-08-18T23:59:18\",\"2021-08-19T23:59:48\",\"2021-08-20T23:57:59\",\"2021-08-21T23:52:04\",\"2021-08-22T23:59:52\",\"2021-08-23T23:58:33\",\"2021-08-24T23:40:49\"],\"xaxis\":\"x\",\"y\":[0.0,2911.5,2911.5,13123.9,19545.1,26234.8,31740.1,38647.5,46234.3,58686.3,72220.9,87673.3,103804.9,121539.9,139730.5,164423.0,200354.7,248797.6,301939.3,361451.1,419283.5,477146.9,529903.0,585709.5,609761.0,632448.1,654225.4,675019.6,698411.5,721253.4,761700.2,954363.6,964940.5,991192.0,1007813.5,1017342.1,1030628.1,1081781.6,1225591.9,1240424.0,1254027.0,1288459.8,1317643.4,1349846.0,1420759.4,1536212.7,1549047.3,1562358.2,1598041.8,1619387.2,1648017.4,1721811.4,1854615.5,1879387.6,1888110.4,1916980.9,1934752.9,1975473.0,2057861.7,2144697.8,2155711.7,2172202.4,2190447.1,2202762.4,2233056.8,2315972.9,2412525.8,2430472.1,2458250.7,2487343.6,2518493.4,2562000.4,2626890.2,2740392.1,2744722.1,2759983.1,2785865.0,2800581.8,2836424.5,2894531.1,3059912.2,3068735.2,3078122.2,3112507.9,3161600.7,3208452.7,3275497.3,3473150.3,3489892.1,3501343.9,3538760.0,3594322.8,3648940.7,3706062.9,3883915.8,3898320.5,3915837.0,3944736.3,3989317.0,4031931.5],\"yaxis\":\"y\",\"type\":\"scatter\"},{\"legendgroup\":\"cumulativeSupplySideRevenueUSD\",\"line\":{\"color\":\"#EF553B\",\"dash\":\"solid\"},\"marker\":{\"symbol\":\"circle\"},\"mode\":\"lines\",\"name\":\"cumulativeSupplySideRevenueUSD\",\"orientation\":\"v\",\"showlegend\":true,\"x\":[\"2021-05-17T23:55:37\",\"2021-05-18T23:58:29\",\"2021-05-19T23:57:47\",\"2021-05-20T23:57:13\",\"2021-05-21T23:47:32\",\"2021-05-22T23:58:05\",\"2021-05-23T23:59:12\",\"2021-05-24T23:57:21\",\"2021-05-25T23:56:28\",\"2021-05-26T23:50:52\",\"2021-05-27T23:49:43\",\"2021-05-28T23:53:41\",\"2021-05-29T23:59:51\",\"2021-05-30T23:46:44\",\"2021-05-31T23:56:55\",\"2021-06-01T23:59:11\",\"2021-06-02T23:55:54\",\"2021-06-03T23:59:59\",\"2021-06-04T23:59:37\",\"2021-06-05T23:59:43\",\"2021-06-06T23:59:49\",\"2021-06-07T23:58:00\",\"2021-06-08T23:57:35\",\"2021-06-09T23:54:48\",\"2021-06-10T23:58:45\",\"2021-06-11T23:59:01\",\"2021-06-12T23:56:54\",\"2021-06-13T23:59:06\",\"2021-06-14T23:55:40\",\"2021-06-15T23:58:36\",\"2021-06-16T23:59:33\",\"2021-06-17T23:59:30\",\"2021-06-18T23:56:27\",\"2021-06-19T23:58:46\",\"2021-06-20T23:59:42\",\"2021-06-21T23:59:50\",\"2021-06-22T23:59:46\",\"2021-06-23T23:59:38\",\"2021-06-24T23:56:07\",\"2021-06-25T23:58:30\",\"2021-06-26T23:52:49\",\"2021-06-27T23:59:12\",\"2021-06-28T23:58:56\",\"2021-06-29T23:57:41\",\"2021-06-30T23:56:10\",\"2021-07-01T23:59:02\",\"2021-07-02T23:58:32\",\"2021-07-03T23:59:38\",\"2021-07-04T23:56:34\",\"2021-07-05T23:56:05\",\"2021-07-06T23:52:04\",\"2021-07-07T23:57:20\",\"2021-07-08T23:58:37\",\"2021-07-09T23:52:36\",\"2021-07-10T23:59:35\",\"2021-07-11T23:59:30\",\"2021-07-12T23:54:24\",\"2021-07-13T23:58:04\",\"2021-07-14T23:58:49\",\"2021-07-15T23:58:36\",\"2021-07-16T23:59:02\",\"2021-07-17T23:52:56\",\"2021-07-18T23:56:19\",\"2021-07-19T23:57:14\",\"2021-07-20T23:53:44\",\"2021-07-21T23:57:31\",\"2021-07-22T23:53:01\",\"2021-07-23T23:58:16\",\"2021-07-24T23:47:28\",\"2021-07-25T23:56:36\",\"2021-07-26T23:59:33\",\"2021-07-27T23:57:49\",\"2021-07-28T23:59:13\",\"2021-07-29T23:56:05\",\"2021-07-30T23:57:46\",\"2021-07-31T23:59:13\",\"2021-08-01T23:45:15\",\"2021-08-02T23:59:01\",\"2021-08-03T23:58:35\",\"2021-08-04T23:52:30\",\"2021-08-05T23:58:38\",\"2021-08-06T23:50:40\",\"2021-08-07T23:44:09\",\"2021-08-08T23:58:57\",\"2021-08-09T23:55:49\",\"2021-08-10T23:59:46\",\"2021-08-11T23:59:43\",\"2021-08-12T23:59:51\",\"2021-08-13T23:59:10\",\"2021-08-14T23:59:37\",\"2021-08-15T23:59:40\",\"2021-08-16T23:55:38\",\"2021-08-17T23:54:41\",\"2021-08-18T23:59:18\",\"2021-08-19T23:59:48\",\"2021-08-20T23:57:59\",\"2021-08-21T23:52:04\",\"2021-08-22T23:59:52\",\"2021-08-23T23:58:33\",\"2021-08-24T23:40:49\"],\"xaxis\":\"x\",\"y\":[0.0,104793.3,104793.3,501963.6,746543.1,993566.4,1235487.8,1543597.0,1859174.7,2406526.2,3025444.4,3756870.2,4488833.4,5203284.2,5961086.2,7113241.4,9384640.3,12429508.2,15887940.8,19182256.1,22007984.6,24684562.8,26819564.5,28954056.2,29921213.8,30734625.1,31485618.0,32183282.3,32961230.8,33686628.6,35024529.0,41362287.5,41692547.4,42487518.8,42968818.3,43253241.2,43652077.5,45192600.9,49493788.0,49918108.5,50309601.3,51282253.0,52097734.4,53071425.4,55393678.1,59169682.4,59568861.0,59961334.5,60969881.1,61571519.4,62347317.6,64320767.3,67910005.7,68565373.7,68802983.2,69572605.3,70044295.9,71093452.3,73195051.3,75399186.2,75675278.2,76117071.2,76589413.5,76902267.7,77660067.7,79813148.1,83005263.3,83527389.3,84362365.8,85233891.3,86149556.6,87371207.2,89210470.1,92369657.3,92493163.1,92920258.0,93614867.1,94008890.1,94971330.8,96531409.4,100951818.0,101199705.4,101470239.9,102496291.5,104010486.8,105419236.2,107423593.7,113218724.5,113705628.9,114059544.1,115242435.9,116943173.7,118597188.1,120334402.4,126011102.6,126508701.6,127094918.0,128042820.3,129548923.5,130896536.3],\"yaxis\":\"y\",\"type\":\"scatter\"},{\"legendgroup\":\"cumulativeTotalRevenueUSD\",\"line\":{\"color\":\"#00cc96\",\"dash\":\"solid\"},\"marker\":{\"symbol\":\"circle\"},\"mode\":\"lines\",\"name\":\"cumulativeTotalRevenueUSD\",\"orientation\":\"v\",\"showlegend\":true,\"x\":[\"2021-05-17T23:55:37\",\"2021-05-18T23:58:29\",\"2021-05-19T23:57:47\",\"2021-05-20T23:57:13\",\"2021-05-21T23:47:32\",\"2021-05-22T23:58:05\",\"2021-05-23T23:59:12\",\"2021-05-24T23:57:21\",\"2021-05-25T23:56:28\",\"2021-05-26T23:50:52\",\"2021-05-27T23:49:43\",\"2021-05-28T23:53:41\",\"2021-05-29T23:59:51\",\"2021-05-30T23:46:44\",\"2021-05-31T23:56:55\",\"2021-06-01T23:59:11\",\"2021-06-02T23:55:54\",\"2021-06-03T23:59:59\",\"2021-06-04T23:59:37\",\"2021-06-05T23:59:43\",\"2021-06-06T23:59:49\",\"2021-06-07T23:58:00\",\"2021-06-08T23:57:35\",\"2021-06-09T23:54:48\",\"2021-06-10T23:58:45\",\"2021-06-11T23:59:01\",\"2021-06-12T23:56:54\",\"2021-06-13T23:59:06\",\"2021-06-14T23:55:40\",\"2021-06-15T23:58:36\",\"2021-06-16T23:59:33\",\"2021-06-17T23:59:30\",\"2021-06-18T23:56:27\",\"2021-06-19T23:58:46\",\"2021-06-20T23:59:42\",\"2021-06-21T23:59:50\",\"2021-06-22T23:59:46\",\"2021-06-23T23:59:38\",\"2021-06-24T23:56:07\",\"2021-06-25T23:58:30\",\"2021-06-26T23:52:49\",\"2021-06-27T23:59:12\",\"2021-06-28T23:58:56\",\"2021-06-29T23:57:41\",\"2021-06-30T23:56:10\",\"2021-07-01T23:59:02\",\"2021-07-02T23:58:32\",\"2021-07-03T23:59:38\",\"2021-07-04T23:56:34\",\"2021-07-05T23:56:05\",\"2021-07-06T23:52:04\",\"2021-07-07T23:57:20\",\"2021-07-08T23:58:37\",\"2021-07-09T23:52:36\",\"2021-07-10T23:59:35\",\"2021-07-11T23:59:30\",\"2021-07-12T23:54:24\",\"2021-07-13T23:58:04\",\"2021-07-14T23:58:49\",\"2021-07-15T23:58:36\",\"2021-07-16T23:59:02\",\"2021-07-17T23:52:56\",\"2021-07-18T23:56:19\",\"2021-07-19T23:57:14\",\"2021-07-20T23:53:44\",\"2021-07-21T23:57:31\",\"2021-07-22T23:53:01\",\"2021-07-23T23:58:16\",\"2021-07-24T23:47:28\",\"2021-07-25T23:56:36\",\"2021-07-26T23:59:33\",\"2021-07-27T23:57:49\",\"2021-07-28T23:59:13\",\"2021-07-29T23:56:05\",\"2021-07-30T23:57:46\",\"2021-07-31T23:59:13\",\"2021-08-01T23:45:15\",\"2021-08-02T23:59:01\",\"2021-08-03T23:58:35\",\"2021-08-04T23:52:30\",\"2021-08-05T23:58:38\",\"2021-08-06T23:50:40\",\"2021-08-07T23:44:09\",\"2021-08-08T23:58:57\",\"2021-08-09T23:55:49\",\"2021-08-10T23:59:46\",\"2021-08-11T23:59:43\",\"2021-08-12T23:59:51\",\"2021-08-13T23:59:10\",\"2021-08-14T23:59:37\",\"2021-08-15T23:59:40\",\"2021-08-16T23:55:38\",\"2021-08-17T23:54:41\",\"2021-08-18T23:59:18\",\"2021-08-19T23:59:48\",\"2021-08-20T23:57:59\",\"2021-08-21T23:52:04\",\"2021-08-22T23:59:52\",\"2021-08-23T23:58:33\",\"2021-08-24T23:40:49\"],\"xaxis\":\"x\",\"y\":[0.0,107704.8,107704.8,515087.5,766088.2,1019801.2,1267227.9,1582244.5,1905409.0,2465212.5,3097665.3,3844543.5,4592638.3,5324824.1,6100816.7,7277664.4,9584995.0,12678305.8,16189880.1,19543707.2,22427268.1,25161709.7,27349467.5,29539765.7,30530974.8,31367073.2,32139843.4,32858301.9,33659642.3,34407882.0,35786229.2,42316651.1,42657487.9,43478710.8,43976631.8,44270583.3,44682705.6,46274382.5,50719379.9,51158532.5,51563628.3,52570712.8,53415377.8,54421271.4,56814437.5,60705895.1,61117908.3,61523692.7,62567922.9,63190906.6,63995335.0,66042578.7,69764621.2,70444761.3,70691093.6,71489586.2,71979048.8,73068925.3,75252913.0,77543884.0,77830989.9,78289273.6,78779860.6,79105030.1,79893124.5,82129121.0,85417789.1,85957861.4,86820616.5,87721234.9,88668050.0,89933207.6,91837360.3,95110049.4,95237885.2,95680241.1,96400732.1,96809471.9,97807755.3,99425940.5,104011730.2,104268440.6,104548362.1,105608799.4,107172087.5,108627688.9,110699091.0,116691874.8,117195521.0,117560888.0,118781195.9,120537496.5,122246128.8,124040465.3,129895018.4,130407022.1,131010755.0,131987556.6,133538240.5,134928467.8],\"yaxis\":\"y\",\"type\":\"scatter\"},{\"legendgroup\":\"dailyProtocolSideRevenueUSD\",\"line\":{\"color\":\"#ab63fa\",\"dash\":\"solid\"},\"marker\":{\"symbol\":\"circle\"},\"mode\":\"lines\",\"name\":\"dailyProtocolSideRevenueUSD\",\"orientation\":\"v\",\"showlegend\":true,\"x\":[\"2021-05-17T23:55:37\",\"2021-05-18T23:58:29\",\"2021-05-19T23:57:47\",\"2021-05-20T23:57:13\",\"2021-05-21T23:47:32\",\"2021-05-22T23:58:05\",\"2021-05-23T23:59:12\",\"2021-05-24T23:57:21\",\"2021-05-25T23:56:28\",\"2021-05-26T23:50:52\",\"2021-05-27T23:49:43\",\"2021-05-28T23:53:41\",\"2021-05-29T23:59:51\",\"2021-05-30T23:46:44\",\"2021-05-31T23:56:55\",\"2021-06-01T23:59:11\",\"2021-06-02T23:55:54\",\"2021-06-03T23:59:59\",\"2021-06-04T23:59:37\",\"2021-06-05T23:59:43\",\"2021-06-06T23:59:49\",\"2021-06-07T23:58:00\",\"2021-06-08T23:57:35\",\"2021-06-09T23:54:48\",\"2021-06-10T23:58:45\",\"2021-06-11T23:59:01\",\"2021-06-12T23:56:54\",\"2021-06-13T23:59:06\",\"2021-06-14T23:55:40\",\"2021-06-15T23:58:36\",\"2021-06-16T23:59:33\",\"2021-06-17T23:59:30\",\"2021-06-18T23:56:27\",\"2021-06-19T23:58:46\",\"2021-06-20T23:59:42\",\"2021-06-21T23:59:50\",\"2021-06-22T23:59:46\",\"2021-06-23T23:59:38\",\"2021-06-24T23:56:07\",\"2021-06-25T23:58:30\",\"2021-06-26T23:52:49\",\"2021-06-27T23:59:12\",\"2021-06-28T23:58:56\",\"2021-06-29T23:57:41\",\"2021-06-30T23:56:10\",\"2021-07-01T23:59:02\",\"2021-07-02T23:58:32\",\"2021-07-03T23:59:38\",\"2021-07-04T23:56:34\",\"2021-07-05T23:56:05\",\"2021-07-06T23:52:04\",\"2021-07-07T23:57:20\",\"2021-07-08T23:58:37\",\"2021-07-09T23:52:36\",\"2021-07-10T23:59:35\",\"2021-07-11T23:59:30\",\"2021-07-12T23:54:24\",\"2021-07-13T23:58:04\",\"2021-07-14T23:58:49\",\"2021-07-15T23:58:36\",\"2021-07-16T23:59:02\",\"2021-07-17T23:52:56\",\"2021-07-18T23:56:19\",\"2021-07-19T23:57:14\",\"2021-07-20T23:53:44\",\"2021-07-21T23:57:31\",\"2021-07-22T23:53:01\",\"2021-07-23T23:58:16\",\"2021-07-24T23:47:28\",\"2021-07-25T23:56:36\",\"2021-07-26T23:59:33\",\"2021-07-27T23:57:49\",\"2021-07-28T23:59:13\",\"2021-07-29T23:56:05\",\"2021-07-30T23:57:46\",\"2021-07-31T23:59:13\",\"2021-08-01T23:45:15\",\"2021-08-02T23:59:01\",\"2021-08-03T23:58:35\",\"2021-08-04T23:52:30\",\"2021-08-05T23:58:38\",\"2021-08-06T23:50:40\",\"2021-08-07T23:44:09\",\"2021-08-08T23:58:57\",\"2021-08-09T23:55:49\",\"2021-08-10T23:59:46\",\"2021-08-11T23:59:43\",\"2021-08-12T23:59:51\",\"2021-08-13T23:59:10\",\"2021-08-14T23:59:37\",\"2021-08-15T23:59:40\",\"2021-08-16T23:55:38\",\"2021-08-17T23:54:41\",\"2021-08-18T23:59:18\",\"2021-08-19T23:59:48\",\"2021-08-20T23:57:59\",\"2021-08-21T23:52:04\",\"2021-08-22T23:59:52\",\"2021-08-23T23:58:33\",\"2021-08-24T23:40:49\"],\"xaxis\":\"x\",\"y\":[0.0,2911.5,0.0,10212.4,6421.2,6689.7,5505.3,6907.4,7586.8,12452.0,13534.6,15452.4,16131.6,17735.0,18190.6,24692.5,35931.7,48442.9,53141.7,59511.8,57832.4,57863.4,52756.1,55806.5,24051.5,22687.1,21777.3,20794.2,23391.9,22841.9,40446.8,192663.4,10576.9,26251.5,16621.5,9528.6,13286.0,51153.5,143810.3,14832.1,13603.0,34432.8,29183.6,32202.6,70913.4,115453.3,12834.6,13310.9,35683.6,21345.4,28630.2,73794.0,132804.1,24772.1,8722.8,28870.5,17772.0,40720.1,82388.7,86836.1,11013.9,16490.7,18244.7,12315.3,30294.4,82916.1,96552.9,17946.3,27778.6,29092.9,31149.8,43507.0,64889.8,113501.9,4330.0,15261.0,25881.9,14716.8,35842.7,58106.6,165381.1,8823.0,9387.0,34385.7,49092.8,46852.0,67044.6,197653.0,16741.8,11451.8,37416.1,55562.8,54617.9,57122.2,177852.9,14404.7,17516.5,28899.3,44580.7,42614.5],\"yaxis\":\"y\",\"type\":\"scatter\"},{\"legendgroup\":\"dailySupplySideRevenueUSD\",\"line\":{\"color\":\"#FFA15A\",\"dash\":\"solid\"},\"marker\":{\"symbol\":\"circle\"},\"mode\":\"lines\",\"name\":\"dailySupplySideRevenueUSD\",\"orientation\":\"v\",\"showlegend\":true,\"x\":[\"2021-05-17T23:55:37\",\"2021-05-18T23:58:29\",\"2021-05-19T23:57:47\",\"2021-05-20T23:57:13\",\"2021-05-21T23:47:32\",\"2021-05-22T23:58:05\",\"2021-05-23T23:59:12\",\"2021-05-24T23:57:21\",\"2021-05-25T23:56:28\",\"2021-05-26T23:50:52\",\"2021-05-27T23:49:43\",\"2021-05-28T23:53:41\",\"2021-05-29T23:59:51\",\"2021-05-30T23:46:44\",\"2021-05-31T23:56:55\",\"2021-06-01T23:59:11\",\"2021-06-02T23:55:54\",\"2021-06-03T23:59:59\",\"2021-06-04T23:59:37\",\"2021-06-05T23:59:43\",\"2021-06-06T23:59:49\",\"2021-06-07T23:58:00\",\"2021-06-08T23:57:35\",\"2021-06-09T23:54:48\",\"2021-06-10T23:58:45\",\"2021-06-11T23:59:01\",\"2021-06-12T23:56:54\",\"2021-06-13T23:59:06\",\"2021-06-14T23:55:40\",\"2021-06-15T23:58:36\",\"2021-06-16T23:59:33\",\"2021-06-17T23:59:30\",\"2021-06-18T23:56:27\",\"2021-06-19T23:58:46\",\"2021-06-20T23:59:42\",\"2021-06-21T23:59:50\",\"2021-06-22T23:59:46\",\"2021-06-23T23:59:38\",\"2021-06-24T23:56:07\",\"2021-06-25T23:58:30\",\"2021-06-26T23:52:49\",\"2021-06-27T23:59:12\",\"2021-06-28T23:58:56\",\"2021-06-29T23:57:41\",\"2021-06-30T23:56:10\",\"2021-07-01T23:59:02\",\"2021-07-02T23:58:32\",\"2021-07-03T23:59:38\",\"2021-07-04T23:56:34\",\"2021-07-05T23:56:05\",\"2021-07-06T23:52:04\",\"2021-07-07T23:57:20\",\"2021-07-08T23:58:37\",\"2021-07-09T23:52:36\",\"2021-07-10T23:59:35\",\"2021-07-11T23:59:30\",\"2021-07-12T23:54:24\",\"2021-07-13T23:58:04\",\"2021-07-14T23:58:49\",\"2021-07-15T23:58:36\",\"2021-07-16T23:59:02\",\"2021-07-17T23:52:56\",\"2021-07-18T23:56:19\",\"2021-07-19T23:57:14\",\"2021-07-20T23:53:44\",\"2021-07-21T23:57:31\",\"2021-07-22T23:53:01\",\"2021-07-23T23:58:16\",\"2021-07-24T23:47:28\",\"2021-07-25T23:56:36\",\"2021-07-26T23:59:33\",\"2021-07-27T23:57:49\",\"2021-07-28T23:59:13\",\"2021-07-29T23:56:05\",\"2021-07-30T23:57:46\",\"2021-07-31T23:59:13\",\"2021-08-01T23:45:15\",\"2021-08-02T23:59:01\",\"2021-08-03T23:58:35\",\"2021-08-04T23:52:30\",\"2021-08-05T23:58:38\",\"2021-08-06T23:50:40\",\"2021-08-07T23:44:09\",\"2021-08-08T23:58:57\",\"2021-08-09T23:55:49\",\"2021-08-10T23:59:46\",\"2021-08-11T23:59:43\",\"2021-08-12T23:59:51\",\"2021-08-13T23:59:10\",\"2021-08-14T23:59:37\",\"2021-08-15T23:59:40\",\"2021-08-16T23:55:38\",\"2021-08-17T23:54:41\",\"2021-08-18T23:59:18\",\"2021-08-19T23:59:48\",\"2021-08-20T23:57:59\",\"2021-08-21T23:52:04\",\"2021-08-22T23:59:52\",\"2021-08-23T23:58:33\",\"2021-08-24T23:40:49\"],\"xaxis\":\"x\",\"y\":[0.0,104793.3,0.0,397170.3,244579.5,247023.3,241921.4,308109.2,315577.7,547351.5,618918.2,731425.8,731963.2,714450.8,757802.0,1152155.2,2271398.9,3044867.9,3458432.6,3294315.3,2825728.5,2676578.2,2135001.7,2134491.7,967157.6,813411.3,750992.9,697664.3,777948.5,725397.8,1337900.4,6337758.5,330259.9,794971.4,481299.5,284422.9,398836.3,1540523.4,4301187.1,424320.5,391492.8,972651.7,815481.4,973691.0,2322252.7,3776004.3,399178.6,392473.5,1008546.6,601638.3,775798.2,1973449.7,3589238.4,655368.0,237609.5,769622.1,471690.6,1049156.4,2101599.0,2204134.9,276092.0,441793.0,472342.3,312854.2,757800.0,2153080.4,3192115.2,522126.0,834976.5,871525.5,915665.3,1221650.6,1839262.9,3159187.2,123505.8,427094.9,694609.1,394023.0,962440.7,1560078.6,4420408.6,247887.4,270534.5,1026051.6,1514195.3,1408749.4,2004357.5,5795130.8,486904.4,353915.2,1182891.8,1700737.8,1654014.4,1737214.3,5676700.2,497599.0,586216.4,947902.3,1506103.2,1347612.8],\"yaxis\":\"y\",\"type\":\"scatter\"},{\"legendgroup\":\"dailyTotalRevenueUSD\",\"line\":{\"color\":\"#19d3f3\",\"dash\":\"solid\"},\"marker\":{\"symbol\":\"circle\"},\"mode\":\"lines\",\"name\":\"dailyTotalRevenueUSD\",\"orientation\":\"v\",\"showlegend\":true,\"x\":[\"2021-05-17T23:55:37\",\"2021-05-18T23:58:29\",\"2021-05-19T23:57:47\",\"2021-05-20T23:57:13\",\"2021-05-21T23:47:32\",\"2021-05-22T23:58:05\",\"2021-05-23T23:59:12\",\"2021-05-24T23:57:21\",\"2021-05-25T23:56:28\",\"2021-05-26T23:50:52\",\"2021-05-27T23:49:43\",\"2021-05-28T23:53:41\",\"2021-05-29T23:59:51\",\"2021-05-30T23:46:44\",\"2021-05-31T23:56:55\",\"2021-06-01T23:59:11\",\"2021-06-02T23:55:54\",\"2021-06-03T23:59:59\",\"2021-06-04T23:59:37\",\"2021-06-05T23:59:43\",\"2021-06-06T23:59:49\",\"2021-06-07T23:58:00\",\"2021-06-08T23:57:35\",\"2021-06-09T23:54:48\",\"2021-06-10T23:58:45\",\"2021-06-11T23:59:01\",\"2021-06-12T23:56:54\",\"2021-06-13T23:59:06\",\"2021-06-14T23:55:40\",\"2021-06-15T23:58:36\",\"2021-06-16T23:59:33\",\"2021-06-17T23:59:30\",\"2021-06-18T23:56:27\",\"2021-06-19T23:58:46\",\"2021-06-20T23:59:42\",\"2021-06-21T23:59:50\",\"2021-06-22T23:59:46\",\"2021-06-23T23:59:38\",\"2021-06-24T23:56:07\",\"2021-06-25T23:58:30\",\"2021-06-26T23:52:49\",\"2021-06-27T23:59:12\",\"2021-06-28T23:58:56\",\"2021-06-29T23:57:41\",\"2021-06-30T23:56:10\",\"2021-07-01T23:59:02\",\"2021-07-02T23:58:32\",\"2021-07-03T23:59:38\",\"2021-07-04T23:56:34\",\"2021-07-05T23:56:05\",\"2021-07-06T23:52:04\",\"2021-07-07T23:57:20\",\"2021-07-08T23:58:37\",\"2021-07-09T23:52:36\",\"2021-07-10T23:59:35\",\"2021-07-11T23:59:30\",\"2021-07-12T23:54:24\",\"2021-07-13T23:58:04\",\"2021-07-14T23:58:49\",\"2021-07-15T23:58:36\",\"2021-07-16T23:59:02\",\"2021-07-17T23:52:56\",\"2021-07-18T23:56:19\",\"2021-07-19T23:57:14\",\"2021-07-20T23:53:44\",\"2021-07-21T23:57:31\",\"2021-07-22T23:53:01\",\"2021-07-23T23:58:16\",\"2021-07-24T23:47:28\",\"2021-07-25T23:56:36\",\"2021-07-26T23:59:33\",\"2021-07-27T23:57:49\",\"2021-07-28T23:59:13\",\"2021-07-29T23:56:05\",\"2021-07-30T23:57:46\",\"2021-07-31T23:59:13\",\"2021-08-01T23:45:15\",\"2021-08-02T23:59:01\",\"2021-08-03T23:58:35\",\"2021-08-04T23:52:30\",\"2021-08-05T23:58:38\",\"2021-08-06T23:50:40\",\"2021-08-07T23:44:09\",\"2021-08-08T23:58:57\",\"2021-08-09T23:55:49\",\"2021-08-10T23:59:46\",\"2021-08-11T23:59:43\",\"2021-08-12T23:59:51\",\"2021-08-13T23:59:10\",\"2021-08-14T23:59:37\",\"2021-08-15T23:59:40\",\"2021-08-16T23:55:38\",\"2021-08-17T23:54:41\",\"2021-08-18T23:59:18\",\"2021-08-19T23:59:48\",\"2021-08-20T23:57:59\",\"2021-08-21T23:52:04\",\"2021-08-22T23:59:52\",\"2021-08-23T23:58:33\",\"2021-08-24T23:40:49\"],\"xaxis\":\"x\",\"y\":[0.0,107704.8,0.0,407382.7,251000.7,253713.0,247426.7,315016.6,323164.5,559803.5,632452.8,746878.2,748094.8,732185.8,775992.6,1176847.7,2307330.6,3093310.8,3511574.3,3353827.1,2883560.9,2734441.6,2187757.8,2190298.2,991209.1,836098.4,772770.2,718458.5,801340.4,748239.7,1378347.2,6530421.9,340836.8,821222.9,497921.0,293951.5,412122.3,1591676.9,4444997.4,439152.6,405095.8,1007084.5,844665.0,1005893.6,2393166.1,3891457.6,412013.2,405784.4,1044230.2,622983.7,804428.4,2047243.7,3722042.5,680140.1,246332.3,798492.6,489462.6,1089876.5,2183987.7,2290971.0,287105.9,458283.7,490587.0,325169.5,788094.4,2235996.5,3288668.1,540072.3,862755.1,900618.4,946815.1,1265157.6,1904152.7,3272689.1,127835.8,442355.9,720491.0,408739.8,998283.4,1618185.2,4585789.7,256710.4,279921.5,1060437.3,1563288.1,1455601.4,2071402.1,5992783.8,503646.2,365367.0,1220307.9,1756300.6,1708632.3,1794336.5,5854553.1,512003.7,603732.9,976801.6,1550683.9,1390227.3],\"yaxis\":\"y\",\"type\":\"scatter\"},{\"legendgroup\":\"protocolControlledValueUSD\",\"line\":{\"color\":\"#FF6692\",\"dash\":\"solid\"},\"marker\":{\"symbol\":\"circle\"},\"mode\":\"lines\",\"name\":\"protocolControlledValueUSD\",\"orientation\":\"v\",\"showlegend\":true,\"x\":[\"2021-05-17T23:55:37\",\"2021-05-18T23:58:29\",\"2021-05-19T23:57:47\",\"2021-05-20T23:57:13\",\"2021-05-21T23:47:32\",\"2021-05-22T23:58:05\",\"2021-05-23T23:59:12\",\"2021-05-24T23:57:21\",\"2021-05-25T23:56:28\",\"2021-05-26T23:50:52\",\"2021-05-27T23:49:43\",\"2021-05-28T23:53:41\",\"2021-05-29T23:59:51\",\"2021-05-30T23:46:44\",\"2021-05-31T23:56:55\",\"2021-06-01T23:59:11\",\"2021-06-02T23:55:54\",\"2021-06-03T23:59:59\",\"2021-06-04T23:59:37\",\"2021-06-05T23:59:43\",\"2021-06-06T23:59:49\",\"2021-06-07T23:58:00\",\"2021-06-08T23:57:35\",\"2021-06-09T23:54:48\",\"2021-06-10T23:58:45\",\"2021-06-11T23:59:01\",\"2021-06-12T23:56:54\",\"2021-06-13T23:59:06\",\"2021-06-14T23:55:40\",\"2021-06-15T23:58:36\",\"2021-06-16T23:59:33\",\"2021-06-17T23:59:30\",\"2021-06-18T23:56:27\",\"2021-06-19T23:58:46\",\"2021-06-20T23:59:42\",\"2021-06-21T23:59:50\",\"2021-06-22T23:59:46\",\"2021-06-23T23:59:38\",\"2021-06-24T23:56:07\",\"2021-06-25T23:58:30\",\"2021-06-26T23:52:49\",\"2021-06-27T23:59:12\",\"2021-06-28T23:58:56\",\"2021-06-29T23:57:41\",\"2021-06-30T23:56:10\",\"2021-07-01T23:59:02\",\"2021-07-02T23:58:32\",\"2021-07-03T23:59:38\",\"2021-07-04T23:56:34\",\"2021-07-05T23:56:05\",\"2021-07-06T23:52:04\",\"2021-07-07T23:57:20\",\"2021-07-08T23:58:37\",\"2021-07-09T23:52:36\",\"2021-07-10T23:59:35\",\"2021-07-11T23:59:30\",\"2021-07-12T23:54:24\",\"2021-07-13T23:58:04\",\"2021-07-14T23:58:49\",\"2021-07-15T23:58:36\",\"2021-07-16T23:59:02\",\"2021-07-17T23:52:56\",\"2021-07-18T23:56:19\",\"2021-07-19T23:57:14\",\"2021-07-20T23:53:44\",\"2021-07-21T23:57:31\",\"2021-07-22T23:53:01\",\"2021-07-23T23:58:16\",\"2021-07-24T23:47:28\",\"2021-07-25T23:56:36\",\"2021-07-26T23:59:33\",\"2021-07-27T23:57:49\",\"2021-07-28T23:59:13\",\"2021-07-29T23:56:05\",\"2021-07-30T23:57:46\",\"2021-07-31T23:59:13\",\"2021-08-01T23:45:15\",\"2021-08-02T23:59:01\",\"2021-08-03T23:58:35\",\"2021-08-04T23:52:30\",\"2021-08-05T23:58:38\",\"2021-08-06T23:50:40\",\"2021-08-07T23:44:09\",\"2021-08-08T23:58:57\",\"2021-08-09T23:55:49\",\"2021-08-10T23:59:46\",\"2021-08-11T23:59:43\",\"2021-08-12T23:59:51\",\"2021-08-13T23:59:10\",\"2021-08-14T23:59:37\",\"2021-08-15T23:59:40\",\"2021-08-16T23:55:38\",\"2021-08-17T23:54:41\",\"2021-08-18T23:59:18\",\"2021-08-19T23:59:48\",\"2021-08-20T23:57:59\",\"2021-08-21T23:52:04\",\"2021-08-22T23:59:52\",\"2021-08-23T23:58:33\",\"2021-08-24T23:40:49\"],\"xaxis\":\"x\",\"y\":[0.0,0.0,0.0,0.0,0.0,0.0,0.0,0.0,0.0,0.0,0.0,0.0,0.0,0.0,0.0,0.0,0.0,0.0,0.0,0.0,0.0,0.0,0.0,0.0,0.0,0.0,0.0,0.0,0.0,0.0,0.0,0.0,0.0,0.0,0.0,0.0,0.0,0.0,0.0,0.0,0.0,0.0,0.0,0.0,0.0,0.0,0.0,0.0,0.0,0.0,0.0,0.0,0.0,0.0,0.0,0.0,0.0,0.0,0.0,0.0,0.0,0.0,0.0,0.0,0.0,0.0,0.0,0.0,0.0,0.0,0.0,0.0,0.0,0.0,0.0,0.0,0.0,0.0,0.0,0.0,0.0,0.0,0.0,0.0,0.0,0.0,0.0,0.0,0.0,0.0,0.0,0.0,0.0,0.0,0.0,0.0,0.0,0.0,0.0,0.0],\"yaxis\":\"y\",\"type\":\"scatter\"},{\"legendgroup\":\"totalValueLockedUSD\",\"line\":{\"color\":\"#B6E880\",\"dash\":\"solid\"},\"marker\":{\"symbol\":\"circle\"},\"mode\":\"lines\",\"name\":\"totalValueLockedUSD\",\"orientation\":\"v\",\"showlegend\":true,\"x\":[\"2021-05-17T23:55:37\",\"2021-05-18T23:58:29\",\"2021-05-19T23:57:47\",\"2021-05-20T23:57:13\",\"2021-05-21T23:47:32\",\"2021-05-22T23:58:05\",\"2021-05-23T23:59:12\",\"2021-05-24T23:57:21\",\"2021-05-25T23:56:28\",\"2021-05-26T23:50:52\",\"2021-05-27T23:49:43\",\"2021-05-28T23:53:41\",\"2021-05-29T23:59:51\",\"2021-05-30T23:46:44\",\"2021-05-31T23:56:55\",\"2021-06-01T23:59:11\",\"2021-06-02T23:55:54\",\"2021-06-03T23:59:59\",\"2021-06-04T23:59:37\",\"2021-06-05T23:59:43\",\"2021-06-06T23:59:49\",\"2021-06-07T23:58:00\",\"2021-06-08T23:57:35\",\"2021-06-09T23:54:48\",\"2021-06-10T23:58:45\",\"2021-06-11T23:59:01\",\"2021-06-12T23:56:54\",\"2021-06-13T23:59:06\",\"2021-06-14T23:55:40\",\"2021-06-15T23:58:36\",\"2021-06-16T23:59:33\",\"2021-06-17T23:59:30\",\"2021-06-18T23:56:27\",\"2021-06-19T23:58:46\",\"2021-06-20T23:59:42\",\"2021-06-21T23:59:50\",\"2021-06-22T23:59:46\",\"2021-06-23T23:59:38\",\"2021-06-24T23:56:07\",\"2021-06-25T23:58:30\",\"2021-06-26T23:52:49\",\"2021-06-27T23:59:12\",\"2021-06-28T23:58:56\",\"2021-06-29T23:57:41\",\"2021-06-30T23:56:10\",\"2021-07-01T23:59:02\",\"2021-07-02T23:58:32\",\"2021-07-03T23:59:38\",\"2021-07-04T23:56:34\",\"2021-07-05T23:56:05\",\"2021-07-06T23:52:04\",\"2021-07-07T23:57:20\",\"2021-07-08T23:58:37\",\"2021-07-09T23:52:36\",\"2021-07-10T23:59:35\",\"2021-07-11T23:59:30\",\"2021-07-12T23:54:24\",\"2021-07-13T23:58:04\",\"2021-07-14T23:58:49\",\"2021-07-15T23:58:36\",\"2021-07-16T23:59:02\",\"2021-07-17T23:52:56\",\"2021-07-18T23:56:19\",\"2021-07-19T23:57:14\",\"2021-07-20T23:53:44\",\"2021-07-21T23:57:31\",\"2021-07-22T23:53:01\",\"2021-07-23T23:58:16\",\"2021-07-24T23:47:28\",\"2021-07-25T23:56:36\",\"2021-07-26T23:59:33\",\"2021-07-27T23:57:49\",\"2021-07-28T23:59:13\",\"2021-07-29T23:56:05\",\"2021-07-30T23:57:46\",\"2021-07-31T23:59:13\",\"2021-08-01T23:45:15\",\"2021-08-02T23:59:01\",\"2021-08-03T23:58:35\",\"2021-08-04T23:52:30\",\"2021-08-05T23:58:38\",\"2021-08-06T23:50:40\",\"2021-08-07T23:44:09\",\"2021-08-08T23:58:57\",\"2021-08-09T23:55:49\",\"2021-08-10T23:59:46\",\"2021-08-11T23:59:43\",\"2021-08-12T23:59:51\",\"2021-08-13T23:59:10\",\"2021-08-14T23:59:37\",\"2021-08-15T23:59:40\",\"2021-08-16T23:55:38\",\"2021-08-17T23:54:41\",\"2021-08-18T23:59:18\",\"2021-08-19T23:59:48\",\"2021-08-20T23:57:59\",\"2021-08-21T23:52:04\",\"2021-08-22T23:59:52\",\"2021-08-23T23:58:33\",\"2021-08-24T23:40:49\"],\"xaxis\":\"x\",\"y\":[60676928.7419033,167517064.38528055,139099538.66023144,160690917.01576507,196388866.95420185,208117924.7746064,185894817.03904796,275110076.2316459,372305617.4345429,467981705.3215559,566875568.2568281,659532914.3898306,742818131.1732005,774033140.4682106,830422349.6301571,1187826210.3688617,1874274713.1156807,2382690602.877892,2699746008.674075,3060579198.8378363,3164745436.944318,3260878517.617489,3194815998.796544,3288071335.7605815,3366992015.114391,3384645287.444173,3449515765.9078918,3473773049.2791367,3606919568.565888,3678796279.15568,3637150597.5147767,3777513117.3084345,3678202071.204581,3783479798.9849744,3787626561.193007,3314605574.678736,3295292280.920547,3494674018.151201,3652916636.362819,3586419381.7090416,3506816923.042308,3554820778.0894847,3685862487.624031,3838524191.0264816,3864055652.557279,3824230977.0874176,3849576936.845888,3904826293.8928666,4000531313.0849586,3969253596.064383,3709825833.4346814,3682804256.57504,3773135826.405948,4025912567.6083145,3965869078.305316,3996482895.266784,3780015300.354162,3726124067.592575,3704785692.5877647,3496944453.6443634,3484187294.4962664,3395042763.0876465,3419332235.6549716,3487669641.8044643,3427453951.548707,3562818446.580493,3657094638.458555,3730786680.3652368,3866175520.2851,3884804894.04356,4159787717.6046095,4245422994.049671,4242315372.5881233,4237678548.275392,4301875253.5495,4375070998.939926,4668403072.491608,4674016921.576265,4607696290.133962,4675781241.619341,4769906286.66932,4877693718.306302,5118539180.815765,5157980339.8852005,5270319158.664669,5351679601.069048,5402376191.977953,5353227025.505612,5753709345.953682,5827743499.221449,5917855534.139624,5894111742.348632,5823264345.750732,5838192179.087996,6000347054.547763,6160465564.226381,6199863875.836015,6209714982.109681,6400493018.744333,6381195058.812683],\"yaxis\":\"y\",\"type\":\"scatter\"}],                        {\"template\":{\"data\":{\"histogram2dcontour\":[{\"type\":\"histogram2dcontour\",\"colorbar\":{\"outlinewidth\":0,\"ticks\":\"\"},\"colorscale\":[[0.0,\"#0d0887\"],[0.1111111111111111,\"#46039f\"],[0.2222222222222222,\"#7201a8\"],[0.3333333333333333,\"#9c179e\"],[0.4444444444444444,\"#bd3786\"],[0.5555555555555556,\"#d8576b\"],[0.6666666666666666,\"#ed7953\"],[0.7777777777777778,\"#fb9f3a\"],[0.8888888888888888,\"#fdca26\"],[1.0,\"#f0f921\"]]}],\"choropleth\":[{\"type\":\"choropleth\",\"colorbar\":{\"outlinewidth\":0,\"ticks\":\"\"}}],\"histogram2d\":[{\"type\":\"histogram2d\",\"colorbar\":{\"outlinewidth\":0,\"ticks\":\"\"},\"colorscale\":[[0.0,\"#0d0887\"],[0.1111111111111111,\"#46039f\"],[0.2222222222222222,\"#7201a8\"],[0.3333333333333333,\"#9c179e\"],[0.4444444444444444,\"#bd3786\"],[0.5555555555555556,\"#d8576b\"],[0.6666666666666666,\"#ed7953\"],[0.7777777777777778,\"#fb9f3a\"],[0.8888888888888888,\"#fdca26\"],[1.0,\"#f0f921\"]]}],\"heatmap\":[{\"type\":\"heatmap\",\"colorbar\":{\"outlinewidth\":0,\"ticks\":\"\"},\"colorscale\":[[0.0,\"#0d0887\"],[0.1111111111111111,\"#46039f\"],[0.2222222222222222,\"#7201a8\"],[0.3333333333333333,\"#9c179e\"],[0.4444444444444444,\"#bd3786\"],[0.5555555555555556,\"#d8576b\"],[0.6666666666666666,\"#ed7953\"],[0.7777777777777778,\"#fb9f3a\"],[0.8888888888888888,\"#fdca26\"],[1.0,\"#f0f921\"]]}],\"heatmapgl\":[{\"type\":\"heatmapgl\",\"colorbar\":{\"outlinewidth\":0,\"ticks\":\"\"},\"colorscale\":[[0.0,\"#0d0887\"],[0.1111111111111111,\"#46039f\"],[0.2222222222222222,\"#7201a8\"],[0.3333333333333333,\"#9c179e\"],[0.4444444444444444,\"#bd3786\"],[0.5555555555555556,\"#d8576b\"],[0.6666666666666666,\"#ed7953\"],[0.7777777777777778,\"#fb9f3a\"],[0.8888888888888888,\"#fdca26\"],[1.0,\"#f0f921\"]]}],\"contourcarpet\":[{\"type\":\"contourcarpet\",\"colorbar\":{\"outlinewidth\":0,\"ticks\":\"\"}}],\"contour\":[{\"type\":\"contour\",\"colorbar\":{\"outlinewidth\":0,\"ticks\":\"\"},\"colorscale\":[[0.0,\"#0d0887\"],[0.1111111111111111,\"#46039f\"],[0.2222222222222222,\"#7201a8\"],[0.3333333333333333,\"#9c179e\"],[0.4444444444444444,\"#bd3786\"],[0.5555555555555556,\"#d8576b\"],[0.6666666666666666,\"#ed7953\"],[0.7777777777777778,\"#fb9f3a\"],[0.8888888888888888,\"#fdca26\"],[1.0,\"#f0f921\"]]}],\"surface\":[{\"type\":\"surface\",\"colorbar\":{\"outlinewidth\":0,\"ticks\":\"\"},\"colorscale\":[[0.0,\"#0d0887\"],[0.1111111111111111,\"#46039f\"],[0.2222222222222222,\"#7201a8\"],[0.3333333333333333,\"#9c179e\"],[0.4444444444444444,\"#bd3786\"],[0.5555555555555556,\"#d8576b\"],[0.6666666666666666,\"#ed7953\"],[0.7777777777777778,\"#fb9f3a\"],[0.8888888888888888,\"#fdca26\"],[1.0,\"#f0f921\"]]}],\"mesh3d\":[{\"type\":\"mesh3d\",\"colorbar\":{\"outlinewidth\":0,\"ticks\":\"\"}}],\"scatter\":[{\"fillpattern\":{\"fillmode\":\"overlay\",\"size\":10,\"solidity\":0.2},\"type\":\"scatter\"}],\"parcoords\":[{\"type\":\"parcoords\",\"line\":{\"colorbar\":{\"outlinewidth\":0,\"ticks\":\"\"}}}],\"scatterpolargl\":[{\"type\":\"scatterpolargl\",\"marker\":{\"colorbar\":{\"outlinewidth\":0,\"ticks\":\"\"}}}],\"bar\":[{\"error_x\":{\"color\":\"#2a3f5f\"},\"error_y\":{\"color\":\"#2a3f5f\"},\"marker\":{\"line\":{\"color\":\"#E5ECF6\",\"width\":0.5},\"pattern\":{\"fillmode\":\"overlay\",\"size\":10,\"solidity\":0.2}},\"type\":\"bar\"}],\"scattergeo\":[{\"type\":\"scattergeo\",\"marker\":{\"colorbar\":{\"outlinewidth\":0,\"ticks\":\"\"}}}],\"scatterpolar\":[{\"type\":\"scatterpolar\",\"marker\":{\"colorbar\":{\"outlinewidth\":0,\"ticks\":\"\"}}}],\"histogram\":[{\"marker\":{\"pattern\":{\"fillmode\":\"overlay\",\"size\":10,\"solidity\":0.2}},\"type\":\"histogram\"}],\"scattergl\":[{\"type\":\"scattergl\",\"marker\":{\"colorbar\":{\"outlinewidth\":0,\"ticks\":\"\"}}}],\"scatter3d\":[{\"type\":\"scatter3d\",\"line\":{\"colorbar\":{\"outlinewidth\":0,\"ticks\":\"\"}},\"marker\":{\"colorbar\":{\"outlinewidth\":0,\"ticks\":\"\"}}}],\"scattermapbox\":[{\"type\":\"scattermapbox\",\"marker\":{\"colorbar\":{\"outlinewidth\":0,\"ticks\":\"\"}}}],\"scatterternary\":[{\"type\":\"scatterternary\",\"marker\":{\"colorbar\":{\"outlinewidth\":0,\"ticks\":\"\"}}}],\"scattercarpet\":[{\"type\":\"scattercarpet\",\"marker\":{\"colorbar\":{\"outlinewidth\":0,\"ticks\":\"\"}}}],\"carpet\":[{\"aaxis\":{\"endlinecolor\":\"#2a3f5f\",\"gridcolor\":\"white\",\"linecolor\":\"white\",\"minorgridcolor\":\"white\",\"startlinecolor\":\"#2a3f5f\"},\"baxis\":{\"endlinecolor\":\"#2a3f5f\",\"gridcolor\":\"white\",\"linecolor\":\"white\",\"minorgridcolor\":\"white\",\"startlinecolor\":\"#2a3f5f\"},\"type\":\"carpet\"}],\"table\":[{\"cells\":{\"fill\":{\"color\":\"#EBF0F8\"},\"line\":{\"color\":\"white\"}},\"header\":{\"fill\":{\"color\":\"#C8D4E3\"},\"line\":{\"color\":\"white\"}},\"type\":\"table\"}],\"barpolar\":[{\"marker\":{\"line\":{\"color\":\"#E5ECF6\",\"width\":0.5},\"pattern\":{\"fillmode\":\"overlay\",\"size\":10,\"solidity\":0.2}},\"type\":\"barpolar\"}],\"pie\":[{\"automargin\":true,\"type\":\"pie\"}]},\"layout\":{\"autotypenumbers\":\"strict\",\"colorway\":[\"#636efa\",\"#EF553B\",\"#00cc96\",\"#ab63fa\",\"#FFA15A\",\"#19d3f3\",\"#FF6692\",\"#B6E880\",\"#FF97FF\",\"#FECB52\"],\"font\":{\"color\":\"#2a3f5f\"},\"hovermode\":\"closest\",\"hoverlabel\":{\"align\":\"left\"},\"paper_bgcolor\":\"white\",\"plot_bgcolor\":\"#E5ECF6\",\"polar\":{\"bgcolor\":\"#E5ECF6\",\"angularaxis\":{\"gridcolor\":\"white\",\"linecolor\":\"white\",\"ticks\":\"\"},\"radialaxis\":{\"gridcolor\":\"white\",\"linecolor\":\"white\",\"ticks\":\"\"}},\"ternary\":{\"bgcolor\":\"#E5ECF6\",\"aaxis\":{\"gridcolor\":\"white\",\"linecolor\":\"white\",\"ticks\":\"\"},\"baxis\":{\"gridcolor\":\"white\",\"linecolor\":\"white\",\"ticks\":\"\"},\"caxis\":{\"gridcolor\":\"white\",\"linecolor\":\"white\",\"ticks\":\"\"}},\"coloraxis\":{\"colorbar\":{\"outlinewidth\":0,\"ticks\":\"\"}},\"colorscale\":{\"sequential\":[[0.0,\"#0d0887\"],[0.1111111111111111,\"#46039f\"],[0.2222222222222222,\"#7201a8\"],[0.3333333333333333,\"#9c179e\"],[0.4444444444444444,\"#bd3786\"],[0.5555555555555556,\"#d8576b\"],[0.6666666666666666,\"#ed7953\"],[0.7777777777777778,\"#fb9f3a\"],[0.8888888888888888,\"#fdca26\"],[1.0,\"#f0f921\"]],\"sequentialminus\":[[0.0,\"#0d0887\"],[0.1111111111111111,\"#46039f\"],[0.2222222222222222,\"#7201a8\"],[0.3333333333333333,\"#9c179e\"],[0.4444444444444444,\"#bd3786\"],[0.5555555555555556,\"#d8576b\"],[0.6666666666666666,\"#ed7953\"],[0.7777777777777778,\"#fb9f3a\"],[0.8888888888888888,\"#fdca26\"],[1.0,\"#f0f921\"]],\"diverging\":[[0,\"#8e0152\"],[0.1,\"#c51b7d\"],[0.2,\"#de77ae\"],[0.3,\"#f1b6da\"],[0.4,\"#fde0ef\"],[0.5,\"#f7f7f7\"],[0.6,\"#e6f5d0\"],[0.7,\"#b8e186\"],[0.8,\"#7fbc41\"],[0.9,\"#4d9221\"],[1,\"#276419\"]]},\"xaxis\":{\"gridcolor\":\"white\",\"linecolor\":\"white\",\"ticks\":\"\",\"title\":{\"standoff\":15},\"zerolinecolor\":\"white\",\"automargin\":true,\"zerolinewidth\":2},\"yaxis\":{\"gridcolor\":\"white\",\"linecolor\":\"white\",\"ticks\":\"\",\"title\":{\"standoff\":15},\"zerolinecolor\":\"white\",\"automargin\":true,\"zerolinewidth\":2},\"scene\":{\"xaxis\":{\"backgroundcolor\":\"#E5ECF6\",\"gridcolor\":\"white\",\"linecolor\":\"white\",\"showbackground\":true,\"ticks\":\"\",\"zerolinecolor\":\"white\",\"gridwidth\":2},\"yaxis\":{\"backgroundcolor\":\"#E5ECF6\",\"gridcolor\":\"white\",\"linecolor\":\"white\",\"showbackground\":true,\"ticks\":\"\",\"zerolinecolor\":\"white\",\"gridwidth\":2},\"zaxis\":{\"backgroundcolor\":\"#E5ECF6\",\"gridcolor\":\"white\",\"linecolor\":\"white\",\"showbackground\":true,\"ticks\":\"\",\"zerolinecolor\":\"white\",\"gridwidth\":2}},\"shapedefaults\":{\"line\":{\"color\":\"#2a3f5f\"}},\"annotationdefaults\":{\"arrowcolor\":\"#2a3f5f\",\"arrowhead\":0,\"arrowwidth\":1},\"geo\":{\"bgcolor\":\"white\",\"landcolor\":\"#E5ECF6\",\"subunitcolor\":\"white\",\"showland\":true,\"showlakes\":true,\"lakecolor\":\"white\"},\"title\":{\"x\":0.05},\"mapbox\":{\"style\":\"light\"}}},\"xaxis\":{\"anchor\":\"y\",\"domain\":[0.0,1.0],\"title\":{\"text\":\"index\"}},\"yaxis\":{\"anchor\":\"x\",\"domain\":[0.0,1.0],\"title\":{\"text\":\"value\"}},\"legend\":{\"title\":{\"text\":\"variable\"},\"tracegroupgap\":0},\"title\":{\"text\":\"Convex Finance Revenues\"},\"height\":500,\"hovermode\":\"x\"},                        {\"responsive\": true}                    ).then(function(){\n",
       "                            \n",
       "var gd = document.getElementById('3f485c46-d62d-4eac-8657-cc508668ce6c');\n",
       "var x = new MutationObserver(function (mutations, observer) {{\n",
       "        var display = window.getComputedStyle(gd).display;\n",
       "        if (!display || display === 'none') {{\n",
       "            console.log([gd, 'removed!']);\n",
       "            Plotly.purge(gd);\n",
       "            observer.disconnect();\n",
       "        }}\n",
       "}});\n",
       "\n",
       "// Listen for the removal of the full notebook cells\n",
       "var notebookContainer = gd.closest('#notebook-container');\n",
       "if (notebookContainer) {{\n",
       "    x.observe(notebookContainer, {childList: true});\n",
       "}}\n",
       "\n",
       "// Listen for the clearing of the current output cell\n",
       "var outputEl = gd.closest('.output');\n",
       "if (outputEl) {{\n",
       "    x.observe(outputEl, {childList: true});\n",
       "}}\n",
       "\n",
       "                        })                };                });            </script>        </div>"
      ]
     },
     "metadata": {},
     "output_type": "display_data"
    }
   ],
   "source": [
    "# Graphing the data\n",
    "fig = px.line(df, x = df.index, y=['cumulativeProtocolSideRevenueUSD', 'cumulativeSupplySideRevenueUSD',\n",
    "       'cumulativeTotalRevenueUSD', 'dailyProtocolSideRevenueUSD', 'dailySupplySideRevenueUSD',\n",
    "       'dailyTotalRevenueUSD', 'protocolControlledValueUSD', 'totalValueLockedUSD'],\n",
    "    height=500, title = \"Convex Finance Revenues\")\n",
    "fig.update_traces(mode=\"lines\", hovertemplate=None)\n",
    "fig.update_layout(hovermode=\"x\") #, yaxis= {\"tickformat\": ',.2%' })\n",
    "fig.show() "
   ]
  },
  {
   "cell_type": "code",
   "execution_count": null,
   "id": "a9d0e97f",
   "metadata": {},
   "outputs": [],
   "source": []
  },
  {
   "cell_type": "code",
   "execution_count": null,
   "id": "4156a9fa",
   "metadata": {},
   "outputs": [],
   "source": []
  },
  {
   "cell_type": "code",
   "execution_count": null,
   "id": "8f03e652",
   "metadata": {},
   "outputs": [],
   "source": []
  },
  {
   "cell_type": "code",
   "execution_count": null,
   "id": "9a5cf6ec",
   "metadata": {},
   "outputs": [],
   "source": []
  },
  {
   "cell_type": "code",
   "execution_count": null,
   "id": "ef129d9f",
   "metadata": {},
   "outputs": [],
   "source": [
    "import pandas as pd\n",
    "\n",
    "url = \"https://github.com/credprotocol/Aave-V2-Health-Factor-Dataset/blob/main/data/0x01acb3804ba9c42111c6e9c127831eb486ca1ac7.csv?raw=True\"\n",
    "df = pd.read_csv(url)"
   ]
  },
  {
   "cell_type": "code",
   "execution_count": null,
   "id": "1d61598c",
   "metadata": {},
   "outputs": [],
   "source": [
    "list(df.columns)"
   ]
  },
  {
   "cell_type": "code",
   "execution_count": null,
   "id": "9607615c",
   "metadata": {},
   "outputs": [],
   "source": [
    "df"
   ]
  },
  {
   "cell_type": "code",
   "execution_count": null,
   "id": "f3923e42",
   "metadata": {},
   "outputs": [],
   "source": []
  },
  {
   "cell_type": "code",
   "execution_count": null,
   "id": "63a2168b",
   "metadata": {},
   "outputs": [],
   "source": []
  }
 ],
 "metadata": {
  "environment": {
   "kernel": "python3",
   "name": "common-cpu.m93",
   "type": "gcloud",
   "uri": "gcr.io/deeplearning-platform-release/base-cpu:m93"
  },
  "kernelspec": {
   "display_name": "Python 3 (ipykernel)",
   "language": "python",
   "name": "python3"
  },
  "language_info": {
   "codemirror_mode": {
    "name": "ipython",
    "version": 3
   },
   "file_extension": ".py",
   "mimetype": "text/x-python",
   "name": "python",
   "nbconvert_exporter": "python",
   "pygments_lexer": "ipython3",
   "version": "3.7.12"
  }
 },
 "nbformat": 4,
 "nbformat_minor": 5
}
